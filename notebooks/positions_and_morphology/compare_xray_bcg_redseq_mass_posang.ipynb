{
 "cells": [
  {
   "cell_type": "markdown",
   "id": "e43cebce-3643-47fe-a050-9dc1328d8d4e",
   "metadata": {},
   "source": [
    "# LoVoCCS morphology: Hot ICM, BCG, red sequence, and WL mass position angles"
   ]
  },
  {
   "cell_type": "markdown",
   "id": "6620a7f9-09ef-4f39-95d8-8cfdbb3a15ae",
   "metadata": {},
   "source": [
    "This section of the project <span style=\"color:red\">searches for correlation...</span>"
   ]
  },
  {
   "cell_type": "markdown",
   "id": "50cdaa13-40cd-4002-8cc7-b9caef7a1961",
   "metadata": {},
   "source": [
    "## Main takeaways "
   ]
  },
  {
   "cell_type": "markdown",
   "id": "add0ba02-7823-4ed3-8a47-e6e818f22aaa",
   "metadata": {},
   "source": [
    "In summary:\n",
    "\n",
    "* <span style=\"color:red\">We compare...</span>"
   ]
  },
  {
   "cell_type": "markdown",
   "id": "b0c992da-1385-4b1e-9b52-ed60f328c244",
   "metadata": {},
   "source": [
    "## Import Statements"
   ]
  },
  {
   "cell_type": "code",
   "execution_count": null,
   "id": "c292e057-1ff0-4d2c-976c-2f4a98996825",
   "metadata": {},
   "outputs": [],
   "source": [
    "import pandas as pd\n",
    "pd.set_option('display.max_columns', 500)\n",
    "import numpy as np\n",
    "from matplotlib import pyplot as plt\n",
    "import os\n",
    "\n",
    "# This adds the directory above to the path, allowing me to import the common functions that I've written in\n",
    "#  common.py - this just saves me repeating boring code and makes sure its all consistent\n",
    "import sys\n",
    "sys.path.insert(0, '../..')\n",
    "from common import lovoccs_cosmo"
   ]
  },
  {
   "cell_type": "markdown",
   "id": "e17a4238-597b-4417-a1eb-aee93a6832b6",
   "metadata": {},
   "source": [
    "## Output paths"
   ]
  },
  {
   "cell_type": "markdown",
   "id": "86ff66f7-119d-43dd-b4d7-a04d5ee2279c",
   "metadata": {},
   "source": [
    "Paths to save comparison figures and any output results files - defined here to avoid repetition and make the code easier to read: "
   ]
  },
  {
   "cell_type": "code",
   "execution_count": null,
   "id": "6e9deb24-b9a3-4860-9e37-8b52fda372f3",
   "metadata": {},
   "outputs": [],
   "source": [
    "pa_fig_path = \"../../outputs/figures/positions_and_morphology/posang_offsets/\""
   ]
  },
  {
   "cell_type": "markdown",
   "id": "262c9e02-845b-4eb1-b086-9192ff8ae4c8",
   "metadata": {},
   "source": [
    "## Loading data files"
   ]
  },
  {
   "cell_type": "markdown",
   "id": "8aadea4d-076d-44eb-8fdf-b2fd4d172323",
   "metadata": {},
   "source": [
    "Important considerations for this dataset:\n",
    "\n",
    "* ......"
   ]
  },
  {
   "cell_type": "markdown",
   "id": "0fe987fe-3558-4de2-affd-d970158673d2",
   "metadata": {},
   "source": [
    "### X-LoVoCCS-I base sample"
   ]
  },
  {
   "cell_type": "code",
   "execution_count": null,
   "id": "7f434039-77e2-4204-8c56-9bac88ae0f82",
   "metadata": {},
   "outputs": [],
   "source": [
    "xlovoccs_base = pd.read_csv(\"../../../sample_files/X-LoVoCCSI.csv\")\n",
    "xlovoccs_base.insert(0, 'name', xlovoccs_base['LoVoCCSID'].apply(lambda x: \"LoVoCCS-\" + str(x)))\n",
    "xlovoccs_base.head(6)"
   ]
  },
  {
   "cell_type": "markdown",
   "id": "f8ea6041-7acf-4b09-9f48-9d1f0aa3f99d",
   "metadata": {},
   "source": [
    "### X-LoVoCCS-I ICM position angles"
   ]
  },
  {
   "cell_type": "markdown",
   "id": "88ccacf7-34a8-4f8d-b56a-3e3404771834",
   "metadata": {},
   "source": []
  },
  {
   "cell_type": "code",
   "execution_count": null,
   "id": "2bc8a5df-685a-4412-9b14-c1680a127ee6",
   "metadata": {},
   "outputs": [],
   "source": []
  },
  {
   "cell_type": "markdown",
   "id": "f71c3fe4-35bd-49d3-965a-c6503bee52c3",
   "metadata": {},
   "source": [
    "### X-LoVoCCS-I ICM morphology metrics"
   ]
  },
  {
   "cell_type": "markdown",
   "id": "2f4e4ba7-ff74-4971-bb82-bcf915d6f4e1",
   "metadata": {},
   "source": []
  },
  {
   "cell_type": "code",
   "execution_count": null,
   "id": "ce466b24-9b47-485f-b850-d8b58091711b",
   "metadata": {},
   "outputs": [],
   "source": []
  },
  {
   "cell_type": "markdown",
   "id": "3136c7b5-5b3e-46af-b72f-11683f22832b",
   "metadata": {},
   "source": [
    "### LoVoCCS-II "
   ]
  },
  {
   "cell_type": "markdown",
   "id": "d9d61d68-9e66-4a4f-9e37-e36f1bc9f365",
   "metadata": {},
   "source": [
    "## Comparing ICM and BCG position angles"
   ]
  },
  {
   "cell_type": "markdown",
   "id": "3d8abd01-563b-4b2b-a753-819da0ee97bb",
   "metadata": {},
   "source": [
    "Previous work (such as the study by [Yuan & Wen, 2022](https://arxiv.org/abs/2209.00204)) has found strong correlations between the alignment (i.e. position angle) of the hot ICM of clusters (measured from X-ray) and their BCGs (measured through optical analysis). We wish to make a similar comparison for our LoVoCCS sample."
   ]
  },
  {
   "cell_type": "markdown",
   "id": "d8ff4db8-b19f-40fa-9356-5a6c60908624",
   "metadata": {},
   "source": [
    "### Reading in the BCG candidate sample"
   ]
  },
  {
   "cell_type": "markdown",
   "id": "32e068d3-2f5c-4ef6-afb9-7456f2b14dc5",
   "metadata": {},
   "source": [
    "As part of sample preparation and research for our analyses, we identified the galaxies that appeared likely to be the BCG of each LoVoCCS galaxy cluster (through manual inspection by experienced cluster scientists), and then extracted the position angle from RCSED (which seems to pull information from HyperLeda for most of our galaxies). In cases where there are multiple BCG-like galaxies, or the BCG is ambiguous, then there may be entries in the 'bcg2' or 'bcg3' columns - it is also possible that a BCG is identified and no position angle is present (**we hope to remedy this in the future**):"
   ]
  },
  {
   "cell_type": "code",
   "execution_count": null,
   "id": "06094b7e-672d-44e2-a5d6-a01c261a9a11",
   "metadata": {},
   "outputs": [],
   "source": [
    "bcg_samp = pd.read_csv(\"../../sample_files/X-LoVoCCSI_BCG_cands.csv\")\n",
    "# Add a LoVoCCS name column from the ID column so that we can match to the other dataframe\n",
    "bcg_samp['LoVoCCS_name'] = bcg_samp['LoVoCCSID'].apply(lambda x: \"LoVoCCS-\" + str(x))\n",
    "bcg_samp.head(5)"
   ]
  },
  {
   "cell_type": "markdown",
   "id": "0b6a29b9-76ec-4115-b41f-c21ab881aa4d",
   "metadata": {},
   "source": [
    "### Joining the measurement samples"
   ]
  },
  {
   "cell_type": "markdown",
   "id": "155b82f1-7196-4a12-88f5-cdf22d74c129",
   "metadata": {},
   "source": [
    "The first step in comparing the position angles of the ICM and candidate BCGs is to simply plot the measurements of one against the other - for this to happen we join the two dataframes on the name of the LoVoCCS cluster, that way all the information we require for each cluster is in one row:"
   ]
  },
  {
   "cell_type": "code",
   "execution_count": null,
   "id": "bf94d633-71bd-40db-9ac9-f18bd24a6e58",
   "metadata": {},
   "outputs": [],
   "source": [
    "pos_ang_comb = pd.merge(out_df, bcg_samp, on='LoVoCCS_name')\n",
    "pos_ang_comb.head(5)"
   ]
  },
  {
   "cell_type": "markdown",
   "id": "e971fc6b-05fb-4769-ad99-6a055ffee3e9",
   "metadata": {},
   "source": [
    "### Plotting a one-to-one comparison"
   ]
  },
  {
   "cell_type": "markdown",
   "id": "a2159ae5-36d7-441e-8914-20dbba897518",
   "metadata": {},
   "source": [
    "Here we plot the set of ICM position angles against the set of BCG position angles. Given the degenerate nature of position angle measurements, we find we need to normalise the rotation angles before plotting them. In cases where there are multiple BCG candidates, we plot the comparison of secondary/tertiary candidate properties against the ICM value in different colour/marker shapes:"
   ]
  },
  {
   "cell_type": "code",
   "execution_count": null,
   "id": "9b98e326-577f-487e-9e22-218a79a9dd71",
   "metadata": {},
   "outputs": [],
   "source": [
    "plt.figure(figsize=(6, 6))\n",
    "\n",
    "plt.minorticks_on()\n",
    "plt.tick_params(which='both', direction='in', top=True, right=True)\n",
    "\n",
    "# plt.errorbar(pos_ang_comb['bcg1_pa'].values, pos_ang_comb['position_angle'].values, \n",
    "#              yerr=pos_ang_comb[['position_angle-', 'position_angle+']].values.T, fmt='kx', capsize=2)\n",
    "\n",
    "test_icm_pa = pos_ang_comb['position_angle'].values%360\n",
    "where_deg = test_icm_pa > 180\n",
    "test_icm_pa[where_deg] = test_icm_pa[where_deg] - 180\n",
    "\n",
    "test_bcg_pa = pos_ang_comb['bcg1_pa'].values%360\n",
    "where_deg = test_bcg_pa > 180\n",
    "test_bcg_pa[where_deg] = test_bcg_pa[where_deg] - 180\n",
    "\n",
    "plt.plot(test_bcg_pa, test_icm_pa, 'x', color='black', label=\"BCG1\")\n",
    "\n",
    "test_bcg_pa = pos_ang_comb['bcg2_pa'].values%360\n",
    "where_deg = test_bcg_pa > 180\n",
    "test_bcg_pa[where_deg] = test_bcg_pa[where_deg] - 180\n",
    "\n",
    "plt.plot(test_bcg_pa, test_icm_pa, 'D', color='darkseagreen', label=\"BCG2\")\n",
    "\n",
    "test_bcg_pa = pos_ang_comb['bcg3_pa'].values%360\n",
    "where_deg = test_bcg_pa > 180\n",
    "test_bcg_pa[where_deg] = test_bcg_pa[where_deg] - 180\n",
    "\n",
    "if np.nansum(test_bcg_pa) > 0:\n",
    "    plt.plot(test_bcg_pa, test_icm_pa, 'o', color='slateblue', label=\"BCG3\")\n",
    "\n",
    "plt.plot([-360, 360], [-360, 360], color='red', linestyle='dashed', label='1:1')\n",
    "\n",
    "plt.xlim(-20, 200)\n",
    "plt.ylim(-20, 200)\n",
    "\n",
    "plt.xlabel(r\"BCG Candidate PA [$^{\\circ}$]\", fontsize=15)\n",
    "plt.ylabel(r\"ICM PA [$^{\\circ}$]\", fontsize=15)\n",
    "\n",
    "plt.title(\"ICM vs BCG Candidate Position Angle\", fontsize=16)\n",
    "\n",
    "plt.legend(loc='best', fontsize=15)\n",
    "plt.tight_layout()\n",
    "plt.savefig(\"../../outputs/figures/positions_and_morphology/icm_bcgcand_pa_comp.pdf\")\n",
    "plt.show()"
   ]
  }
 ],
 "metadata": {
  "kernelspec": {
   "display_name": "Python 3 (ipykernel)",
   "language": "python",
   "name": "python3"
  },
  "language_info": {
   "codemirror_mode": {
    "name": "ipython",
    "version": 3
   },
   "file_extension": ".py",
   "mimetype": "text/x-python",
   "name": "python",
   "nbconvert_exporter": "python",
   "pygments_lexer": "ipython3",
   "version": "3.12.4"
  }
 },
 "nbformat": 4,
 "nbformat_minor": 5
}
