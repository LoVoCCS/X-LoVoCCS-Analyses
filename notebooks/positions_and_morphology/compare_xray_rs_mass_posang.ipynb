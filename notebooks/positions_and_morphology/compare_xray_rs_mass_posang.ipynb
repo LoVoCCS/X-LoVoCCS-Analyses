{
 "cells": [
  {
   "cell_type": "markdown",
   "id": "e43cebce-3643-47fe-a050-9dc1328d8d4e",
   "metadata": {},
   "source": [
    "# THING"
   ]
  },
  {
   "cell_type": "markdown",
   "id": "d9d61d68-9e66-4a4f-9e37-e36f1bc9f365",
   "metadata": {},
   "source": [
    "## Comparing ICM and BCG position angles"
   ]
  },
  {
   "cell_type": "markdown",
   "id": "3d8abd01-563b-4b2b-a753-819da0ee97bb",
   "metadata": {},
   "source": [
    "Previous work (such as the study by [Yuan & Wen, 2022](https://arxiv.org/abs/2209.00204)) has found strong correlations between the alignment (i.e. position angle) of the hot ICM of clusters (measured from X-ray) and their BCGs (measured through optical analysis). We wish to make a similar comparison for our LoVoCCS sample."
   ]
  },
  {
   "cell_type": "markdown",
   "id": "d8ff4db8-b19f-40fa-9356-5a6c60908624",
   "metadata": {},
   "source": [
    "### Reading in the BCG candidate sample"
   ]
  },
  {
   "cell_type": "markdown",
   "id": "32e068d3-2f5c-4ef6-afb9-7456f2b14dc5",
   "metadata": {},
   "source": [
    "As part of sample preparation and research for our analyses, we identified the galaxies that appeared likely to be the BCG of each LoVoCCS galaxy cluster (through manual inspection by experienced cluster scientists), and then extracted the position angle from RCSED (which seems to pull information from HyperLeda for most of our galaxies). In cases where there are multiple BCG-like galaxies, or the BCG is ambiguous, then there may be entries in the 'bcg2' or 'bcg3' columns - it is also possible that a BCG is identified and no position angle is present (**we hope to remedy this in the future**):"
   ]
  },
  {
   "cell_type": "code",
   "execution_count": null,
   "id": "06094b7e-672d-44e2-a5d6-a01c261a9a11",
   "metadata": {},
   "outputs": [],
   "source": [
    "bcg_samp = pd.read_csv(\"../../sample_files/X-LoVoCCSI_BCG_cands.csv\")\n",
    "# Add a LoVoCCS name column from the ID column so that we can match to the other dataframe\n",
    "bcg_samp['LoVoCCS_name'] = bcg_samp['LoVoCCSID'].apply(lambda x: \"LoVoCCS-\" + str(x))\n",
    "bcg_samp.head(5)"
   ]
  },
  {
   "cell_type": "markdown",
   "id": "0b6a29b9-76ec-4115-b41f-c21ab881aa4d",
   "metadata": {},
   "source": [
    "### Joining the measurement samples"
   ]
  },
  {
   "cell_type": "markdown",
   "id": "155b82f1-7196-4a12-88f5-cdf22d74c129",
   "metadata": {},
   "source": [
    "The first step in comparing the position angles of the ICM and candidate BCGs is to simply plot the measurements of one against the other - for this to happen we join the two dataframes on the name of the LoVoCCS cluster, that way all the information we require for each cluster is in one row:"
   ]
  },
  {
   "cell_type": "code",
   "execution_count": null,
   "id": "bf94d633-71bd-40db-9ac9-f18bd24a6e58",
   "metadata": {},
   "outputs": [],
   "source": [
    "pos_ang_comb = pd.merge(out_df, bcg_samp, on='LoVoCCS_name')\n",
    "pos_ang_comb.head(5)"
   ]
  },
  {
   "cell_type": "markdown",
   "id": "e971fc6b-05fb-4769-ad99-6a055ffee3e9",
   "metadata": {},
   "source": [
    "### Plotting a one-to-one comparison"
   ]
  },
  {
   "cell_type": "markdown",
   "id": "a2159ae5-36d7-441e-8914-20dbba897518",
   "metadata": {},
   "source": [
    "Here we plot the set of ICM position angles against the set of BCG position angles. Given the degenerate nature of position angle measurements, we find we need to normalise the rotation angles before plotting them. In cases where there are multiple BCG candidates, we plot the comparison of secondary/tertiary candidate properties against the ICM value in different colour/marker shapes:"
   ]
  },
  {
   "cell_type": "code",
   "execution_count": null,
   "id": "9b98e326-577f-487e-9e22-218a79a9dd71",
   "metadata": {},
   "outputs": [],
   "source": [
    "plt.figure(figsize=(6, 6))\n",
    "\n",
    "plt.minorticks_on()\n",
    "plt.tick_params(which='both', direction='in', top=True, right=True)\n",
    "\n",
    "# plt.errorbar(pos_ang_comb['bcg1_pa'].values, pos_ang_comb['position_angle'].values, \n",
    "#              yerr=pos_ang_comb[['position_angle-', 'position_angle+']].values.T, fmt='kx', capsize=2)\n",
    "\n",
    "test_icm_pa = pos_ang_comb['position_angle'].values%360\n",
    "where_deg = test_icm_pa > 180\n",
    "test_icm_pa[where_deg] = test_icm_pa[where_deg] - 180\n",
    "\n",
    "test_bcg_pa = pos_ang_comb['bcg1_pa'].values%360\n",
    "where_deg = test_bcg_pa > 180\n",
    "test_bcg_pa[where_deg] = test_bcg_pa[where_deg] - 180\n",
    "\n",
    "plt.plot(test_bcg_pa, test_icm_pa, 'x', color='black', label=\"BCG1\")\n",
    "\n",
    "test_bcg_pa = pos_ang_comb['bcg2_pa'].values%360\n",
    "where_deg = test_bcg_pa > 180\n",
    "test_bcg_pa[where_deg] = test_bcg_pa[where_deg] - 180\n",
    "\n",
    "plt.plot(test_bcg_pa, test_icm_pa, 'D', color='darkseagreen', label=\"BCG2\")\n",
    "\n",
    "test_bcg_pa = pos_ang_comb['bcg3_pa'].values%360\n",
    "where_deg = test_bcg_pa > 180\n",
    "test_bcg_pa[where_deg] = test_bcg_pa[where_deg] - 180\n",
    "\n",
    "if np.nansum(test_bcg_pa) > 0:\n",
    "    plt.plot(test_bcg_pa, test_icm_pa, 'o', color='slateblue', label=\"BCG3\")\n",
    "\n",
    "plt.plot([-360, 360], [-360, 360], color='red', linestyle='dashed', label='1:1')\n",
    "\n",
    "plt.xlim(-20, 200)\n",
    "plt.ylim(-20, 200)\n",
    "\n",
    "plt.xlabel(r\"BCG Candidate PA [$^{\\circ}$]\", fontsize=15)\n",
    "plt.ylabel(r\"ICM PA [$^{\\circ}$]\", fontsize=15)\n",
    "\n",
    "plt.title(\"ICM vs BCG Candidate Position Angle\", fontsize=16)\n",
    "\n",
    "plt.legend(loc='best', fontsize=15)\n",
    "plt.tight_layout()\n",
    "plt.savefig(\"../../outputs/figures/positions_and_morphology/icm_bcgcand_pa_comp.pdf\")\n",
    "plt.show()"
   ]
  }
 ],
 "metadata": {
  "kernelspec": {
   "display_name": "Python 3 (ipykernel)",
   "language": "python",
   "name": "python3"
  },
  "language_info": {
   "codemirror_mode": {
    "name": "ipython",
    "version": 3
   },
   "file_extension": ".py",
   "mimetype": "text/x-python",
   "name": "python",
   "nbconvert_exporter": "python",
   "pygments_lexer": "ipython3",
   "version": "3.12.4"
  }
 },
 "nbformat": 4,
 "nbformat_minor": 5
}
