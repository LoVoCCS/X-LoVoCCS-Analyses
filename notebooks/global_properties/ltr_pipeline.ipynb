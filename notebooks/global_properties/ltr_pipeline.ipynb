{
 "cells": [
  {
   "cell_type": "markdown",
   "id": "ec0a208b",
   "metadata": {},
   "source": [
    "# Measuring spectral properties within fixed apertures"
   ]
  },
  {
   "cell_type": "markdown",
   "id": "9d4b9982",
   "metadata": {},
   "source": [
    "While it is more useful to measure global X-ray properties of galaxy clusters within physically motiviated apertures (i.e. using some scale radius such as $R_{500}$), there are cluster studies which have published results measured within fixed apertures. As such, and because it requires essentially no effort on our part to do, we also measure properties within fixed apertures, to provide a point of comparison to those previous studies if it ever becomes necessary."
   ]
  },
  {
   "cell_type": "markdown",
   "id": "caba8eb4",
   "metadata": {},
   "source": [
    "<span style=\"color:red\">This should currently be considered preliminary, as there are some problems with observation selection for spectral generation for some of these large clusters - also our improved background method isn't fully implemented</span>"
   ]
  },
  {
   "cell_type": "markdown",
   "id": "2971d054",
   "metadata": {},
   "source": [
    "## Import Statements"
   ]
  },
  {
   "cell_type": "code",
   "execution_count": 1,
   "id": "56f9c36a",
   "metadata": {},
   "outputs": [],
   "source": [
    "import pandas as pd\n",
    "pd.set_option('display.max_columns', 500)\n",
    "import numpy as np\n",
    "from astropy.units import Quantity\n",
    "from astropy.cosmology import LambdaCDM\n",
    "from shutil import rmtree\n",
    "import os\n",
    "\n",
    "import xga\n",
    "# This just sets the number of cores this analysis is allowed to use\n",
    "xga.NUM_CORES = 100\n",
    "# This is a bodge that will only work because xga_output in notebooks has already been defined, XGA\n",
    "#  will be made to handle this more gracefully at some point\n",
    "temp_dir = xga.OUTPUT\n",
    "actual_dir = temp_dir.split('notebooks/')[0]+'notebooks/xga_output/'\n",
    "xga.OUTPUT = actual_dir\n",
    "xga.utils.OUTPUT = actual_dir\n",
    "# As currently XGA will setup an xga_output directory in our current directory, I remove it to keep it all clean\n",
    "if os.path.exists('xga_output'):\n",
    "    rmtree('xga_output')\n",
    "from xga.tools import luminosity_temperature_pipeline\n",
    "\n",
    "%matplotlib inline"
   ]
  },
  {
   "cell_type": "markdown",
   "id": "f394a85d",
   "metadata": {},
   "source": [
    "## Defining the cosmology"
   ]
  },
  {
   "cell_type": "markdown",
   "id": "ec848869",
   "metadata": {},
   "source": [
    "We make use of a concordance LambdaCDM model:"
   ]
  },
  {
   "cell_type": "code",
   "execution_count": 2,
   "id": "c34036e2",
   "metadata": {},
   "outputs": [],
   "source": [
    "cosmo = LambdaCDM(70, 0.3, 0.7)"
   ]
  },
  {
   "cell_type": "markdown",
   "id": "6a059986",
   "metadata": {},
   "source": [
    "## Reading in the sample"
   ]
  },
  {
   "cell_type": "markdown",
   "id": "3c705f68",
   "metadata": {},
   "source": [
    "We need the information from our sample file to declare the XGA ClusterSample further down, primarily the location and redshift, but we also make use of the MCXC estimate of $R_{500}$ to get some idea of the scale of these objects, even if we don't fully trust that measurement:"
   ]
  },
  {
   "cell_type": "code",
   "execution_count": 3,
   "id": "d6bdae82",
   "metadata": {},
   "outputs": [
    {
     "data": {
      "text/html": [
       "<div>\n",
       "<style scoped>\n",
       "    .dataframe tbody tr th:only-of-type {\n",
       "        vertical-align: middle;\n",
       "    }\n",
       "\n",
       "    .dataframe tbody tr th {\n",
       "        vertical-align: top;\n",
       "    }\n",
       "\n",
       "    .dataframe thead th {\n",
       "        text-align: right;\n",
       "    }\n",
       "</style>\n",
       "<table border=\"1\" class=\"dataframe\">\n",
       "  <thead>\n",
       "    <tr style=\"text-align: right;\">\n",
       "      <th></th>\n",
       "      <th>name</th>\n",
       "      <th>MCXC</th>\n",
       "      <th>LoVoCCSID</th>\n",
       "      <th>ra</th>\n",
       "      <th>dec</th>\n",
       "      <th>redshift</th>\n",
       "      <th>L500</th>\n",
       "      <th>M500</th>\n",
       "      <th>R500</th>\n",
       "      <th>alt_name</th>\n",
       "      <th>other_names</th>\n",
       "      <th>Notes</th>\n",
       "    </tr>\n",
       "  </thead>\n",
       "  <tbody>\n",
       "    <tr>\n",
       "      <th>0</th>\n",
       "      <td>LoVoCCS-0</td>\n",
       "      <td>J1558.3+2713</td>\n",
       "      <td>0</td>\n",
       "      <td>239.585833</td>\n",
       "      <td>27.226944</td>\n",
       "      <td>0.0894</td>\n",
       "      <td>10.676087</td>\n",
       "      <td>8.1491</td>\n",
       "      <td>1.3803</td>\n",
       "      <td>RXCJ1558.3+2713</td>\n",
       "      <td>A2142</td>\n",
       "      <td>L</td>\n",
       "    </tr>\n",
       "    <tr>\n",
       "      <th>1</th>\n",
       "      <td>LoVoCCS-1</td>\n",
       "      <td>J1510.9+0543</td>\n",
       "      <td>1</td>\n",
       "      <td>227.729167</td>\n",
       "      <td>5.720000</td>\n",
       "      <td>0.0766</td>\n",
       "      <td>8.726709</td>\n",
       "      <td>7.2708</td>\n",
       "      <td>1.3344</td>\n",
       "      <td>A2029</td>\n",
       "      <td>A2029</td>\n",
       "      <td>NaN</td>\n",
       "    </tr>\n",
       "    <tr>\n",
       "      <th>2</th>\n",
       "      <td>LoVoCCS-2</td>\n",
       "      <td>J0258.9+1334</td>\n",
       "      <td>2</td>\n",
       "      <td>44.739583</td>\n",
       "      <td>13.579444</td>\n",
       "      <td>0.0739</td>\n",
       "      <td>6.088643</td>\n",
       "      <td>5.8488</td>\n",
       "      <td>1.2421</td>\n",
       "      <td>RXCJ0258.9+1334</td>\n",
       "      <td>A401</td>\n",
       "      <td>L</td>\n",
       "    </tr>\n",
       "    <tr>\n",
       "      <th>3</th>\n",
       "      <td>LoVoCCS-3</td>\n",
       "      <td>J1348.8+2635</td>\n",
       "      <td>3</td>\n",
       "      <td>207.220833</td>\n",
       "      <td>26.595556</td>\n",
       "      <td>0.0622</td>\n",
       "      <td>5.478067</td>\n",
       "      <td>5.5280</td>\n",
       "      <td>1.2236</td>\n",
       "      <td>RXCJ1348.8+2635</td>\n",
       "      <td>A1795</td>\n",
       "      <td>NaN</td>\n",
       "    </tr>\n",
       "    <tr>\n",
       "      <th>4</th>\n",
       "      <td>LoVoCCS-4</td>\n",
       "      <td>J0041.8-0918</td>\n",
       "      <td>4</td>\n",
       "      <td>10.458750</td>\n",
       "      <td>-9.301944</td>\n",
       "      <td>0.0555</td>\n",
       "      <td>5.100085</td>\n",
       "      <td>5.3163</td>\n",
       "      <td>1.2103</td>\n",
       "      <td>RXCJ0041.8-0918</td>\n",
       "      <td>A85</td>\n",
       "      <td>L,losStr</td>\n",
       "    </tr>\n",
       "    <tr>\n",
       "      <th>...</th>\n",
       "      <td>...</td>\n",
       "      <td>...</td>\n",
       "      <td>...</td>\n",
       "      <td>...</td>\n",
       "      <td>...</td>\n",
       "      <td>...</td>\n",
       "      <td>...</td>\n",
       "      <td>...</td>\n",
       "      <td>...</td>\n",
       "      <td>...</td>\n",
       "      <td>...</td>\n",
       "      <td>...</td>\n",
       "    </tr>\n",
       "    <tr>\n",
       "      <th>139</th>\n",
       "      <td>LoVoCCS-139</td>\n",
       "      <td>J0448.2-2028</td>\n",
       "      <td>139</td>\n",
       "      <td>72.050833</td>\n",
       "      <td>-20.469722</td>\n",
       "      <td>0.0720</td>\n",
       "      <td>1.004022</td>\n",
       "      <td>1.9513</td>\n",
       "      <td>0.8620</td>\n",
       "      <td>RXCJ0448.2-2028</td>\n",
       "      <td>A514</td>\n",
       "      <td>losStr</td>\n",
       "    </tr>\n",
       "    <tr>\n",
       "      <th>140</th>\n",
       "      <td>LoVoCCS-140</td>\n",
       "      <td>J2323.8+1648</td>\n",
       "      <td>140</td>\n",
       "      <td>350.972917</td>\n",
       "      <td>16.808889</td>\n",
       "      <td>0.0416</td>\n",
       "      <td>1.002026</td>\n",
       "      <td>1.9896</td>\n",
       "      <td>0.8760</td>\n",
       "      <td>A2589</td>\n",
       "      <td>A2589</td>\n",
       "      <td>NaN</td>\n",
       "    </tr>\n",
       "    <tr>\n",
       "      <th>141</th>\n",
       "      <td>LoVoCCS-141</td>\n",
       "      <td>J1416.8-1158</td>\n",
       "      <td>141</td>\n",
       "      <td>214.214583</td>\n",
       "      <td>-11.976111</td>\n",
       "      <td>0.0982</td>\n",
       "      <td>1.001648</td>\n",
       "      <td>1.9133</td>\n",
       "      <td>0.8491</td>\n",
       "      <td>RXCJ1416.8-1158</td>\n",
       "      <td>NaN</td>\n",
       "      <td>X</td>\n",
       "    </tr>\n",
       "    <tr>\n",
       "      <th>142</th>\n",
       "      <td>LoVoCCS-142</td>\n",
       "      <td>J1459.0-0843</td>\n",
       "      <td>142</td>\n",
       "      <td>224.764583</td>\n",
       "      <td>-8.725000</td>\n",
       "      <td>0.1043</td>\n",
       "      <td>1.001337</td>\n",
       "      <td>1.9047</td>\n",
       "      <td>0.8461</td>\n",
       "      <td>RXCJ1459.0-0843</td>\n",
       "      <td>NaN</td>\n",
       "      <td>NaN</td>\n",
       "    </tr>\n",
       "    <tr>\n",
       "      <th>143</th>\n",
       "      <td>LoVoCCS-143</td>\n",
       "      <td>J0041.7+2124</td>\n",
       "      <td>143</td>\n",
       "      <td>10.446250</td>\n",
       "      <td>21.413889</td>\n",
       "      <td>0.1014</td>\n",
       "      <td>1.000012</td>\n",
       "      <td>1.9071</td>\n",
       "      <td>0.8473</td>\n",
       "      <td>RXCJ0041.7+2124</td>\n",
       "      <td>A84</td>\n",
       "      <td>NaN</td>\n",
       "    </tr>\n",
       "  </tbody>\n",
       "</table>\n",
       "<p>144 rows × 12 columns</p>\n",
       "</div>"
      ],
      "text/plain": [
       "            name          MCXC  LoVoCCSID          ra        dec  redshift   \n",
       "0      LoVoCCS-0  J1558.3+2713          0  239.585833  27.226944    0.0894  \\\n",
       "1      LoVoCCS-1  J1510.9+0543          1  227.729167   5.720000    0.0766   \n",
       "2      LoVoCCS-2  J0258.9+1334          2   44.739583  13.579444    0.0739   \n",
       "3      LoVoCCS-3  J1348.8+2635          3  207.220833  26.595556    0.0622   \n",
       "4      LoVoCCS-4  J0041.8-0918          4   10.458750  -9.301944    0.0555   \n",
       "..           ...           ...        ...         ...        ...       ...   \n",
       "139  LoVoCCS-139  J0448.2-2028        139   72.050833 -20.469722    0.0720   \n",
       "140  LoVoCCS-140  J2323.8+1648        140  350.972917  16.808889    0.0416   \n",
       "141  LoVoCCS-141  J1416.8-1158        141  214.214583 -11.976111    0.0982   \n",
       "142  LoVoCCS-142  J1459.0-0843        142  224.764583  -8.725000    0.1043   \n",
       "143  LoVoCCS-143  J0041.7+2124        143   10.446250  21.413889    0.1014   \n",
       "\n",
       "          L500    M500    R500         alt_name other_names     Notes  \n",
       "0    10.676087  8.1491  1.3803  RXCJ1558.3+2713       A2142         L  \n",
       "1     8.726709  7.2708  1.3344            A2029       A2029       NaN  \n",
       "2     6.088643  5.8488  1.2421  RXCJ0258.9+1334        A401         L  \n",
       "3     5.478067  5.5280  1.2236  RXCJ1348.8+2635       A1795       NaN  \n",
       "4     5.100085  5.3163  1.2103  RXCJ0041.8-0918         A85  L,losStr  \n",
       "..         ...     ...     ...              ...         ...       ...  \n",
       "139   1.004022  1.9513  0.8620  RXCJ0448.2-2028        A514    losStr  \n",
       "140   1.002026  1.9896  0.8760            A2589       A2589       NaN  \n",
       "141   1.001648  1.9133  0.8491  RXCJ1416.8-1158         NaN         X  \n",
       "142   1.001337  1.9047  0.8461  RXCJ1459.0-0843         NaN       NaN  \n",
       "143   1.000012  1.9071  0.8473  RXCJ0041.7+2124         A84       NaN  \n",
       "\n",
       "[144 rows x 12 columns]"
      ]
     },
     "execution_count": 3,
     "metadata": {},
     "output_type": "execute_result"
    }
   ],
   "source": [
    "samp = pd.read_csv('../../sample_files/lovoccs_southnorth.csv')\n",
    "samp['name'] = samp['LoVoCCSID'].apply(lambda x: 'LoVoCCS-' + str(x))\n",
    "samp"
   ]
  },
  {
   "cell_type": "markdown",
   "id": "903ff6c8",
   "metadata": {},
   "source": [
    "<span style=\"color:red\">This is temporary, gives some better starting coordinates for a few of the clusters, which in turn allows them to better select the correct regions - these will eventually be in the sample file</span>"
   ]
  },
  {
   "cell_type": "code",
   "execution_count": 4,
   "id": "7c123db9",
   "metadata": {},
   "outputs": [],
   "source": [
    "samp.loc[95, 'ra'] = 240.56\n",
    "samp.loc[95, 'dec'] = 15.965\n",
    "\n",
    "samp.loc[130, 'ra'] = 359.713\n",
    "samp.loc[130, 'dec'] = -60.642\n",
    "\n",
    "samp.loc[89, 'ra'] = 227.865\n",
    "samp.loc[89, 'dec'] = 6.349"
   ]
  },
  {
   "cell_type": "markdown",
   "id": "5312a2cb",
   "metadata": {},
   "source": [
    "## Running the XGA $L_{\\rm{X}}$-$T_{\\rm{X}}$-$R_{500}$ pipeline"
   ]
  },
  {
   "cell_type": "markdown",
   "id": "05084b86",
   "metadata": {},
   "source": []
  },
  {
   "cell_type": "code",
   "execution_count": null,
   "id": "d12c136c",
   "metadata": {
    "scrolled": true
   },
   "outputs": [
    {
     "name": "stderr",
     "output_type": "stream",
     "text": [
      "Declaring BaseSource Sample:   0%|          | 0/144 [00:00<?, ?it/s]/mnt/home/turne540/software/anaconda3/envs/xga_dev/lib/python3.9/site-packages/astropy/units/quantity.py:613: RuntimeWarning: divide by zero encountered in divide\n",
      "  result = super().__array_ufunc__(function, method, *arrays, **kwargs)\n",
      "Declaring BaseSource Sample:  57%|█████▋    | 82/144 [00:33<00:21,  2.84it/s]/mnt/home/turne540/software/anaconda3/envs/xga_dev/lib/python3.9/site-packages/astropy/units/quantity.py:613: RuntimeWarning: divide by zero encountered in divide\n",
      "  result = super().__array_ufunc__(function, method, *arrays, **kwargs)\n",
      "Declaring BaseSource Sample: 100%|██████████| 144/144 [00:47<00:00,  3.01it/s]\n",
      "Setting up Galaxy Clusters:   0%|          | 0/116 [00:00<?, ?it/s]/mnt/home/turne540/software/anaconda3/envs/xga_dev/lib/python3.9/site-packages/astropy/units/quantity.py:613: RuntimeWarning: divide by zero encountered in divide\n",
      "  result = super().__array_ufunc__(function, method, *arrays, **kwargs)\n"
     ]
    },
    {
     "ename": "ZeroDivisionError",
     "evalue": "float division",
     "output_type": "error",
     "traceback": [
      "\u001b[0;31m---------------------------------------------------------------------------\u001b[0m",
      "\u001b[0;31mZeroDivisionError\u001b[0m                         Traceback (most recent call last)",
      "\u001b[0;31mZeroDivisionError\u001b[0m: float division"
     ]
    },
    {
     "name": "stderr",
     "output_type": "stream",
     "text": [
      "Exception ignored in: 'regions._geometry.elliptical_overlap.elliptical_overlap_single_subpixel'\n",
      "Traceback (most recent call last):\n",
      "  File \"/mnt/home/turne540/software/anaconda3/envs/xga_dev/lib/python3.9/site-packages/regions-0.4-py3.9-linux-x86_64.egg/regions/shapes/ellipse.py\", line 175, in to_mask\n",
      "    fraction = elliptical_overlap_grid(\n",
      "ZeroDivisionError: float division\n"
     ]
    },
    {
     "ename": "ZeroDivisionError",
     "evalue": "float division",
     "output_type": "error",
     "traceback": [
      "\u001b[0;31m---------------------------------------------------------------------------\u001b[0m",
      "\u001b[0;31mZeroDivisionError\u001b[0m                         Traceback (most recent call last)",
      "\u001b[0;31mZeroDivisionError\u001b[0m: float division"
     ]
    },
    {
     "name": "stderr",
     "output_type": "stream",
     "text": [
      "Exception ignored in: 'regions._geometry.elliptical_overlap.elliptical_overlap_single_subpixel'\n",
      "Traceback (most recent call last):\n",
      "  File \"/mnt/home/turne540/software/anaconda3/envs/xga_dev/lib/python3.9/site-packages/regions-0.4-py3.9-linux-x86_64.egg/regions/shapes/ellipse.py\", line 175, in to_mask\n",
      "    fraction = elliptical_overlap_grid(\n",
      "ZeroDivisionError: float division\n"
     ]
    },
    {
     "ename": "ZeroDivisionError",
     "evalue": "float division",
     "output_type": "error",
     "traceback": [
      "\u001b[0;31m---------------------------------------------------------------------------\u001b[0m",
      "\u001b[0;31mZeroDivisionError\u001b[0m                         Traceback (most recent call last)",
      "\u001b[0;31mZeroDivisionError\u001b[0m: float division"
     ]
    },
    {
     "name": "stderr",
     "output_type": "stream",
     "text": [
      "Exception ignored in: 'regions._geometry.elliptical_overlap.elliptical_overlap_single_subpixel'\n",
      "Traceback (most recent call last):\n",
      "  File \"/mnt/home/turne540/software/anaconda3/envs/xga_dev/lib/python3.9/site-packages/regions-0.4-py3.9-linux-x86_64.egg/regions/shapes/ellipse.py\", line 175, in to_mask\n",
      "    fraction = elliptical_overlap_grid(\n",
      "ZeroDivisionError: float division\n"
     ]
    },
    {
     "ename": "ZeroDivisionError",
     "evalue": "float division",
     "output_type": "error",
     "traceback": [
      "\u001b[0;31m---------------------------------------------------------------------------\u001b[0m",
      "\u001b[0;31mZeroDivisionError\u001b[0m                         Traceback (most recent call last)",
      "\u001b[0;31mZeroDivisionError\u001b[0m: float division"
     ]
    },
    {
     "name": "stderr",
     "output_type": "stream",
     "text": [
      "Exception ignored in: 'regions._geometry.elliptical_overlap.elliptical_overlap_single_subpixel'\n",
      "Traceback (most recent call last):\n",
      "  File \"/mnt/home/turne540/software/anaconda3/envs/xga_dev/lib/python3.9/site-packages/regions-0.4-py3.9-linux-x86_64.egg/regions/shapes/ellipse.py\", line 175, in to_mask\n",
      "    fraction = elliptical_overlap_grid(\n",
      "ZeroDivisionError: float division\n"
     ]
    },
    {
     "ename": "ZeroDivisionError",
     "evalue": "float division",
     "output_type": "error",
     "traceback": [
      "\u001b[0;31m---------------------------------------------------------------------------\u001b[0m",
      "\u001b[0;31mZeroDivisionError\u001b[0m                         Traceback (most recent call last)",
      "\u001b[0;31mZeroDivisionError\u001b[0m: float division"
     ]
    },
    {
     "name": "stderr",
     "output_type": "stream",
     "text": [
      "Exception ignored in: 'regions._geometry.elliptical_overlap.elliptical_overlap_single_subpixel'\n",
      "Traceback (most recent call last):\n",
      "  File \"/mnt/home/turne540/software/anaconda3/envs/xga_dev/lib/python3.9/site-packages/regions-0.4-py3.9-linux-x86_64.egg/regions/shapes/ellipse.py\", line 175, in to_mask\n",
      "    fraction = elliptical_overlap_grid(\n",
      "ZeroDivisionError: float division\n"
     ]
    },
    {
     "ename": "ZeroDivisionError",
     "evalue": "float division",
     "output_type": "error",
     "traceback": [
      "\u001b[0;31m---------------------------------------------------------------------------\u001b[0m",
      "\u001b[0;31mZeroDivisionError\u001b[0m                         Traceback (most recent call last)",
      "\u001b[0;31mZeroDivisionError\u001b[0m: float division"
     ]
    },
    {
     "name": "stderr",
     "output_type": "stream",
     "text": [
      "Exception ignored in: 'regions._geometry.elliptical_overlap.elliptical_overlap_single_subpixel'\n",
      "Traceback (most recent call last):\n",
      "  File \"/mnt/home/turne540/software/anaconda3/envs/xga_dev/lib/python3.9/site-packages/regions-0.4-py3.9-linux-x86_64.egg/regions/shapes/ellipse.py\", line 175, in to_mask\n",
      "    fraction = elliptical_overlap_grid(\n",
      "ZeroDivisionError: float division\n"
     ]
    },
    {
     "ename": "ZeroDivisionError",
     "evalue": "float division",
     "output_type": "error",
     "traceback": [
      "\u001b[0;31m---------------------------------------------------------------------------\u001b[0m",
      "\u001b[0;31mZeroDivisionError\u001b[0m                         Traceback (most recent call last)",
      "\u001b[0;31mZeroDivisionError\u001b[0m: float division"
     ]
    },
    {
     "name": "stderr",
     "output_type": "stream",
     "text": [
      "Exception ignored in: 'regions._geometry.elliptical_overlap.elliptical_overlap_single_subpixel'\n",
      "Traceback (most recent call last):\n",
      "  File \"/mnt/home/turne540/software/anaconda3/envs/xga_dev/lib/python3.9/site-packages/regions-0.4-py3.9-linux-x86_64.egg/regions/shapes/ellipse.py\", line 175, in to_mask\n",
      "    fraction = elliptical_overlap_grid(\n",
      "ZeroDivisionError: float division\n"
     ]
    },
    {
     "ename": "ZeroDivisionError",
     "evalue": "float division",
     "output_type": "error",
     "traceback": [
      "\u001b[0;31m---------------------------------------------------------------------------\u001b[0m",
      "\u001b[0;31mZeroDivisionError\u001b[0m                         Traceback (most recent call last)",
      "\u001b[0;31mZeroDivisionError\u001b[0m: float division"
     ]
    },
    {
     "name": "stderr",
     "output_type": "stream",
     "text": [
      "Exception ignored in: 'regions._geometry.elliptical_overlap.elliptical_overlap_single_subpixel'\n",
      "Traceback (most recent call last):\n",
      "  File \"/mnt/home/turne540/software/anaconda3/envs/xga_dev/lib/python3.9/site-packages/regions-0.4-py3.9-linux-x86_64.egg/regions/shapes/ellipse.py\", line 175, in to_mask\n",
      "    fraction = elliptical_overlap_grid(\n",
      "ZeroDivisionError: float division\n"
     ]
    },
    {
     "ename": "ZeroDivisionError",
     "evalue": "float division",
     "output_type": "error",
     "traceback": [
      "\u001b[0;31m---------------------------------------------------------------------------\u001b[0m",
      "\u001b[0;31mZeroDivisionError\u001b[0m                         Traceback (most recent call last)",
      "\u001b[0;31mZeroDivisionError\u001b[0m: float division"
     ]
    },
    {
     "name": "stderr",
     "output_type": "stream",
     "text": [
      "Exception ignored in: 'regions._geometry.elliptical_overlap.elliptical_overlap_single_subpixel'\n",
      "Traceback (most recent call last):\n",
      "  File \"/mnt/home/turne540/software/anaconda3/envs/xga_dev/lib/python3.9/site-packages/regions-0.4-py3.9-linux-x86_64.egg/regions/shapes/ellipse.py\", line 175, in to_mask\n",
      "    fraction = elliptical_overlap_grid(\n",
      "ZeroDivisionError: float division\n"
     ]
    },
    {
     "ename": "ZeroDivisionError",
     "evalue": "float division",
     "output_type": "error",
     "traceback": [
      "\u001b[0;31m---------------------------------------------------------------------------\u001b[0m",
      "\u001b[0;31mZeroDivisionError\u001b[0m                         Traceback (most recent call last)",
      "\u001b[0;31mZeroDivisionError\u001b[0m: float division"
     ]
    },
    {
     "name": "stderr",
     "output_type": "stream",
     "text": [
      "Exception ignored in: 'regions._geometry.elliptical_overlap.elliptical_overlap_single_subpixel'\n",
      "Traceback (most recent call last):\n",
      "  File \"/mnt/home/turne540/software/anaconda3/envs/xga_dev/lib/python3.9/site-packages/regions-0.4-py3.9-linux-x86_64.egg/regions/shapes/ellipse.py\", line 175, in to_mask\n",
      "    fraction = elliptical_overlap_grid(\n",
      "ZeroDivisionError: float division\n"
     ]
    },
    {
     "ename": "ZeroDivisionError",
     "evalue": "float division",
     "output_type": "error",
     "traceback": [
      "\u001b[0;31m---------------------------------------------------------------------------\u001b[0m",
      "\u001b[0;31mZeroDivisionError\u001b[0m                         Traceback (most recent call last)",
      "\u001b[0;31mZeroDivisionError\u001b[0m: float division"
     ]
    },
    {
     "name": "stderr",
     "output_type": "stream",
     "text": [
      "Exception ignored in: 'regions._geometry.elliptical_overlap.elliptical_overlap_single_subpixel'\n",
      "Traceback (most recent call last):\n",
      "  File \"/mnt/home/turne540/software/anaconda3/envs/xga_dev/lib/python3.9/site-packages/regions-0.4-py3.9-linux-x86_64.egg/regions/shapes/ellipse.py\", line 175, in to_mask\n",
      "    fraction = elliptical_overlap_grid(\n",
      "ZeroDivisionError: float division\n"
     ]
    },
    {
     "ename": "ZeroDivisionError",
     "evalue": "float division",
     "output_type": "error",
     "traceback": [
      "\u001b[0;31m---------------------------------------------------------------------------\u001b[0m",
      "\u001b[0;31mZeroDivisionError\u001b[0m                         Traceback (most recent call last)",
      "\u001b[0;31mZeroDivisionError\u001b[0m: float division"
     ]
    },
    {
     "name": "stderr",
     "output_type": "stream",
     "text": [
      "Exception ignored in: 'regions._geometry.elliptical_overlap.elliptical_overlap_single_subpixel'\n",
      "Traceback (most recent call last):\n",
      "  File \"/mnt/home/turne540/software/anaconda3/envs/xga_dev/lib/python3.9/site-packages/regions-0.4-py3.9-linux-x86_64.egg/regions/shapes/ellipse.py\", line 175, in to_mask\n",
      "    fraction = elliptical_overlap_grid(\n",
      "ZeroDivisionError: float division\n"
     ]
    },
    {
     "ename": "ZeroDivisionError",
     "evalue": "float division",
     "output_type": "error",
     "traceback": [
      "\u001b[0;31m---------------------------------------------------------------------------\u001b[0m",
      "\u001b[0;31mZeroDivisionError\u001b[0m                         Traceback (most recent call last)",
      "\u001b[0;31mZeroDivisionError\u001b[0m: float division"
     ]
    },
    {
     "name": "stderr",
     "output_type": "stream",
     "text": [
      "Exception ignored in: 'regions._geometry.elliptical_overlap.elliptical_overlap_single_subpixel'\n",
      "Traceback (most recent call last):\n",
      "  File \"/mnt/home/turne540/software/anaconda3/envs/xga_dev/lib/python3.9/site-packages/regions-0.4-py3.9-linux-x86_64.egg/regions/shapes/ellipse.py\", line 175, in to_mask\n",
      "    fraction = elliptical_overlap_grid(\n",
      "ZeroDivisionError: float division\n"
     ]
    },
    {
     "ename": "ZeroDivisionError",
     "evalue": "float division",
     "output_type": "error",
     "traceback": [
      "\u001b[0;31m---------------------------------------------------------------------------\u001b[0m",
      "\u001b[0;31mZeroDivisionError\u001b[0m                         Traceback (most recent call last)",
      "\u001b[0;31mZeroDivisionError\u001b[0m: float division"
     ]
    },
    {
     "name": "stderr",
     "output_type": "stream",
     "text": [
      "Exception ignored in: 'regions._geometry.elliptical_overlap.elliptical_overlap_single_subpixel'\n",
      "Traceback (most recent call last):\n",
      "  File \"/mnt/home/turne540/software/anaconda3/envs/xga_dev/lib/python3.9/site-packages/regions-0.4-py3.9-linux-x86_64.egg/regions/shapes/ellipse.py\", line 175, in to_mask\n",
      "    fraction = elliptical_overlap_grid(\n",
      "ZeroDivisionError: float division\n"
     ]
    },
    {
     "ename": "ZeroDivisionError",
     "evalue": "float division",
     "output_type": "error",
     "traceback": [
      "\u001b[0;31m---------------------------------------------------------------------------\u001b[0m",
      "\u001b[0;31mZeroDivisionError\u001b[0m                         Traceback (most recent call last)",
      "\u001b[0;31mZeroDivisionError\u001b[0m: float division"
     ]
    },
    {
     "name": "stderr",
     "output_type": "stream",
     "text": [
      "Exception ignored in: 'regions._geometry.elliptical_overlap.elliptical_overlap_single_subpixel'\n",
      "Traceback (most recent call last):\n",
      "  File \"/mnt/home/turne540/software/anaconda3/envs/xga_dev/lib/python3.9/site-packages/regions-0.4-py3.9-linux-x86_64.egg/regions/shapes/ellipse.py\", line 175, in to_mask\n",
      "    fraction = elliptical_overlap_grid(\n",
      "ZeroDivisionError: float division\n"
     ]
    },
    {
     "ename": "ZeroDivisionError",
     "evalue": "float division",
     "output_type": "error",
     "traceback": [
      "\u001b[0;31m---------------------------------------------------------------------------\u001b[0m",
      "\u001b[0;31mZeroDivisionError\u001b[0m                         Traceback (most recent call last)",
      "\u001b[0;31mZeroDivisionError\u001b[0m: float division"
     ]
    },
    {
     "name": "stderr",
     "output_type": "stream",
     "text": [
      "Exception ignored in: 'regions._geometry.elliptical_overlap.elliptical_overlap_single_subpixel'\n",
      "Traceback (most recent call last):\n",
      "  File \"/mnt/home/turne540/software/anaconda3/envs/xga_dev/lib/python3.9/site-packages/regions-0.4-py3.9-linux-x86_64.egg/regions/shapes/ellipse.py\", line 175, in to_mask\n",
      "    fraction = elliptical_overlap_grid(\n",
      "ZeroDivisionError: float division\n"
     ]
    },
    {
     "ename": "ZeroDivisionError",
     "evalue": "float division",
     "output_type": "error",
     "traceback": [
      "\u001b[0;31m---------------------------------------------------------------------------\u001b[0m",
      "\u001b[0;31mZeroDivisionError\u001b[0m                         Traceback (most recent call last)",
      "\u001b[0;31mZeroDivisionError\u001b[0m: float division"
     ]
    },
    {
     "name": "stderr",
     "output_type": "stream",
     "text": [
      "Exception ignored in: 'regions._geometry.elliptical_overlap.elliptical_overlap_single_subpixel'\n",
      "Traceback (most recent call last):\n",
      "  File \"/mnt/home/turne540/software/anaconda3/envs/xga_dev/lib/python3.9/site-packages/regions-0.4-py3.9-linux-x86_64.egg/regions/shapes/ellipse.py\", line 175, in to_mask\n",
      "    fraction = elliptical_overlap_grid(\n",
      "ZeroDivisionError: float division\n"
     ]
    },
    {
     "ename": "ZeroDivisionError",
     "evalue": "float division",
     "output_type": "error",
     "traceback": [
      "\u001b[0;31m---------------------------------------------------------------------------\u001b[0m",
      "\u001b[0;31mZeroDivisionError\u001b[0m                         Traceback (most recent call last)",
      "\u001b[0;31mZeroDivisionError\u001b[0m: float division"
     ]
    },
    {
     "name": "stderr",
     "output_type": "stream",
     "text": [
      "Exception ignored in: 'regions._geometry.elliptical_overlap.elliptical_overlap_single_subpixel'\n",
      "Traceback (most recent call last):\n",
      "  File \"/mnt/home/turne540/software/anaconda3/envs/xga_dev/lib/python3.9/site-packages/regions-0.4-py3.9-linux-x86_64.egg/regions/shapes/ellipse.py\", line 175, in to_mask\n",
      "    fraction = elliptical_overlap_grid(\n",
      "ZeroDivisionError: float division\n"
     ]
    },
    {
     "ename": "ZeroDivisionError",
     "evalue": "float division",
     "output_type": "error",
     "traceback": [
      "\u001b[0;31m---------------------------------------------------------------------------\u001b[0m",
      "\u001b[0;31mZeroDivisionError\u001b[0m                         Traceback (most recent call last)",
      "\u001b[0;31mZeroDivisionError\u001b[0m: float division"
     ]
    },
    {
     "name": "stderr",
     "output_type": "stream",
     "text": [
      "Exception ignored in: 'regions._geometry.elliptical_overlap.elliptical_overlap_single_subpixel'\n",
      "Traceback (most recent call last):\n",
      "  File \"/mnt/home/turne540/software/anaconda3/envs/xga_dev/lib/python3.9/site-packages/regions-0.4-py3.9-linux-x86_64.egg/regions/shapes/ellipse.py\", line 175, in to_mask\n",
      "    fraction = elliptical_overlap_grid(\n",
      "ZeroDivisionError: float division\n"
     ]
    },
    {
     "ename": "ZeroDivisionError",
     "evalue": "float division",
     "output_type": "error",
     "traceback": [
      "\u001b[0;31m---------------------------------------------------------------------------\u001b[0m",
      "\u001b[0;31mZeroDivisionError\u001b[0m                         Traceback (most recent call last)",
      "\u001b[0;31mZeroDivisionError\u001b[0m: float division"
     ]
    },
    {
     "name": "stderr",
     "output_type": "stream",
     "text": [
      "Exception ignored in: 'regions._geometry.elliptical_overlap.elliptical_overlap_single_subpixel'\n",
      "Traceback (most recent call last):\n",
      "  File \"/mnt/home/turne540/software/anaconda3/envs/xga_dev/lib/python3.9/site-packages/regions-0.4-py3.9-linux-x86_64.egg/regions/shapes/ellipse.py\", line 175, in to_mask\n",
      "    fraction = elliptical_overlap_grid(\n",
      "ZeroDivisionError: float division\n"
     ]
    },
    {
     "ename": "ZeroDivisionError",
     "evalue": "float division",
     "output_type": "error",
     "traceback": [
      "\u001b[0;31m---------------------------------------------------------------------------\u001b[0m",
      "\u001b[0;31mZeroDivisionError\u001b[0m                         Traceback (most recent call last)",
      "\u001b[0;31mZeroDivisionError\u001b[0m: float division"
     ]
    },
    {
     "name": "stderr",
     "output_type": "stream",
     "text": [
      "Exception ignored in: 'regions._geometry.elliptical_overlap.elliptical_overlap_single_subpixel'\n",
      "Traceback (most recent call last):\n",
      "  File \"/mnt/home/turne540/software/anaconda3/envs/xga_dev/lib/python3.9/site-packages/regions-0.4-py3.9-linux-x86_64.egg/regions/shapes/ellipse.py\", line 175, in to_mask\n",
      "    fraction = elliptical_overlap_grid(\n",
      "ZeroDivisionError: float division\n"
     ]
    },
    {
     "ename": "ZeroDivisionError",
     "evalue": "float division",
     "output_type": "error",
     "traceback": [
      "\u001b[0;31m---------------------------------------------------------------------------\u001b[0m",
      "\u001b[0;31mZeroDivisionError\u001b[0m                         Traceback (most recent call last)",
      "\u001b[0;31mZeroDivisionError\u001b[0m: float division"
     ]
    },
    {
     "name": "stderr",
     "output_type": "stream",
     "text": [
      "Exception ignored in: 'regions._geometry.elliptical_overlap.elliptical_overlap_single_subpixel'\n",
      "Traceback (most recent call last):\n",
      "  File \"/mnt/home/turne540/software/anaconda3/envs/xga_dev/lib/python3.9/site-packages/regions-0.4-py3.9-linux-x86_64.egg/regions/shapes/ellipse.py\", line 175, in to_mask\n",
      "    fraction = elliptical_overlap_grid(\n",
      "ZeroDivisionError: float division\n"
     ]
    },
    {
     "ename": "ZeroDivisionError",
     "evalue": "float division",
     "output_type": "error",
     "traceback": [
      "\u001b[0;31m---------------------------------------------------------------------------\u001b[0m",
      "\u001b[0;31mZeroDivisionError\u001b[0m                         Traceback (most recent call last)",
      "\u001b[0;31mZeroDivisionError\u001b[0m: float division"
     ]
    },
    {
     "name": "stderr",
     "output_type": "stream",
     "text": [
      "Exception ignored in: 'regions._geometry.elliptical_overlap.elliptical_overlap_single_subpixel'\n",
      "Traceback (most recent call last):\n",
      "  File \"/mnt/home/turne540/software/anaconda3/envs/xga_dev/lib/python3.9/site-packages/regions-0.4-py3.9-linux-x86_64.egg/regions/shapes/ellipse.py\", line 175, in to_mask\n",
      "    fraction = elliptical_overlap_grid(\n",
      "ZeroDivisionError: float division\n"
     ]
    },
    {
     "ename": "ZeroDivisionError",
     "evalue": "float division",
     "output_type": "error",
     "traceback": [
      "\u001b[0;31m---------------------------------------------------------------------------\u001b[0m",
      "\u001b[0;31mZeroDivisionError\u001b[0m                         Traceback (most recent call last)",
      "\u001b[0;31mZeroDivisionError\u001b[0m: float division"
     ]
    },
    {
     "name": "stderr",
     "output_type": "stream",
     "text": [
      "Exception ignored in: 'regions._geometry.elliptical_overlap.elliptical_overlap_single_subpixel'\n",
      "Traceback (most recent call last):\n",
      "  File \"/mnt/home/turne540/software/anaconda3/envs/xga_dev/lib/python3.9/site-packages/regions-0.4-py3.9-linux-x86_64.egg/regions/shapes/ellipse.py\", line 175, in to_mask\n",
      "    fraction = elliptical_overlap_grid(\n",
      "ZeroDivisionError: float division\n"
     ]
    },
    {
     "ename": "ZeroDivisionError",
     "evalue": "float division",
     "output_type": "error",
     "traceback": [
      "\u001b[0;31m---------------------------------------------------------------------------\u001b[0m",
      "\u001b[0;31mZeroDivisionError\u001b[0m                         Traceback (most recent call last)",
      "\u001b[0;31mZeroDivisionError\u001b[0m: float division"
     ]
    },
    {
     "name": "stderr",
     "output_type": "stream",
     "text": [
      "Exception ignored in: 'regions._geometry.elliptical_overlap.elliptical_overlap_single_subpixel'\n",
      "Traceback (most recent call last):\n",
      "  File \"/mnt/home/turne540/software/anaconda3/envs/xga_dev/lib/python3.9/site-packages/regions-0.4-py3.9-linux-x86_64.egg/regions/shapes/ellipse.py\", line 175, in to_mask\n",
      "    fraction = elliptical_overlap_grid(\n",
      "ZeroDivisionError: float division\n"
     ]
    },
    {
     "ename": "ZeroDivisionError",
     "evalue": "float division",
     "output_type": "error",
     "traceback": [
      "\u001b[0;31m---------------------------------------------------------------------------\u001b[0m",
      "\u001b[0;31mZeroDivisionError\u001b[0m                         Traceback (most recent call last)",
      "\u001b[0;31mZeroDivisionError\u001b[0m: float division"
     ]
    },
    {
     "name": "stderr",
     "output_type": "stream",
     "text": [
      "Exception ignored in: 'regions._geometry.elliptical_overlap.elliptical_overlap_single_subpixel'\n",
      "Traceback (most recent call last):\n",
      "  File \"/mnt/home/turne540/software/anaconda3/envs/xga_dev/lib/python3.9/site-packages/regions-0.4-py3.9-linux-x86_64.egg/regions/shapes/ellipse.py\", line 175, in to_mask\n",
      "    fraction = elliptical_overlap_grid(\n",
      "ZeroDivisionError: float division\n"
     ]
    },
    {
     "ename": "ZeroDivisionError",
     "evalue": "float division",
     "output_type": "error",
     "traceback": [
      "\u001b[0;31m---------------------------------------------------------------------------\u001b[0m",
      "\u001b[0;31mZeroDivisionError\u001b[0m                         Traceback (most recent call last)",
      "\u001b[0;31mZeroDivisionError\u001b[0m: float division"
     ]
    },
    {
     "name": "stderr",
     "output_type": "stream",
     "text": [
      "Exception ignored in: 'regions._geometry.elliptical_overlap.elliptical_overlap_single_subpixel'\n",
      "Traceback (most recent call last):\n",
      "  File \"/mnt/home/turne540/software/anaconda3/envs/xga_dev/lib/python3.9/site-packages/regions-0.4-py3.9-linux-x86_64.egg/regions/shapes/ellipse.py\", line 175, in to_mask\n",
      "    fraction = elliptical_overlap_grid(\n",
      "ZeroDivisionError: float division\n"
     ]
    },
    {
     "ename": "ZeroDivisionError",
     "evalue": "float division",
     "output_type": "error",
     "traceback": [
      "\u001b[0;31m---------------------------------------------------------------------------\u001b[0m",
      "\u001b[0;31mZeroDivisionError\u001b[0m                         Traceback (most recent call last)",
      "\u001b[0;31mZeroDivisionError\u001b[0m: float division"
     ]
    },
    {
     "name": "stderr",
     "output_type": "stream",
     "text": [
      "Exception ignored in: 'regions._geometry.elliptical_overlap.elliptical_overlap_single_subpixel'\n",
      "Traceback (most recent call last):\n",
      "  File \"/mnt/home/turne540/software/anaconda3/envs/xga_dev/lib/python3.9/site-packages/regions-0.4-py3.9-linux-x86_64.egg/regions/shapes/ellipse.py\", line 175, in to_mask\n",
      "    fraction = elliptical_overlap_grid(\n",
      "ZeroDivisionError: float division\n"
     ]
    },
    {
     "ename": "ZeroDivisionError",
     "evalue": "float division",
     "output_type": "error",
     "traceback": [
      "\u001b[0;31m---------------------------------------------------------------------------\u001b[0m",
      "\u001b[0;31mZeroDivisionError\u001b[0m                         Traceback (most recent call last)",
      "\u001b[0;31mZeroDivisionError\u001b[0m: float division"
     ]
    },
    {
     "name": "stderr",
     "output_type": "stream",
     "text": [
      "Exception ignored in: 'regions._geometry.elliptical_overlap.elliptical_overlap_single_subpixel'\n",
      "Traceback (most recent call last):\n",
      "  File \"/mnt/home/turne540/software/anaconda3/envs/xga_dev/lib/python3.9/site-packages/regions-0.4-py3.9-linux-x86_64.egg/regions/shapes/ellipse.py\", line 175, in to_mask\n",
      "    fraction = elliptical_overlap_grid(\n",
      "ZeroDivisionError: float division\n"
     ]
    },
    {
     "ename": "ZeroDivisionError",
     "evalue": "float division",
     "output_type": "error",
     "traceback": [
      "\u001b[0;31m---------------------------------------------------------------------------\u001b[0m",
      "\u001b[0;31mZeroDivisionError\u001b[0m                         Traceback (most recent call last)",
      "\u001b[0;31mZeroDivisionError\u001b[0m: float division"
     ]
    },
    {
     "name": "stderr",
     "output_type": "stream",
     "text": [
      "Exception ignored in: 'regions._geometry.elliptical_overlap.elliptical_overlap_single_subpixel'\n",
      "Traceback (most recent call last):\n",
      "  File \"/mnt/home/turne540/software/anaconda3/envs/xga_dev/lib/python3.9/site-packages/regions-0.4-py3.9-linux-x86_64.egg/regions/shapes/ellipse.py\", line 175, in to_mask\n",
      "    fraction = elliptical_overlap_grid(\n",
      "ZeroDivisionError: float division\n"
     ]
    },
    {
     "ename": "ZeroDivisionError",
     "evalue": "float division",
     "output_type": "error",
     "traceback": [
      "\u001b[0;31m---------------------------------------------------------------------------\u001b[0m",
      "\u001b[0;31mZeroDivisionError\u001b[0m                         Traceback (most recent call last)",
      "\u001b[0;31mZeroDivisionError\u001b[0m: float division"
     ]
    },
    {
     "name": "stderr",
     "output_type": "stream",
     "text": [
      "Exception ignored in: 'regions._geometry.elliptical_overlap.elliptical_overlap_single_subpixel'\n",
      "Traceback (most recent call last):\n",
      "  File \"/mnt/home/turne540/software/anaconda3/envs/xga_dev/lib/python3.9/site-packages/regions-0.4-py3.9-linux-x86_64.egg/regions/shapes/ellipse.py\", line 175, in to_mask\n",
      "    fraction = elliptical_overlap_grid(\n",
      "ZeroDivisionError: float division\n"
     ]
    },
    {
     "ename": "ZeroDivisionError",
     "evalue": "float division",
     "output_type": "error",
     "traceback": [
      "\u001b[0;31m---------------------------------------------------------------------------\u001b[0m",
      "\u001b[0;31mZeroDivisionError\u001b[0m                         Traceback (most recent call last)",
      "\u001b[0;31mZeroDivisionError\u001b[0m: float division"
     ]
    },
    {
     "name": "stderr",
     "output_type": "stream",
     "text": [
      "Exception ignored in: 'regions._geometry.elliptical_overlap.elliptical_overlap_single_subpixel'\n",
      "Traceback (most recent call last):\n",
      "  File \"/mnt/home/turne540/software/anaconda3/envs/xga_dev/lib/python3.9/site-packages/regions-0.4-py3.9-linux-x86_64.egg/regions/shapes/ellipse.py\", line 175, in to_mask\n",
      "    fraction = elliptical_overlap_grid(\n",
      "ZeroDivisionError: float division\n"
     ]
    },
    {
     "ename": "ZeroDivisionError",
     "evalue": "float division",
     "output_type": "error",
     "traceback": [
      "\u001b[0;31m---------------------------------------------------------------------------\u001b[0m",
      "\u001b[0;31mZeroDivisionError\u001b[0m                         Traceback (most recent call last)",
      "\u001b[0;31mZeroDivisionError\u001b[0m: float division"
     ]
    },
    {
     "name": "stderr",
     "output_type": "stream",
     "text": [
      "Exception ignored in: 'regions._geometry.elliptical_overlap.elliptical_overlap_single_subpixel'\n",
      "Traceback (most recent call last):\n",
      "  File \"/mnt/home/turne540/software/anaconda3/envs/xga_dev/lib/python3.9/site-packages/regions-0.4-py3.9-linux-x86_64.egg/regions/shapes/ellipse.py\", line 175, in to_mask\n",
      "    fraction = elliptical_overlap_grid(\n",
      "ZeroDivisionError: float division\n"
     ]
    },
    {
     "ename": "ZeroDivisionError",
     "evalue": "float division",
     "output_type": "error",
     "traceback": [
      "\u001b[0;31m---------------------------------------------------------------------------\u001b[0m",
      "\u001b[0;31mZeroDivisionError\u001b[0m                         Traceback (most recent call last)",
      "\u001b[0;31mZeroDivisionError\u001b[0m: float division"
     ]
    },
    {
     "name": "stderr",
     "output_type": "stream",
     "text": [
      "Exception ignored in: 'regions._geometry.elliptical_overlap.elliptical_overlap_single_subpixel'\n",
      "Traceback (most recent call last):\n",
      "  File \"/mnt/home/turne540/software/anaconda3/envs/xga_dev/lib/python3.9/site-packages/regions-0.4-py3.9-linux-x86_64.egg/regions/shapes/ellipse.py\", line 175, in to_mask\n",
      "    fraction = elliptical_overlap_grid(\n",
      "ZeroDivisionError: float division\n"
     ]
    },
    {
     "ename": "ZeroDivisionError",
     "evalue": "float division",
     "output_type": "error",
     "traceback": [
      "\u001b[0;31m---------------------------------------------------------------------------\u001b[0m",
      "\u001b[0;31mZeroDivisionError\u001b[0m                         Traceback (most recent call last)",
      "\u001b[0;31mZeroDivisionError\u001b[0m: float division"
     ]
    },
    {
     "name": "stderr",
     "output_type": "stream",
     "text": [
      "Exception ignored in: 'regions._geometry.elliptical_overlap.elliptical_overlap_single_subpixel'\n",
      "Traceback (most recent call last):\n",
      "  File \"/mnt/home/turne540/software/anaconda3/envs/xga_dev/lib/python3.9/site-packages/regions-0.4-py3.9-linux-x86_64.egg/regions/shapes/ellipse.py\", line 175, in to_mask\n",
      "    fraction = elliptical_overlap_grid(\n",
      "ZeroDivisionError: float division\n"
     ]
    },
    {
     "ename": "ZeroDivisionError",
     "evalue": "float division",
     "output_type": "error",
     "traceback": [
      "\u001b[0;31m---------------------------------------------------------------------------\u001b[0m",
      "\u001b[0;31mZeroDivisionError\u001b[0m                         Traceback (most recent call last)",
      "\u001b[0;31mZeroDivisionError\u001b[0m: float division"
     ]
    },
    {
     "name": "stderr",
     "output_type": "stream",
     "text": [
      "Exception ignored in: 'regions._geometry.elliptical_overlap.elliptical_overlap_single_subpixel'\n",
      "Traceback (most recent call last):\n",
      "  File \"/mnt/home/turne540/software/anaconda3/envs/xga_dev/lib/python3.9/site-packages/regions-0.4-py3.9-linux-x86_64.egg/regions/shapes/ellipse.py\", line 175, in to_mask\n",
      "    fraction = elliptical_overlap_grid(\n",
      "ZeroDivisionError: float division\n"
     ]
    },
    {
     "ename": "ZeroDivisionError",
     "evalue": "float division",
     "output_type": "error",
     "traceback": [
      "\u001b[0;31m---------------------------------------------------------------------------\u001b[0m",
      "\u001b[0;31mZeroDivisionError\u001b[0m                         Traceback (most recent call last)",
      "\u001b[0;31mZeroDivisionError\u001b[0m: float division"
     ]
    },
    {
     "name": "stderr",
     "output_type": "stream",
     "text": [
      "Exception ignored in: 'regions._geometry.elliptical_overlap.elliptical_overlap_single_subpixel'\n",
      "Traceback (most recent call last):\n",
      "  File \"/mnt/home/turne540/software/anaconda3/envs/xga_dev/lib/python3.9/site-packages/regions-0.4-py3.9-linux-x86_64.egg/regions/shapes/ellipse.py\", line 175, in to_mask\n",
      "    fraction = elliptical_overlap_grid(\n",
      "ZeroDivisionError: float division\n"
     ]
    },
    {
     "ename": "ZeroDivisionError",
     "evalue": "float division",
     "output_type": "error",
     "traceback": [
      "\u001b[0;31m---------------------------------------------------------------------------\u001b[0m",
      "\u001b[0;31mZeroDivisionError\u001b[0m                         Traceback (most recent call last)",
      "\u001b[0;31mZeroDivisionError\u001b[0m: float division"
     ]
    },
    {
     "name": "stderr",
     "output_type": "stream",
     "text": [
      "Exception ignored in: 'regions._geometry.elliptical_overlap.elliptical_overlap_single_subpixel'\n",
      "Traceback (most recent call last):\n",
      "  File \"/mnt/home/turne540/software/anaconda3/envs/xga_dev/lib/python3.9/site-packages/regions-0.4-py3.9-linux-x86_64.egg/regions/shapes/ellipse.py\", line 175, in to_mask\n",
      "    fraction = elliptical_overlap_grid(\n",
      "ZeroDivisionError: float division\n"
     ]
    },
    {
     "ename": "ZeroDivisionError",
     "evalue": "float division",
     "output_type": "error",
     "traceback": [
      "\u001b[0;31m---------------------------------------------------------------------------\u001b[0m",
      "\u001b[0;31mZeroDivisionError\u001b[0m                         Traceback (most recent call last)",
      "\u001b[0;31mZeroDivisionError\u001b[0m: float division"
     ]
    },
    {
     "name": "stderr",
     "output_type": "stream",
     "text": [
      "Exception ignored in: 'regions._geometry.elliptical_overlap.elliptical_overlap_single_subpixel'\n",
      "Traceback (most recent call last):\n",
      "  File \"/mnt/home/turne540/software/anaconda3/envs/xga_dev/lib/python3.9/site-packages/regions-0.4-py3.9-linux-x86_64.egg/regions/shapes/ellipse.py\", line 175, in to_mask\n",
      "    fraction = elliptical_overlap_grid(\n",
      "ZeroDivisionError: float division\n"
     ]
    },
    {
     "ename": "ZeroDivisionError",
     "evalue": "float division",
     "output_type": "error",
     "traceback": [
      "\u001b[0;31m---------------------------------------------------------------------------\u001b[0m",
      "\u001b[0;31mZeroDivisionError\u001b[0m                         Traceback (most recent call last)",
      "\u001b[0;31mZeroDivisionError\u001b[0m: float division"
     ]
    },
    {
     "name": "stderr",
     "output_type": "stream",
     "text": [
      "Exception ignored in: 'regions._geometry.elliptical_overlap.elliptical_overlap_single_subpixel'\n",
      "Traceback (most recent call last):\n",
      "  File \"/mnt/home/turne540/software/anaconda3/envs/xga_dev/lib/python3.9/site-packages/regions-0.4-py3.9-linux-x86_64.egg/regions/shapes/ellipse.py\", line 175, in to_mask\n",
      "    fraction = elliptical_overlap_grid(\n",
      "ZeroDivisionError: float division\n"
     ]
    },
    {
     "ename": "ZeroDivisionError",
     "evalue": "float division",
     "output_type": "error",
     "traceback": [
      "\u001b[0;31m---------------------------------------------------------------------------\u001b[0m",
      "\u001b[0;31mZeroDivisionError\u001b[0m                         Traceback (most recent call last)",
      "\u001b[0;31mZeroDivisionError\u001b[0m: float division"
     ]
    },
    {
     "name": "stderr",
     "output_type": "stream",
     "text": [
      "Exception ignored in: 'regions._geometry.elliptical_overlap.elliptical_overlap_single_subpixel'\n",
      "Traceback (most recent call last):\n",
      "  File \"/mnt/home/turne540/software/anaconda3/envs/xga_dev/lib/python3.9/site-packages/regions-0.4-py3.9-linux-x86_64.egg/regions/shapes/ellipse.py\", line 175, in to_mask\n",
      "    fraction = elliptical_overlap_grid(\n",
      "ZeroDivisionError: float division\n"
     ]
    },
    {
     "ename": "ZeroDivisionError",
     "evalue": "float division",
     "output_type": "error",
     "traceback": [
      "\u001b[0;31m---------------------------------------------------------------------------\u001b[0m",
      "\u001b[0;31mZeroDivisionError\u001b[0m                         Traceback (most recent call last)",
      "\u001b[0;31mZeroDivisionError\u001b[0m: float division"
     ]
    },
    {
     "name": "stderr",
     "output_type": "stream",
     "text": [
      "Exception ignored in: 'regions._geometry.elliptical_overlap.elliptical_overlap_single_subpixel'\n",
      "Traceback (most recent call last):\n",
      "  File \"/mnt/home/turne540/software/anaconda3/envs/xga_dev/lib/python3.9/site-packages/regions-0.4-py3.9-linux-x86_64.egg/regions/shapes/ellipse.py\", line 175, in to_mask\n",
      "    fraction = elliptical_overlap_grid(\n",
      "ZeroDivisionError: float division\n"
     ]
    },
    {
     "ename": "ZeroDivisionError",
     "evalue": "float division",
     "output_type": "error",
     "traceback": [
      "\u001b[0;31m---------------------------------------------------------------------------\u001b[0m",
      "\u001b[0;31mZeroDivisionError\u001b[0m                         Traceback (most recent call last)",
      "\u001b[0;31mZeroDivisionError\u001b[0m: float division"
     ]
    },
    {
     "name": "stderr",
     "output_type": "stream",
     "text": [
      "Exception ignored in: 'regions._geometry.elliptical_overlap.elliptical_overlap_single_subpixel'\n",
      "Traceback (most recent call last):\n",
      "  File \"/mnt/home/turne540/software/anaconda3/envs/xga_dev/lib/python3.9/site-packages/regions-0.4-py3.9-linux-x86_64.egg/regions/shapes/ellipse.py\", line 175, in to_mask\n",
      "    fraction = elliptical_overlap_grid(\n",
      "ZeroDivisionError: float division\n"
     ]
    },
    {
     "ename": "ZeroDivisionError",
     "evalue": "float division",
     "output_type": "error",
     "traceback": [
      "\u001b[0;31m---------------------------------------------------------------------------\u001b[0m",
      "\u001b[0;31mZeroDivisionError\u001b[0m                         Traceback (most recent call last)",
      "\u001b[0;31mZeroDivisionError\u001b[0m: float division"
     ]
    },
    {
     "name": "stderr",
     "output_type": "stream",
     "text": [
      "Exception ignored in: 'regions._geometry.elliptical_overlap.elliptical_overlap_single_subpixel'\n",
      "Traceback (most recent call last):\n",
      "  File \"/mnt/home/turne540/software/anaconda3/envs/xga_dev/lib/python3.9/site-packages/regions-0.4-py3.9-linux-x86_64.egg/regions/shapes/ellipse.py\", line 175, in to_mask\n",
      "    fraction = elliptical_overlap_grid(\n",
      "ZeroDivisionError: float division\n"
     ]
    },
    {
     "ename": "ZeroDivisionError",
     "evalue": "float division",
     "output_type": "error",
     "traceback": [
      "\u001b[0;31m---------------------------------------------------------------------------\u001b[0m",
      "\u001b[0;31mZeroDivisionError\u001b[0m                         Traceback (most recent call last)",
      "\u001b[0;31mZeroDivisionError\u001b[0m: float division"
     ]
    },
    {
     "name": "stderr",
     "output_type": "stream",
     "text": [
      "Exception ignored in: 'regions._geometry.elliptical_overlap.elliptical_overlap_single_subpixel'\n",
      "Traceback (most recent call last):\n",
      "  File \"/mnt/home/turne540/software/anaconda3/envs/xga_dev/lib/python3.9/site-packages/regions-0.4-py3.9-linux-x86_64.egg/regions/shapes/ellipse.py\", line 175, in to_mask\n",
      "    fraction = elliptical_overlap_grid(\n",
      "ZeroDivisionError: float division\n"
     ]
    },
    {
     "ename": "ZeroDivisionError",
     "evalue": "float division",
     "output_type": "error",
     "traceback": [
      "\u001b[0;31m---------------------------------------------------------------------------\u001b[0m",
      "\u001b[0;31mZeroDivisionError\u001b[0m                         Traceback (most recent call last)",
      "\u001b[0;31mZeroDivisionError\u001b[0m: float division"
     ]
    },
    {
     "name": "stderr",
     "output_type": "stream",
     "text": [
      "Exception ignored in: 'regions._geometry.elliptical_overlap.elliptical_overlap_single_subpixel'\n",
      "Traceback (most recent call last):\n",
      "  File \"/mnt/home/turne540/software/anaconda3/envs/xga_dev/lib/python3.9/site-packages/regions-0.4-py3.9-linux-x86_64.egg/regions/shapes/ellipse.py\", line 175, in to_mask\n",
      "    fraction = elliptical_overlap_grid(\n",
      "ZeroDivisionError: float division\n"
     ]
    },
    {
     "ename": "ZeroDivisionError",
     "evalue": "float division",
     "output_type": "error",
     "traceback": [
      "\u001b[0;31m---------------------------------------------------------------------------\u001b[0m",
      "\u001b[0;31mZeroDivisionError\u001b[0m                         Traceback (most recent call last)",
      "\u001b[0;31mZeroDivisionError\u001b[0m: float division"
     ]
    },
    {
     "name": "stderr",
     "output_type": "stream",
     "text": [
      "Exception ignored in: 'regions._geometry.elliptical_overlap.elliptical_overlap_single_subpixel'\n",
      "Traceback (most recent call last):\n",
      "  File \"/mnt/home/turne540/software/anaconda3/envs/xga_dev/lib/python3.9/site-packages/regions-0.4-py3.9-linux-x86_64.egg/regions/shapes/ellipse.py\", line 175, in to_mask\n",
      "    fraction = elliptical_overlap_grid(\n",
      "ZeroDivisionError: float division\n"
     ]
    },
    {
     "ename": "ZeroDivisionError",
     "evalue": "float division",
     "output_type": "error",
     "traceback": [
      "\u001b[0;31m---------------------------------------------------------------------------\u001b[0m",
      "\u001b[0;31mZeroDivisionError\u001b[0m                         Traceback (most recent call last)",
      "\u001b[0;31mZeroDivisionError\u001b[0m: float division"
     ]
    },
    {
     "name": "stderr",
     "output_type": "stream",
     "text": [
      "Exception ignored in: 'regions._geometry.elliptical_overlap.elliptical_overlap_single_subpixel'\n",
      "Traceback (most recent call last):\n",
      "  File \"/mnt/home/turne540/software/anaconda3/envs/xga_dev/lib/python3.9/site-packages/regions-0.4-py3.9-linux-x86_64.egg/regions/shapes/ellipse.py\", line 175, in to_mask\n",
      "    fraction = elliptical_overlap_grid(\n",
      "ZeroDivisionError: float division\n"
     ]
    },
    {
     "ename": "ZeroDivisionError",
     "evalue": "float division",
     "output_type": "error",
     "traceback": [
      "\u001b[0;31m---------------------------------------------------------------------------\u001b[0m",
      "\u001b[0;31mZeroDivisionError\u001b[0m                         Traceback (most recent call last)",
      "\u001b[0;31mZeroDivisionError\u001b[0m: float division"
     ]
    },
    {
     "name": "stderr",
     "output_type": "stream",
     "text": [
      "Exception ignored in: 'regions._geometry.elliptical_overlap.elliptical_overlap_single_subpixel'\n",
      "Traceback (most recent call last):\n",
      "  File \"/mnt/home/turne540/software/anaconda3/envs/xga_dev/lib/python3.9/site-packages/regions-0.4-py3.9-linux-x86_64.egg/regions/shapes/ellipse.py\", line 175, in to_mask\n",
      "    fraction = elliptical_overlap_grid(\n",
      "ZeroDivisionError: float division\n"
     ]
    },
    {
     "ename": "ZeroDivisionError",
     "evalue": "float division",
     "output_type": "error",
     "traceback": [
      "\u001b[0;31m---------------------------------------------------------------------------\u001b[0m",
      "\u001b[0;31mZeroDivisionError\u001b[0m                         Traceback (most recent call last)",
      "\u001b[0;31mZeroDivisionError\u001b[0m: float division"
     ]
    },
    {
     "name": "stderr",
     "output_type": "stream",
     "text": [
      "Exception ignored in: 'regions._geometry.elliptical_overlap.elliptical_overlap_single_subpixel'\n",
      "Traceback (most recent call last):\n",
      "  File \"/mnt/home/turne540/software/anaconda3/envs/xga_dev/lib/python3.9/site-packages/regions-0.4-py3.9-linux-x86_64.egg/regions/shapes/ellipse.py\", line 175, in to_mask\n",
      "    fraction = elliptical_overlap_grid(\n",
      "ZeroDivisionError: float division\n"
     ]
    },
    {
     "ename": "ZeroDivisionError",
     "evalue": "float division",
     "output_type": "error",
     "traceback": [
      "\u001b[0;31m---------------------------------------------------------------------------\u001b[0m",
      "\u001b[0;31mZeroDivisionError\u001b[0m                         Traceback (most recent call last)",
      "\u001b[0;31mZeroDivisionError\u001b[0m: float division"
     ]
    },
    {
     "name": "stderr",
     "output_type": "stream",
     "text": [
      "Exception ignored in: 'regions._geometry.elliptical_overlap.elliptical_overlap_single_subpixel'\n",
      "Traceback (most recent call last):\n",
      "  File \"/mnt/home/turne540/software/anaconda3/envs/xga_dev/lib/python3.9/site-packages/regions-0.4-py3.9-linux-x86_64.egg/regions/shapes/ellipse.py\", line 175, in to_mask\n",
      "    fraction = elliptical_overlap_grid(\n",
      "ZeroDivisionError: float division\n"
     ]
    },
    {
     "ename": "ZeroDivisionError",
     "evalue": "float division",
     "output_type": "error",
     "traceback": [
      "\u001b[0;31m---------------------------------------------------------------------------\u001b[0m",
      "\u001b[0;31mZeroDivisionError\u001b[0m                         Traceback (most recent call last)",
      "\u001b[0;31mZeroDivisionError\u001b[0m: float division"
     ]
    },
    {
     "name": "stderr",
     "output_type": "stream",
     "text": [
      "Exception ignored in: 'regions._geometry.elliptical_overlap.elliptical_overlap_single_subpixel'\n",
      "Traceback (most recent call last):\n",
      "  File \"/mnt/home/turne540/software/anaconda3/envs/xga_dev/lib/python3.9/site-packages/regions-0.4-py3.9-linux-x86_64.egg/regions/shapes/ellipse.py\", line 175, in to_mask\n",
      "    fraction = elliptical_overlap_grid(\n",
      "ZeroDivisionError: float division\n"
     ]
    },
    {
     "ename": "ZeroDivisionError",
     "evalue": "float division",
     "output_type": "error",
     "traceback": [
      "\u001b[0;31m---------------------------------------------------------------------------\u001b[0m",
      "\u001b[0;31mZeroDivisionError\u001b[0m                         Traceback (most recent call last)",
      "\u001b[0;31mZeroDivisionError\u001b[0m: float division"
     ]
    },
    {
     "name": "stderr",
     "output_type": "stream",
     "text": [
      "Exception ignored in: 'regions._geometry.elliptical_overlap.elliptical_overlap_single_subpixel'\n",
      "Traceback (most recent call last):\n",
      "  File \"/mnt/home/turne540/software/anaconda3/envs/xga_dev/lib/python3.9/site-packages/regions-0.4-py3.9-linux-x86_64.egg/regions/shapes/ellipse.py\", line 175, in to_mask\n",
      "    fraction = elliptical_overlap_grid(\n",
      "ZeroDivisionError: float division\n"
     ]
    },
    {
     "ename": "ZeroDivisionError",
     "evalue": "float division",
     "output_type": "error",
     "traceback": [
      "\u001b[0;31m---------------------------------------------------------------------------\u001b[0m",
      "\u001b[0;31mZeroDivisionError\u001b[0m                         Traceback (most recent call last)",
      "\u001b[0;31mZeroDivisionError\u001b[0m: float division"
     ]
    },
    {
     "name": "stderr",
     "output_type": "stream",
     "text": [
      "Exception ignored in: 'regions._geometry.elliptical_overlap.elliptical_overlap_single_subpixel'\n",
      "Traceback (most recent call last):\n",
      "  File \"/mnt/home/turne540/software/anaconda3/envs/xga_dev/lib/python3.9/site-packages/regions-0.4-py3.9-linux-x86_64.egg/regions/shapes/ellipse.py\", line 175, in to_mask\n",
      "    fraction = elliptical_overlap_grid(\n",
      "ZeroDivisionError: float division\n"
     ]
    },
    {
     "ename": "ZeroDivisionError",
     "evalue": "float division",
     "output_type": "error",
     "traceback": [
      "\u001b[0;31m---------------------------------------------------------------------------\u001b[0m",
      "\u001b[0;31mZeroDivisionError\u001b[0m                         Traceback (most recent call last)",
      "\u001b[0;31mZeroDivisionError\u001b[0m: float division"
     ]
    },
    {
     "name": "stderr",
     "output_type": "stream",
     "text": [
      "Exception ignored in: 'regions._geometry.elliptical_overlap.elliptical_overlap_single_subpixel'\n",
      "Traceback (most recent call last):\n",
      "  File \"/mnt/home/turne540/software/anaconda3/envs/xga_dev/lib/python3.9/site-packages/regions-0.4-py3.9-linux-x86_64.egg/regions/shapes/ellipse.py\", line 175, in to_mask\n",
      "    fraction = elliptical_overlap_grid(\n",
      "ZeroDivisionError: float division\n"
     ]
    },
    {
     "ename": "ZeroDivisionError",
     "evalue": "float division",
     "output_type": "error",
     "traceback": [
      "\u001b[0;31m---------------------------------------------------------------------------\u001b[0m",
      "\u001b[0;31mZeroDivisionError\u001b[0m                         Traceback (most recent call last)",
      "\u001b[0;31mZeroDivisionError\u001b[0m: float division"
     ]
    },
    {
     "name": "stderr",
     "output_type": "stream",
     "text": [
      "Exception ignored in: 'regions._geometry.elliptical_overlap.elliptical_overlap_single_subpixel'\n",
      "Traceback (most recent call last):\n",
      "  File \"/mnt/home/turne540/software/anaconda3/envs/xga_dev/lib/python3.9/site-packages/regions-0.4-py3.9-linux-x86_64.egg/regions/shapes/ellipse.py\", line 175, in to_mask\n",
      "    fraction = elliptical_overlap_grid(\n",
      "ZeroDivisionError: float division\n"
     ]
    },
    {
     "ename": "ZeroDivisionError",
     "evalue": "float division",
     "output_type": "error",
     "traceback": [
      "\u001b[0;31m---------------------------------------------------------------------------\u001b[0m",
      "\u001b[0;31mZeroDivisionError\u001b[0m                         Traceback (most recent call last)",
      "\u001b[0;31mZeroDivisionError\u001b[0m: float division"
     ]
    },
    {
     "name": "stderr",
     "output_type": "stream",
     "text": [
      "Exception ignored in: 'regions._geometry.elliptical_overlap.elliptical_overlap_single_subpixel'\n",
      "Traceback (most recent call last):\n",
      "  File \"/mnt/home/turne540/software/anaconda3/envs/xga_dev/lib/python3.9/site-packages/regions-0.4-py3.9-linux-x86_64.egg/regions/shapes/ellipse.py\", line 175, in to_mask\n",
      "    fraction = elliptical_overlap_grid(\n",
      "ZeroDivisionError: float division\n"
     ]
    },
    {
     "ename": "ZeroDivisionError",
     "evalue": "float division",
     "output_type": "error",
     "traceback": [
      "\u001b[0;31m---------------------------------------------------------------------------\u001b[0m",
      "\u001b[0;31mZeroDivisionError\u001b[0m                         Traceback (most recent call last)",
      "\u001b[0;31mZeroDivisionError\u001b[0m: float division"
     ]
    },
    {
     "name": "stderr",
     "output_type": "stream",
     "text": [
      "Exception ignored in: 'regions._geometry.elliptical_overlap.elliptical_overlap_single_subpixel'\n",
      "Traceback (most recent call last):\n",
      "  File \"/mnt/home/turne540/software/anaconda3/envs/xga_dev/lib/python3.9/site-packages/regions-0.4-py3.9-linux-x86_64.egg/regions/shapes/ellipse.py\", line 175, in to_mask\n",
      "    fraction = elliptical_overlap_grid(\n",
      "ZeroDivisionError: float division\n"
     ]
    },
    {
     "ename": "ZeroDivisionError",
     "evalue": "float division",
     "output_type": "error",
     "traceback": [
      "\u001b[0;31m---------------------------------------------------------------------------\u001b[0m",
      "\u001b[0;31mZeroDivisionError\u001b[0m                         Traceback (most recent call last)",
      "\u001b[0;31mZeroDivisionError\u001b[0m: float division"
     ]
    },
    {
     "name": "stderr",
     "output_type": "stream",
     "text": [
      "Exception ignored in: 'regions._geometry.elliptical_overlap.elliptical_overlap_single_subpixel'\n",
      "Traceback (most recent call last):\n",
      "  File \"/mnt/home/turne540/software/anaconda3/envs/xga_dev/lib/python3.9/site-packages/regions-0.4-py3.9-linux-x86_64.egg/regions/shapes/ellipse.py\", line 175, in to_mask\n",
      "    fraction = elliptical_overlap_grid(\n",
      "ZeroDivisionError: float division\n"
     ]
    },
    {
     "ename": "ZeroDivisionError",
     "evalue": "float division",
     "output_type": "error",
     "traceback": [
      "\u001b[0;31m---------------------------------------------------------------------------\u001b[0m",
      "\u001b[0;31mZeroDivisionError\u001b[0m                         Traceback (most recent call last)",
      "\u001b[0;31mZeroDivisionError\u001b[0m: float division"
     ]
    },
    {
     "name": "stderr",
     "output_type": "stream",
     "text": [
      "Exception ignored in: 'regions._geometry.elliptical_overlap.elliptical_overlap_single_subpixel'\n",
      "Traceback (most recent call last):\n",
      "  File \"/mnt/home/turne540/software/anaconda3/envs/xga_dev/lib/python3.9/site-packages/regions-0.4-py3.9-linux-x86_64.egg/regions/shapes/ellipse.py\", line 175, in to_mask\n",
      "    fraction = elliptical_overlap_grid(\n",
      "ZeroDivisionError: float division\n"
     ]
    },
    {
     "ename": "ZeroDivisionError",
     "evalue": "float division",
     "output_type": "error",
     "traceback": [
      "\u001b[0;31m---------------------------------------------------------------------------\u001b[0m",
      "\u001b[0;31mZeroDivisionError\u001b[0m                         Traceback (most recent call last)",
      "\u001b[0;31mZeroDivisionError\u001b[0m: float division"
     ]
    },
    {
     "name": "stderr",
     "output_type": "stream",
     "text": [
      "Exception ignored in: 'regions._geometry.elliptical_overlap.elliptical_overlap_single_subpixel'\n",
      "Traceback (most recent call last):\n",
      "  File \"/mnt/home/turne540/software/anaconda3/envs/xga_dev/lib/python3.9/site-packages/regions-0.4-py3.9-linux-x86_64.egg/regions/shapes/ellipse.py\", line 175, in to_mask\n",
      "    fraction = elliptical_overlap_grid(\n",
      "ZeroDivisionError: float division\n"
     ]
    },
    {
     "ename": "ZeroDivisionError",
     "evalue": "float division",
     "output_type": "error",
     "traceback": [
      "\u001b[0;31m---------------------------------------------------------------------------\u001b[0m",
      "\u001b[0;31mZeroDivisionError\u001b[0m                         Traceback (most recent call last)",
      "\u001b[0;31mZeroDivisionError\u001b[0m: float division"
     ]
    },
    {
     "name": "stderr",
     "output_type": "stream",
     "text": [
      "Exception ignored in: 'regions._geometry.elliptical_overlap.elliptical_overlap_single_subpixel'\n",
      "Traceback (most recent call last):\n",
      "  File \"/mnt/home/turne540/software/anaconda3/envs/xga_dev/lib/python3.9/site-packages/regions-0.4-py3.9-linux-x86_64.egg/regions/shapes/ellipse.py\", line 175, in to_mask\n",
      "    fraction = elliptical_overlap_grid(\n",
      "ZeroDivisionError: float division\n"
     ]
    },
    {
     "ename": "ZeroDivisionError",
     "evalue": "float division",
     "output_type": "error",
     "traceback": [
      "\u001b[0;31m---------------------------------------------------------------------------\u001b[0m",
      "\u001b[0;31mZeroDivisionError\u001b[0m                         Traceback (most recent call last)",
      "\u001b[0;31mZeroDivisionError\u001b[0m: float division"
     ]
    },
    {
     "name": "stderr",
     "output_type": "stream",
     "text": [
      "Exception ignored in: 'regions._geometry.elliptical_overlap.elliptical_overlap_single_subpixel'\n",
      "Traceback (most recent call last):\n",
      "  File \"/mnt/home/turne540/software/anaconda3/envs/xga_dev/lib/python3.9/site-packages/regions-0.4-py3.9-linux-x86_64.egg/regions/shapes/ellipse.py\", line 175, in to_mask\n",
      "    fraction = elliptical_overlap_grid(\n",
      "ZeroDivisionError: float division\n"
     ]
    },
    {
     "ename": "ZeroDivisionError",
     "evalue": "float division",
     "output_type": "error",
     "traceback": [
      "\u001b[0;31m---------------------------------------------------------------------------\u001b[0m",
      "\u001b[0;31mZeroDivisionError\u001b[0m                         Traceback (most recent call last)",
      "\u001b[0;31mZeroDivisionError\u001b[0m: float division"
     ]
    },
    {
     "name": "stderr",
     "output_type": "stream",
     "text": [
      "Exception ignored in: 'regions._geometry.elliptical_overlap.elliptical_overlap_single_subpixel'\n",
      "Traceback (most recent call last):\n",
      "  File \"/mnt/home/turne540/software/anaconda3/envs/xga_dev/lib/python3.9/site-packages/regions-0.4-py3.9-linux-x86_64.egg/regions/shapes/ellipse.py\", line 175, in to_mask\n",
      "    fraction = elliptical_overlap_grid(\n",
      "ZeroDivisionError: float division\n"
     ]
    },
    {
     "ename": "ZeroDivisionError",
     "evalue": "float division",
     "output_type": "error",
     "traceback": [
      "\u001b[0;31m---------------------------------------------------------------------------\u001b[0m",
      "\u001b[0;31mZeroDivisionError\u001b[0m                         Traceback (most recent call last)",
      "\u001b[0;31mZeroDivisionError\u001b[0m: float division"
     ]
    },
    {
     "name": "stderr",
     "output_type": "stream",
     "text": [
      "Exception ignored in: 'regions._geometry.elliptical_overlap.elliptical_overlap_single_subpixel'\n",
      "Traceback (most recent call last):\n",
      "  File \"/mnt/home/turne540/software/anaconda3/envs/xga_dev/lib/python3.9/site-packages/regions-0.4-py3.9-linux-x86_64.egg/regions/shapes/ellipse.py\", line 175, in to_mask\n",
      "    fraction = elliptical_overlap_grid(\n",
      "ZeroDivisionError: float division\n"
     ]
    },
    {
     "ename": "ZeroDivisionError",
     "evalue": "float division",
     "output_type": "error",
     "traceback": [
      "\u001b[0;31m---------------------------------------------------------------------------\u001b[0m",
      "\u001b[0;31mZeroDivisionError\u001b[0m                         Traceback (most recent call last)",
      "\u001b[0;31mZeroDivisionError\u001b[0m: float division"
     ]
    },
    {
     "name": "stderr",
     "output_type": "stream",
     "text": [
      "Exception ignored in: 'regions._geometry.elliptical_overlap.elliptical_overlap_single_subpixel'\n",
      "Traceback (most recent call last):\n",
      "  File \"/mnt/home/turne540/software/anaconda3/envs/xga_dev/lib/python3.9/site-packages/regions-0.4-py3.9-linux-x86_64.egg/regions/shapes/ellipse.py\", line 175, in to_mask\n",
      "    fraction = elliptical_overlap_grid(\n",
      "ZeroDivisionError: float division\n"
     ]
    },
    {
     "ename": "ZeroDivisionError",
     "evalue": "float division",
     "output_type": "error",
     "traceback": [
      "\u001b[0;31m---------------------------------------------------------------------------\u001b[0m",
      "\u001b[0;31mZeroDivisionError\u001b[0m                         Traceback (most recent call last)",
      "\u001b[0;31mZeroDivisionError\u001b[0m: float division"
     ]
    },
    {
     "name": "stderr",
     "output_type": "stream",
     "text": [
      "Exception ignored in: 'regions._geometry.elliptical_overlap.elliptical_overlap_single_subpixel'\n",
      "Traceback (most recent call last):\n",
      "  File \"/mnt/home/turne540/software/anaconda3/envs/xga_dev/lib/python3.9/site-packages/regions-0.4-py3.9-linux-x86_64.egg/regions/shapes/ellipse.py\", line 175, in to_mask\n",
      "    fraction = elliptical_overlap_grid(\n",
      "ZeroDivisionError: float division\n"
     ]
    },
    {
     "ename": "ZeroDivisionError",
     "evalue": "float division",
     "output_type": "error",
     "traceback": [
      "\u001b[0;31m---------------------------------------------------------------------------\u001b[0m",
      "\u001b[0;31mZeroDivisionError\u001b[0m                         Traceback (most recent call last)",
      "\u001b[0;31mZeroDivisionError\u001b[0m: float division"
     ]
    },
    {
     "name": "stderr",
     "output_type": "stream",
     "text": [
      "Exception ignored in: 'regions._geometry.elliptical_overlap.elliptical_overlap_single_subpixel'\n",
      "Traceback (most recent call last):\n",
      "  File \"/mnt/home/turne540/software/anaconda3/envs/xga_dev/lib/python3.9/site-packages/regions-0.4-py3.9-linux-x86_64.egg/regions/shapes/ellipse.py\", line 175, in to_mask\n",
      "    fraction = elliptical_overlap_grid(\n",
      "ZeroDivisionError: float division\n"
     ]
    },
    {
     "ename": "ZeroDivisionError",
     "evalue": "float division",
     "output_type": "error",
     "traceback": [
      "\u001b[0;31m---------------------------------------------------------------------------\u001b[0m",
      "\u001b[0;31mZeroDivisionError\u001b[0m                         Traceback (most recent call last)",
      "\u001b[0;31mZeroDivisionError\u001b[0m: float division"
     ]
    },
    {
     "name": "stderr",
     "output_type": "stream",
     "text": [
      "Exception ignored in: 'regions._geometry.elliptical_overlap.elliptical_overlap_single_subpixel'\n",
      "Traceback (most recent call last):\n",
      "  File \"/mnt/home/turne540/software/anaconda3/envs/xga_dev/lib/python3.9/site-packages/regions-0.4-py3.9-linux-x86_64.egg/regions/shapes/ellipse.py\", line 175, in to_mask\n",
      "    fraction = elliptical_overlap_grid(\n",
      "ZeroDivisionError: float division\n"
     ]
    },
    {
     "ename": "ZeroDivisionError",
     "evalue": "float division",
     "output_type": "error",
     "traceback": [
      "\u001b[0;31m---------------------------------------------------------------------------\u001b[0m",
      "\u001b[0;31mZeroDivisionError\u001b[0m                         Traceback (most recent call last)",
      "\u001b[0;31mZeroDivisionError\u001b[0m: float division"
     ]
    },
    {
     "name": "stderr",
     "output_type": "stream",
     "text": [
      "Exception ignored in: 'regions._geometry.elliptical_overlap.elliptical_overlap_single_subpixel'\n",
      "Traceback (most recent call last):\n",
      "  File \"/mnt/home/turne540/software/anaconda3/envs/xga_dev/lib/python3.9/site-packages/regions-0.4-py3.9-linux-x86_64.egg/regions/shapes/ellipse.py\", line 175, in to_mask\n",
      "    fraction = elliptical_overlap_grid(\n",
      "ZeroDivisionError: float division\n"
     ]
    },
    {
     "ename": "ZeroDivisionError",
     "evalue": "float division",
     "output_type": "error",
     "traceback": [
      "\u001b[0;31m---------------------------------------------------------------------------\u001b[0m",
      "\u001b[0;31mZeroDivisionError\u001b[0m                         Traceback (most recent call last)",
      "\u001b[0;31mZeroDivisionError\u001b[0m: float division"
     ]
    },
    {
     "name": "stderr",
     "output_type": "stream",
     "text": [
      "Exception ignored in: 'regions._geometry.elliptical_overlap.elliptical_overlap_single_subpixel'\n",
      "Traceback (most recent call last):\n",
      "  File \"/mnt/home/turne540/software/anaconda3/envs/xga_dev/lib/python3.9/site-packages/regions-0.4-py3.9-linux-x86_64.egg/regions/shapes/ellipse.py\", line 175, in to_mask\n",
      "    fraction = elliptical_overlap_grid(\n",
      "ZeroDivisionError: float division\n"
     ]
    },
    {
     "ename": "ZeroDivisionError",
     "evalue": "float division",
     "output_type": "error",
     "traceback": [
      "\u001b[0;31m---------------------------------------------------------------------------\u001b[0m",
      "\u001b[0;31mZeroDivisionError\u001b[0m                         Traceback (most recent call last)",
      "\u001b[0;31mZeroDivisionError\u001b[0m: float division"
     ]
    },
    {
     "name": "stderr",
     "output_type": "stream",
     "text": [
      "Exception ignored in: 'regions._geometry.elliptical_overlap.elliptical_overlap_single_subpixel'\n",
      "Traceback (most recent call last):\n",
      "  File \"/mnt/home/turne540/software/anaconda3/envs/xga_dev/lib/python3.9/site-packages/regions-0.4-py3.9-linux-x86_64.egg/regions/shapes/ellipse.py\", line 175, in to_mask\n",
      "    fraction = elliptical_overlap_grid(\n",
      "ZeroDivisionError: float division\n"
     ]
    },
    {
     "ename": "ZeroDivisionError",
     "evalue": "float division",
     "output_type": "error",
     "traceback": [
      "\u001b[0;31m---------------------------------------------------------------------------\u001b[0m",
      "\u001b[0;31mZeroDivisionError\u001b[0m                         Traceback (most recent call last)",
      "\u001b[0;31mZeroDivisionError\u001b[0m: float division"
     ]
    },
    {
     "name": "stderr",
     "output_type": "stream",
     "text": [
      "Exception ignored in: 'regions._geometry.elliptical_overlap.elliptical_overlap_single_subpixel'\n",
      "Traceback (most recent call last):\n",
      "  File \"/mnt/home/turne540/software/anaconda3/envs/xga_dev/lib/python3.9/site-packages/regions-0.4-py3.9-linux-x86_64.egg/regions/shapes/ellipse.py\", line 175, in to_mask\n",
      "    fraction = elliptical_overlap_grid(\n",
      "ZeroDivisionError: float division\n"
     ]
    },
    {
     "ename": "ZeroDivisionError",
     "evalue": "float division",
     "output_type": "error",
     "traceback": [
      "\u001b[0;31m---------------------------------------------------------------------------\u001b[0m",
      "\u001b[0;31mZeroDivisionError\u001b[0m                         Traceback (most recent call last)",
      "\u001b[0;31mZeroDivisionError\u001b[0m: float division"
     ]
    },
    {
     "name": "stderr",
     "output_type": "stream",
     "text": [
      "Exception ignored in: 'regions._geometry.elliptical_overlap.elliptical_overlap_single_subpixel'\n",
      "Traceback (most recent call last):\n",
      "  File \"/mnt/home/turne540/software/anaconda3/envs/xga_dev/lib/python3.9/site-packages/regions-0.4-py3.9-linux-x86_64.egg/regions/shapes/ellipse.py\", line 175, in to_mask\n",
      "    fraction = elliptical_overlap_grid(\n",
      "ZeroDivisionError: float division\n"
     ]
    },
    {
     "ename": "ZeroDivisionError",
     "evalue": "float division",
     "output_type": "error",
     "traceback": [
      "\u001b[0;31m---------------------------------------------------------------------------\u001b[0m",
      "\u001b[0;31mZeroDivisionError\u001b[0m                         Traceback (most recent call last)",
      "\u001b[0;31mZeroDivisionError\u001b[0m: float division"
     ]
    },
    {
     "name": "stderr",
     "output_type": "stream",
     "text": [
      "Exception ignored in: 'regions._geometry.elliptical_overlap.elliptical_overlap_single_subpixel'\n",
      "Traceback (most recent call last):\n",
      "  File \"/mnt/home/turne540/software/anaconda3/envs/xga_dev/lib/python3.9/site-packages/regions-0.4-py3.9-linux-x86_64.egg/regions/shapes/ellipse.py\", line 175, in to_mask\n",
      "    fraction = elliptical_overlap_grid(\n",
      "ZeroDivisionError: float division\n"
     ]
    },
    {
     "ename": "ZeroDivisionError",
     "evalue": "float division",
     "output_type": "error",
     "traceback": [
      "\u001b[0;31m---------------------------------------------------------------------------\u001b[0m",
      "\u001b[0;31mZeroDivisionError\u001b[0m                         Traceback (most recent call last)",
      "\u001b[0;31mZeroDivisionError\u001b[0m: float division"
     ]
    },
    {
     "name": "stderr",
     "output_type": "stream",
     "text": [
      "Exception ignored in: 'regions._geometry.elliptical_overlap.elliptical_overlap_single_subpixel'\n",
      "Traceback (most recent call last):\n",
      "  File \"/mnt/home/turne540/software/anaconda3/envs/xga_dev/lib/python3.9/site-packages/regions-0.4-py3.9-linux-x86_64.egg/regions/shapes/ellipse.py\", line 175, in to_mask\n",
      "    fraction = elliptical_overlap_grid(\n",
      "ZeroDivisionError: float division\n"
     ]
    },
    {
     "ename": "ZeroDivisionError",
     "evalue": "float division",
     "output_type": "error",
     "traceback": [
      "\u001b[0;31m---------------------------------------------------------------------------\u001b[0m",
      "\u001b[0;31mZeroDivisionError\u001b[0m                         Traceback (most recent call last)",
      "\u001b[0;31mZeroDivisionError\u001b[0m: float division"
     ]
    },
    {
     "name": "stderr",
     "output_type": "stream",
     "text": [
      "Exception ignored in: 'regions._geometry.elliptical_overlap.elliptical_overlap_single_subpixel'\n",
      "Traceback (most recent call last):\n",
      "  File \"/mnt/home/turne540/software/anaconda3/envs/xga_dev/lib/python3.9/site-packages/regions-0.4-py3.9-linux-x86_64.egg/regions/shapes/ellipse.py\", line 175, in to_mask\n",
      "    fraction = elliptical_overlap_grid(\n",
      "ZeroDivisionError: float division\n"
     ]
    },
    {
     "ename": "ZeroDivisionError",
     "evalue": "float division",
     "output_type": "error",
     "traceback": [
      "\u001b[0;31m---------------------------------------------------------------------------\u001b[0m",
      "\u001b[0;31mZeroDivisionError\u001b[0m                         Traceback (most recent call last)",
      "\u001b[0;31mZeroDivisionError\u001b[0m: float division"
     ]
    },
    {
     "name": "stderr",
     "output_type": "stream",
     "text": [
      "Exception ignored in: 'regions._geometry.elliptical_overlap.elliptical_overlap_single_subpixel'\n",
      "Traceback (most recent call last):\n",
      "  File \"/mnt/home/turne540/software/anaconda3/envs/xga_dev/lib/python3.9/site-packages/regions-0.4-py3.9-linux-x86_64.egg/regions/shapes/ellipse.py\", line 175, in to_mask\n",
      "    fraction = elliptical_overlap_grid(\n",
      "ZeroDivisionError: float division\n"
     ]
    },
    {
     "ename": "ZeroDivisionError",
     "evalue": "float division",
     "output_type": "error",
     "traceback": [
      "\u001b[0;31m---------------------------------------------------------------------------\u001b[0m",
      "\u001b[0;31mZeroDivisionError\u001b[0m                         Traceback (most recent call last)",
      "\u001b[0;31mZeroDivisionError\u001b[0m: float division"
     ]
    },
    {
     "name": "stderr",
     "output_type": "stream",
     "text": [
      "Exception ignored in: 'regions._geometry.elliptical_overlap.elliptical_overlap_single_subpixel'\n",
      "Traceback (most recent call last):\n",
      "  File \"/mnt/home/turne540/software/anaconda3/envs/xga_dev/lib/python3.9/site-packages/regions-0.4-py3.9-linux-x86_64.egg/regions/shapes/ellipse.py\", line 175, in to_mask\n",
      "    fraction = elliptical_overlap_grid(\n",
      "ZeroDivisionError: float division\n"
     ]
    },
    {
     "ename": "ZeroDivisionError",
     "evalue": "float division",
     "output_type": "error",
     "traceback": [
      "\u001b[0;31m---------------------------------------------------------------------------\u001b[0m",
      "\u001b[0;31mZeroDivisionError\u001b[0m                         Traceback (most recent call last)",
      "\u001b[0;31mZeroDivisionError\u001b[0m: float division"
     ]
    },
    {
     "name": "stderr",
     "output_type": "stream",
     "text": [
      "Exception ignored in: 'regions._geometry.elliptical_overlap.elliptical_overlap_single_subpixel'\n",
      "Traceback (most recent call last):\n",
      "  File \"/mnt/home/turne540/software/anaconda3/envs/xga_dev/lib/python3.9/site-packages/regions-0.4-py3.9-linux-x86_64.egg/regions/shapes/ellipse.py\", line 175, in to_mask\n",
      "    fraction = elliptical_overlap_grid(\n",
      "ZeroDivisionError: float division\n"
     ]
    },
    {
     "ename": "ZeroDivisionError",
     "evalue": "float division",
     "output_type": "error",
     "traceback": [
      "\u001b[0;31m---------------------------------------------------------------------------\u001b[0m",
      "\u001b[0;31mZeroDivisionError\u001b[0m                         Traceback (most recent call last)",
      "\u001b[0;31mZeroDivisionError\u001b[0m: float division"
     ]
    },
    {
     "name": "stderr",
     "output_type": "stream",
     "text": [
      "Exception ignored in: 'regions._geometry.elliptical_overlap.elliptical_overlap_single_subpixel'\n",
      "Traceback (most recent call last):\n",
      "  File \"/mnt/home/turne540/software/anaconda3/envs/xga_dev/lib/python3.9/site-packages/regions-0.4-py3.9-linux-x86_64.egg/regions/shapes/ellipse.py\", line 175, in to_mask\n",
      "    fraction = elliptical_overlap_grid(\n",
      "ZeroDivisionError: float division\n",
      "Setting up Galaxy Clusters:  23%|██▎       | 27/116 [01:41<02:31,  1.71s/it]"
     ]
    },
    {
     "ename": "ZeroDivisionError",
     "evalue": "float division",
     "output_type": "error",
     "traceback": [
      "\u001b[0;31m---------------------------------------------------------------------------\u001b[0m",
      "\u001b[0;31mZeroDivisionError\u001b[0m                         Traceback (most recent call last)",
      "\u001b[0;31mZeroDivisionError\u001b[0m: float division"
     ]
    },
    {
     "name": "stderr",
     "output_type": "stream",
     "text": [
      "Exception ignored in: 'regions._geometry.elliptical_overlap.elliptical_overlap_single_subpixel'\n",
      "Traceback (most recent call last):\n",
      "  File \"/mnt/home/turne540/software/anaconda3/envs/xga_dev/lib/python3.9/site-packages/regions-0.4-py3.9-linux-x86_64.egg/regions/shapes/ellipse.py\", line 175, in to_mask\n",
      "    fraction = elliptical_overlap_grid(\n",
      "ZeroDivisionError: float division\n"
     ]
    },
    {
     "ename": "ZeroDivisionError",
     "evalue": "float division",
     "output_type": "error",
     "traceback": [
      "\u001b[0;31m---------------------------------------------------------------------------\u001b[0m",
      "\u001b[0;31mZeroDivisionError\u001b[0m                         Traceback (most recent call last)",
      "\u001b[0;31mZeroDivisionError\u001b[0m: float division"
     ]
    },
    {
     "name": "stderr",
     "output_type": "stream",
     "text": [
      "Exception ignored in: 'regions._geometry.elliptical_overlap.elliptical_overlap_single_subpixel'\n",
      "Traceback (most recent call last):\n",
      "  File \"/mnt/home/turne540/software/anaconda3/envs/xga_dev/lib/python3.9/site-packages/regions-0.4-py3.9-linux-x86_64.egg/regions/shapes/ellipse.py\", line 175, in to_mask\n",
      "    fraction = elliptical_overlap_grid(\n",
      "ZeroDivisionError: float division\n"
     ]
    },
    {
     "ename": "ZeroDivisionError",
     "evalue": "float division",
     "output_type": "error",
     "traceback": [
      "\u001b[0;31m---------------------------------------------------------------------------\u001b[0m",
      "\u001b[0;31mZeroDivisionError\u001b[0m                         Traceback (most recent call last)",
      "\u001b[0;31mZeroDivisionError\u001b[0m: float division"
     ]
    },
    {
     "name": "stderr",
     "output_type": "stream",
     "text": [
      "Exception ignored in: 'regions._geometry.elliptical_overlap.elliptical_overlap_single_subpixel'\n",
      "Traceback (most recent call last):\n",
      "  File \"/mnt/home/turne540/software/anaconda3/envs/xga_dev/lib/python3.9/site-packages/regions-0.4-py3.9-linux-x86_64.egg/regions/shapes/ellipse.py\", line 175, in to_mask\n",
      "    fraction = elliptical_overlap_grid(\n",
      "ZeroDivisionError: float division\n"
     ]
    },
    {
     "ename": "ZeroDivisionError",
     "evalue": "float division",
     "output_type": "error",
     "traceback": [
      "\u001b[0;31m---------------------------------------------------------------------------\u001b[0m",
      "\u001b[0;31mZeroDivisionError\u001b[0m                         Traceback (most recent call last)",
      "\u001b[0;31mZeroDivisionError\u001b[0m: float division"
     ]
    },
    {
     "name": "stderr",
     "output_type": "stream",
     "text": [
      "Exception ignored in: 'regions._geometry.elliptical_overlap.elliptical_overlap_single_subpixel'\n",
      "Traceback (most recent call last):\n",
      "  File \"/mnt/home/turne540/software/anaconda3/envs/xga_dev/lib/python3.9/site-packages/regions-0.4-py3.9-linux-x86_64.egg/regions/shapes/ellipse.py\", line 175, in to_mask\n",
      "    fraction = elliptical_overlap_grid(\n",
      "ZeroDivisionError: float division\n"
     ]
    },
    {
     "ename": "ZeroDivisionError",
     "evalue": "float division",
     "output_type": "error",
     "traceback": [
      "\u001b[0;31m---------------------------------------------------------------------------\u001b[0m",
      "\u001b[0;31mZeroDivisionError\u001b[0m                         Traceback (most recent call last)",
      "\u001b[0;31mZeroDivisionError\u001b[0m: float division"
     ]
    },
    {
     "name": "stderr",
     "output_type": "stream",
     "text": [
      "Exception ignored in: 'regions._geometry.elliptical_overlap.elliptical_overlap_single_subpixel'\n",
      "Traceback (most recent call last):\n",
      "  File \"/mnt/home/turne540/software/anaconda3/envs/xga_dev/lib/python3.9/site-packages/regions-0.4-py3.9-linux-x86_64.egg/regions/shapes/ellipse.py\", line 175, in to_mask\n",
      "    fraction = elliptical_overlap_grid(\n",
      "ZeroDivisionError: float division\n"
     ]
    },
    {
     "ename": "ZeroDivisionError",
     "evalue": "float division",
     "output_type": "error",
     "traceback": [
      "\u001b[0;31m---------------------------------------------------------------------------\u001b[0m",
      "\u001b[0;31mZeroDivisionError\u001b[0m                         Traceback (most recent call last)",
      "\u001b[0;31mZeroDivisionError\u001b[0m: float division"
     ]
    },
    {
     "name": "stderr",
     "output_type": "stream",
     "text": [
      "Exception ignored in: 'regions._geometry.elliptical_overlap.elliptical_overlap_single_subpixel'\n",
      "Traceback (most recent call last):\n",
      "  File \"/mnt/home/turne540/software/anaconda3/envs/xga_dev/lib/python3.9/site-packages/regions-0.4-py3.9-linux-x86_64.egg/regions/shapes/ellipse.py\", line 175, in to_mask\n",
      "    fraction = elliptical_overlap_grid(\n",
      "ZeroDivisionError: float division\n"
     ]
    },
    {
     "ename": "ZeroDivisionError",
     "evalue": "float division",
     "output_type": "error",
     "traceback": [
      "\u001b[0;31m---------------------------------------------------------------------------\u001b[0m",
      "\u001b[0;31mZeroDivisionError\u001b[0m                         Traceback (most recent call last)",
      "\u001b[0;31mZeroDivisionError\u001b[0m: float division"
     ]
    },
    {
     "name": "stderr",
     "output_type": "stream",
     "text": [
      "Exception ignored in: 'regions._geometry.elliptical_overlap.elliptical_overlap_single_subpixel'\n",
      "Traceback (most recent call last):\n",
      "  File \"/mnt/home/turne540/software/anaconda3/envs/xga_dev/lib/python3.9/site-packages/regions-0.4-py3.9-linux-x86_64.egg/regions/shapes/ellipse.py\", line 175, in to_mask\n",
      "    fraction = elliptical_overlap_grid(\n",
      "ZeroDivisionError: float division\n"
     ]
    },
    {
     "ename": "ZeroDivisionError",
     "evalue": "float division",
     "output_type": "error",
     "traceback": [
      "\u001b[0;31m---------------------------------------------------------------------------\u001b[0m",
      "\u001b[0;31mZeroDivisionError\u001b[0m                         Traceback (most recent call last)",
      "\u001b[0;31mZeroDivisionError\u001b[0m: float division"
     ]
    },
    {
     "name": "stderr",
     "output_type": "stream",
     "text": [
      "Exception ignored in: 'regions._geometry.elliptical_overlap.elliptical_overlap_single_subpixel'\n",
      "Traceback (most recent call last):\n",
      "  File \"/mnt/home/turne540/software/anaconda3/envs/xga_dev/lib/python3.9/site-packages/regions-0.4-py3.9-linux-x86_64.egg/regions/shapes/ellipse.py\", line 175, in to_mask\n",
      "    fraction = elliptical_overlap_grid(\n",
      "ZeroDivisionError: float division\n"
     ]
    },
    {
     "ename": "ZeroDivisionError",
     "evalue": "float division",
     "output_type": "error",
     "traceback": [
      "\u001b[0;31m---------------------------------------------------------------------------\u001b[0m",
      "\u001b[0;31mZeroDivisionError\u001b[0m                         Traceback (most recent call last)",
      "\u001b[0;31mZeroDivisionError\u001b[0m: float division"
     ]
    },
    {
     "name": "stderr",
     "output_type": "stream",
     "text": [
      "Exception ignored in: 'regions._geometry.elliptical_overlap.elliptical_overlap_single_subpixel'\n",
      "Traceback (most recent call last):\n",
      "  File \"/mnt/home/turne540/software/anaconda3/envs/xga_dev/lib/python3.9/site-packages/regions-0.4-py3.9-linux-x86_64.egg/regions/shapes/ellipse.py\", line 175, in to_mask\n",
      "    fraction = elliptical_overlap_grid(\n",
      "ZeroDivisionError: float division\n"
     ]
    },
    {
     "ename": "ZeroDivisionError",
     "evalue": "float division",
     "output_type": "error",
     "traceback": [
      "\u001b[0;31m---------------------------------------------------------------------------\u001b[0m",
      "\u001b[0;31mZeroDivisionError\u001b[0m                         Traceback (most recent call last)",
      "\u001b[0;31mZeroDivisionError\u001b[0m: float division"
     ]
    },
    {
     "name": "stderr",
     "output_type": "stream",
     "text": [
      "Exception ignored in: 'regions._geometry.elliptical_overlap.elliptical_overlap_single_subpixel'\n",
      "Traceback (most recent call last):\n",
      "  File \"/mnt/home/turne540/software/anaconda3/envs/xga_dev/lib/python3.9/site-packages/regions-0.4-py3.9-linux-x86_64.egg/regions/shapes/ellipse.py\", line 175, in to_mask\n",
      "    fraction = elliptical_overlap_grid(\n",
      "ZeroDivisionError: float division\n"
     ]
    },
    {
     "ename": "ZeroDivisionError",
     "evalue": "float division",
     "output_type": "error",
     "traceback": [
      "\u001b[0;31m---------------------------------------------------------------------------\u001b[0m",
      "\u001b[0;31mZeroDivisionError\u001b[0m                         Traceback (most recent call last)",
      "\u001b[0;31mZeroDivisionError\u001b[0m: float division"
     ]
    },
    {
     "name": "stderr",
     "output_type": "stream",
     "text": [
      "Exception ignored in: 'regions._geometry.elliptical_overlap.elliptical_overlap_single_subpixel'\n",
      "Traceback (most recent call last):\n",
      "  File \"/mnt/home/turne540/software/anaconda3/envs/xga_dev/lib/python3.9/site-packages/regions-0.4-py3.9-linux-x86_64.egg/regions/shapes/ellipse.py\", line 175, in to_mask\n",
      "    fraction = elliptical_overlap_grid(\n",
      "ZeroDivisionError: float division\n"
     ]
    },
    {
     "ename": "ZeroDivisionError",
     "evalue": "float division",
     "output_type": "error",
     "traceback": [
      "\u001b[0;31m---------------------------------------------------------------------------\u001b[0m",
      "\u001b[0;31mZeroDivisionError\u001b[0m                         Traceback (most recent call last)",
      "\u001b[0;31mZeroDivisionError\u001b[0m: float division"
     ]
    },
    {
     "name": "stderr",
     "output_type": "stream",
     "text": [
      "Exception ignored in: 'regions._geometry.elliptical_overlap.elliptical_overlap_single_subpixel'\n",
      "Traceback (most recent call last):\n",
      "  File \"/mnt/home/turne540/software/anaconda3/envs/xga_dev/lib/python3.9/site-packages/regions-0.4-py3.9-linux-x86_64.egg/regions/shapes/ellipse.py\", line 175, in to_mask\n",
      "    fraction = elliptical_overlap_grid(\n",
      "ZeroDivisionError: float division\n"
     ]
    },
    {
     "ename": "ZeroDivisionError",
     "evalue": "float division",
     "output_type": "error",
     "traceback": [
      "\u001b[0;31m---------------------------------------------------------------------------\u001b[0m",
      "\u001b[0;31mZeroDivisionError\u001b[0m                         Traceback (most recent call last)",
      "\u001b[0;31mZeroDivisionError\u001b[0m: float division"
     ]
    },
    {
     "name": "stderr",
     "output_type": "stream",
     "text": [
      "Exception ignored in: 'regions._geometry.elliptical_overlap.elliptical_overlap_single_subpixel'\n",
      "Traceback (most recent call last):\n",
      "  File \"/mnt/home/turne540/software/anaconda3/envs/xga_dev/lib/python3.9/site-packages/regions-0.4-py3.9-linux-x86_64.egg/regions/shapes/ellipse.py\", line 175, in to_mask\n",
      "    fraction = elliptical_overlap_grid(\n",
      "ZeroDivisionError: float division\n"
     ]
    },
    {
     "ename": "ZeroDivisionError",
     "evalue": "float division",
     "output_type": "error",
     "traceback": [
      "\u001b[0;31m---------------------------------------------------------------------------\u001b[0m",
      "\u001b[0;31mZeroDivisionError\u001b[0m                         Traceback (most recent call last)",
      "\u001b[0;31mZeroDivisionError\u001b[0m: float division"
     ]
    },
    {
     "name": "stderr",
     "output_type": "stream",
     "text": [
      "Exception ignored in: 'regions._geometry.elliptical_overlap.elliptical_overlap_single_subpixel'\n",
      "Traceback (most recent call last):\n",
      "  File \"/mnt/home/turne540/software/anaconda3/envs/xga_dev/lib/python3.9/site-packages/regions-0.4-py3.9-linux-x86_64.egg/regions/shapes/ellipse.py\", line 175, in to_mask\n",
      "    fraction = elliptical_overlap_grid(\n",
      "ZeroDivisionError: float division\n"
     ]
    },
    {
     "ename": "ZeroDivisionError",
     "evalue": "float division",
     "output_type": "error",
     "traceback": [
      "\u001b[0;31m---------------------------------------------------------------------------\u001b[0m",
      "\u001b[0;31mZeroDivisionError\u001b[0m                         Traceback (most recent call last)",
      "\u001b[0;31mZeroDivisionError\u001b[0m: float division"
     ]
    },
    {
     "name": "stderr",
     "output_type": "stream",
     "text": [
      "Exception ignored in: 'regions._geometry.elliptical_overlap.elliptical_overlap_single_subpixel'\n",
      "Traceback (most recent call last):\n",
      "  File \"/mnt/home/turne540/software/anaconda3/envs/xga_dev/lib/python3.9/site-packages/regions-0.4-py3.9-linux-x86_64.egg/regions/shapes/ellipse.py\", line 175, in to_mask\n",
      "    fraction = elliptical_overlap_grid(\n",
      "ZeroDivisionError: float division\n"
     ]
    },
    {
     "ename": "ZeroDivisionError",
     "evalue": "float division",
     "output_type": "error",
     "traceback": [
      "\u001b[0;31m---------------------------------------------------------------------------\u001b[0m",
      "\u001b[0;31mZeroDivisionError\u001b[0m                         Traceback (most recent call last)",
      "\u001b[0;31mZeroDivisionError\u001b[0m: float division"
     ]
    },
    {
     "name": "stderr",
     "output_type": "stream",
     "text": [
      "Exception ignored in: 'regions._geometry.elliptical_overlap.elliptical_overlap_single_subpixel'\n",
      "Traceback (most recent call last):\n",
      "  File \"/mnt/home/turne540/software/anaconda3/envs/xga_dev/lib/python3.9/site-packages/regions-0.4-py3.9-linux-x86_64.egg/regions/shapes/ellipse.py\", line 175, in to_mask\n",
      "    fraction = elliptical_overlap_grid(\n",
      "ZeroDivisionError: float division\n"
     ]
    },
    {
     "ename": "ZeroDivisionError",
     "evalue": "float division",
     "output_type": "error",
     "traceback": [
      "\u001b[0;31m---------------------------------------------------------------------------\u001b[0m",
      "\u001b[0;31mZeroDivisionError\u001b[0m                         Traceback (most recent call last)",
      "\u001b[0;31mZeroDivisionError\u001b[0m: float division"
     ]
    },
    {
     "name": "stderr",
     "output_type": "stream",
     "text": [
      "Exception ignored in: 'regions._geometry.elliptical_overlap.elliptical_overlap_single_subpixel'\n",
      "Traceback (most recent call last):\n",
      "  File \"/mnt/home/turne540/software/anaconda3/envs/xga_dev/lib/python3.9/site-packages/regions-0.4-py3.9-linux-x86_64.egg/regions/shapes/ellipse.py\", line 175, in to_mask\n",
      "    fraction = elliptical_overlap_grid(\n",
      "ZeroDivisionError: float division\n"
     ]
    },
    {
     "ename": "ZeroDivisionError",
     "evalue": "float division",
     "output_type": "error",
     "traceback": [
      "\u001b[0;31m---------------------------------------------------------------------------\u001b[0m",
      "\u001b[0;31mZeroDivisionError\u001b[0m                         Traceback (most recent call last)",
      "\u001b[0;31mZeroDivisionError\u001b[0m: float division"
     ]
    },
    {
     "name": "stderr",
     "output_type": "stream",
     "text": [
      "Exception ignored in: 'regions._geometry.elliptical_overlap.elliptical_overlap_single_subpixel'\n",
      "Traceback (most recent call last):\n",
      "  File \"/mnt/home/turne540/software/anaconda3/envs/xga_dev/lib/python3.9/site-packages/regions-0.4-py3.9-linux-x86_64.egg/regions/shapes/ellipse.py\", line 175, in to_mask\n",
      "    fraction = elliptical_overlap_grid(\n",
      "ZeroDivisionError: float division\n"
     ]
    },
    {
     "ename": "ZeroDivisionError",
     "evalue": "float division",
     "output_type": "error",
     "traceback": [
      "\u001b[0;31m---------------------------------------------------------------------------\u001b[0m",
      "\u001b[0;31mZeroDivisionError\u001b[0m                         Traceback (most recent call last)",
      "\u001b[0;31mZeroDivisionError\u001b[0m: float division"
     ]
    },
    {
     "name": "stderr",
     "output_type": "stream",
     "text": [
      "Exception ignored in: 'regions._geometry.elliptical_overlap.elliptical_overlap_single_subpixel'\n",
      "Traceback (most recent call last):\n",
      "  File \"/mnt/home/turne540/software/anaconda3/envs/xga_dev/lib/python3.9/site-packages/regions-0.4-py3.9-linux-x86_64.egg/regions/shapes/ellipse.py\", line 175, in to_mask\n",
      "    fraction = elliptical_overlap_grid(\n",
      "ZeroDivisionError: float division\n"
     ]
    },
    {
     "ename": "ZeroDivisionError",
     "evalue": "float division",
     "output_type": "error",
     "traceback": [
      "\u001b[0;31m---------------------------------------------------------------------------\u001b[0m",
      "\u001b[0;31mZeroDivisionError\u001b[0m                         Traceback (most recent call last)",
      "\u001b[0;31mZeroDivisionError\u001b[0m: float division"
     ]
    },
    {
     "name": "stderr",
     "output_type": "stream",
     "text": [
      "Exception ignored in: 'regions._geometry.elliptical_overlap.elliptical_overlap_single_subpixel'\n",
      "Traceback (most recent call last):\n",
      "  File \"/mnt/home/turne540/software/anaconda3/envs/xga_dev/lib/python3.9/site-packages/regions-0.4-py3.9-linux-x86_64.egg/regions/shapes/ellipse.py\", line 175, in to_mask\n",
      "    fraction = elliptical_overlap_grid(\n",
      "ZeroDivisionError: float division\n"
     ]
    },
    {
     "ename": "ZeroDivisionError",
     "evalue": "float division",
     "output_type": "error",
     "traceback": [
      "\u001b[0;31m---------------------------------------------------------------------------\u001b[0m",
      "\u001b[0;31mZeroDivisionError\u001b[0m                         Traceback (most recent call last)",
      "\u001b[0;31mZeroDivisionError\u001b[0m: float division"
     ]
    },
    {
     "name": "stderr",
     "output_type": "stream",
     "text": [
      "Exception ignored in: 'regions._geometry.elliptical_overlap.elliptical_overlap_single_subpixel'\n",
      "Traceback (most recent call last):\n",
      "  File \"/mnt/home/turne540/software/anaconda3/envs/xga_dev/lib/python3.9/site-packages/regions-0.4-py3.9-linux-x86_64.egg/regions/shapes/ellipse.py\", line 175, in to_mask\n",
      "    fraction = elliptical_overlap_grid(\n",
      "ZeroDivisionError: float division\n"
     ]
    },
    {
     "ename": "ZeroDivisionError",
     "evalue": "float division",
     "output_type": "error",
     "traceback": [
      "\u001b[0;31m---------------------------------------------------------------------------\u001b[0m",
      "\u001b[0;31mZeroDivisionError\u001b[0m                         Traceback (most recent call last)",
      "\u001b[0;31mZeroDivisionError\u001b[0m: float division"
     ]
    },
    {
     "name": "stderr",
     "output_type": "stream",
     "text": [
      "Exception ignored in: 'regions._geometry.elliptical_overlap.elliptical_overlap_single_subpixel'\n",
      "Traceback (most recent call last):\n",
      "  File \"/mnt/home/turne540/software/anaconda3/envs/xga_dev/lib/python3.9/site-packages/regions-0.4-py3.9-linux-x86_64.egg/regions/shapes/ellipse.py\", line 175, in to_mask\n",
      "    fraction = elliptical_overlap_grid(\n",
      "ZeroDivisionError: float division\n"
     ]
    },
    {
     "ename": "ZeroDivisionError",
     "evalue": "float division",
     "output_type": "error",
     "traceback": [
      "\u001b[0;31m---------------------------------------------------------------------------\u001b[0m",
      "\u001b[0;31mZeroDivisionError\u001b[0m                         Traceback (most recent call last)",
      "\u001b[0;31mZeroDivisionError\u001b[0m: float division"
     ]
    },
    {
     "name": "stderr",
     "output_type": "stream",
     "text": [
      "Exception ignored in: 'regions._geometry.elliptical_overlap.elliptical_overlap_single_subpixel'\n",
      "Traceback (most recent call last):\n",
      "  File \"/mnt/home/turne540/software/anaconda3/envs/xga_dev/lib/python3.9/site-packages/regions-0.4-py3.9-linux-x86_64.egg/regions/shapes/ellipse.py\", line 175, in to_mask\n",
      "    fraction = elliptical_overlap_grid(\n",
      "ZeroDivisionError: float division\n"
     ]
    },
    {
     "ename": "ZeroDivisionError",
     "evalue": "float division",
     "output_type": "error",
     "traceback": [
      "\u001b[0;31m---------------------------------------------------------------------------\u001b[0m",
      "\u001b[0;31mZeroDivisionError\u001b[0m                         Traceback (most recent call last)",
      "\u001b[0;31mZeroDivisionError\u001b[0m: float division"
     ]
    },
    {
     "name": "stderr",
     "output_type": "stream",
     "text": [
      "Exception ignored in: 'regions._geometry.elliptical_overlap.elliptical_overlap_single_subpixel'\n",
      "Traceback (most recent call last):\n",
      "  File \"/mnt/home/turne540/software/anaconda3/envs/xga_dev/lib/python3.9/site-packages/regions-0.4-py3.9-linux-x86_64.egg/regions/shapes/ellipse.py\", line 175, in to_mask\n",
      "    fraction = elliptical_overlap_grid(\n",
      "ZeroDivisionError: float division\n"
     ]
    },
    {
     "ename": "ZeroDivisionError",
     "evalue": "float division",
     "output_type": "error",
     "traceback": [
      "\u001b[0;31m---------------------------------------------------------------------------\u001b[0m",
      "\u001b[0;31mZeroDivisionError\u001b[0m                         Traceback (most recent call last)",
      "\u001b[0;31mZeroDivisionError\u001b[0m: float division"
     ]
    },
    {
     "name": "stderr",
     "output_type": "stream",
     "text": [
      "Exception ignored in: 'regions._geometry.elliptical_overlap.elliptical_overlap_single_subpixel'\n",
      "Traceback (most recent call last):\n",
      "  File \"/mnt/home/turne540/software/anaconda3/envs/xga_dev/lib/python3.9/site-packages/regions-0.4-py3.9-linux-x86_64.egg/regions/shapes/ellipse.py\", line 175, in to_mask\n",
      "    fraction = elliptical_overlap_grid(\n",
      "ZeroDivisionError: float division\n"
     ]
    },
    {
     "ename": "ZeroDivisionError",
     "evalue": "float division",
     "output_type": "error",
     "traceback": [
      "\u001b[0;31m---------------------------------------------------------------------------\u001b[0m",
      "\u001b[0;31mZeroDivisionError\u001b[0m                         Traceback (most recent call last)",
      "\u001b[0;31mZeroDivisionError\u001b[0m: float division"
     ]
    },
    {
     "name": "stderr",
     "output_type": "stream",
     "text": [
      "Exception ignored in: 'regions._geometry.elliptical_overlap.elliptical_overlap_single_subpixel'\n",
      "Traceback (most recent call last):\n",
      "  File \"/mnt/home/turne540/software/anaconda3/envs/xga_dev/lib/python3.9/site-packages/regions-0.4-py3.9-linux-x86_64.egg/regions/shapes/ellipse.py\", line 175, in to_mask\n",
      "    fraction = elliptical_overlap_grid(\n",
      "ZeroDivisionError: float division\n"
     ]
    },
    {
     "ename": "ZeroDivisionError",
     "evalue": "float division",
     "output_type": "error",
     "traceback": [
      "\u001b[0;31m---------------------------------------------------------------------------\u001b[0m",
      "\u001b[0;31mZeroDivisionError\u001b[0m                         Traceback (most recent call last)",
      "\u001b[0;31mZeroDivisionError\u001b[0m: float division"
     ]
    },
    {
     "name": "stderr",
     "output_type": "stream",
     "text": [
      "Exception ignored in: 'regions._geometry.elliptical_overlap.elliptical_overlap_single_subpixel'\n",
      "Traceback (most recent call last):\n",
      "  File \"/mnt/home/turne540/software/anaconda3/envs/xga_dev/lib/python3.9/site-packages/regions-0.4-py3.9-linux-x86_64.egg/regions/shapes/ellipse.py\", line 175, in to_mask\n",
      "    fraction = elliptical_overlap_grid(\n",
      "ZeroDivisionError: float division\n"
     ]
    },
    {
     "ename": "ZeroDivisionError",
     "evalue": "float division",
     "output_type": "error",
     "traceback": [
      "\u001b[0;31m---------------------------------------------------------------------------\u001b[0m",
      "\u001b[0;31mZeroDivisionError\u001b[0m                         Traceback (most recent call last)",
      "\u001b[0;31mZeroDivisionError\u001b[0m: float division"
     ]
    },
    {
     "name": "stderr",
     "output_type": "stream",
     "text": [
      "Exception ignored in: 'regions._geometry.elliptical_overlap.elliptical_overlap_single_subpixel'\n",
      "Traceback (most recent call last):\n",
      "  File \"/mnt/home/turne540/software/anaconda3/envs/xga_dev/lib/python3.9/site-packages/regions-0.4-py3.9-linux-x86_64.egg/regions/shapes/ellipse.py\", line 175, in to_mask\n",
      "    fraction = elliptical_overlap_grid(\n",
      "ZeroDivisionError: float division\n"
     ]
    },
    {
     "ename": "ZeroDivisionError",
     "evalue": "float division",
     "output_type": "error",
     "traceback": [
      "\u001b[0;31m---------------------------------------------------------------------------\u001b[0m",
      "\u001b[0;31mZeroDivisionError\u001b[0m                         Traceback (most recent call last)",
      "\u001b[0;31mZeroDivisionError\u001b[0m: float division"
     ]
    },
    {
     "name": "stderr",
     "output_type": "stream",
     "text": [
      "Exception ignored in: 'regions._geometry.elliptical_overlap.elliptical_overlap_single_subpixel'\n",
      "Traceback (most recent call last):\n",
      "  File \"/mnt/home/turne540/software/anaconda3/envs/xga_dev/lib/python3.9/site-packages/regions-0.4-py3.9-linux-x86_64.egg/regions/shapes/ellipse.py\", line 175, in to_mask\n",
      "    fraction = elliptical_overlap_grid(\n",
      "ZeroDivisionError: float division\n"
     ]
    },
    {
     "ename": "ZeroDivisionError",
     "evalue": "float division",
     "output_type": "error",
     "traceback": [
      "\u001b[0;31m---------------------------------------------------------------------------\u001b[0m",
      "\u001b[0;31mZeroDivisionError\u001b[0m                         Traceback (most recent call last)",
      "\u001b[0;31mZeroDivisionError\u001b[0m: float division"
     ]
    },
    {
     "name": "stderr",
     "output_type": "stream",
     "text": [
      "Exception ignored in: 'regions._geometry.elliptical_overlap.elliptical_overlap_single_subpixel'\n",
      "Traceback (most recent call last):\n",
      "  File \"/mnt/home/turne540/software/anaconda3/envs/xga_dev/lib/python3.9/site-packages/regions-0.4-py3.9-linux-x86_64.egg/regions/shapes/ellipse.py\", line 175, in to_mask\n",
      "    fraction = elliptical_overlap_grid(\n",
      "ZeroDivisionError: float division\n"
     ]
    },
    {
     "ename": "ZeroDivisionError",
     "evalue": "float division",
     "output_type": "error",
     "traceback": [
      "\u001b[0;31m---------------------------------------------------------------------------\u001b[0m",
      "\u001b[0;31mZeroDivisionError\u001b[0m                         Traceback (most recent call last)",
      "\u001b[0;31mZeroDivisionError\u001b[0m: float division"
     ]
    },
    {
     "name": "stderr",
     "output_type": "stream",
     "text": [
      "Exception ignored in: 'regions._geometry.elliptical_overlap.elliptical_overlap_single_subpixel'\n",
      "Traceback (most recent call last):\n",
      "  File \"/mnt/home/turne540/software/anaconda3/envs/xga_dev/lib/python3.9/site-packages/regions-0.4-py3.9-linux-x86_64.egg/regions/shapes/ellipse.py\", line 175, in to_mask\n",
      "    fraction = elliptical_overlap_grid(\n",
      "ZeroDivisionError: float division\n"
     ]
    },
    {
     "ename": "ZeroDivisionError",
     "evalue": "float division",
     "output_type": "error",
     "traceback": [
      "\u001b[0;31m---------------------------------------------------------------------------\u001b[0m",
      "\u001b[0;31mZeroDivisionError\u001b[0m                         Traceback (most recent call last)",
      "\u001b[0;31mZeroDivisionError\u001b[0m: float division"
     ]
    },
    {
     "name": "stderr",
     "output_type": "stream",
     "text": [
      "Exception ignored in: 'regions._geometry.elliptical_overlap.elliptical_overlap_single_subpixel'\n",
      "Traceback (most recent call last):\n",
      "  File \"/mnt/home/turne540/software/anaconda3/envs/xga_dev/lib/python3.9/site-packages/regions-0.4-py3.9-linux-x86_64.egg/regions/shapes/ellipse.py\", line 175, in to_mask\n",
      "    fraction = elliptical_overlap_grid(\n",
      "ZeroDivisionError: float division\n"
     ]
    },
    {
     "ename": "ZeroDivisionError",
     "evalue": "float division",
     "output_type": "error",
     "traceback": [
      "\u001b[0;31m---------------------------------------------------------------------------\u001b[0m",
      "\u001b[0;31mZeroDivisionError\u001b[0m                         Traceback (most recent call last)",
      "\u001b[0;31mZeroDivisionError\u001b[0m: float division"
     ]
    },
    {
     "name": "stderr",
     "output_type": "stream",
     "text": [
      "Exception ignored in: 'regions._geometry.elliptical_overlap.elliptical_overlap_single_subpixel'\n",
      "Traceback (most recent call last):\n",
      "  File \"/mnt/home/turne540/software/anaconda3/envs/xga_dev/lib/python3.9/site-packages/regions-0.4-py3.9-linux-x86_64.egg/regions/shapes/ellipse.py\", line 175, in to_mask\n",
      "    fraction = elliptical_overlap_grid(\n",
      "ZeroDivisionError: float division\n"
     ]
    },
    {
     "ename": "ZeroDivisionError",
     "evalue": "float division",
     "output_type": "error",
     "traceback": [
      "\u001b[0;31m---------------------------------------------------------------------------\u001b[0m",
      "\u001b[0;31mZeroDivisionError\u001b[0m                         Traceback (most recent call last)",
      "\u001b[0;31mZeroDivisionError\u001b[0m: float division"
     ]
    },
    {
     "name": "stderr",
     "output_type": "stream",
     "text": [
      "Exception ignored in: 'regions._geometry.elliptical_overlap.elliptical_overlap_single_subpixel'\n",
      "Traceback (most recent call last):\n",
      "  File \"/mnt/home/turne540/software/anaconda3/envs/xga_dev/lib/python3.9/site-packages/regions-0.4-py3.9-linux-x86_64.egg/regions/shapes/ellipse.py\", line 175, in to_mask\n",
      "    fraction = elliptical_overlap_grid(\n",
      "ZeroDivisionError: float division\n"
     ]
    },
    {
     "ename": "ZeroDivisionError",
     "evalue": "float division",
     "output_type": "error",
     "traceback": [
      "\u001b[0;31m---------------------------------------------------------------------------\u001b[0m",
      "\u001b[0;31mZeroDivisionError\u001b[0m                         Traceback (most recent call last)",
      "\u001b[0;31mZeroDivisionError\u001b[0m: float division"
     ]
    },
    {
     "name": "stderr",
     "output_type": "stream",
     "text": [
      "Exception ignored in: 'regions._geometry.elliptical_overlap.elliptical_overlap_single_subpixel'\n",
      "Traceback (most recent call last):\n",
      "  File \"/mnt/home/turne540/software/anaconda3/envs/xga_dev/lib/python3.9/site-packages/regions-0.4-py3.9-linux-x86_64.egg/regions/shapes/ellipse.py\", line 175, in to_mask\n",
      "    fraction = elliptical_overlap_grid(\n",
      "ZeroDivisionError: float division\n"
     ]
    },
    {
     "ename": "ZeroDivisionError",
     "evalue": "float division",
     "output_type": "error",
     "traceback": [
      "\u001b[0;31m---------------------------------------------------------------------------\u001b[0m",
      "\u001b[0;31mZeroDivisionError\u001b[0m                         Traceback (most recent call last)",
      "\u001b[0;31mZeroDivisionError\u001b[0m: float division"
     ]
    },
    {
     "name": "stderr",
     "output_type": "stream",
     "text": [
      "Exception ignored in: 'regions._geometry.elliptical_overlap.elliptical_overlap_single_subpixel'\n",
      "Traceback (most recent call last):\n",
      "  File \"/mnt/home/turne540/software/anaconda3/envs/xga_dev/lib/python3.9/site-packages/regions-0.4-py3.9-linux-x86_64.egg/regions/shapes/ellipse.py\", line 175, in to_mask\n",
      "    fraction = elliptical_overlap_grid(\n",
      "ZeroDivisionError: float division\n"
     ]
    },
    {
     "ename": "ZeroDivisionError",
     "evalue": "float division",
     "output_type": "error",
     "traceback": [
      "\u001b[0;31m---------------------------------------------------------------------------\u001b[0m",
      "\u001b[0;31mZeroDivisionError\u001b[0m                         Traceback (most recent call last)",
      "\u001b[0;31mZeroDivisionError\u001b[0m: float division"
     ]
    },
    {
     "name": "stderr",
     "output_type": "stream",
     "text": [
      "Exception ignored in: 'regions._geometry.elliptical_overlap.elliptical_overlap_single_subpixel'\n",
      "Traceback (most recent call last):\n",
      "  File \"/mnt/home/turne540/software/anaconda3/envs/xga_dev/lib/python3.9/site-packages/regions-0.4-py3.9-linux-x86_64.egg/regions/shapes/ellipse.py\", line 175, in to_mask\n",
      "    fraction = elliptical_overlap_grid(\n",
      "ZeroDivisionError: float division\n"
     ]
    },
    {
     "ename": "ZeroDivisionError",
     "evalue": "float division",
     "output_type": "error",
     "traceback": [
      "\u001b[0;31m---------------------------------------------------------------------------\u001b[0m",
      "\u001b[0;31mZeroDivisionError\u001b[0m                         Traceback (most recent call last)",
      "\u001b[0;31mZeroDivisionError\u001b[0m: float division"
     ]
    },
    {
     "name": "stderr",
     "output_type": "stream",
     "text": [
      "Exception ignored in: 'regions._geometry.elliptical_overlap.elliptical_overlap_single_subpixel'\n",
      "Traceback (most recent call last):\n",
      "  File \"/mnt/home/turne540/software/anaconda3/envs/xga_dev/lib/python3.9/site-packages/regions-0.4-py3.9-linux-x86_64.egg/regions/shapes/ellipse.py\", line 175, in to_mask\n",
      "    fraction = elliptical_overlap_grid(\n",
      "ZeroDivisionError: float division\n"
     ]
    },
    {
     "ename": "ZeroDivisionError",
     "evalue": "float division",
     "output_type": "error",
     "traceback": [
      "\u001b[0;31m---------------------------------------------------------------------------\u001b[0m",
      "\u001b[0;31mZeroDivisionError\u001b[0m                         Traceback (most recent call last)",
      "\u001b[0;31mZeroDivisionError\u001b[0m: float division"
     ]
    },
    {
     "name": "stderr",
     "output_type": "stream",
     "text": [
      "Exception ignored in: 'regions._geometry.elliptical_overlap.elliptical_overlap_single_subpixel'\n",
      "Traceback (most recent call last):\n",
      "  File \"/mnt/home/turne540/software/anaconda3/envs/xga_dev/lib/python3.9/site-packages/regions-0.4-py3.9-linux-x86_64.egg/regions/shapes/ellipse.py\", line 175, in to_mask\n",
      "    fraction = elliptical_overlap_grid(\n",
      "ZeroDivisionError: float division\n"
     ]
    },
    {
     "ename": "ZeroDivisionError",
     "evalue": "float division",
     "output_type": "error",
     "traceback": [
      "\u001b[0;31m---------------------------------------------------------------------------\u001b[0m",
      "\u001b[0;31mZeroDivisionError\u001b[0m                         Traceback (most recent call last)",
      "\u001b[0;31mZeroDivisionError\u001b[0m: float division"
     ]
    },
    {
     "name": "stderr",
     "output_type": "stream",
     "text": [
      "Exception ignored in: 'regions._geometry.elliptical_overlap.elliptical_overlap_single_subpixel'\n",
      "Traceback (most recent call last):\n",
      "  File \"/mnt/home/turne540/software/anaconda3/envs/xga_dev/lib/python3.9/site-packages/regions-0.4-py3.9-linux-x86_64.egg/regions/shapes/ellipse.py\", line 175, in to_mask\n",
      "    fraction = elliptical_overlap_grid(\n",
      "ZeroDivisionError: float division\n"
     ]
    },
    {
     "ename": "ZeroDivisionError",
     "evalue": "float division",
     "output_type": "error",
     "traceback": [
      "\u001b[0;31m---------------------------------------------------------------------------\u001b[0m",
      "\u001b[0;31mZeroDivisionError\u001b[0m                         Traceback (most recent call last)",
      "\u001b[0;31mZeroDivisionError\u001b[0m: float division"
     ]
    },
    {
     "name": "stderr",
     "output_type": "stream",
     "text": [
      "Exception ignored in: 'regions._geometry.elliptical_overlap.elliptical_overlap_single_subpixel'\n",
      "Traceback (most recent call last):\n",
      "  File \"/mnt/home/turne540/software/anaconda3/envs/xga_dev/lib/python3.9/site-packages/regions-0.4-py3.9-linux-x86_64.egg/regions/shapes/ellipse.py\", line 175, in to_mask\n",
      "    fraction = elliptical_overlap_grid(\n",
      "ZeroDivisionError: float division\n"
     ]
    },
    {
     "ename": "ZeroDivisionError",
     "evalue": "float division",
     "output_type": "error",
     "traceback": [
      "\u001b[0;31m---------------------------------------------------------------------------\u001b[0m",
      "\u001b[0;31mZeroDivisionError\u001b[0m                         Traceback (most recent call last)",
      "\u001b[0;31mZeroDivisionError\u001b[0m: float division"
     ]
    },
    {
     "name": "stderr",
     "output_type": "stream",
     "text": [
      "Exception ignored in: 'regions._geometry.elliptical_overlap.elliptical_overlap_single_subpixel'\n",
      "Traceback (most recent call last):\n",
      "  File \"/mnt/home/turne540/software/anaconda3/envs/xga_dev/lib/python3.9/site-packages/regions-0.4-py3.9-linux-x86_64.egg/regions/shapes/ellipse.py\", line 175, in to_mask\n",
      "    fraction = elliptical_overlap_grid(\n",
      "ZeroDivisionError: float division\n"
     ]
    },
    {
     "ename": "ZeroDivisionError",
     "evalue": "float division",
     "output_type": "error",
     "traceback": [
      "\u001b[0;31m---------------------------------------------------------------------------\u001b[0m",
      "\u001b[0;31mZeroDivisionError\u001b[0m                         Traceback (most recent call last)",
      "\u001b[0;31mZeroDivisionError\u001b[0m: float division"
     ]
    },
    {
     "name": "stderr",
     "output_type": "stream",
     "text": [
      "Exception ignored in: 'regions._geometry.elliptical_overlap.elliptical_overlap_single_subpixel'\n",
      "Traceback (most recent call last):\n",
      "  File \"/mnt/home/turne540/software/anaconda3/envs/xga_dev/lib/python3.9/site-packages/regions-0.4-py3.9-linux-x86_64.egg/regions/shapes/ellipse.py\", line 175, in to_mask\n",
      "    fraction = elliptical_overlap_grid(\n",
      "ZeroDivisionError: float division\n"
     ]
    },
    {
     "ename": "ZeroDivisionError",
     "evalue": "float division",
     "output_type": "error",
     "traceback": [
      "\u001b[0;31m---------------------------------------------------------------------------\u001b[0m",
      "\u001b[0;31mZeroDivisionError\u001b[0m                         Traceback (most recent call last)",
      "\u001b[0;31mZeroDivisionError\u001b[0m: float division"
     ]
    },
    {
     "name": "stderr",
     "output_type": "stream",
     "text": [
      "Exception ignored in: 'regions._geometry.elliptical_overlap.elliptical_overlap_single_subpixel'\n",
      "Traceback (most recent call last):\n",
      "  File \"/mnt/home/turne540/software/anaconda3/envs/xga_dev/lib/python3.9/site-packages/regions-0.4-py3.9-linux-x86_64.egg/regions/shapes/ellipse.py\", line 175, in to_mask\n",
      "    fraction = elliptical_overlap_grid(\n",
      "ZeroDivisionError: float division\n"
     ]
    },
    {
     "ename": "ZeroDivisionError",
     "evalue": "float division",
     "output_type": "error",
     "traceback": [
      "\u001b[0;31m---------------------------------------------------------------------------\u001b[0m",
      "\u001b[0;31mZeroDivisionError\u001b[0m                         Traceback (most recent call last)",
      "\u001b[0;31mZeroDivisionError\u001b[0m: float division"
     ]
    },
    {
     "name": "stderr",
     "output_type": "stream",
     "text": [
      "Exception ignored in: 'regions._geometry.elliptical_overlap.elliptical_overlap_single_subpixel'\n",
      "Traceback (most recent call last):\n",
      "  File \"/mnt/home/turne540/software/anaconda3/envs/xga_dev/lib/python3.9/site-packages/regions-0.4-py3.9-linux-x86_64.egg/regions/shapes/ellipse.py\", line 175, in to_mask\n",
      "    fraction = elliptical_overlap_grid(\n",
      "ZeroDivisionError: float division\n"
     ]
    },
    {
     "ename": "ZeroDivisionError",
     "evalue": "float division",
     "output_type": "error",
     "traceback": [
      "\u001b[0;31m---------------------------------------------------------------------------\u001b[0m",
      "\u001b[0;31mZeroDivisionError\u001b[0m                         Traceback (most recent call last)",
      "\u001b[0;31mZeroDivisionError\u001b[0m: float division"
     ]
    },
    {
     "name": "stderr",
     "output_type": "stream",
     "text": [
      "Exception ignored in: 'regions._geometry.elliptical_overlap.elliptical_overlap_single_subpixel'\n",
      "Traceback (most recent call last):\n",
      "  File \"/mnt/home/turne540/software/anaconda3/envs/xga_dev/lib/python3.9/site-packages/regions-0.4-py3.9-linux-x86_64.egg/regions/shapes/ellipse.py\", line 175, in to_mask\n",
      "    fraction = elliptical_overlap_grid(\n",
      "ZeroDivisionError: float division\n"
     ]
    },
    {
     "ename": "ZeroDivisionError",
     "evalue": "float division",
     "output_type": "error",
     "traceback": [
      "\u001b[0;31m---------------------------------------------------------------------------\u001b[0m",
      "\u001b[0;31mZeroDivisionError\u001b[0m                         Traceback (most recent call last)",
      "\u001b[0;31mZeroDivisionError\u001b[0m: float division"
     ]
    },
    {
     "name": "stderr",
     "output_type": "stream",
     "text": [
      "Exception ignored in: 'regions._geometry.elliptical_overlap.elliptical_overlap_single_subpixel'\n",
      "Traceback (most recent call last):\n",
      "  File \"/mnt/home/turne540/software/anaconda3/envs/xga_dev/lib/python3.9/site-packages/regions-0.4-py3.9-linux-x86_64.egg/regions/shapes/ellipse.py\", line 175, in to_mask\n",
      "    fraction = elliptical_overlap_grid(\n",
      "ZeroDivisionError: float division\n"
     ]
    },
    {
     "ename": "ZeroDivisionError",
     "evalue": "float division",
     "output_type": "error",
     "traceback": [
      "\u001b[0;31m---------------------------------------------------------------------------\u001b[0m",
      "\u001b[0;31mZeroDivisionError\u001b[0m                         Traceback (most recent call last)",
      "\u001b[0;31mZeroDivisionError\u001b[0m: float division"
     ]
    },
    {
     "name": "stderr",
     "output_type": "stream",
     "text": [
      "Exception ignored in: 'regions._geometry.elliptical_overlap.elliptical_overlap_single_subpixel'\n",
      "Traceback (most recent call last):\n",
      "  File \"/mnt/home/turne540/software/anaconda3/envs/xga_dev/lib/python3.9/site-packages/regions-0.4-py3.9-linux-x86_64.egg/regions/shapes/ellipse.py\", line 175, in to_mask\n",
      "    fraction = elliptical_overlap_grid(\n",
      "ZeroDivisionError: float division\n"
     ]
    },
    {
     "ename": "ZeroDivisionError",
     "evalue": "float division",
     "output_type": "error",
     "traceback": [
      "\u001b[0;31m---------------------------------------------------------------------------\u001b[0m",
      "\u001b[0;31mZeroDivisionError\u001b[0m                         Traceback (most recent call last)",
      "\u001b[0;31mZeroDivisionError\u001b[0m: float division"
     ]
    },
    {
     "name": "stderr",
     "output_type": "stream",
     "text": [
      "Exception ignored in: 'regions._geometry.elliptical_overlap.elliptical_overlap_single_subpixel'\n",
      "Traceback (most recent call last):\n",
      "  File \"/mnt/home/turne540/software/anaconda3/envs/xga_dev/lib/python3.9/site-packages/regions-0.4-py3.9-linux-x86_64.egg/regions/shapes/ellipse.py\", line 175, in to_mask\n",
      "    fraction = elliptical_overlap_grid(\n",
      "ZeroDivisionError: float division\n"
     ]
    },
    {
     "ename": "ZeroDivisionError",
     "evalue": "float division",
     "output_type": "error",
     "traceback": [
      "\u001b[0;31m---------------------------------------------------------------------------\u001b[0m",
      "\u001b[0;31mZeroDivisionError\u001b[0m                         Traceback (most recent call last)",
      "\u001b[0;31mZeroDivisionError\u001b[0m: float division"
     ]
    },
    {
     "name": "stderr",
     "output_type": "stream",
     "text": [
      "Exception ignored in: 'regions._geometry.elliptical_overlap.elliptical_overlap_single_subpixel'\n",
      "Traceback (most recent call last):\n",
      "  File \"/mnt/home/turne540/software/anaconda3/envs/xga_dev/lib/python3.9/site-packages/regions-0.4-py3.9-linux-x86_64.egg/regions/shapes/ellipse.py\", line 175, in to_mask\n",
      "    fraction = elliptical_overlap_grid(\n",
      "ZeroDivisionError: float division\n"
     ]
    },
    {
     "ename": "ZeroDivisionError",
     "evalue": "float division",
     "output_type": "error",
     "traceback": [
      "\u001b[0;31m---------------------------------------------------------------------------\u001b[0m",
      "\u001b[0;31mZeroDivisionError\u001b[0m                         Traceback (most recent call last)",
      "\u001b[0;31mZeroDivisionError\u001b[0m: float division"
     ]
    },
    {
     "name": "stderr",
     "output_type": "stream",
     "text": [
      "Exception ignored in: 'regions._geometry.elliptical_overlap.elliptical_overlap_single_subpixel'\n",
      "Traceback (most recent call last):\n",
      "  File \"/mnt/home/turne540/software/anaconda3/envs/xga_dev/lib/python3.9/site-packages/regions-0.4-py3.9-linux-x86_64.egg/regions/shapes/ellipse.py\", line 175, in to_mask\n",
      "    fraction = elliptical_overlap_grid(\n",
      "ZeroDivisionError: float division\n"
     ]
    },
    {
     "ename": "ZeroDivisionError",
     "evalue": "float division",
     "output_type": "error",
     "traceback": [
      "\u001b[0;31m---------------------------------------------------------------------------\u001b[0m",
      "\u001b[0;31mZeroDivisionError\u001b[0m                         Traceback (most recent call last)",
      "\u001b[0;31mZeroDivisionError\u001b[0m: float division"
     ]
    },
    {
     "name": "stderr",
     "output_type": "stream",
     "text": [
      "Exception ignored in: 'regions._geometry.elliptical_overlap.elliptical_overlap_single_subpixel'\n",
      "Traceback (most recent call last):\n",
      "  File \"/mnt/home/turne540/software/anaconda3/envs/xga_dev/lib/python3.9/site-packages/regions-0.4-py3.9-linux-x86_64.egg/regions/shapes/ellipse.py\", line 175, in to_mask\n",
      "    fraction = elliptical_overlap_grid(\n",
      "ZeroDivisionError: float division\n"
     ]
    },
    {
     "ename": "ZeroDivisionError",
     "evalue": "float division",
     "output_type": "error",
     "traceback": [
      "\u001b[0;31m---------------------------------------------------------------------------\u001b[0m",
      "\u001b[0;31mZeroDivisionError\u001b[0m                         Traceback (most recent call last)",
      "\u001b[0;31mZeroDivisionError\u001b[0m: float division"
     ]
    },
    {
     "name": "stderr",
     "output_type": "stream",
     "text": [
      "Exception ignored in: 'regions._geometry.elliptical_overlap.elliptical_overlap_single_subpixel'\n",
      "Traceback (most recent call last):\n",
      "  File \"/mnt/home/turne540/software/anaconda3/envs/xga_dev/lib/python3.9/site-packages/regions-0.4-py3.9-linux-x86_64.egg/regions/shapes/ellipse.py\", line 175, in to_mask\n",
      "    fraction = elliptical_overlap_grid(\n",
      "ZeroDivisionError: float division\n"
     ]
    },
    {
     "ename": "ZeroDivisionError",
     "evalue": "float division",
     "output_type": "error",
     "traceback": [
      "\u001b[0;31m---------------------------------------------------------------------------\u001b[0m",
      "\u001b[0;31mZeroDivisionError\u001b[0m                         Traceback (most recent call last)",
      "\u001b[0;31mZeroDivisionError\u001b[0m: float division"
     ]
    },
    {
     "name": "stderr",
     "output_type": "stream",
     "text": [
      "Exception ignored in: 'regions._geometry.elliptical_overlap.elliptical_overlap_single_subpixel'\n",
      "Traceback (most recent call last):\n",
      "  File \"/mnt/home/turne540/software/anaconda3/envs/xga_dev/lib/python3.9/site-packages/regions-0.4-py3.9-linux-x86_64.egg/regions/shapes/ellipse.py\", line 175, in to_mask\n",
      "    fraction = elliptical_overlap_grid(\n",
      "ZeroDivisionError: float division\n"
     ]
    },
    {
     "ename": "ZeroDivisionError",
     "evalue": "float division",
     "output_type": "error",
     "traceback": [
      "\u001b[0;31m---------------------------------------------------------------------------\u001b[0m",
      "\u001b[0;31mZeroDivisionError\u001b[0m                         Traceback (most recent call last)",
      "\u001b[0;31mZeroDivisionError\u001b[0m: float division"
     ]
    },
    {
     "name": "stderr",
     "output_type": "stream",
     "text": [
      "Exception ignored in: 'regions._geometry.elliptical_overlap.elliptical_overlap_single_subpixel'\n",
      "Traceback (most recent call last):\n",
      "  File \"/mnt/home/turne540/software/anaconda3/envs/xga_dev/lib/python3.9/site-packages/regions-0.4-py3.9-linux-x86_64.egg/regions/shapes/ellipse.py\", line 175, in to_mask\n",
      "    fraction = elliptical_overlap_grid(\n",
      "ZeroDivisionError: float division\n"
     ]
    },
    {
     "ename": "ZeroDivisionError",
     "evalue": "float division",
     "output_type": "error",
     "traceback": [
      "\u001b[0;31m---------------------------------------------------------------------------\u001b[0m",
      "\u001b[0;31mZeroDivisionError\u001b[0m                         Traceback (most recent call last)",
      "\u001b[0;31mZeroDivisionError\u001b[0m: float division"
     ]
    },
    {
     "name": "stderr",
     "output_type": "stream",
     "text": [
      "Exception ignored in: 'regions._geometry.elliptical_overlap.elliptical_overlap_single_subpixel'\n",
      "Traceback (most recent call last):\n",
      "  File \"/mnt/home/turne540/software/anaconda3/envs/xga_dev/lib/python3.9/site-packages/regions-0.4-py3.9-linux-x86_64.egg/regions/shapes/ellipse.py\", line 175, in to_mask\n",
      "    fraction = elliptical_overlap_grid(\n",
      "ZeroDivisionError: float division\n"
     ]
    },
    {
     "ename": "ZeroDivisionError",
     "evalue": "float division",
     "output_type": "error",
     "traceback": [
      "\u001b[0;31m---------------------------------------------------------------------------\u001b[0m",
      "\u001b[0;31mZeroDivisionError\u001b[0m                         Traceback (most recent call last)",
      "\u001b[0;31mZeroDivisionError\u001b[0m: float division"
     ]
    },
    {
     "name": "stderr",
     "output_type": "stream",
     "text": [
      "Exception ignored in: 'regions._geometry.elliptical_overlap.elliptical_overlap_single_subpixel'\n",
      "Traceback (most recent call last):\n",
      "  File \"/mnt/home/turne540/software/anaconda3/envs/xga_dev/lib/python3.9/site-packages/regions-0.4-py3.9-linux-x86_64.egg/regions/shapes/ellipse.py\", line 175, in to_mask\n",
      "    fraction = elliptical_overlap_grid(\n",
      "ZeroDivisionError: float division\n"
     ]
    },
    {
     "ename": "ZeroDivisionError",
     "evalue": "float division",
     "output_type": "error",
     "traceback": [
      "\u001b[0;31m---------------------------------------------------------------------------\u001b[0m",
      "\u001b[0;31mZeroDivisionError\u001b[0m                         Traceback (most recent call last)",
      "\u001b[0;31mZeroDivisionError\u001b[0m: float division"
     ]
    },
    {
     "name": "stderr",
     "output_type": "stream",
     "text": [
      "Exception ignored in: 'regions._geometry.elliptical_overlap.elliptical_overlap_single_subpixel'\n",
      "Traceback (most recent call last):\n",
      "  File \"/mnt/home/turne540/software/anaconda3/envs/xga_dev/lib/python3.9/site-packages/regions-0.4-py3.9-linux-x86_64.egg/regions/shapes/ellipse.py\", line 175, in to_mask\n",
      "    fraction = elliptical_overlap_grid(\n",
      "ZeroDivisionError: float division\n"
     ]
    },
    {
     "ename": "ZeroDivisionError",
     "evalue": "float division",
     "output_type": "error",
     "traceback": [
      "\u001b[0;31m---------------------------------------------------------------------------\u001b[0m",
      "\u001b[0;31mZeroDivisionError\u001b[0m                         Traceback (most recent call last)",
      "\u001b[0;31mZeroDivisionError\u001b[0m: float division"
     ]
    },
    {
     "name": "stderr",
     "output_type": "stream",
     "text": [
      "Exception ignored in: 'regions._geometry.elliptical_overlap.elliptical_overlap_single_subpixel'\n",
      "Traceback (most recent call last):\n",
      "  File \"/mnt/home/turne540/software/anaconda3/envs/xga_dev/lib/python3.9/site-packages/regions-0.4-py3.9-linux-x86_64.egg/regions/shapes/ellipse.py\", line 175, in to_mask\n",
      "    fraction = elliptical_overlap_grid(\n",
      "ZeroDivisionError: float division\n"
     ]
    },
    {
     "ename": "ZeroDivisionError",
     "evalue": "float division",
     "output_type": "error",
     "traceback": [
      "\u001b[0;31m---------------------------------------------------------------------------\u001b[0m",
      "\u001b[0;31mZeroDivisionError\u001b[0m                         Traceback (most recent call last)",
      "\u001b[0;31mZeroDivisionError\u001b[0m: float division"
     ]
    },
    {
     "name": "stderr",
     "output_type": "stream",
     "text": [
      "Exception ignored in: 'regions._geometry.elliptical_overlap.elliptical_overlap_single_subpixel'\n",
      "Traceback (most recent call last):\n",
      "  File \"/mnt/home/turne540/software/anaconda3/envs/xga_dev/lib/python3.9/site-packages/regions-0.4-py3.9-linux-x86_64.egg/regions/shapes/ellipse.py\", line 175, in to_mask\n",
      "    fraction = elliptical_overlap_grid(\n",
      "ZeroDivisionError: float division\n"
     ]
    },
    {
     "ename": "ZeroDivisionError",
     "evalue": "float division",
     "output_type": "error",
     "traceback": [
      "\u001b[0;31m---------------------------------------------------------------------------\u001b[0m",
      "\u001b[0;31mZeroDivisionError\u001b[0m                         Traceback (most recent call last)",
      "\u001b[0;31mZeroDivisionError\u001b[0m: float division"
     ]
    },
    {
     "name": "stderr",
     "output_type": "stream",
     "text": [
      "Exception ignored in: 'regions._geometry.elliptical_overlap.elliptical_overlap_single_subpixel'\n",
      "Traceback (most recent call last):\n",
      "  File \"/mnt/home/turne540/software/anaconda3/envs/xga_dev/lib/python3.9/site-packages/regions-0.4-py3.9-linux-x86_64.egg/regions/shapes/ellipse.py\", line 175, in to_mask\n",
      "    fraction = elliptical_overlap_grid(\n",
      "ZeroDivisionError: float division\n"
     ]
    },
    {
     "ename": "ZeroDivisionError",
     "evalue": "float division",
     "output_type": "error",
     "traceback": [
      "\u001b[0;31m---------------------------------------------------------------------------\u001b[0m",
      "\u001b[0;31mZeroDivisionError\u001b[0m                         Traceback (most recent call last)",
      "\u001b[0;31mZeroDivisionError\u001b[0m: float division"
     ]
    },
    {
     "name": "stderr",
     "output_type": "stream",
     "text": [
      "Exception ignored in: 'regions._geometry.elliptical_overlap.elliptical_overlap_single_subpixel'\n",
      "Traceback (most recent call last):\n",
      "  File \"/mnt/home/turne540/software/anaconda3/envs/xga_dev/lib/python3.9/site-packages/regions-0.4-py3.9-linux-x86_64.egg/regions/shapes/ellipse.py\", line 175, in to_mask\n",
      "    fraction = elliptical_overlap_grid(\n",
      "ZeroDivisionError: float division\n"
     ]
    },
    {
     "ename": "ZeroDivisionError",
     "evalue": "float division",
     "output_type": "error",
     "traceback": [
      "\u001b[0;31m---------------------------------------------------------------------------\u001b[0m",
      "\u001b[0;31mZeroDivisionError\u001b[0m                         Traceback (most recent call last)",
      "\u001b[0;31mZeroDivisionError\u001b[0m: float division"
     ]
    },
    {
     "name": "stderr",
     "output_type": "stream",
     "text": [
      "Exception ignored in: 'regions._geometry.elliptical_overlap.elliptical_overlap_single_subpixel'\n",
      "Traceback (most recent call last):\n",
      "  File \"/mnt/home/turne540/software/anaconda3/envs/xga_dev/lib/python3.9/site-packages/regions-0.4-py3.9-linux-x86_64.egg/regions/shapes/ellipse.py\", line 175, in to_mask\n",
      "    fraction = elliptical_overlap_grid(\n",
      "ZeroDivisionError: float division\n"
     ]
    },
    {
     "ename": "ZeroDivisionError",
     "evalue": "float division",
     "output_type": "error",
     "traceback": [
      "\u001b[0;31m---------------------------------------------------------------------------\u001b[0m",
      "\u001b[0;31mZeroDivisionError\u001b[0m                         Traceback (most recent call last)",
      "\u001b[0;31mZeroDivisionError\u001b[0m: float division"
     ]
    },
    {
     "name": "stderr",
     "output_type": "stream",
     "text": [
      "Exception ignored in: 'regions._geometry.elliptical_overlap.elliptical_overlap_single_subpixel'\n",
      "Traceback (most recent call last):\n",
      "  File \"/mnt/home/turne540/software/anaconda3/envs/xga_dev/lib/python3.9/site-packages/regions-0.4-py3.9-linux-x86_64.egg/regions/shapes/ellipse.py\", line 175, in to_mask\n",
      "    fraction = elliptical_overlap_grid(\n",
      "ZeroDivisionError: float division\n"
     ]
    },
    {
     "ename": "ZeroDivisionError",
     "evalue": "float division",
     "output_type": "error",
     "traceback": [
      "\u001b[0;31m---------------------------------------------------------------------------\u001b[0m",
      "\u001b[0;31mZeroDivisionError\u001b[0m                         Traceback (most recent call last)",
      "\u001b[0;31mZeroDivisionError\u001b[0m: float division"
     ]
    },
    {
     "name": "stderr",
     "output_type": "stream",
     "text": [
      "Exception ignored in: 'regions._geometry.elliptical_overlap.elliptical_overlap_single_subpixel'\n",
      "Traceback (most recent call last):\n",
      "  File \"/mnt/home/turne540/software/anaconda3/envs/xga_dev/lib/python3.9/site-packages/regions-0.4-py3.9-linux-x86_64.egg/regions/shapes/ellipse.py\", line 175, in to_mask\n",
      "    fraction = elliptical_overlap_grid(\n",
      "ZeroDivisionError: float division\n"
     ]
    },
    {
     "ename": "ZeroDivisionError",
     "evalue": "float division",
     "output_type": "error",
     "traceback": [
      "\u001b[0;31m---------------------------------------------------------------------------\u001b[0m",
      "\u001b[0;31mZeroDivisionError\u001b[0m                         Traceback (most recent call last)",
      "\u001b[0;31mZeroDivisionError\u001b[0m: float division"
     ]
    },
    {
     "name": "stderr",
     "output_type": "stream",
     "text": [
      "Exception ignored in: 'regions._geometry.elliptical_overlap.elliptical_overlap_single_subpixel'\n",
      "Traceback (most recent call last):\n",
      "  File \"/mnt/home/turne540/software/anaconda3/envs/xga_dev/lib/python3.9/site-packages/regions-0.4-py3.9-linux-x86_64.egg/regions/shapes/ellipse.py\", line 175, in to_mask\n",
      "    fraction = elliptical_overlap_grid(\n",
      "ZeroDivisionError: float division\n"
     ]
    },
    {
     "ename": "ZeroDivisionError",
     "evalue": "float division",
     "output_type": "error",
     "traceback": [
      "\u001b[0;31m---------------------------------------------------------------------------\u001b[0m",
      "\u001b[0;31mZeroDivisionError\u001b[0m                         Traceback (most recent call last)",
      "\u001b[0;31mZeroDivisionError\u001b[0m: float division"
     ]
    },
    {
     "name": "stderr",
     "output_type": "stream",
     "text": [
      "Exception ignored in: 'regions._geometry.elliptical_overlap.elliptical_overlap_single_subpixel'\n",
      "Traceback (most recent call last):\n",
      "  File \"/mnt/home/turne540/software/anaconda3/envs/xga_dev/lib/python3.9/site-packages/regions-0.4-py3.9-linux-x86_64.egg/regions/shapes/ellipse.py\", line 175, in to_mask\n",
      "    fraction = elliptical_overlap_grid(\n",
      "ZeroDivisionError: float division\n"
     ]
    },
    {
     "ename": "ZeroDivisionError",
     "evalue": "float division",
     "output_type": "error",
     "traceback": [
      "\u001b[0;31m---------------------------------------------------------------------------\u001b[0m",
      "\u001b[0;31mZeroDivisionError\u001b[0m                         Traceback (most recent call last)",
      "\u001b[0;31mZeroDivisionError\u001b[0m: float division"
     ]
    },
    {
     "name": "stderr",
     "output_type": "stream",
     "text": [
      "Exception ignored in: 'regions._geometry.elliptical_overlap.elliptical_overlap_single_subpixel'\n",
      "Traceback (most recent call last):\n",
      "  File \"/mnt/home/turne540/software/anaconda3/envs/xga_dev/lib/python3.9/site-packages/regions-0.4-py3.9-linux-x86_64.egg/regions/shapes/ellipse.py\", line 175, in to_mask\n",
      "    fraction = elliptical_overlap_grid(\n",
      "ZeroDivisionError: float division\n"
     ]
    },
    {
     "ename": "ZeroDivisionError",
     "evalue": "float division",
     "output_type": "error",
     "traceback": [
      "\u001b[0;31m---------------------------------------------------------------------------\u001b[0m",
      "\u001b[0;31mZeroDivisionError\u001b[0m                         Traceback (most recent call last)",
      "\u001b[0;31mZeroDivisionError\u001b[0m: float division"
     ]
    },
    {
     "name": "stderr",
     "output_type": "stream",
     "text": [
      "Exception ignored in: 'regions._geometry.elliptical_overlap.elliptical_overlap_single_subpixel'\n",
      "Traceback (most recent call last):\n",
      "  File \"/mnt/home/turne540/software/anaconda3/envs/xga_dev/lib/python3.9/site-packages/regions-0.4-py3.9-linux-x86_64.egg/regions/shapes/ellipse.py\", line 175, in to_mask\n",
      "    fraction = elliptical_overlap_grid(\n",
      "ZeroDivisionError: float division\n"
     ]
    },
    {
     "ename": "ZeroDivisionError",
     "evalue": "float division",
     "output_type": "error",
     "traceback": [
      "\u001b[0;31m---------------------------------------------------------------------------\u001b[0m",
      "\u001b[0;31mZeroDivisionError\u001b[0m                         Traceback (most recent call last)",
      "\u001b[0;31mZeroDivisionError\u001b[0m: float division"
     ]
    },
    {
     "name": "stderr",
     "output_type": "stream",
     "text": [
      "Exception ignored in: 'regions._geometry.elliptical_overlap.elliptical_overlap_single_subpixel'\n",
      "Traceback (most recent call last):\n",
      "  File \"/mnt/home/turne540/software/anaconda3/envs/xga_dev/lib/python3.9/site-packages/regions-0.4-py3.9-linux-x86_64.egg/regions/shapes/ellipse.py\", line 175, in to_mask\n",
      "    fraction = elliptical_overlap_grid(\n",
      "ZeroDivisionError: float division\n"
     ]
    },
    {
     "ename": "ZeroDivisionError",
     "evalue": "float division",
     "output_type": "error",
     "traceback": [
      "\u001b[0;31m---------------------------------------------------------------------------\u001b[0m",
      "\u001b[0;31mZeroDivisionError\u001b[0m                         Traceback (most recent call last)",
      "\u001b[0;31mZeroDivisionError\u001b[0m: float division"
     ]
    },
    {
     "name": "stderr",
     "output_type": "stream",
     "text": [
      "Exception ignored in: 'regions._geometry.elliptical_overlap.elliptical_overlap_single_subpixel'\n",
      "Traceback (most recent call last):\n",
      "  File \"/mnt/home/turne540/software/anaconda3/envs/xga_dev/lib/python3.9/site-packages/regions-0.4-py3.9-linux-x86_64.egg/regions/shapes/ellipse.py\", line 175, in to_mask\n",
      "    fraction = elliptical_overlap_grid(\n",
      "ZeroDivisionError: float division\n"
     ]
    },
    {
     "ename": "ZeroDivisionError",
     "evalue": "float division",
     "output_type": "error",
     "traceback": [
      "\u001b[0;31m---------------------------------------------------------------------------\u001b[0m",
      "\u001b[0;31mZeroDivisionError\u001b[0m                         Traceback (most recent call last)",
      "\u001b[0;31mZeroDivisionError\u001b[0m: float division"
     ]
    },
    {
     "name": "stderr",
     "output_type": "stream",
     "text": [
      "Exception ignored in: 'regions._geometry.elliptical_overlap.elliptical_overlap_single_subpixel'\n",
      "Traceback (most recent call last):\n",
      "  File \"/mnt/home/turne540/software/anaconda3/envs/xga_dev/lib/python3.9/site-packages/regions-0.4-py3.9-linux-x86_64.egg/regions/shapes/ellipse.py\", line 175, in to_mask\n",
      "    fraction = elliptical_overlap_grid(\n",
      "ZeroDivisionError: float division\n"
     ]
    },
    {
     "ename": "ZeroDivisionError",
     "evalue": "float division",
     "output_type": "error",
     "traceback": [
      "\u001b[0;31m---------------------------------------------------------------------------\u001b[0m",
      "\u001b[0;31mZeroDivisionError\u001b[0m                         Traceback (most recent call last)",
      "\u001b[0;31mZeroDivisionError\u001b[0m: float division"
     ]
    },
    {
     "name": "stderr",
     "output_type": "stream",
     "text": [
      "Exception ignored in: 'regions._geometry.elliptical_overlap.elliptical_overlap_single_subpixel'\n",
      "Traceback (most recent call last):\n",
      "  File \"/mnt/home/turne540/software/anaconda3/envs/xga_dev/lib/python3.9/site-packages/regions-0.4-py3.9-linux-x86_64.egg/regions/shapes/ellipse.py\", line 175, in to_mask\n",
      "    fraction = elliptical_overlap_grid(\n",
      "ZeroDivisionError: float division\n"
     ]
    },
    {
     "ename": "ZeroDivisionError",
     "evalue": "float division",
     "output_type": "error",
     "traceback": [
      "\u001b[0;31m---------------------------------------------------------------------------\u001b[0m",
      "\u001b[0;31mZeroDivisionError\u001b[0m                         Traceback (most recent call last)",
      "\u001b[0;31mZeroDivisionError\u001b[0m: float division"
     ]
    },
    {
     "name": "stderr",
     "output_type": "stream",
     "text": [
      "Exception ignored in: 'regions._geometry.elliptical_overlap.elliptical_overlap_single_subpixel'\n",
      "Traceback (most recent call last):\n",
      "  File \"/mnt/home/turne540/software/anaconda3/envs/xga_dev/lib/python3.9/site-packages/regions-0.4-py3.9-linux-x86_64.egg/regions/shapes/ellipse.py\", line 175, in to_mask\n",
      "    fraction = elliptical_overlap_grid(\n",
      "ZeroDivisionError: float division\n"
     ]
    },
    {
     "ename": "ZeroDivisionError",
     "evalue": "float division",
     "output_type": "error",
     "traceback": [
      "\u001b[0;31m---------------------------------------------------------------------------\u001b[0m",
      "\u001b[0;31mZeroDivisionError\u001b[0m                         Traceback (most recent call last)",
      "\u001b[0;31mZeroDivisionError\u001b[0m: float division"
     ]
    },
    {
     "name": "stderr",
     "output_type": "stream",
     "text": [
      "Exception ignored in: 'regions._geometry.elliptical_overlap.elliptical_overlap_single_subpixel'\n",
      "Traceback (most recent call last):\n",
      "  File \"/mnt/home/turne540/software/anaconda3/envs/xga_dev/lib/python3.9/site-packages/regions-0.4-py3.9-linux-x86_64.egg/regions/shapes/ellipse.py\", line 175, in to_mask\n",
      "    fraction = elliptical_overlap_grid(\n",
      "ZeroDivisionError: float division\n"
     ]
    },
    {
     "ename": "ZeroDivisionError",
     "evalue": "float division",
     "output_type": "error",
     "traceback": [
      "\u001b[0;31m---------------------------------------------------------------------------\u001b[0m",
      "\u001b[0;31mZeroDivisionError\u001b[0m                         Traceback (most recent call last)",
      "\u001b[0;31mZeroDivisionError\u001b[0m: float division"
     ]
    },
    {
     "name": "stderr",
     "output_type": "stream",
     "text": [
      "Exception ignored in: 'regions._geometry.elliptical_overlap.elliptical_overlap_single_subpixel'\n",
      "Traceback (most recent call last):\n",
      "  File \"/mnt/home/turne540/software/anaconda3/envs/xga_dev/lib/python3.9/site-packages/regions-0.4-py3.9-linux-x86_64.egg/regions/shapes/ellipse.py\", line 175, in to_mask\n",
      "    fraction = elliptical_overlap_grid(\n",
      "ZeroDivisionError: float division\n"
     ]
    },
    {
     "ename": "ZeroDivisionError",
     "evalue": "float division",
     "output_type": "error",
     "traceback": [
      "\u001b[0;31m---------------------------------------------------------------------------\u001b[0m",
      "\u001b[0;31mZeroDivisionError\u001b[0m                         Traceback (most recent call last)",
      "\u001b[0;31mZeroDivisionError\u001b[0m: float division"
     ]
    },
    {
     "name": "stderr",
     "output_type": "stream",
     "text": [
      "Exception ignored in: 'regions._geometry.elliptical_overlap.elliptical_overlap_single_subpixel'\n",
      "Traceback (most recent call last):\n",
      "  File \"/mnt/home/turne540/software/anaconda3/envs/xga_dev/lib/python3.9/site-packages/regions-0.4-py3.9-linux-x86_64.egg/regions/shapes/ellipse.py\", line 175, in to_mask\n",
      "    fraction = elliptical_overlap_grid(\n",
      "ZeroDivisionError: float division\n"
     ]
    },
    {
     "ename": "ZeroDivisionError",
     "evalue": "float division",
     "output_type": "error",
     "traceback": [
      "\u001b[0;31m---------------------------------------------------------------------------\u001b[0m",
      "\u001b[0;31mZeroDivisionError\u001b[0m                         Traceback (most recent call last)",
      "\u001b[0;31mZeroDivisionError\u001b[0m: float division"
     ]
    },
    {
     "name": "stderr",
     "output_type": "stream",
     "text": [
      "Exception ignored in: 'regions._geometry.elliptical_overlap.elliptical_overlap_single_subpixel'\n",
      "Traceback (most recent call last):\n",
      "  File \"/mnt/home/turne540/software/anaconda3/envs/xga_dev/lib/python3.9/site-packages/regions-0.4-py3.9-linux-x86_64.egg/regions/shapes/ellipse.py\", line 175, in to_mask\n",
      "    fraction = elliptical_overlap_grid(\n",
      "ZeroDivisionError: float division\n"
     ]
    },
    {
     "ename": "ZeroDivisionError",
     "evalue": "float division",
     "output_type": "error",
     "traceback": [
      "\u001b[0;31m---------------------------------------------------------------------------\u001b[0m",
      "\u001b[0;31mZeroDivisionError\u001b[0m                         Traceback (most recent call last)",
      "\u001b[0;31mZeroDivisionError\u001b[0m: float division"
     ]
    },
    {
     "name": "stderr",
     "output_type": "stream",
     "text": [
      "Exception ignored in: 'regions._geometry.elliptical_overlap.elliptical_overlap_single_subpixel'\n",
      "Traceback (most recent call last):\n",
      "  File \"/mnt/home/turne540/software/anaconda3/envs/xga_dev/lib/python3.9/site-packages/regions-0.4-py3.9-linux-x86_64.egg/regions/shapes/ellipse.py\", line 175, in to_mask\n",
      "    fraction = elliptical_overlap_grid(\n",
      "ZeroDivisionError: float division\n"
     ]
    },
    {
     "ename": "ZeroDivisionError",
     "evalue": "float division",
     "output_type": "error",
     "traceback": [
      "\u001b[0;31m---------------------------------------------------------------------------\u001b[0m",
      "\u001b[0;31mZeroDivisionError\u001b[0m                         Traceback (most recent call last)",
      "\u001b[0;31mZeroDivisionError\u001b[0m: float division"
     ]
    },
    {
     "name": "stderr",
     "output_type": "stream",
     "text": [
      "Exception ignored in: 'regions._geometry.elliptical_overlap.elliptical_overlap_single_subpixel'\n",
      "Traceback (most recent call last):\n",
      "  File \"/mnt/home/turne540/software/anaconda3/envs/xga_dev/lib/python3.9/site-packages/regions-0.4-py3.9-linux-x86_64.egg/regions/shapes/ellipse.py\", line 175, in to_mask\n",
      "    fraction = elliptical_overlap_grid(\n",
      "ZeroDivisionError: float division\n"
     ]
    },
    {
     "ename": "ZeroDivisionError",
     "evalue": "float division",
     "output_type": "error",
     "traceback": [
      "\u001b[0;31m---------------------------------------------------------------------------\u001b[0m",
      "\u001b[0;31mZeroDivisionError\u001b[0m                         Traceback (most recent call last)",
      "\u001b[0;31mZeroDivisionError\u001b[0m: float division"
     ]
    },
    {
     "name": "stderr",
     "output_type": "stream",
     "text": [
      "Exception ignored in: 'regions._geometry.elliptical_overlap.elliptical_overlap_single_subpixel'\n",
      "Traceback (most recent call last):\n",
      "  File \"/mnt/home/turne540/software/anaconda3/envs/xga_dev/lib/python3.9/site-packages/regions-0.4-py3.9-linux-x86_64.egg/regions/shapes/ellipse.py\", line 175, in to_mask\n",
      "    fraction = elliptical_overlap_grid(\n",
      "ZeroDivisionError: float division\n"
     ]
    },
    {
     "ename": "ZeroDivisionError",
     "evalue": "float division",
     "output_type": "error",
     "traceback": [
      "\u001b[0;31m---------------------------------------------------------------------------\u001b[0m",
      "\u001b[0;31mZeroDivisionError\u001b[0m                         Traceback (most recent call last)",
      "\u001b[0;31mZeroDivisionError\u001b[0m: float division"
     ]
    },
    {
     "name": "stderr",
     "output_type": "stream",
     "text": [
      "Exception ignored in: 'regions._geometry.elliptical_overlap.elliptical_overlap_single_subpixel'\n",
      "Traceback (most recent call last):\n",
      "  File \"/mnt/home/turne540/software/anaconda3/envs/xga_dev/lib/python3.9/site-packages/regions-0.4-py3.9-linux-x86_64.egg/regions/shapes/ellipse.py\", line 175, in to_mask\n",
      "    fraction = elliptical_overlap_grid(\n",
      "ZeroDivisionError: float division\n"
     ]
    },
    {
     "ename": "ZeroDivisionError",
     "evalue": "float division",
     "output_type": "error",
     "traceback": [
      "\u001b[0;31m---------------------------------------------------------------------------\u001b[0m",
      "\u001b[0;31mZeroDivisionError\u001b[0m                         Traceback (most recent call last)",
      "\u001b[0;31mZeroDivisionError\u001b[0m: float division"
     ]
    },
    {
     "name": "stderr",
     "output_type": "stream",
     "text": [
      "Exception ignored in: 'regions._geometry.elliptical_overlap.elliptical_overlap_single_subpixel'\n",
      "Traceback (most recent call last):\n",
      "  File \"/mnt/home/turne540/software/anaconda3/envs/xga_dev/lib/python3.9/site-packages/regions-0.4-py3.9-linux-x86_64.egg/regions/shapes/ellipse.py\", line 175, in to_mask\n",
      "    fraction = elliptical_overlap_grid(\n",
      "ZeroDivisionError: float division\n"
     ]
    },
    {
     "ename": "ZeroDivisionError",
     "evalue": "float division",
     "output_type": "error",
     "traceback": [
      "\u001b[0;31m---------------------------------------------------------------------------\u001b[0m",
      "\u001b[0;31mZeroDivisionError\u001b[0m                         Traceback (most recent call last)",
      "\u001b[0;31mZeroDivisionError\u001b[0m: float division"
     ]
    },
    {
     "name": "stderr",
     "output_type": "stream",
     "text": [
      "Exception ignored in: 'regions._geometry.elliptical_overlap.elliptical_overlap_single_subpixel'\n",
      "Traceback (most recent call last):\n",
      "  File \"/mnt/home/turne540/software/anaconda3/envs/xga_dev/lib/python3.9/site-packages/regions-0.4-py3.9-linux-x86_64.egg/regions/shapes/ellipse.py\", line 175, in to_mask\n",
      "    fraction = elliptical_overlap_grid(\n",
      "ZeroDivisionError: float division\n"
     ]
    },
    {
     "ename": "ZeroDivisionError",
     "evalue": "float division",
     "output_type": "error",
     "traceback": [
      "\u001b[0;31m---------------------------------------------------------------------------\u001b[0m",
      "\u001b[0;31mZeroDivisionError\u001b[0m                         Traceback (most recent call last)",
      "\u001b[0;31mZeroDivisionError\u001b[0m: float division"
     ]
    },
    {
     "name": "stderr",
     "output_type": "stream",
     "text": [
      "Exception ignored in: 'regions._geometry.elliptical_overlap.elliptical_overlap_single_subpixel'\n",
      "Traceback (most recent call last):\n",
      "  File \"/mnt/home/turne540/software/anaconda3/envs/xga_dev/lib/python3.9/site-packages/regions-0.4-py3.9-linux-x86_64.egg/regions/shapes/ellipse.py\", line 175, in to_mask\n",
      "    fraction = elliptical_overlap_grid(\n",
      "ZeroDivisionError: float division\n"
     ]
    },
    {
     "ename": "ZeroDivisionError",
     "evalue": "float division",
     "output_type": "error",
     "traceback": [
      "\u001b[0;31m---------------------------------------------------------------------------\u001b[0m",
      "\u001b[0;31mZeroDivisionError\u001b[0m                         Traceback (most recent call last)",
      "\u001b[0;31mZeroDivisionError\u001b[0m: float division"
     ]
    },
    {
     "name": "stderr",
     "output_type": "stream",
     "text": [
      "Exception ignored in: 'regions._geometry.elliptical_overlap.elliptical_overlap_single_subpixel'\n",
      "Traceback (most recent call last):\n",
      "  File \"/mnt/home/turne540/software/anaconda3/envs/xga_dev/lib/python3.9/site-packages/regions-0.4-py3.9-linux-x86_64.egg/regions/shapes/ellipse.py\", line 175, in to_mask\n",
      "    fraction = elliptical_overlap_grid(\n",
      "ZeroDivisionError: float division\n"
     ]
    },
    {
     "ename": "ZeroDivisionError",
     "evalue": "float division",
     "output_type": "error",
     "traceback": [
      "\u001b[0;31m---------------------------------------------------------------------------\u001b[0m",
      "\u001b[0;31mZeroDivisionError\u001b[0m                         Traceback (most recent call last)",
      "\u001b[0;31mZeroDivisionError\u001b[0m: float division"
     ]
    },
    {
     "name": "stderr",
     "output_type": "stream",
     "text": [
      "Exception ignored in: 'regions._geometry.elliptical_overlap.elliptical_overlap_single_subpixel'\n",
      "Traceback (most recent call last):\n",
      "  File \"/mnt/home/turne540/software/anaconda3/envs/xga_dev/lib/python3.9/site-packages/regions-0.4-py3.9-linux-x86_64.egg/regions/shapes/ellipse.py\", line 175, in to_mask\n",
      "    fraction = elliptical_overlap_grid(\n",
      "ZeroDivisionError: float division\n"
     ]
    },
    {
     "ename": "ZeroDivisionError",
     "evalue": "float division",
     "output_type": "error",
     "traceback": [
      "\u001b[0;31m---------------------------------------------------------------------------\u001b[0m",
      "\u001b[0;31mZeroDivisionError\u001b[0m                         Traceback (most recent call last)",
      "\u001b[0;31mZeroDivisionError\u001b[0m: float division"
     ]
    },
    {
     "name": "stderr",
     "output_type": "stream",
     "text": [
      "Exception ignored in: 'regions._geometry.elliptical_overlap.elliptical_overlap_single_subpixel'\n",
      "Traceback (most recent call last):\n",
      "  File \"/mnt/home/turne540/software/anaconda3/envs/xga_dev/lib/python3.9/site-packages/regions-0.4-py3.9-linux-x86_64.egg/regions/shapes/ellipse.py\", line 175, in to_mask\n",
      "    fraction = elliptical_overlap_grid(\n",
      "ZeroDivisionError: float division\n"
     ]
    },
    {
     "ename": "ZeroDivisionError",
     "evalue": "float division",
     "output_type": "error",
     "traceback": [
      "\u001b[0;31m---------------------------------------------------------------------------\u001b[0m",
      "\u001b[0;31mZeroDivisionError\u001b[0m                         Traceback (most recent call last)",
      "\u001b[0;31mZeroDivisionError\u001b[0m: float division"
     ]
    },
    {
     "name": "stderr",
     "output_type": "stream",
     "text": [
      "Exception ignored in: 'regions._geometry.elliptical_overlap.elliptical_overlap_single_subpixel'\n",
      "Traceback (most recent call last):\n",
      "  File \"/mnt/home/turne540/software/anaconda3/envs/xga_dev/lib/python3.9/site-packages/regions-0.4-py3.9-linux-x86_64.egg/regions/shapes/ellipse.py\", line 175, in to_mask\n",
      "    fraction = elliptical_overlap_grid(\n",
      "ZeroDivisionError: float division\n"
     ]
    },
    {
     "ename": "ZeroDivisionError",
     "evalue": "float division",
     "output_type": "error",
     "traceback": [
      "\u001b[0;31m---------------------------------------------------------------------------\u001b[0m",
      "\u001b[0;31mZeroDivisionError\u001b[0m                         Traceback (most recent call last)",
      "\u001b[0;31mZeroDivisionError\u001b[0m: float division"
     ]
    },
    {
     "name": "stderr",
     "output_type": "stream",
     "text": [
      "Exception ignored in: 'regions._geometry.elliptical_overlap.elliptical_overlap_single_subpixel'\n",
      "Traceback (most recent call last):\n",
      "  File \"/mnt/home/turne540/software/anaconda3/envs/xga_dev/lib/python3.9/site-packages/regions-0.4-py3.9-linux-x86_64.egg/regions/shapes/ellipse.py\", line 175, in to_mask\n",
      "    fraction = elliptical_overlap_grid(\n",
      "ZeroDivisionError: float division\n"
     ]
    },
    {
     "ename": "ZeroDivisionError",
     "evalue": "float division",
     "output_type": "error",
     "traceback": [
      "\u001b[0;31m---------------------------------------------------------------------------\u001b[0m",
      "\u001b[0;31mZeroDivisionError\u001b[0m                         Traceback (most recent call last)",
      "\u001b[0;31mZeroDivisionError\u001b[0m: float division"
     ]
    },
    {
     "name": "stderr",
     "output_type": "stream",
     "text": [
      "Exception ignored in: 'regions._geometry.elliptical_overlap.elliptical_overlap_single_subpixel'\n",
      "Traceback (most recent call last):\n",
      "  File \"/mnt/home/turne540/software/anaconda3/envs/xga_dev/lib/python3.9/site-packages/regions-0.4-py3.9-linux-x86_64.egg/regions/shapes/ellipse.py\", line 175, in to_mask\n",
      "    fraction = elliptical_overlap_grid(\n",
      "ZeroDivisionError: float division\n"
     ]
    },
    {
     "ename": "ZeroDivisionError",
     "evalue": "float division",
     "output_type": "error",
     "traceback": [
      "\u001b[0;31m---------------------------------------------------------------------------\u001b[0m",
      "\u001b[0;31mZeroDivisionError\u001b[0m                         Traceback (most recent call last)",
      "\u001b[0;31mZeroDivisionError\u001b[0m: float division"
     ]
    },
    {
     "name": "stderr",
     "output_type": "stream",
     "text": [
      "Exception ignored in: 'regions._geometry.elliptical_overlap.elliptical_overlap_single_subpixel'\n",
      "Traceback (most recent call last):\n",
      "  File \"/mnt/home/turne540/software/anaconda3/envs/xga_dev/lib/python3.9/site-packages/regions-0.4-py3.9-linux-x86_64.egg/regions/shapes/ellipse.py\", line 175, in to_mask\n",
      "    fraction = elliptical_overlap_grid(\n",
      "ZeroDivisionError: float division\n"
     ]
    },
    {
     "ename": "ZeroDivisionError",
     "evalue": "float division",
     "output_type": "error",
     "traceback": [
      "\u001b[0;31m---------------------------------------------------------------------------\u001b[0m",
      "\u001b[0;31mZeroDivisionError\u001b[0m                         Traceback (most recent call last)",
      "\u001b[0;31mZeroDivisionError\u001b[0m: float division"
     ]
    },
    {
     "name": "stderr",
     "output_type": "stream",
     "text": [
      "Exception ignored in: 'regions._geometry.elliptical_overlap.elliptical_overlap_single_subpixel'\n",
      "Traceback (most recent call last):\n",
      "  File \"/mnt/home/turne540/software/anaconda3/envs/xga_dev/lib/python3.9/site-packages/regions-0.4-py3.9-linux-x86_64.egg/regions/shapes/ellipse.py\", line 175, in to_mask\n",
      "    fraction = elliptical_overlap_grid(\n",
      "ZeroDivisionError: float division\n"
     ]
    },
    {
     "ename": "ZeroDivisionError",
     "evalue": "float division",
     "output_type": "error",
     "traceback": [
      "\u001b[0;31m---------------------------------------------------------------------------\u001b[0m",
      "\u001b[0;31mZeroDivisionError\u001b[0m                         Traceback (most recent call last)",
      "\u001b[0;31mZeroDivisionError\u001b[0m: float division"
     ]
    },
    {
     "name": "stderr",
     "output_type": "stream",
     "text": [
      "Exception ignored in: 'regions._geometry.elliptical_overlap.elliptical_overlap_single_subpixel'\n",
      "Traceback (most recent call last):\n",
      "  File \"/mnt/home/turne540/software/anaconda3/envs/xga_dev/lib/python3.9/site-packages/regions-0.4-py3.9-linux-x86_64.egg/regions/shapes/ellipse.py\", line 175, in to_mask\n",
      "    fraction = elliptical_overlap_grid(\n",
      "ZeroDivisionError: float division\n"
     ]
    },
    {
     "ename": "ZeroDivisionError",
     "evalue": "float division",
     "output_type": "error",
     "traceback": [
      "\u001b[0;31m---------------------------------------------------------------------------\u001b[0m",
      "\u001b[0;31mZeroDivisionError\u001b[0m                         Traceback (most recent call last)",
      "\u001b[0;31mZeroDivisionError\u001b[0m: float division"
     ]
    },
    {
     "name": "stderr",
     "output_type": "stream",
     "text": [
      "Exception ignored in: 'regions._geometry.elliptical_overlap.elliptical_overlap_single_subpixel'\n",
      "Traceback (most recent call last):\n",
      "  File \"/mnt/home/turne540/software/anaconda3/envs/xga_dev/lib/python3.9/site-packages/regions-0.4-py3.9-linux-x86_64.egg/regions/shapes/ellipse.py\", line 175, in to_mask\n",
      "    fraction = elliptical_overlap_grid(\n",
      "ZeroDivisionError: float division\n"
     ]
    },
    {
     "ename": "ZeroDivisionError",
     "evalue": "float division",
     "output_type": "error",
     "traceback": [
      "\u001b[0;31m---------------------------------------------------------------------------\u001b[0m",
      "\u001b[0;31mZeroDivisionError\u001b[0m                         Traceback (most recent call last)",
      "\u001b[0;31mZeroDivisionError\u001b[0m: float division"
     ]
    },
    {
     "name": "stderr",
     "output_type": "stream",
     "text": [
      "Exception ignored in: 'regions._geometry.elliptical_overlap.elliptical_overlap_single_subpixel'\n",
      "Traceback (most recent call last):\n",
      "  File \"/mnt/home/turne540/software/anaconda3/envs/xga_dev/lib/python3.9/site-packages/regions-0.4-py3.9-linux-x86_64.egg/regions/shapes/ellipse.py\", line 175, in to_mask\n",
      "    fraction = elliptical_overlap_grid(\n",
      "ZeroDivisionError: float division\n"
     ]
    },
    {
     "ename": "ZeroDivisionError",
     "evalue": "float division",
     "output_type": "error",
     "traceback": [
      "\u001b[0;31m---------------------------------------------------------------------------\u001b[0m",
      "\u001b[0;31mZeroDivisionError\u001b[0m                         Traceback (most recent call last)",
      "\u001b[0;31mZeroDivisionError\u001b[0m: float division"
     ]
    },
    {
     "name": "stderr",
     "output_type": "stream",
     "text": [
      "Exception ignored in: 'regions._geometry.elliptical_overlap.elliptical_overlap_single_subpixel'\n",
      "Traceback (most recent call last):\n",
      "  File \"/mnt/home/turne540/software/anaconda3/envs/xga_dev/lib/python3.9/site-packages/regions-0.4-py3.9-linux-x86_64.egg/regions/shapes/ellipse.py\", line 175, in to_mask\n",
      "    fraction = elliptical_overlap_grid(\n",
      "ZeroDivisionError: float division\n"
     ]
    },
    {
     "ename": "ZeroDivisionError",
     "evalue": "float division",
     "output_type": "error",
     "traceback": [
      "\u001b[0;31m---------------------------------------------------------------------------\u001b[0m",
      "\u001b[0;31mZeroDivisionError\u001b[0m                         Traceback (most recent call last)",
      "\u001b[0;31mZeroDivisionError\u001b[0m: float division"
     ]
    },
    {
     "name": "stderr",
     "output_type": "stream",
     "text": [
      "Exception ignored in: 'regions._geometry.elliptical_overlap.elliptical_overlap_single_subpixel'\n",
      "Traceback (most recent call last):\n",
      "  File \"/mnt/home/turne540/software/anaconda3/envs/xga_dev/lib/python3.9/site-packages/regions-0.4-py3.9-linux-x86_64.egg/regions/shapes/ellipse.py\", line 175, in to_mask\n",
      "    fraction = elliptical_overlap_grid(\n",
      "ZeroDivisionError: float division\n"
     ]
    },
    {
     "ename": "ZeroDivisionError",
     "evalue": "float division",
     "output_type": "error",
     "traceback": [
      "\u001b[0;31m---------------------------------------------------------------------------\u001b[0m",
      "\u001b[0;31mZeroDivisionError\u001b[0m                         Traceback (most recent call last)",
      "\u001b[0;31mZeroDivisionError\u001b[0m: float division"
     ]
    },
    {
     "name": "stderr",
     "output_type": "stream",
     "text": [
      "Exception ignored in: 'regions._geometry.elliptical_overlap.elliptical_overlap_single_subpixel'\n",
      "Traceback (most recent call last):\n",
      "  File \"/mnt/home/turne540/software/anaconda3/envs/xga_dev/lib/python3.9/site-packages/regions-0.4-py3.9-linux-x86_64.egg/regions/shapes/ellipse.py\", line 175, in to_mask\n",
      "    fraction = elliptical_overlap_grid(\n",
      "ZeroDivisionError: float division\n"
     ]
    },
    {
     "ename": "ZeroDivisionError",
     "evalue": "float division",
     "output_type": "error",
     "traceback": [
      "\u001b[0;31m---------------------------------------------------------------------------\u001b[0m",
      "\u001b[0;31mZeroDivisionError\u001b[0m                         Traceback (most recent call last)",
      "\u001b[0;31mZeroDivisionError\u001b[0m: float division"
     ]
    },
    {
     "name": "stderr",
     "output_type": "stream",
     "text": [
      "Exception ignored in: 'regions._geometry.elliptical_overlap.elliptical_overlap_single_subpixel'\n",
      "Traceback (most recent call last):\n",
      "  File \"/mnt/home/turne540/software/anaconda3/envs/xga_dev/lib/python3.9/site-packages/regions-0.4-py3.9-linux-x86_64.egg/regions/shapes/ellipse.py\", line 175, in to_mask\n",
      "    fraction = elliptical_overlap_grid(\n",
      "ZeroDivisionError: float division\n"
     ]
    },
    {
     "ename": "ZeroDivisionError",
     "evalue": "float division",
     "output_type": "error",
     "traceback": [
      "\u001b[0;31m---------------------------------------------------------------------------\u001b[0m",
      "\u001b[0;31mZeroDivisionError\u001b[0m                         Traceback (most recent call last)",
      "\u001b[0;31mZeroDivisionError\u001b[0m: float division"
     ]
    },
    {
     "name": "stderr",
     "output_type": "stream",
     "text": [
      "Exception ignored in: 'regions._geometry.elliptical_overlap.elliptical_overlap_single_subpixel'\n",
      "Traceback (most recent call last):\n",
      "  File \"/mnt/home/turne540/software/anaconda3/envs/xga_dev/lib/python3.9/site-packages/regions-0.4-py3.9-linux-x86_64.egg/regions/shapes/ellipse.py\", line 175, in to_mask\n",
      "    fraction = elliptical_overlap_grid(\n",
      "ZeroDivisionError: float division\n"
     ]
    },
    {
     "ename": "ZeroDivisionError",
     "evalue": "float division",
     "output_type": "error",
     "traceback": [
      "\u001b[0;31m---------------------------------------------------------------------------\u001b[0m",
      "\u001b[0;31mZeroDivisionError\u001b[0m                         Traceback (most recent call last)",
      "\u001b[0;31mZeroDivisionError\u001b[0m: float division"
     ]
    },
    {
     "name": "stderr",
     "output_type": "stream",
     "text": [
      "Exception ignored in: 'regions._geometry.elliptical_overlap.elliptical_overlap_single_subpixel'\n",
      "Traceback (most recent call last):\n",
      "  File \"/mnt/home/turne540/software/anaconda3/envs/xga_dev/lib/python3.9/site-packages/regions-0.4-py3.9-linux-x86_64.egg/regions/shapes/ellipse.py\", line 175, in to_mask\n",
      "    fraction = elliptical_overlap_grid(\n",
      "ZeroDivisionError: float division\n"
     ]
    },
    {
     "ename": "ZeroDivisionError",
     "evalue": "float division",
     "output_type": "error",
     "traceback": [
      "\u001b[0;31m---------------------------------------------------------------------------\u001b[0m",
      "\u001b[0;31mZeroDivisionError\u001b[0m                         Traceback (most recent call last)",
      "\u001b[0;31mZeroDivisionError\u001b[0m: float division"
     ]
    },
    {
     "name": "stderr",
     "output_type": "stream",
     "text": [
      "Exception ignored in: 'regions._geometry.elliptical_overlap.elliptical_overlap_single_subpixel'\n",
      "Traceback (most recent call last):\n",
      "  File \"/mnt/home/turne540/software/anaconda3/envs/xga_dev/lib/python3.9/site-packages/regions-0.4-py3.9-linux-x86_64.egg/regions/shapes/ellipse.py\", line 175, in to_mask\n",
      "    fraction = elliptical_overlap_grid(\n",
      "ZeroDivisionError: float division\n"
     ]
    },
    {
     "ename": "ZeroDivisionError",
     "evalue": "float division",
     "output_type": "error",
     "traceback": [
      "\u001b[0;31m---------------------------------------------------------------------------\u001b[0m",
      "\u001b[0;31mZeroDivisionError\u001b[0m                         Traceback (most recent call last)",
      "\u001b[0;31mZeroDivisionError\u001b[0m: float division"
     ]
    },
    {
     "name": "stderr",
     "output_type": "stream",
     "text": [
      "Exception ignored in: 'regions._geometry.elliptical_overlap.elliptical_overlap_single_subpixel'\n",
      "Traceback (most recent call last):\n",
      "  File \"/mnt/home/turne540/software/anaconda3/envs/xga_dev/lib/python3.9/site-packages/regions-0.4-py3.9-linux-x86_64.egg/regions/shapes/ellipse.py\", line 175, in to_mask\n",
      "    fraction = elliptical_overlap_grid(\n",
      "ZeroDivisionError: float division\n"
     ]
    },
    {
     "ename": "ZeroDivisionError",
     "evalue": "float division",
     "output_type": "error",
     "traceback": [
      "\u001b[0;31m---------------------------------------------------------------------------\u001b[0m",
      "\u001b[0;31mZeroDivisionError\u001b[0m                         Traceback (most recent call last)",
      "\u001b[0;31mZeroDivisionError\u001b[0m: float division"
     ]
    },
    {
     "name": "stderr",
     "output_type": "stream",
     "text": [
      "Exception ignored in: 'regions._geometry.elliptical_overlap.elliptical_overlap_single_subpixel'\n",
      "Traceback (most recent call last):\n",
      "  File \"/mnt/home/turne540/software/anaconda3/envs/xga_dev/lib/python3.9/site-packages/regions-0.4-py3.9-linux-x86_64.egg/regions/shapes/ellipse.py\", line 175, in to_mask\n",
      "    fraction = elliptical_overlap_grid(\n",
      "ZeroDivisionError: float division\n"
     ]
    },
    {
     "ename": "ZeroDivisionError",
     "evalue": "float division",
     "output_type": "error",
     "traceback": [
      "\u001b[0;31m---------------------------------------------------------------------------\u001b[0m",
      "\u001b[0;31mZeroDivisionError\u001b[0m                         Traceback (most recent call last)",
      "\u001b[0;31mZeroDivisionError\u001b[0m: float division"
     ]
    },
    {
     "name": "stderr",
     "output_type": "stream",
     "text": [
      "Exception ignored in: 'regions._geometry.elliptical_overlap.elliptical_overlap_single_subpixel'\n",
      "Traceback (most recent call last):\n",
      "  File \"/mnt/home/turne540/software/anaconda3/envs/xga_dev/lib/python3.9/site-packages/regions-0.4-py3.9-linux-x86_64.egg/regions/shapes/ellipse.py\", line 175, in to_mask\n",
      "    fraction = elliptical_overlap_grid(\n",
      "ZeroDivisionError: float division\n"
     ]
    },
    {
     "ename": "ZeroDivisionError",
     "evalue": "float division",
     "output_type": "error",
     "traceback": [
      "\u001b[0;31m---------------------------------------------------------------------------\u001b[0m",
      "\u001b[0;31mZeroDivisionError\u001b[0m                         Traceback (most recent call last)",
      "\u001b[0;31mZeroDivisionError\u001b[0m: float division"
     ]
    },
    {
     "name": "stderr",
     "output_type": "stream",
     "text": [
      "Exception ignored in: 'regions._geometry.elliptical_overlap.elliptical_overlap_single_subpixel'\n",
      "Traceback (most recent call last):\n",
      "  File \"/mnt/home/turne540/software/anaconda3/envs/xga_dev/lib/python3.9/site-packages/regions-0.4-py3.9-linux-x86_64.egg/regions/shapes/ellipse.py\", line 175, in to_mask\n",
      "    fraction = elliptical_overlap_grid(\n",
      "ZeroDivisionError: float division\n"
     ]
    },
    {
     "ename": "ZeroDivisionError",
     "evalue": "float division",
     "output_type": "error",
     "traceback": [
      "\u001b[0;31m---------------------------------------------------------------------------\u001b[0m",
      "\u001b[0;31mZeroDivisionError\u001b[0m                         Traceback (most recent call last)",
      "\u001b[0;31mZeroDivisionError\u001b[0m: float division"
     ]
    },
    {
     "name": "stderr",
     "output_type": "stream",
     "text": [
      "Exception ignored in: 'regions._geometry.elliptical_overlap.elliptical_overlap_single_subpixel'\n",
      "Traceback (most recent call last):\n",
      "  File \"/mnt/home/turne540/software/anaconda3/envs/xga_dev/lib/python3.9/site-packages/regions-0.4-py3.9-linux-x86_64.egg/regions/shapes/ellipse.py\", line 175, in to_mask\n",
      "    fraction = elliptical_overlap_grid(\n",
      "ZeroDivisionError: float division\n"
     ]
    },
    {
     "ename": "ZeroDivisionError",
     "evalue": "float division",
     "output_type": "error",
     "traceback": [
      "\u001b[0;31m---------------------------------------------------------------------------\u001b[0m",
      "\u001b[0;31mZeroDivisionError\u001b[0m                         Traceback (most recent call last)",
      "\u001b[0;31mZeroDivisionError\u001b[0m: float division"
     ]
    },
    {
     "name": "stderr",
     "output_type": "stream",
     "text": [
      "Exception ignored in: 'regions._geometry.elliptical_overlap.elliptical_overlap_single_subpixel'\n",
      "Traceback (most recent call last):\n",
      "  File \"/mnt/home/turne540/software/anaconda3/envs/xga_dev/lib/python3.9/site-packages/regions-0.4-py3.9-linux-x86_64.egg/regions/shapes/ellipse.py\", line 175, in to_mask\n",
      "    fraction = elliptical_overlap_grid(\n",
      "ZeroDivisionError: float division\n"
     ]
    },
    {
     "ename": "ZeroDivisionError",
     "evalue": "float division",
     "output_type": "error",
     "traceback": [
      "\u001b[0;31m---------------------------------------------------------------------------\u001b[0m",
      "\u001b[0;31mZeroDivisionError\u001b[0m                         Traceback (most recent call last)",
      "\u001b[0;31mZeroDivisionError\u001b[0m: float division"
     ]
    },
    {
     "name": "stderr",
     "output_type": "stream",
     "text": [
      "Exception ignored in: 'regions._geometry.elliptical_overlap.elliptical_overlap_single_subpixel'\n",
      "Traceback (most recent call last):\n",
      "  File \"/mnt/home/turne540/software/anaconda3/envs/xga_dev/lib/python3.9/site-packages/regions-0.4-py3.9-linux-x86_64.egg/regions/shapes/ellipse.py\", line 175, in to_mask\n",
      "    fraction = elliptical_overlap_grid(\n",
      "ZeroDivisionError: float division\n"
     ]
    },
    {
     "ename": "ZeroDivisionError",
     "evalue": "float division",
     "output_type": "error",
     "traceback": [
      "\u001b[0;31m---------------------------------------------------------------------------\u001b[0m",
      "\u001b[0;31mZeroDivisionError\u001b[0m                         Traceback (most recent call last)",
      "\u001b[0;31mZeroDivisionError\u001b[0m: float division"
     ]
    },
    {
     "name": "stderr",
     "output_type": "stream",
     "text": [
      "Exception ignored in: 'regions._geometry.elliptical_overlap.elliptical_overlap_single_subpixel'\n",
      "Traceback (most recent call last):\n",
      "  File \"/mnt/home/turne540/software/anaconda3/envs/xga_dev/lib/python3.9/site-packages/regions-0.4-py3.9-linux-x86_64.egg/regions/shapes/ellipse.py\", line 175, in to_mask\n",
      "    fraction = elliptical_overlap_grid(\n",
      "ZeroDivisionError: float division\n"
     ]
    },
    {
     "ename": "ZeroDivisionError",
     "evalue": "float division",
     "output_type": "error",
     "traceback": [
      "\u001b[0;31m---------------------------------------------------------------------------\u001b[0m",
      "\u001b[0;31mZeroDivisionError\u001b[0m                         Traceback (most recent call last)",
      "\u001b[0;31mZeroDivisionError\u001b[0m: float division"
     ]
    },
    {
     "name": "stderr",
     "output_type": "stream",
     "text": [
      "Exception ignored in: 'regions._geometry.elliptical_overlap.elliptical_overlap_single_subpixel'\n",
      "Traceback (most recent call last):\n",
      "  File \"/mnt/home/turne540/software/anaconda3/envs/xga_dev/lib/python3.9/site-packages/regions-0.4-py3.9-linux-x86_64.egg/regions/shapes/ellipse.py\", line 175, in to_mask\n",
      "    fraction = elliptical_overlap_grid(\n",
      "ZeroDivisionError: float division\n"
     ]
    },
    {
     "ename": "ZeroDivisionError",
     "evalue": "float division",
     "output_type": "error",
     "traceback": [
      "\u001b[0;31m---------------------------------------------------------------------------\u001b[0m",
      "\u001b[0;31mZeroDivisionError\u001b[0m                         Traceback (most recent call last)",
      "\u001b[0;31mZeroDivisionError\u001b[0m: float division"
     ]
    },
    {
     "name": "stderr",
     "output_type": "stream",
     "text": [
      "Exception ignored in: 'regions._geometry.elliptical_overlap.elliptical_overlap_single_subpixel'\n",
      "Traceback (most recent call last):\n",
      "  File \"/mnt/home/turne540/software/anaconda3/envs/xga_dev/lib/python3.9/site-packages/regions-0.4-py3.9-linux-x86_64.egg/regions/shapes/ellipse.py\", line 175, in to_mask\n",
      "    fraction = elliptical_overlap_grid(\n",
      "ZeroDivisionError: float division\n"
     ]
    },
    {
     "ename": "ZeroDivisionError",
     "evalue": "float division",
     "output_type": "error",
     "traceback": [
      "\u001b[0;31m---------------------------------------------------------------------------\u001b[0m",
      "\u001b[0;31mZeroDivisionError\u001b[0m                         Traceback (most recent call last)",
      "\u001b[0;31mZeroDivisionError\u001b[0m: float division"
     ]
    },
    {
     "name": "stderr",
     "output_type": "stream",
     "text": [
      "Exception ignored in: 'regions._geometry.elliptical_overlap.elliptical_overlap_single_subpixel'\n",
      "Traceback (most recent call last):\n",
      "  File \"/mnt/home/turne540/software/anaconda3/envs/xga_dev/lib/python3.9/site-packages/regions-0.4-py3.9-linux-x86_64.egg/regions/shapes/ellipse.py\", line 175, in to_mask\n",
      "    fraction = elliptical_overlap_grid(\n",
      "ZeroDivisionError: float division\n"
     ]
    },
    {
     "ename": "ZeroDivisionError",
     "evalue": "float division",
     "output_type": "error",
     "traceback": [
      "\u001b[0;31m---------------------------------------------------------------------------\u001b[0m",
      "\u001b[0;31mZeroDivisionError\u001b[0m                         Traceback (most recent call last)",
      "\u001b[0;31mZeroDivisionError\u001b[0m: float division"
     ]
    },
    {
     "name": "stderr",
     "output_type": "stream",
     "text": [
      "Exception ignored in: 'regions._geometry.elliptical_overlap.elliptical_overlap_single_subpixel'\n",
      "Traceback (most recent call last):\n",
      "  File \"/mnt/home/turne540/software/anaconda3/envs/xga_dev/lib/python3.9/site-packages/regions-0.4-py3.9-linux-x86_64.egg/regions/shapes/ellipse.py\", line 175, in to_mask\n",
      "    fraction = elliptical_overlap_grid(\n",
      "ZeroDivisionError: float division\n"
     ]
    },
    {
     "ename": "ZeroDivisionError",
     "evalue": "float division",
     "output_type": "error",
     "traceback": [
      "\u001b[0;31m---------------------------------------------------------------------------\u001b[0m",
      "\u001b[0;31mZeroDivisionError\u001b[0m                         Traceback (most recent call last)",
      "\u001b[0;31mZeroDivisionError\u001b[0m: float division"
     ]
    },
    {
     "name": "stderr",
     "output_type": "stream",
     "text": [
      "Exception ignored in: 'regions._geometry.elliptical_overlap.elliptical_overlap_single_subpixel'\n",
      "Traceback (most recent call last):\n",
      "  File \"/mnt/home/turne540/software/anaconda3/envs/xga_dev/lib/python3.9/site-packages/regions-0.4-py3.9-linux-x86_64.egg/regions/shapes/ellipse.py\", line 175, in to_mask\n",
      "    fraction = elliptical_overlap_grid(\n",
      "ZeroDivisionError: float division\n"
     ]
    },
    {
     "ename": "ZeroDivisionError",
     "evalue": "float division",
     "output_type": "error",
     "traceback": [
      "\u001b[0;31m---------------------------------------------------------------------------\u001b[0m",
      "\u001b[0;31mZeroDivisionError\u001b[0m                         Traceback (most recent call last)",
      "\u001b[0;31mZeroDivisionError\u001b[0m: float division"
     ]
    },
    {
     "name": "stderr",
     "output_type": "stream",
     "text": [
      "Exception ignored in: 'regions._geometry.elliptical_overlap.elliptical_overlap_single_subpixel'\n",
      "Traceback (most recent call last):\n",
      "  File \"/mnt/home/turne540/software/anaconda3/envs/xga_dev/lib/python3.9/site-packages/regions-0.4-py3.9-linux-x86_64.egg/regions/shapes/ellipse.py\", line 175, in to_mask\n",
      "    fraction = elliptical_overlap_grid(\n",
      "ZeroDivisionError: float division\n",
      "Setting up Galaxy Clusters:  65%|██████▍   | 75/116 [03:09<01:05,  1.61s/it]/mnt/home/turne540/software/anaconda3/envs/xga_dev/lib/python3.9/site-packages/astropy/units/quantity.py:613: RuntimeWarning: divide by zero encountered in divide\n",
      "  result = super().__array_ufunc__(function, method, *arrays, **kwargs)\n"
     ]
    },
    {
     "ename": "ZeroDivisionError",
     "evalue": "float division",
     "output_type": "error",
     "traceback": [
      "\u001b[0;31m---------------------------------------------------------------------------\u001b[0m",
      "\u001b[0;31mZeroDivisionError\u001b[0m                         Traceback (most recent call last)",
      "\u001b[0;31mZeroDivisionError\u001b[0m: float division"
     ]
    },
    {
     "name": "stderr",
     "output_type": "stream",
     "text": [
      "Exception ignored in: 'regions._geometry.elliptical_overlap.elliptical_overlap_single_subpixel'\n",
      "Traceback (most recent call last):\n",
      "  File \"/mnt/home/turne540/software/anaconda3/envs/xga_dev/lib/python3.9/site-packages/regions-0.4-py3.9-linux-x86_64.egg/regions/shapes/ellipse.py\", line 175, in to_mask\n",
      "    fraction = elliptical_overlap_grid(\n",
      "ZeroDivisionError: float division\n"
     ]
    },
    {
     "ename": "ZeroDivisionError",
     "evalue": "float division",
     "output_type": "error",
     "traceback": [
      "\u001b[0;31m---------------------------------------------------------------------------\u001b[0m",
      "\u001b[0;31mZeroDivisionError\u001b[0m                         Traceback (most recent call last)",
      "\u001b[0;31mZeroDivisionError\u001b[0m: float division"
     ]
    },
    {
     "name": "stderr",
     "output_type": "stream",
     "text": [
      "Exception ignored in: 'regions._geometry.elliptical_overlap.elliptical_overlap_single_subpixel'\n",
      "Traceback (most recent call last):\n",
      "  File \"/mnt/home/turne540/software/anaconda3/envs/xga_dev/lib/python3.9/site-packages/regions-0.4-py3.9-linux-x86_64.egg/regions/shapes/ellipse.py\", line 175, in to_mask\n",
      "    fraction = elliptical_overlap_grid(\n",
      "ZeroDivisionError: float division\n"
     ]
    },
    {
     "ename": "ZeroDivisionError",
     "evalue": "float division",
     "output_type": "error",
     "traceback": [
      "\u001b[0;31m---------------------------------------------------------------------------\u001b[0m",
      "\u001b[0;31mZeroDivisionError\u001b[0m                         Traceback (most recent call last)",
      "\u001b[0;31mZeroDivisionError\u001b[0m: float division"
     ]
    },
    {
     "name": "stderr",
     "output_type": "stream",
     "text": [
      "Exception ignored in: 'regions._geometry.elliptical_overlap.elliptical_overlap_single_subpixel'\n",
      "Traceback (most recent call last):\n",
      "  File \"/mnt/home/turne540/software/anaconda3/envs/xga_dev/lib/python3.9/site-packages/regions-0.4-py3.9-linux-x86_64.egg/regions/shapes/ellipse.py\", line 175, in to_mask\n",
      "    fraction = elliptical_overlap_grid(\n",
      "ZeroDivisionError: float division\n"
     ]
    },
    {
     "ename": "ZeroDivisionError",
     "evalue": "float division",
     "output_type": "error",
     "traceback": [
      "\u001b[0;31m---------------------------------------------------------------------------\u001b[0m",
      "\u001b[0;31mZeroDivisionError\u001b[0m                         Traceback (most recent call last)",
      "\u001b[0;31mZeroDivisionError\u001b[0m: float division"
     ]
    },
    {
     "name": "stderr",
     "output_type": "stream",
     "text": [
      "Exception ignored in: 'regions._geometry.elliptical_overlap.elliptical_overlap_single_subpixel'\n",
      "Traceback (most recent call last):\n",
      "  File \"/mnt/home/turne540/software/anaconda3/envs/xga_dev/lib/python3.9/site-packages/regions-0.4-py3.9-linux-x86_64.egg/regions/shapes/ellipse.py\", line 175, in to_mask\n",
      "    fraction = elliptical_overlap_grid(\n",
      "ZeroDivisionError: float division\n"
     ]
    },
    {
     "ename": "ZeroDivisionError",
     "evalue": "float division",
     "output_type": "error",
     "traceback": [
      "\u001b[0;31m---------------------------------------------------------------------------\u001b[0m",
      "\u001b[0;31mZeroDivisionError\u001b[0m                         Traceback (most recent call last)",
      "\u001b[0;31mZeroDivisionError\u001b[0m: float division"
     ]
    },
    {
     "name": "stderr",
     "output_type": "stream",
     "text": [
      "Exception ignored in: 'regions._geometry.elliptical_overlap.elliptical_overlap_single_subpixel'\n",
      "Traceback (most recent call last):\n",
      "  File \"/mnt/home/turne540/software/anaconda3/envs/xga_dev/lib/python3.9/site-packages/regions-0.4-py3.9-linux-x86_64.egg/regions/shapes/ellipse.py\", line 175, in to_mask\n",
      "    fraction = elliptical_overlap_grid(\n",
      "ZeroDivisionError: float division\n"
     ]
    },
    {
     "ename": "ZeroDivisionError",
     "evalue": "float division",
     "output_type": "error",
     "traceback": [
      "\u001b[0;31m---------------------------------------------------------------------------\u001b[0m",
      "\u001b[0;31mZeroDivisionError\u001b[0m                         Traceback (most recent call last)",
      "\u001b[0;31mZeroDivisionError\u001b[0m: float division"
     ]
    },
    {
     "name": "stderr",
     "output_type": "stream",
     "text": [
      "Exception ignored in: 'regions._geometry.elliptical_overlap.elliptical_overlap_single_subpixel'\n",
      "Traceback (most recent call last):\n",
      "  File \"/mnt/home/turne540/software/anaconda3/envs/xga_dev/lib/python3.9/site-packages/regions-0.4-py3.9-linux-x86_64.egg/regions/shapes/ellipse.py\", line 175, in to_mask\n",
      "    fraction = elliptical_overlap_grid(\n",
      "ZeroDivisionError: float division\n"
     ]
    },
    {
     "ename": "ZeroDivisionError",
     "evalue": "float division",
     "output_type": "error",
     "traceback": [
      "\u001b[0;31m---------------------------------------------------------------------------\u001b[0m",
      "\u001b[0;31mZeroDivisionError\u001b[0m                         Traceback (most recent call last)",
      "\u001b[0;31mZeroDivisionError\u001b[0m: float division"
     ]
    },
    {
     "name": "stderr",
     "output_type": "stream",
     "text": [
      "Exception ignored in: 'regions._geometry.elliptical_overlap.elliptical_overlap_single_subpixel'\n",
      "Traceback (most recent call last):\n",
      "  File \"/mnt/home/turne540/software/anaconda3/envs/xga_dev/lib/python3.9/site-packages/regions-0.4-py3.9-linux-x86_64.egg/regions/shapes/ellipse.py\", line 175, in to_mask\n",
      "    fraction = elliptical_overlap_grid(\n",
      "ZeroDivisionError: float division\n"
     ]
    },
    {
     "ename": "ZeroDivisionError",
     "evalue": "float division",
     "output_type": "error",
     "traceback": [
      "\u001b[0;31m---------------------------------------------------------------------------\u001b[0m",
      "\u001b[0;31mZeroDivisionError\u001b[0m                         Traceback (most recent call last)",
      "\u001b[0;31mZeroDivisionError\u001b[0m: float division"
     ]
    },
    {
     "name": "stderr",
     "output_type": "stream",
     "text": [
      "Exception ignored in: 'regions._geometry.elliptical_overlap.elliptical_overlap_single_subpixel'\n",
      "Traceback (most recent call last):\n",
      "  File \"/mnt/home/turne540/software/anaconda3/envs/xga_dev/lib/python3.9/site-packages/regions-0.4-py3.9-linux-x86_64.egg/regions/shapes/ellipse.py\", line 175, in to_mask\n",
      "    fraction = elliptical_overlap_grid(\n",
      "ZeroDivisionError: float division\n"
     ]
    },
    {
     "ename": "ZeroDivisionError",
     "evalue": "float division",
     "output_type": "error",
     "traceback": [
      "\u001b[0;31m---------------------------------------------------------------------------\u001b[0m",
      "\u001b[0;31mZeroDivisionError\u001b[0m                         Traceback (most recent call last)",
      "\u001b[0;31mZeroDivisionError\u001b[0m: float division"
     ]
    },
    {
     "name": "stderr",
     "output_type": "stream",
     "text": [
      "Exception ignored in: 'regions._geometry.elliptical_overlap.elliptical_overlap_single_subpixel'\n",
      "Traceback (most recent call last):\n",
      "  File \"/mnt/home/turne540/software/anaconda3/envs/xga_dev/lib/python3.9/site-packages/regions-0.4-py3.9-linux-x86_64.egg/regions/shapes/ellipse.py\", line 175, in to_mask\n",
      "    fraction = elliptical_overlap_grid(\n",
      "ZeroDivisionError: float division\n"
     ]
    },
    {
     "ename": "ZeroDivisionError",
     "evalue": "float division",
     "output_type": "error",
     "traceback": [
      "\u001b[0;31m---------------------------------------------------------------------------\u001b[0m",
      "\u001b[0;31mZeroDivisionError\u001b[0m                         Traceback (most recent call last)",
      "\u001b[0;31mZeroDivisionError\u001b[0m: float division"
     ]
    },
    {
     "name": "stderr",
     "output_type": "stream",
     "text": [
      "Exception ignored in: 'regions._geometry.elliptical_overlap.elliptical_overlap_single_subpixel'\n",
      "Traceback (most recent call last):\n",
      "  File \"/mnt/home/turne540/software/anaconda3/envs/xga_dev/lib/python3.9/site-packages/regions-0.4-py3.9-linux-x86_64.egg/regions/shapes/ellipse.py\", line 175, in to_mask\n",
      "    fraction = elliptical_overlap_grid(\n",
      "ZeroDivisionError: float division\n"
     ]
    },
    {
     "ename": "ZeroDivisionError",
     "evalue": "float division",
     "output_type": "error",
     "traceback": [
      "\u001b[0;31m---------------------------------------------------------------------------\u001b[0m",
      "\u001b[0;31mZeroDivisionError\u001b[0m                         Traceback (most recent call last)",
      "\u001b[0;31mZeroDivisionError\u001b[0m: float division"
     ]
    },
    {
     "name": "stderr",
     "output_type": "stream",
     "text": [
      "Exception ignored in: 'regions._geometry.elliptical_overlap.elliptical_overlap_single_subpixel'\n",
      "Traceback (most recent call last):\n",
      "  File \"/mnt/home/turne540/software/anaconda3/envs/xga_dev/lib/python3.9/site-packages/regions-0.4-py3.9-linux-x86_64.egg/regions/shapes/ellipse.py\", line 175, in to_mask\n",
      "    fraction = elliptical_overlap_grid(\n",
      "ZeroDivisionError: float division\n"
     ]
    },
    {
     "ename": "ZeroDivisionError",
     "evalue": "float division",
     "output_type": "error",
     "traceback": [
      "\u001b[0;31m---------------------------------------------------------------------------\u001b[0m",
      "\u001b[0;31mZeroDivisionError\u001b[0m                         Traceback (most recent call last)",
      "\u001b[0;31mZeroDivisionError\u001b[0m: float division"
     ]
    },
    {
     "name": "stderr",
     "output_type": "stream",
     "text": [
      "Exception ignored in: 'regions._geometry.elliptical_overlap.elliptical_overlap_single_subpixel'\n",
      "Traceback (most recent call last):\n",
      "  File \"/mnt/home/turne540/software/anaconda3/envs/xga_dev/lib/python3.9/site-packages/regions-0.4-py3.9-linux-x86_64.egg/regions/shapes/ellipse.py\", line 175, in to_mask\n",
      "    fraction = elliptical_overlap_grid(\n",
      "ZeroDivisionError: float division\n"
     ]
    },
    {
     "ename": "ZeroDivisionError",
     "evalue": "float division",
     "output_type": "error",
     "traceback": [
      "\u001b[0;31m---------------------------------------------------------------------------\u001b[0m",
      "\u001b[0;31mZeroDivisionError\u001b[0m                         Traceback (most recent call last)",
      "\u001b[0;31mZeroDivisionError\u001b[0m: float division"
     ]
    },
    {
     "name": "stderr",
     "output_type": "stream",
     "text": [
      "Exception ignored in: 'regions._geometry.elliptical_overlap.elliptical_overlap_single_subpixel'\n",
      "Traceback (most recent call last):\n",
      "  File \"/mnt/home/turne540/software/anaconda3/envs/xga_dev/lib/python3.9/site-packages/regions-0.4-py3.9-linux-x86_64.egg/regions/shapes/ellipse.py\", line 175, in to_mask\n",
      "    fraction = elliptical_overlap_grid(\n",
      "ZeroDivisionError: float division\n"
     ]
    },
    {
     "ename": "ZeroDivisionError",
     "evalue": "float division",
     "output_type": "error",
     "traceback": [
      "\u001b[0;31m---------------------------------------------------------------------------\u001b[0m",
      "\u001b[0;31mZeroDivisionError\u001b[0m                         Traceback (most recent call last)",
      "\u001b[0;31mZeroDivisionError\u001b[0m: float division"
     ]
    },
    {
     "name": "stderr",
     "output_type": "stream",
     "text": [
      "Exception ignored in: 'regions._geometry.elliptical_overlap.elliptical_overlap_single_subpixel'\n",
      "Traceback (most recent call last):\n",
      "  File \"/mnt/home/turne540/software/anaconda3/envs/xga_dev/lib/python3.9/site-packages/regions-0.4-py3.9-linux-x86_64.egg/regions/shapes/ellipse.py\", line 175, in to_mask\n",
      "    fraction = elliptical_overlap_grid(\n",
      "ZeroDivisionError: float division\n"
     ]
    },
    {
     "ename": "ZeroDivisionError",
     "evalue": "float division",
     "output_type": "error",
     "traceback": [
      "\u001b[0;31m---------------------------------------------------------------------------\u001b[0m",
      "\u001b[0;31mZeroDivisionError\u001b[0m                         Traceback (most recent call last)",
      "\u001b[0;31mZeroDivisionError\u001b[0m: float division"
     ]
    },
    {
     "name": "stderr",
     "output_type": "stream",
     "text": [
      "Exception ignored in: 'regions._geometry.elliptical_overlap.elliptical_overlap_single_subpixel'\n",
      "Traceback (most recent call last):\n",
      "  File \"/mnt/home/turne540/software/anaconda3/envs/xga_dev/lib/python3.9/site-packages/regions-0.4-py3.9-linux-x86_64.egg/regions/shapes/ellipse.py\", line 175, in to_mask\n",
      "    fraction = elliptical_overlap_grid(\n",
      "ZeroDivisionError: float division\n"
     ]
    },
    {
     "ename": "ZeroDivisionError",
     "evalue": "float division",
     "output_type": "error",
     "traceback": [
      "\u001b[0;31m---------------------------------------------------------------------------\u001b[0m",
      "\u001b[0;31mZeroDivisionError\u001b[0m                         Traceback (most recent call last)",
      "\u001b[0;31mZeroDivisionError\u001b[0m: float division"
     ]
    },
    {
     "name": "stderr",
     "output_type": "stream",
     "text": [
      "Exception ignored in: 'regions._geometry.elliptical_overlap.elliptical_overlap_single_subpixel'\n",
      "Traceback (most recent call last):\n",
      "  File \"/mnt/home/turne540/software/anaconda3/envs/xga_dev/lib/python3.9/site-packages/regions-0.4-py3.9-linux-x86_64.egg/regions/shapes/ellipse.py\", line 175, in to_mask\n",
      "    fraction = elliptical_overlap_grid(\n",
      "ZeroDivisionError: float division\n"
     ]
    },
    {
     "ename": "ZeroDivisionError",
     "evalue": "float division",
     "output_type": "error",
     "traceback": [
      "\u001b[0;31m---------------------------------------------------------------------------\u001b[0m",
      "\u001b[0;31mZeroDivisionError\u001b[0m                         Traceback (most recent call last)",
      "\u001b[0;31mZeroDivisionError\u001b[0m: float division"
     ]
    },
    {
     "name": "stderr",
     "output_type": "stream",
     "text": [
      "Exception ignored in: 'regions._geometry.elliptical_overlap.elliptical_overlap_single_subpixel'\n",
      "Traceback (most recent call last):\n",
      "  File \"/mnt/home/turne540/software/anaconda3/envs/xga_dev/lib/python3.9/site-packages/regions-0.4-py3.9-linux-x86_64.egg/regions/shapes/ellipse.py\", line 175, in to_mask\n",
      "    fraction = elliptical_overlap_grid(\n",
      "ZeroDivisionError: float division\n"
     ]
    },
    {
     "ename": "ZeroDivisionError",
     "evalue": "float division",
     "output_type": "error",
     "traceback": [
      "\u001b[0;31m---------------------------------------------------------------------------\u001b[0m",
      "\u001b[0;31mZeroDivisionError\u001b[0m                         Traceback (most recent call last)",
      "\u001b[0;31mZeroDivisionError\u001b[0m: float division"
     ]
    },
    {
     "name": "stderr",
     "output_type": "stream",
     "text": [
      "Exception ignored in: 'regions._geometry.elliptical_overlap.elliptical_overlap_single_subpixel'\n",
      "Traceback (most recent call last):\n",
      "  File \"/mnt/home/turne540/software/anaconda3/envs/xga_dev/lib/python3.9/site-packages/regions-0.4-py3.9-linux-x86_64.egg/regions/shapes/ellipse.py\", line 175, in to_mask\n",
      "    fraction = elliptical_overlap_grid(\n",
      "ZeroDivisionError: float division\n"
     ]
    },
    {
     "ename": "ZeroDivisionError",
     "evalue": "float division",
     "output_type": "error",
     "traceback": [
      "\u001b[0;31m---------------------------------------------------------------------------\u001b[0m",
      "\u001b[0;31mZeroDivisionError\u001b[0m                         Traceback (most recent call last)",
      "\u001b[0;31mZeroDivisionError\u001b[0m: float division"
     ]
    },
    {
     "name": "stderr",
     "output_type": "stream",
     "text": [
      "Exception ignored in: 'regions._geometry.elliptical_overlap.elliptical_overlap_single_subpixel'\n",
      "Traceback (most recent call last):\n",
      "  File \"/mnt/home/turne540/software/anaconda3/envs/xga_dev/lib/python3.9/site-packages/regions-0.4-py3.9-linux-x86_64.egg/regions/shapes/ellipse.py\", line 175, in to_mask\n",
      "    fraction = elliptical_overlap_grid(\n",
      "ZeroDivisionError: float division\n"
     ]
    },
    {
     "ename": "ZeroDivisionError",
     "evalue": "float division",
     "output_type": "error",
     "traceback": [
      "\u001b[0;31m---------------------------------------------------------------------------\u001b[0m",
      "\u001b[0;31mZeroDivisionError\u001b[0m                         Traceback (most recent call last)",
      "\u001b[0;31mZeroDivisionError\u001b[0m: float division"
     ]
    },
    {
     "name": "stderr",
     "output_type": "stream",
     "text": [
      "Exception ignored in: 'regions._geometry.elliptical_overlap.elliptical_overlap_single_subpixel'\n",
      "Traceback (most recent call last):\n",
      "  File \"/mnt/home/turne540/software/anaconda3/envs/xga_dev/lib/python3.9/site-packages/regions-0.4-py3.9-linux-x86_64.egg/regions/shapes/ellipse.py\", line 175, in to_mask\n",
      "    fraction = elliptical_overlap_grid(\n",
      "ZeroDivisionError: float division\n"
     ]
    },
    {
     "ename": "ZeroDivisionError",
     "evalue": "float division",
     "output_type": "error",
     "traceback": [
      "\u001b[0;31m---------------------------------------------------------------------------\u001b[0m",
      "\u001b[0;31mZeroDivisionError\u001b[0m                         Traceback (most recent call last)",
      "\u001b[0;31mZeroDivisionError\u001b[0m: float division"
     ]
    },
    {
     "name": "stderr",
     "output_type": "stream",
     "text": [
      "Exception ignored in: 'regions._geometry.elliptical_overlap.elliptical_overlap_single_subpixel'\n",
      "Traceback (most recent call last):\n",
      "  File \"/mnt/home/turne540/software/anaconda3/envs/xga_dev/lib/python3.9/site-packages/regions-0.4-py3.9-linux-x86_64.egg/regions/shapes/ellipse.py\", line 175, in to_mask\n",
      "    fraction = elliptical_overlap_grid(\n",
      "ZeroDivisionError: float division\n"
     ]
    },
    {
     "ename": "ZeroDivisionError",
     "evalue": "float division",
     "output_type": "error",
     "traceback": [
      "\u001b[0;31m---------------------------------------------------------------------------\u001b[0m",
      "\u001b[0;31mZeroDivisionError\u001b[0m                         Traceback (most recent call last)",
      "\u001b[0;31mZeroDivisionError\u001b[0m: float division"
     ]
    },
    {
     "name": "stderr",
     "output_type": "stream",
     "text": [
      "Exception ignored in: 'regions._geometry.elliptical_overlap.elliptical_overlap_single_subpixel'\n",
      "Traceback (most recent call last):\n",
      "  File \"/mnt/home/turne540/software/anaconda3/envs/xga_dev/lib/python3.9/site-packages/regions-0.4-py3.9-linux-x86_64.egg/regions/shapes/ellipse.py\", line 175, in to_mask\n",
      "    fraction = elliptical_overlap_grid(\n",
      "ZeroDivisionError: float division\n"
     ]
    },
    {
     "ename": "ZeroDivisionError",
     "evalue": "float division",
     "output_type": "error",
     "traceback": [
      "\u001b[0;31m---------------------------------------------------------------------------\u001b[0m",
      "\u001b[0;31mZeroDivisionError\u001b[0m                         Traceback (most recent call last)",
      "\u001b[0;31mZeroDivisionError\u001b[0m: float division"
     ]
    },
    {
     "name": "stderr",
     "output_type": "stream",
     "text": [
      "Exception ignored in: 'regions._geometry.elliptical_overlap.elliptical_overlap_single_subpixel'\n",
      "Traceback (most recent call last):\n",
      "  File \"/mnt/home/turne540/software/anaconda3/envs/xga_dev/lib/python3.9/site-packages/regions-0.4-py3.9-linux-x86_64.egg/regions/shapes/ellipse.py\", line 175, in to_mask\n",
      "    fraction = elliptical_overlap_grid(\n",
      "ZeroDivisionError: float division\n"
     ]
    },
    {
     "ename": "ZeroDivisionError",
     "evalue": "float division",
     "output_type": "error",
     "traceback": [
      "\u001b[0;31m---------------------------------------------------------------------------\u001b[0m",
      "\u001b[0;31mZeroDivisionError\u001b[0m                         Traceback (most recent call last)",
      "\u001b[0;31mZeroDivisionError\u001b[0m: float division"
     ]
    },
    {
     "name": "stderr",
     "output_type": "stream",
     "text": [
      "Exception ignored in: 'regions._geometry.elliptical_overlap.elliptical_overlap_single_subpixel'\n",
      "Traceback (most recent call last):\n",
      "  File \"/mnt/home/turne540/software/anaconda3/envs/xga_dev/lib/python3.9/site-packages/regions-0.4-py3.9-linux-x86_64.egg/regions/shapes/ellipse.py\", line 175, in to_mask\n",
      "    fraction = elliptical_overlap_grid(\n",
      "ZeroDivisionError: float division\n"
     ]
    },
    {
     "ename": "ZeroDivisionError",
     "evalue": "float division",
     "output_type": "error",
     "traceback": [
      "\u001b[0;31m---------------------------------------------------------------------------\u001b[0m",
      "\u001b[0;31mZeroDivisionError\u001b[0m                         Traceback (most recent call last)",
      "\u001b[0;31mZeroDivisionError\u001b[0m: float division"
     ]
    },
    {
     "name": "stderr",
     "output_type": "stream",
     "text": [
      "Exception ignored in: 'regions._geometry.elliptical_overlap.elliptical_overlap_single_subpixel'\n",
      "Traceback (most recent call last):\n",
      "  File \"/mnt/home/turne540/software/anaconda3/envs/xga_dev/lib/python3.9/site-packages/regions-0.4-py3.9-linux-x86_64.egg/regions/shapes/ellipse.py\", line 175, in to_mask\n",
      "    fraction = elliptical_overlap_grid(\n",
      "ZeroDivisionError: float division\n"
     ]
    },
    {
     "ename": "ZeroDivisionError",
     "evalue": "float division",
     "output_type": "error",
     "traceback": [
      "\u001b[0;31m---------------------------------------------------------------------------\u001b[0m",
      "\u001b[0;31mZeroDivisionError\u001b[0m                         Traceback (most recent call last)",
      "\u001b[0;31mZeroDivisionError\u001b[0m: float division"
     ]
    },
    {
     "name": "stderr",
     "output_type": "stream",
     "text": [
      "Exception ignored in: 'regions._geometry.elliptical_overlap.elliptical_overlap_single_subpixel'\n",
      "Traceback (most recent call last):\n",
      "  File \"/mnt/home/turne540/software/anaconda3/envs/xga_dev/lib/python3.9/site-packages/regions-0.4-py3.9-linux-x86_64.egg/regions/shapes/ellipse.py\", line 175, in to_mask\n",
      "    fraction = elliptical_overlap_grid(\n",
      "ZeroDivisionError: float division\n"
     ]
    },
    {
     "ename": "ZeroDivisionError",
     "evalue": "float division",
     "output_type": "error",
     "traceback": [
      "\u001b[0;31m---------------------------------------------------------------------------\u001b[0m",
      "\u001b[0;31mZeroDivisionError\u001b[0m                         Traceback (most recent call last)",
      "\u001b[0;31mZeroDivisionError\u001b[0m: float division"
     ]
    },
    {
     "name": "stderr",
     "output_type": "stream",
     "text": [
      "Exception ignored in: 'regions._geometry.elliptical_overlap.elliptical_overlap_single_subpixel'\n",
      "Traceback (most recent call last):\n",
      "  File \"/mnt/home/turne540/software/anaconda3/envs/xga_dev/lib/python3.9/site-packages/regions-0.4-py3.9-linux-x86_64.egg/regions/shapes/ellipse.py\", line 175, in to_mask\n",
      "    fraction = elliptical_overlap_grid(\n",
      "ZeroDivisionError: float division\n"
     ]
    },
    {
     "ename": "ZeroDivisionError",
     "evalue": "float division",
     "output_type": "error",
     "traceback": [
      "\u001b[0;31m---------------------------------------------------------------------------\u001b[0m",
      "\u001b[0;31mZeroDivisionError\u001b[0m                         Traceback (most recent call last)",
      "\u001b[0;31mZeroDivisionError\u001b[0m: float division"
     ]
    },
    {
     "name": "stderr",
     "output_type": "stream",
     "text": [
      "Exception ignored in: 'regions._geometry.elliptical_overlap.elliptical_overlap_single_subpixel'\n",
      "Traceback (most recent call last):\n",
      "  File \"/mnt/home/turne540/software/anaconda3/envs/xga_dev/lib/python3.9/site-packages/regions-0.4-py3.9-linux-x86_64.egg/regions/shapes/ellipse.py\", line 175, in to_mask\n",
      "    fraction = elliptical_overlap_grid(\n",
      "ZeroDivisionError: float division\n"
     ]
    },
    {
     "ename": "ZeroDivisionError",
     "evalue": "float division",
     "output_type": "error",
     "traceback": [
      "\u001b[0;31m---------------------------------------------------------------------------\u001b[0m",
      "\u001b[0;31mZeroDivisionError\u001b[0m                         Traceback (most recent call last)",
      "\u001b[0;31mZeroDivisionError\u001b[0m: float division"
     ]
    },
    {
     "name": "stderr",
     "output_type": "stream",
     "text": [
      "Exception ignored in: 'regions._geometry.elliptical_overlap.elliptical_overlap_single_subpixel'\n",
      "Traceback (most recent call last):\n",
      "  File \"/mnt/home/turne540/software/anaconda3/envs/xga_dev/lib/python3.9/site-packages/regions-0.4-py3.9-linux-x86_64.egg/regions/shapes/ellipse.py\", line 175, in to_mask\n",
      "    fraction = elliptical_overlap_grid(\n",
      "ZeroDivisionError: float division\n"
     ]
    },
    {
     "ename": "ZeroDivisionError",
     "evalue": "float division",
     "output_type": "error",
     "traceback": [
      "\u001b[0;31m---------------------------------------------------------------------------\u001b[0m",
      "\u001b[0;31mZeroDivisionError\u001b[0m                         Traceback (most recent call last)",
      "\u001b[0;31mZeroDivisionError\u001b[0m: float division"
     ]
    },
    {
     "name": "stderr",
     "output_type": "stream",
     "text": [
      "Exception ignored in: 'regions._geometry.elliptical_overlap.elliptical_overlap_single_subpixel'\n",
      "Traceback (most recent call last):\n",
      "  File \"/mnt/home/turne540/software/anaconda3/envs/xga_dev/lib/python3.9/site-packages/regions-0.4-py3.9-linux-x86_64.egg/regions/shapes/ellipse.py\", line 175, in to_mask\n",
      "    fraction = elliptical_overlap_grid(\n",
      "ZeroDivisionError: float division\n"
     ]
    },
    {
     "ename": "ZeroDivisionError",
     "evalue": "float division",
     "output_type": "error",
     "traceback": [
      "\u001b[0;31m---------------------------------------------------------------------------\u001b[0m",
      "\u001b[0;31mZeroDivisionError\u001b[0m                         Traceback (most recent call last)",
      "\u001b[0;31mZeroDivisionError\u001b[0m: float division"
     ]
    },
    {
     "name": "stderr",
     "output_type": "stream",
     "text": [
      "Exception ignored in: 'regions._geometry.elliptical_overlap.elliptical_overlap_single_subpixel'\n",
      "Traceback (most recent call last):\n",
      "  File \"/mnt/home/turne540/software/anaconda3/envs/xga_dev/lib/python3.9/site-packages/regions-0.4-py3.9-linux-x86_64.egg/regions/shapes/ellipse.py\", line 175, in to_mask\n",
      "    fraction = elliptical_overlap_grid(\n",
      "ZeroDivisionError: float division\n"
     ]
    },
    {
     "ename": "ZeroDivisionError",
     "evalue": "float division",
     "output_type": "error",
     "traceback": [
      "\u001b[0;31m---------------------------------------------------------------------------\u001b[0m",
      "\u001b[0;31mZeroDivisionError\u001b[0m                         Traceback (most recent call last)",
      "\u001b[0;31mZeroDivisionError\u001b[0m: float division"
     ]
    },
    {
     "name": "stderr",
     "output_type": "stream",
     "text": [
      "Exception ignored in: 'regions._geometry.elliptical_overlap.elliptical_overlap_single_subpixel'\n",
      "Traceback (most recent call last):\n",
      "  File \"/mnt/home/turne540/software/anaconda3/envs/xga_dev/lib/python3.9/site-packages/regions-0.4-py3.9-linux-x86_64.egg/regions/shapes/ellipse.py\", line 175, in to_mask\n",
      "    fraction = elliptical_overlap_grid(\n",
      "ZeroDivisionError: float division\n"
     ]
    },
    {
     "ename": "ZeroDivisionError",
     "evalue": "float division",
     "output_type": "error",
     "traceback": [
      "\u001b[0;31m---------------------------------------------------------------------------\u001b[0m",
      "\u001b[0;31mZeroDivisionError\u001b[0m                         Traceback (most recent call last)",
      "\u001b[0;31mZeroDivisionError\u001b[0m: float division"
     ]
    },
    {
     "name": "stderr",
     "output_type": "stream",
     "text": [
      "Exception ignored in: 'regions._geometry.elliptical_overlap.elliptical_overlap_single_subpixel'\n",
      "Traceback (most recent call last):\n",
      "  File \"/mnt/home/turne540/software/anaconda3/envs/xga_dev/lib/python3.9/site-packages/regions-0.4-py3.9-linux-x86_64.egg/regions/shapes/ellipse.py\", line 175, in to_mask\n",
      "    fraction = elliptical_overlap_grid(\n",
      "ZeroDivisionError: float division\n"
     ]
    },
    {
     "ename": "ZeroDivisionError",
     "evalue": "float division",
     "output_type": "error",
     "traceback": [
      "\u001b[0;31m---------------------------------------------------------------------------\u001b[0m",
      "\u001b[0;31mZeroDivisionError\u001b[0m                         Traceback (most recent call last)",
      "\u001b[0;31mZeroDivisionError\u001b[0m: float division"
     ]
    },
    {
     "name": "stderr",
     "output_type": "stream",
     "text": [
      "Exception ignored in: 'regions._geometry.elliptical_overlap.elliptical_overlap_single_subpixel'\n",
      "Traceback (most recent call last):\n",
      "  File \"/mnt/home/turne540/software/anaconda3/envs/xga_dev/lib/python3.9/site-packages/regions-0.4-py3.9-linux-x86_64.egg/regions/shapes/ellipse.py\", line 175, in to_mask\n",
      "    fraction = elliptical_overlap_grid(\n",
      "ZeroDivisionError: float division\n"
     ]
    },
    {
     "ename": "ZeroDivisionError",
     "evalue": "float division",
     "output_type": "error",
     "traceback": [
      "\u001b[0;31m---------------------------------------------------------------------------\u001b[0m",
      "\u001b[0;31mZeroDivisionError\u001b[0m                         Traceback (most recent call last)",
      "\u001b[0;31mZeroDivisionError\u001b[0m: float division"
     ]
    },
    {
     "name": "stderr",
     "output_type": "stream",
     "text": [
      "Exception ignored in: 'regions._geometry.elliptical_overlap.elliptical_overlap_single_subpixel'\n",
      "Traceback (most recent call last):\n",
      "  File \"/mnt/home/turne540/software/anaconda3/envs/xga_dev/lib/python3.9/site-packages/regions-0.4-py3.9-linux-x86_64.egg/regions/shapes/ellipse.py\", line 175, in to_mask\n",
      "    fraction = elliptical_overlap_grid(\n",
      "ZeroDivisionError: float division\n"
     ]
    },
    {
     "ename": "ZeroDivisionError",
     "evalue": "float division",
     "output_type": "error",
     "traceback": [
      "\u001b[0;31m---------------------------------------------------------------------------\u001b[0m",
      "\u001b[0;31mZeroDivisionError\u001b[0m                         Traceback (most recent call last)",
      "\u001b[0;31mZeroDivisionError\u001b[0m: float division"
     ]
    },
    {
     "name": "stderr",
     "output_type": "stream",
     "text": [
      "Exception ignored in: 'regions._geometry.elliptical_overlap.elliptical_overlap_single_subpixel'\n",
      "Traceback (most recent call last):\n",
      "  File \"/mnt/home/turne540/software/anaconda3/envs/xga_dev/lib/python3.9/site-packages/regions-0.4-py3.9-linux-x86_64.egg/regions/shapes/ellipse.py\", line 175, in to_mask\n",
      "    fraction = elliptical_overlap_grid(\n",
      "ZeroDivisionError: float division\n"
     ]
    },
    {
     "ename": "ZeroDivisionError",
     "evalue": "float division",
     "output_type": "error",
     "traceback": [
      "\u001b[0;31m---------------------------------------------------------------------------\u001b[0m",
      "\u001b[0;31mZeroDivisionError\u001b[0m                         Traceback (most recent call last)",
      "\u001b[0;31mZeroDivisionError\u001b[0m: float division"
     ]
    },
    {
     "name": "stderr",
     "output_type": "stream",
     "text": [
      "Exception ignored in: 'regions._geometry.elliptical_overlap.elliptical_overlap_single_subpixel'\n",
      "Traceback (most recent call last):\n",
      "  File \"/mnt/home/turne540/software/anaconda3/envs/xga_dev/lib/python3.9/site-packages/regions-0.4-py3.9-linux-x86_64.egg/regions/shapes/ellipse.py\", line 175, in to_mask\n",
      "    fraction = elliptical_overlap_grid(\n",
      "ZeroDivisionError: float division\n"
     ]
    },
    {
     "ename": "ZeroDivisionError",
     "evalue": "float division",
     "output_type": "error",
     "traceback": [
      "\u001b[0;31m---------------------------------------------------------------------------\u001b[0m",
      "\u001b[0;31mZeroDivisionError\u001b[0m                         Traceback (most recent call last)",
      "\u001b[0;31mZeroDivisionError\u001b[0m: float division"
     ]
    },
    {
     "name": "stderr",
     "output_type": "stream",
     "text": [
      "Exception ignored in: 'regions._geometry.elliptical_overlap.elliptical_overlap_single_subpixel'\n",
      "Traceback (most recent call last):\n",
      "  File \"/mnt/home/turne540/software/anaconda3/envs/xga_dev/lib/python3.9/site-packages/regions-0.4-py3.9-linux-x86_64.egg/regions/shapes/ellipse.py\", line 175, in to_mask\n",
      "    fraction = elliptical_overlap_grid(\n",
      "ZeroDivisionError: float division\n"
     ]
    },
    {
     "ename": "ZeroDivisionError",
     "evalue": "float division",
     "output_type": "error",
     "traceback": [
      "\u001b[0;31m---------------------------------------------------------------------------\u001b[0m",
      "\u001b[0;31mZeroDivisionError\u001b[0m                         Traceback (most recent call last)",
      "\u001b[0;31mZeroDivisionError\u001b[0m: float division"
     ]
    },
    {
     "name": "stderr",
     "output_type": "stream",
     "text": [
      "Exception ignored in: 'regions._geometry.elliptical_overlap.elliptical_overlap_single_subpixel'\n",
      "Traceback (most recent call last):\n",
      "  File \"/mnt/home/turne540/software/anaconda3/envs/xga_dev/lib/python3.9/site-packages/regions-0.4-py3.9-linux-x86_64.egg/regions/shapes/ellipse.py\", line 175, in to_mask\n",
      "    fraction = elliptical_overlap_grid(\n",
      "ZeroDivisionError: float division\n"
     ]
    },
    {
     "ename": "ZeroDivisionError",
     "evalue": "float division",
     "output_type": "error",
     "traceback": [
      "\u001b[0;31m---------------------------------------------------------------------------\u001b[0m",
      "\u001b[0;31mZeroDivisionError\u001b[0m                         Traceback (most recent call last)",
      "\u001b[0;31mZeroDivisionError\u001b[0m: float division"
     ]
    },
    {
     "name": "stderr",
     "output_type": "stream",
     "text": [
      "Exception ignored in: 'regions._geometry.elliptical_overlap.elliptical_overlap_single_subpixel'\n",
      "Traceback (most recent call last):\n",
      "  File \"/mnt/home/turne540/software/anaconda3/envs/xga_dev/lib/python3.9/site-packages/regions-0.4-py3.9-linux-x86_64.egg/regions/shapes/ellipse.py\", line 175, in to_mask\n",
      "    fraction = elliptical_overlap_grid(\n",
      "ZeroDivisionError: float division\n"
     ]
    },
    {
     "ename": "ZeroDivisionError",
     "evalue": "float division",
     "output_type": "error",
     "traceback": [
      "\u001b[0;31m---------------------------------------------------------------------------\u001b[0m",
      "\u001b[0;31mZeroDivisionError\u001b[0m                         Traceback (most recent call last)",
      "\u001b[0;31mZeroDivisionError\u001b[0m: float division"
     ]
    },
    {
     "name": "stderr",
     "output_type": "stream",
     "text": [
      "Exception ignored in: 'regions._geometry.elliptical_overlap.elliptical_overlap_single_subpixel'\n",
      "Traceback (most recent call last):\n",
      "  File \"/mnt/home/turne540/software/anaconda3/envs/xga_dev/lib/python3.9/site-packages/regions-0.4-py3.9-linux-x86_64.egg/regions/shapes/ellipse.py\", line 175, in to_mask\n",
      "    fraction = elliptical_overlap_grid(\n",
      "ZeroDivisionError: float division\n"
     ]
    },
    {
     "ename": "ZeroDivisionError",
     "evalue": "float division",
     "output_type": "error",
     "traceback": [
      "\u001b[0;31m---------------------------------------------------------------------------\u001b[0m",
      "\u001b[0;31mZeroDivisionError\u001b[0m                         Traceback (most recent call last)",
      "\u001b[0;31mZeroDivisionError\u001b[0m: float division"
     ]
    },
    {
     "name": "stderr",
     "output_type": "stream",
     "text": [
      "Exception ignored in: 'regions._geometry.elliptical_overlap.elliptical_overlap_single_subpixel'\n",
      "Traceback (most recent call last):\n",
      "  File \"/mnt/home/turne540/software/anaconda3/envs/xga_dev/lib/python3.9/site-packages/regions-0.4-py3.9-linux-x86_64.egg/regions/shapes/ellipse.py\", line 175, in to_mask\n",
      "    fraction = elliptical_overlap_grid(\n",
      "ZeroDivisionError: float division\n"
     ]
    },
    {
     "ename": "ZeroDivisionError",
     "evalue": "float division",
     "output_type": "error",
     "traceback": [
      "\u001b[0;31m---------------------------------------------------------------------------\u001b[0m",
      "\u001b[0;31mZeroDivisionError\u001b[0m                         Traceback (most recent call last)",
      "\u001b[0;31mZeroDivisionError\u001b[0m: float division"
     ]
    },
    {
     "name": "stderr",
     "output_type": "stream",
     "text": [
      "Exception ignored in: 'regions._geometry.elliptical_overlap.elliptical_overlap_single_subpixel'\n",
      "Traceback (most recent call last):\n",
      "  File \"/mnt/home/turne540/software/anaconda3/envs/xga_dev/lib/python3.9/site-packages/regions-0.4-py3.9-linux-x86_64.egg/regions/shapes/ellipse.py\", line 175, in to_mask\n",
      "    fraction = elliptical_overlap_grid(\n",
      "ZeroDivisionError: float division\n"
     ]
    },
    {
     "ename": "ZeroDivisionError",
     "evalue": "float division",
     "output_type": "error",
     "traceback": [
      "\u001b[0;31m---------------------------------------------------------------------------\u001b[0m",
      "\u001b[0;31mZeroDivisionError\u001b[0m                         Traceback (most recent call last)",
      "\u001b[0;31mZeroDivisionError\u001b[0m: float division"
     ]
    },
    {
     "name": "stderr",
     "output_type": "stream",
     "text": [
      "Exception ignored in: 'regions._geometry.elliptical_overlap.elliptical_overlap_single_subpixel'\n",
      "Traceback (most recent call last):\n",
      "  File \"/mnt/home/turne540/software/anaconda3/envs/xga_dev/lib/python3.9/site-packages/regions-0.4-py3.9-linux-x86_64.egg/regions/shapes/ellipse.py\", line 175, in to_mask\n",
      "    fraction = elliptical_overlap_grid(\n",
      "ZeroDivisionError: float division\n"
     ]
    },
    {
     "ename": "ZeroDivisionError",
     "evalue": "float division",
     "output_type": "error",
     "traceback": [
      "\u001b[0;31m---------------------------------------------------------------------------\u001b[0m",
      "\u001b[0;31mZeroDivisionError\u001b[0m                         Traceback (most recent call last)",
      "\u001b[0;31mZeroDivisionError\u001b[0m: float division"
     ]
    },
    {
     "name": "stderr",
     "output_type": "stream",
     "text": [
      "Exception ignored in: 'regions._geometry.elliptical_overlap.elliptical_overlap_single_subpixel'\n",
      "Traceback (most recent call last):\n",
      "  File \"/mnt/home/turne540/software/anaconda3/envs/xga_dev/lib/python3.9/site-packages/regions-0.4-py3.9-linux-x86_64.egg/regions/shapes/ellipse.py\", line 175, in to_mask\n",
      "    fraction = elliptical_overlap_grid(\n",
      "ZeroDivisionError: float division\n"
     ]
    },
    {
     "ename": "ZeroDivisionError",
     "evalue": "float division",
     "output_type": "error",
     "traceback": [
      "\u001b[0;31m---------------------------------------------------------------------------\u001b[0m",
      "\u001b[0;31mZeroDivisionError\u001b[0m                         Traceback (most recent call last)",
      "\u001b[0;31mZeroDivisionError\u001b[0m: float division"
     ]
    },
    {
     "name": "stderr",
     "output_type": "stream",
     "text": [
      "Exception ignored in: 'regions._geometry.elliptical_overlap.elliptical_overlap_single_subpixel'\n",
      "Traceback (most recent call last):\n",
      "  File \"/mnt/home/turne540/software/anaconda3/envs/xga_dev/lib/python3.9/site-packages/regions-0.4-py3.9-linux-x86_64.egg/regions/shapes/ellipse.py\", line 175, in to_mask\n",
      "    fraction = elliptical_overlap_grid(\n",
      "ZeroDivisionError: float division\n"
     ]
    },
    {
     "ename": "ZeroDivisionError",
     "evalue": "float division",
     "output_type": "error",
     "traceback": [
      "\u001b[0;31m---------------------------------------------------------------------------\u001b[0m",
      "\u001b[0;31mZeroDivisionError\u001b[0m                         Traceback (most recent call last)",
      "\u001b[0;31mZeroDivisionError\u001b[0m: float division"
     ]
    },
    {
     "name": "stderr",
     "output_type": "stream",
     "text": [
      "Exception ignored in: 'regions._geometry.elliptical_overlap.elliptical_overlap_single_subpixel'\n",
      "Traceback (most recent call last):\n",
      "  File \"/mnt/home/turne540/software/anaconda3/envs/xga_dev/lib/python3.9/site-packages/regions-0.4-py3.9-linux-x86_64.egg/regions/shapes/ellipse.py\", line 175, in to_mask\n",
      "    fraction = elliptical_overlap_grid(\n",
      "ZeroDivisionError: float division\n"
     ]
    },
    {
     "ename": "ZeroDivisionError",
     "evalue": "float division",
     "output_type": "error",
     "traceback": [
      "\u001b[0;31m---------------------------------------------------------------------------\u001b[0m",
      "\u001b[0;31mZeroDivisionError\u001b[0m                         Traceback (most recent call last)",
      "\u001b[0;31mZeroDivisionError\u001b[0m: float division"
     ]
    },
    {
     "name": "stderr",
     "output_type": "stream",
     "text": [
      "Exception ignored in: 'regions._geometry.elliptical_overlap.elliptical_overlap_single_subpixel'\n",
      "Traceback (most recent call last):\n",
      "  File \"/mnt/home/turne540/software/anaconda3/envs/xga_dev/lib/python3.9/site-packages/regions-0.4-py3.9-linux-x86_64.egg/regions/shapes/ellipse.py\", line 175, in to_mask\n",
      "    fraction = elliptical_overlap_grid(\n",
      "ZeroDivisionError: float division\n"
     ]
    },
    {
     "ename": "ZeroDivisionError",
     "evalue": "float division",
     "output_type": "error",
     "traceback": [
      "\u001b[0;31m---------------------------------------------------------------------------\u001b[0m",
      "\u001b[0;31mZeroDivisionError\u001b[0m                         Traceback (most recent call last)",
      "\u001b[0;31mZeroDivisionError\u001b[0m: float division"
     ]
    },
    {
     "name": "stderr",
     "output_type": "stream",
     "text": [
      "Exception ignored in: 'regions._geometry.elliptical_overlap.elliptical_overlap_single_subpixel'\n",
      "Traceback (most recent call last):\n",
      "  File \"/mnt/home/turne540/software/anaconda3/envs/xga_dev/lib/python3.9/site-packages/regions-0.4-py3.9-linux-x86_64.egg/regions/shapes/ellipse.py\", line 175, in to_mask\n",
      "    fraction = elliptical_overlap_grid(\n",
      "ZeroDivisionError: float division\n"
     ]
    },
    {
     "ename": "ZeroDivisionError",
     "evalue": "float division",
     "output_type": "error",
     "traceback": [
      "\u001b[0;31m---------------------------------------------------------------------------\u001b[0m",
      "\u001b[0;31mZeroDivisionError\u001b[0m                         Traceback (most recent call last)",
      "\u001b[0;31mZeroDivisionError\u001b[0m: float division"
     ]
    },
    {
     "name": "stderr",
     "output_type": "stream",
     "text": [
      "Exception ignored in: 'regions._geometry.elliptical_overlap.elliptical_overlap_single_subpixel'\n",
      "Traceback (most recent call last):\n",
      "  File \"/mnt/home/turne540/software/anaconda3/envs/xga_dev/lib/python3.9/site-packages/regions-0.4-py3.9-linux-x86_64.egg/regions/shapes/ellipse.py\", line 175, in to_mask\n",
      "    fraction = elliptical_overlap_grid(\n",
      "ZeroDivisionError: float division\n"
     ]
    },
    {
     "ename": "ZeroDivisionError",
     "evalue": "float division",
     "output_type": "error",
     "traceback": [
      "\u001b[0;31m---------------------------------------------------------------------------\u001b[0m",
      "\u001b[0;31mZeroDivisionError\u001b[0m                         Traceback (most recent call last)",
      "\u001b[0;31mZeroDivisionError\u001b[0m: float division"
     ]
    },
    {
     "name": "stderr",
     "output_type": "stream",
     "text": [
      "Exception ignored in: 'regions._geometry.elliptical_overlap.elliptical_overlap_single_subpixel'\n",
      "Traceback (most recent call last):\n",
      "  File \"/mnt/home/turne540/software/anaconda3/envs/xga_dev/lib/python3.9/site-packages/regions-0.4-py3.9-linux-x86_64.egg/regions/shapes/ellipse.py\", line 175, in to_mask\n",
      "    fraction = elliptical_overlap_grid(\n",
      "ZeroDivisionError: float division\n"
     ]
    },
    {
     "ename": "ZeroDivisionError",
     "evalue": "float division",
     "output_type": "error",
     "traceback": [
      "\u001b[0;31m---------------------------------------------------------------------------\u001b[0m",
      "\u001b[0;31mZeroDivisionError\u001b[0m                         Traceback (most recent call last)",
      "\u001b[0;31mZeroDivisionError\u001b[0m: float division"
     ]
    },
    {
     "name": "stderr",
     "output_type": "stream",
     "text": [
      "Exception ignored in: 'regions._geometry.elliptical_overlap.elliptical_overlap_single_subpixel'\n",
      "Traceback (most recent call last):\n",
      "  File \"/mnt/home/turne540/software/anaconda3/envs/xga_dev/lib/python3.9/site-packages/regions-0.4-py3.9-linux-x86_64.egg/regions/shapes/ellipse.py\", line 175, in to_mask\n",
      "    fraction = elliptical_overlap_grid(\n",
      "ZeroDivisionError: float division\n"
     ]
    },
    {
     "ename": "ZeroDivisionError",
     "evalue": "float division",
     "output_type": "error",
     "traceback": [
      "\u001b[0;31m---------------------------------------------------------------------------\u001b[0m",
      "\u001b[0;31mZeroDivisionError\u001b[0m                         Traceback (most recent call last)",
      "\u001b[0;31mZeroDivisionError\u001b[0m: float division"
     ]
    },
    {
     "name": "stderr",
     "output_type": "stream",
     "text": [
      "Exception ignored in: 'regions._geometry.elliptical_overlap.elliptical_overlap_single_subpixel'\n",
      "Traceback (most recent call last):\n",
      "  File \"/mnt/home/turne540/software/anaconda3/envs/xga_dev/lib/python3.9/site-packages/regions-0.4-py3.9-linux-x86_64.egg/regions/shapes/ellipse.py\", line 175, in to_mask\n",
      "    fraction = elliptical_overlap_grid(\n",
      "ZeroDivisionError: float division\n"
     ]
    },
    {
     "ename": "ZeroDivisionError",
     "evalue": "float division",
     "output_type": "error",
     "traceback": [
      "\u001b[0;31m---------------------------------------------------------------------------\u001b[0m",
      "\u001b[0;31mZeroDivisionError\u001b[0m                         Traceback (most recent call last)",
      "\u001b[0;31mZeroDivisionError\u001b[0m: float division"
     ]
    },
    {
     "name": "stderr",
     "output_type": "stream",
     "text": [
      "Exception ignored in: 'regions._geometry.elliptical_overlap.elliptical_overlap_single_subpixel'\n",
      "Traceback (most recent call last):\n",
      "  File \"/mnt/home/turne540/software/anaconda3/envs/xga_dev/lib/python3.9/site-packages/regions-0.4-py3.9-linux-x86_64.egg/regions/shapes/ellipse.py\", line 175, in to_mask\n",
      "    fraction = elliptical_overlap_grid(\n",
      "ZeroDivisionError: float division\n"
     ]
    },
    {
     "ename": "ZeroDivisionError",
     "evalue": "float division",
     "output_type": "error",
     "traceback": [
      "\u001b[0;31m---------------------------------------------------------------------------\u001b[0m",
      "\u001b[0;31mZeroDivisionError\u001b[0m                         Traceback (most recent call last)",
      "\u001b[0;31mZeroDivisionError\u001b[0m: float division"
     ]
    },
    {
     "name": "stderr",
     "output_type": "stream",
     "text": [
      "Exception ignored in: 'regions._geometry.elliptical_overlap.elliptical_overlap_single_subpixel'\n",
      "Traceback (most recent call last):\n",
      "  File \"/mnt/home/turne540/software/anaconda3/envs/xga_dev/lib/python3.9/site-packages/regions-0.4-py3.9-linux-x86_64.egg/regions/shapes/ellipse.py\", line 175, in to_mask\n",
      "    fraction = elliptical_overlap_grid(\n",
      "ZeroDivisionError: float division\n"
     ]
    },
    {
     "ename": "ZeroDivisionError",
     "evalue": "float division",
     "output_type": "error",
     "traceback": [
      "\u001b[0;31m---------------------------------------------------------------------------\u001b[0m",
      "\u001b[0;31mZeroDivisionError\u001b[0m                         Traceback (most recent call last)",
      "\u001b[0;31mZeroDivisionError\u001b[0m: float division"
     ]
    },
    {
     "name": "stderr",
     "output_type": "stream",
     "text": [
      "Exception ignored in: 'regions._geometry.elliptical_overlap.elliptical_overlap_single_subpixel'\n",
      "Traceback (most recent call last):\n",
      "  File \"/mnt/home/turne540/software/anaconda3/envs/xga_dev/lib/python3.9/site-packages/regions-0.4-py3.9-linux-x86_64.egg/regions/shapes/ellipse.py\", line 175, in to_mask\n",
      "    fraction = elliptical_overlap_grid(\n",
      "ZeroDivisionError: float division\n"
     ]
    },
    {
     "ename": "ZeroDivisionError",
     "evalue": "float division",
     "output_type": "error",
     "traceback": [
      "\u001b[0;31m---------------------------------------------------------------------------\u001b[0m",
      "\u001b[0;31mZeroDivisionError\u001b[0m                         Traceback (most recent call last)",
      "\u001b[0;31mZeroDivisionError\u001b[0m: float division"
     ]
    },
    {
     "name": "stderr",
     "output_type": "stream",
     "text": [
      "Exception ignored in: 'regions._geometry.elliptical_overlap.elliptical_overlap_single_subpixel'\n",
      "Traceback (most recent call last):\n",
      "  File \"/mnt/home/turne540/software/anaconda3/envs/xga_dev/lib/python3.9/site-packages/regions-0.4-py3.9-linux-x86_64.egg/regions/shapes/ellipse.py\", line 175, in to_mask\n",
      "    fraction = elliptical_overlap_grid(\n",
      "ZeroDivisionError: float division\n"
     ]
    },
    {
     "ename": "ZeroDivisionError",
     "evalue": "float division",
     "output_type": "error",
     "traceback": [
      "\u001b[0;31m---------------------------------------------------------------------------\u001b[0m",
      "\u001b[0;31mZeroDivisionError\u001b[0m                         Traceback (most recent call last)",
      "\u001b[0;31mZeroDivisionError\u001b[0m: float division"
     ]
    },
    {
     "name": "stderr",
     "output_type": "stream",
     "text": [
      "Exception ignored in: 'regions._geometry.elliptical_overlap.elliptical_overlap_single_subpixel'\n",
      "Traceback (most recent call last):\n",
      "  File \"/mnt/home/turne540/software/anaconda3/envs/xga_dev/lib/python3.9/site-packages/regions-0.4-py3.9-linux-x86_64.egg/regions/shapes/ellipse.py\", line 175, in to_mask\n",
      "    fraction = elliptical_overlap_grid(\n",
      "ZeroDivisionError: float division\n"
     ]
    },
    {
     "ename": "ZeroDivisionError",
     "evalue": "float division",
     "output_type": "error",
     "traceback": [
      "\u001b[0;31m---------------------------------------------------------------------------\u001b[0m",
      "\u001b[0;31mZeroDivisionError\u001b[0m                         Traceback (most recent call last)",
      "\u001b[0;31mZeroDivisionError\u001b[0m: float division"
     ]
    },
    {
     "name": "stderr",
     "output_type": "stream",
     "text": [
      "Exception ignored in: 'regions._geometry.elliptical_overlap.elliptical_overlap_single_subpixel'\n",
      "Traceback (most recent call last):\n",
      "  File \"/mnt/home/turne540/software/anaconda3/envs/xga_dev/lib/python3.9/site-packages/regions-0.4-py3.9-linux-x86_64.egg/regions/shapes/ellipse.py\", line 175, in to_mask\n",
      "    fraction = elliptical_overlap_grid(\n",
      "ZeroDivisionError: float division\n"
     ]
    },
    {
     "ename": "ZeroDivisionError",
     "evalue": "float division",
     "output_type": "error",
     "traceback": [
      "\u001b[0;31m---------------------------------------------------------------------------\u001b[0m",
      "\u001b[0;31mZeroDivisionError\u001b[0m                         Traceback (most recent call last)",
      "\u001b[0;31mZeroDivisionError\u001b[0m: float division"
     ]
    },
    {
     "name": "stderr",
     "output_type": "stream",
     "text": [
      "Exception ignored in: 'regions._geometry.elliptical_overlap.elliptical_overlap_single_subpixel'\n",
      "Traceback (most recent call last):\n",
      "  File \"/mnt/home/turne540/software/anaconda3/envs/xga_dev/lib/python3.9/site-packages/regions-0.4-py3.9-linux-x86_64.egg/regions/shapes/ellipse.py\", line 175, in to_mask\n",
      "    fraction = elliptical_overlap_grid(\n",
      "ZeroDivisionError: float division\n"
     ]
    },
    {
     "ename": "ZeroDivisionError",
     "evalue": "float division",
     "output_type": "error",
     "traceback": [
      "\u001b[0;31m---------------------------------------------------------------------------\u001b[0m",
      "\u001b[0;31mZeroDivisionError\u001b[0m                         Traceback (most recent call last)",
      "\u001b[0;31mZeroDivisionError\u001b[0m: float division"
     ]
    },
    {
     "name": "stderr",
     "output_type": "stream",
     "text": [
      "Exception ignored in: 'regions._geometry.elliptical_overlap.elliptical_overlap_single_subpixel'\n",
      "Traceback (most recent call last):\n",
      "  File \"/mnt/home/turne540/software/anaconda3/envs/xga_dev/lib/python3.9/site-packages/regions-0.4-py3.9-linux-x86_64.egg/regions/shapes/ellipse.py\", line 175, in to_mask\n",
      "    fraction = elliptical_overlap_grid(\n",
      "ZeroDivisionError: float division\n"
     ]
    },
    {
     "ename": "ZeroDivisionError",
     "evalue": "float division",
     "output_type": "error",
     "traceback": [
      "\u001b[0;31m---------------------------------------------------------------------------\u001b[0m",
      "\u001b[0;31mZeroDivisionError\u001b[0m                         Traceback (most recent call last)",
      "\u001b[0;31mZeroDivisionError\u001b[0m: float division"
     ]
    },
    {
     "name": "stderr",
     "output_type": "stream",
     "text": [
      "Exception ignored in: 'regions._geometry.elliptical_overlap.elliptical_overlap_single_subpixel'\n",
      "Traceback (most recent call last):\n",
      "  File \"/mnt/home/turne540/software/anaconda3/envs/xga_dev/lib/python3.9/site-packages/regions-0.4-py3.9-linux-x86_64.egg/regions/shapes/ellipse.py\", line 175, in to_mask\n",
      "    fraction = elliptical_overlap_grid(\n",
      "ZeroDivisionError: float division\n"
     ]
    },
    {
     "ename": "ZeroDivisionError",
     "evalue": "float division",
     "output_type": "error",
     "traceback": [
      "\u001b[0;31m---------------------------------------------------------------------------\u001b[0m",
      "\u001b[0;31mZeroDivisionError\u001b[0m                         Traceback (most recent call last)",
      "\u001b[0;31mZeroDivisionError\u001b[0m: float division"
     ]
    },
    {
     "name": "stderr",
     "output_type": "stream",
     "text": [
      "Exception ignored in: 'regions._geometry.elliptical_overlap.elliptical_overlap_single_subpixel'\n",
      "Traceback (most recent call last):\n",
      "  File \"/mnt/home/turne540/software/anaconda3/envs/xga_dev/lib/python3.9/site-packages/regions-0.4-py3.9-linux-x86_64.egg/regions/shapes/ellipse.py\", line 175, in to_mask\n",
      "    fraction = elliptical_overlap_grid(\n",
      "ZeroDivisionError: float division\n"
     ]
    },
    {
     "ename": "ZeroDivisionError",
     "evalue": "float division",
     "output_type": "error",
     "traceback": [
      "\u001b[0;31m---------------------------------------------------------------------------\u001b[0m",
      "\u001b[0;31mZeroDivisionError\u001b[0m                         Traceback (most recent call last)",
      "\u001b[0;31mZeroDivisionError\u001b[0m: float division"
     ]
    },
    {
     "name": "stderr",
     "output_type": "stream",
     "text": [
      "Exception ignored in: 'regions._geometry.elliptical_overlap.elliptical_overlap_single_subpixel'\n",
      "Traceback (most recent call last):\n",
      "  File \"/mnt/home/turne540/software/anaconda3/envs/xga_dev/lib/python3.9/site-packages/regions-0.4-py3.9-linux-x86_64.egg/regions/shapes/ellipse.py\", line 175, in to_mask\n",
      "    fraction = elliptical_overlap_grid(\n",
      "ZeroDivisionError: float division\n"
     ]
    },
    {
     "ename": "ZeroDivisionError",
     "evalue": "float division",
     "output_type": "error",
     "traceback": [
      "\u001b[0;31m---------------------------------------------------------------------------\u001b[0m",
      "\u001b[0;31mZeroDivisionError\u001b[0m                         Traceback (most recent call last)",
      "\u001b[0;31mZeroDivisionError\u001b[0m: float division"
     ]
    },
    {
     "name": "stderr",
     "output_type": "stream",
     "text": [
      "Exception ignored in: 'regions._geometry.elliptical_overlap.elliptical_overlap_single_subpixel'\n",
      "Traceback (most recent call last):\n",
      "  File \"/mnt/home/turne540/software/anaconda3/envs/xga_dev/lib/python3.9/site-packages/regions-0.4-py3.9-linux-x86_64.egg/regions/shapes/ellipse.py\", line 175, in to_mask\n",
      "    fraction = elliptical_overlap_grid(\n",
      "ZeroDivisionError: float division\n"
     ]
    },
    {
     "ename": "ZeroDivisionError",
     "evalue": "float division",
     "output_type": "error",
     "traceback": [
      "\u001b[0;31m---------------------------------------------------------------------------\u001b[0m",
      "\u001b[0;31mZeroDivisionError\u001b[0m                         Traceback (most recent call last)",
      "\u001b[0;31mZeroDivisionError\u001b[0m: float division"
     ]
    },
    {
     "name": "stderr",
     "output_type": "stream",
     "text": [
      "Exception ignored in: 'regions._geometry.elliptical_overlap.elliptical_overlap_single_subpixel'\n",
      "Traceback (most recent call last):\n",
      "  File \"/mnt/home/turne540/software/anaconda3/envs/xga_dev/lib/python3.9/site-packages/regions-0.4-py3.9-linux-x86_64.egg/regions/shapes/ellipse.py\", line 175, in to_mask\n",
      "    fraction = elliptical_overlap_grid(\n",
      "ZeroDivisionError: float division\n"
     ]
    },
    {
     "ename": "ZeroDivisionError",
     "evalue": "float division",
     "output_type": "error",
     "traceback": [
      "\u001b[0;31m---------------------------------------------------------------------------\u001b[0m",
      "\u001b[0;31mZeroDivisionError\u001b[0m                         Traceback (most recent call last)",
      "\u001b[0;31mZeroDivisionError\u001b[0m: float division"
     ]
    },
    {
     "name": "stderr",
     "output_type": "stream",
     "text": [
      "Exception ignored in: 'regions._geometry.elliptical_overlap.elliptical_overlap_single_subpixel'\n",
      "Traceback (most recent call last):\n",
      "  File \"/mnt/home/turne540/software/anaconda3/envs/xga_dev/lib/python3.9/site-packages/regions-0.4-py3.9-linux-x86_64.egg/regions/shapes/ellipse.py\", line 175, in to_mask\n",
      "    fraction = elliptical_overlap_grid(\n",
      "ZeroDivisionError: float division\n"
     ]
    },
    {
     "ename": "ZeroDivisionError",
     "evalue": "float division",
     "output_type": "error",
     "traceback": [
      "\u001b[0;31m---------------------------------------------------------------------------\u001b[0m",
      "\u001b[0;31mZeroDivisionError\u001b[0m                         Traceback (most recent call last)",
      "\u001b[0;31mZeroDivisionError\u001b[0m: float division"
     ]
    },
    {
     "name": "stderr",
     "output_type": "stream",
     "text": [
      "Exception ignored in: 'regions._geometry.elliptical_overlap.elliptical_overlap_single_subpixel'\n",
      "Traceback (most recent call last):\n",
      "  File \"/mnt/home/turne540/software/anaconda3/envs/xga_dev/lib/python3.9/site-packages/regions-0.4-py3.9-linux-x86_64.egg/regions/shapes/ellipse.py\", line 175, in to_mask\n",
      "    fraction = elliptical_overlap_grid(\n",
      "ZeroDivisionError: float division\n"
     ]
    },
    {
     "ename": "ZeroDivisionError",
     "evalue": "float division",
     "output_type": "error",
     "traceback": [
      "\u001b[0;31m---------------------------------------------------------------------------\u001b[0m",
      "\u001b[0;31mZeroDivisionError\u001b[0m                         Traceback (most recent call last)",
      "\u001b[0;31mZeroDivisionError\u001b[0m: float division"
     ]
    },
    {
     "name": "stderr",
     "output_type": "stream",
     "text": [
      "Exception ignored in: 'regions._geometry.elliptical_overlap.elliptical_overlap_single_subpixel'\n",
      "Traceback (most recent call last):\n",
      "  File \"/mnt/home/turne540/software/anaconda3/envs/xga_dev/lib/python3.9/site-packages/regions-0.4-py3.9-linux-x86_64.egg/regions/shapes/ellipse.py\", line 175, in to_mask\n",
      "    fraction = elliptical_overlap_grid(\n",
      "ZeroDivisionError: float division\n"
     ]
    },
    {
     "ename": "ZeroDivisionError",
     "evalue": "float division",
     "output_type": "error",
     "traceback": [
      "\u001b[0;31m---------------------------------------------------------------------------\u001b[0m",
      "\u001b[0;31mZeroDivisionError\u001b[0m                         Traceback (most recent call last)",
      "\u001b[0;31mZeroDivisionError\u001b[0m: float division"
     ]
    },
    {
     "name": "stderr",
     "output_type": "stream",
     "text": [
      "Exception ignored in: 'regions._geometry.elliptical_overlap.elliptical_overlap_single_subpixel'\n",
      "Traceback (most recent call last):\n",
      "  File \"/mnt/home/turne540/software/anaconda3/envs/xga_dev/lib/python3.9/site-packages/regions-0.4-py3.9-linux-x86_64.egg/regions/shapes/ellipse.py\", line 175, in to_mask\n",
      "    fraction = elliptical_overlap_grid(\n",
      "ZeroDivisionError: float division\n"
     ]
    },
    {
     "ename": "ZeroDivisionError",
     "evalue": "float division",
     "output_type": "error",
     "traceback": [
      "\u001b[0;31m---------------------------------------------------------------------------\u001b[0m",
      "\u001b[0;31mZeroDivisionError\u001b[0m                         Traceback (most recent call last)",
      "\u001b[0;31mZeroDivisionError\u001b[0m: float division"
     ]
    },
    {
     "name": "stderr",
     "output_type": "stream",
     "text": [
      "Exception ignored in: 'regions._geometry.elliptical_overlap.elliptical_overlap_single_subpixel'\n",
      "Traceback (most recent call last):\n",
      "  File \"/mnt/home/turne540/software/anaconda3/envs/xga_dev/lib/python3.9/site-packages/regions-0.4-py3.9-linux-x86_64.egg/regions/shapes/ellipse.py\", line 175, in to_mask\n",
      "    fraction = elliptical_overlap_grid(\n",
      "ZeroDivisionError: float division\n"
     ]
    },
    {
     "ename": "ZeroDivisionError",
     "evalue": "float division",
     "output_type": "error",
     "traceback": [
      "\u001b[0;31m---------------------------------------------------------------------------\u001b[0m",
      "\u001b[0;31mZeroDivisionError\u001b[0m                         Traceback (most recent call last)",
      "\u001b[0;31mZeroDivisionError\u001b[0m: float division"
     ]
    },
    {
     "name": "stderr",
     "output_type": "stream",
     "text": [
      "Exception ignored in: 'regions._geometry.elliptical_overlap.elliptical_overlap_single_subpixel'\n",
      "Traceback (most recent call last):\n",
      "  File \"/mnt/home/turne540/software/anaconda3/envs/xga_dev/lib/python3.9/site-packages/regions-0.4-py3.9-linux-x86_64.egg/regions/shapes/ellipse.py\", line 175, in to_mask\n",
      "    fraction = elliptical_overlap_grid(\n",
      "ZeroDivisionError: float division\n"
     ]
    },
    {
     "ename": "ZeroDivisionError",
     "evalue": "float division",
     "output_type": "error",
     "traceback": [
      "\u001b[0;31m---------------------------------------------------------------------------\u001b[0m",
      "\u001b[0;31mZeroDivisionError\u001b[0m                         Traceback (most recent call last)",
      "\u001b[0;31mZeroDivisionError\u001b[0m: float division"
     ]
    },
    {
     "name": "stderr",
     "output_type": "stream",
     "text": [
      "Exception ignored in: 'regions._geometry.elliptical_overlap.elliptical_overlap_single_subpixel'\n",
      "Traceback (most recent call last):\n",
      "  File \"/mnt/home/turne540/software/anaconda3/envs/xga_dev/lib/python3.9/site-packages/regions-0.4-py3.9-linux-x86_64.egg/regions/shapes/ellipse.py\", line 175, in to_mask\n",
      "    fraction = elliptical_overlap_grid(\n",
      "ZeroDivisionError: float division\n"
     ]
    },
    {
     "ename": "ZeroDivisionError",
     "evalue": "float division",
     "output_type": "error",
     "traceback": [
      "\u001b[0;31m---------------------------------------------------------------------------\u001b[0m",
      "\u001b[0;31mZeroDivisionError\u001b[0m                         Traceback (most recent call last)",
      "\u001b[0;31mZeroDivisionError\u001b[0m: float division"
     ]
    },
    {
     "name": "stderr",
     "output_type": "stream",
     "text": [
      "Exception ignored in: 'regions._geometry.elliptical_overlap.elliptical_overlap_single_subpixel'\n",
      "Traceback (most recent call last):\n",
      "  File \"/mnt/home/turne540/software/anaconda3/envs/xga_dev/lib/python3.9/site-packages/regions-0.4-py3.9-linux-x86_64.egg/regions/shapes/ellipse.py\", line 175, in to_mask\n",
      "    fraction = elliptical_overlap_grid(\n",
      "ZeroDivisionError: float division\n"
     ]
    },
    {
     "ename": "ZeroDivisionError",
     "evalue": "float division",
     "output_type": "error",
     "traceback": [
      "\u001b[0;31m---------------------------------------------------------------------------\u001b[0m",
      "\u001b[0;31mZeroDivisionError\u001b[0m                         Traceback (most recent call last)",
      "\u001b[0;31mZeroDivisionError\u001b[0m: float division"
     ]
    },
    {
     "name": "stderr",
     "output_type": "stream",
     "text": [
      "Exception ignored in: 'regions._geometry.elliptical_overlap.elliptical_overlap_single_subpixel'\n",
      "Traceback (most recent call last):\n",
      "  File \"/mnt/home/turne540/software/anaconda3/envs/xga_dev/lib/python3.9/site-packages/regions-0.4-py3.9-linux-x86_64.egg/regions/shapes/ellipse.py\", line 175, in to_mask\n",
      "    fraction = elliptical_overlap_grid(\n",
      "ZeroDivisionError: float division\n"
     ]
    },
    {
     "ename": "ZeroDivisionError",
     "evalue": "float division",
     "output_type": "error",
     "traceback": [
      "\u001b[0;31m---------------------------------------------------------------------------\u001b[0m",
      "\u001b[0;31mZeroDivisionError\u001b[0m                         Traceback (most recent call last)",
      "\u001b[0;31mZeroDivisionError\u001b[0m: float division"
     ]
    },
    {
     "name": "stderr",
     "output_type": "stream",
     "text": [
      "Exception ignored in: 'regions._geometry.elliptical_overlap.elliptical_overlap_single_subpixel'\n",
      "Traceback (most recent call last):\n",
      "  File \"/mnt/home/turne540/software/anaconda3/envs/xga_dev/lib/python3.9/site-packages/regions-0.4-py3.9-linux-x86_64.egg/regions/shapes/ellipse.py\", line 175, in to_mask\n",
      "    fraction = elliptical_overlap_grid(\n",
      "ZeroDivisionError: float division\n"
     ]
    },
    {
     "ename": "ZeroDivisionError",
     "evalue": "float division",
     "output_type": "error",
     "traceback": [
      "\u001b[0;31m---------------------------------------------------------------------------\u001b[0m",
      "\u001b[0;31mZeroDivisionError\u001b[0m                         Traceback (most recent call last)",
      "\u001b[0;31mZeroDivisionError\u001b[0m: float division"
     ]
    },
    {
     "name": "stderr",
     "output_type": "stream",
     "text": [
      "Exception ignored in: 'regions._geometry.elliptical_overlap.elliptical_overlap_single_subpixel'\n",
      "Traceback (most recent call last):\n",
      "  File \"/mnt/home/turne540/software/anaconda3/envs/xga_dev/lib/python3.9/site-packages/regions-0.4-py3.9-linux-x86_64.egg/regions/shapes/ellipse.py\", line 175, in to_mask\n",
      "    fraction = elliptical_overlap_grid(\n",
      "ZeroDivisionError: float division\n"
     ]
    },
    {
     "ename": "ZeroDivisionError",
     "evalue": "float division",
     "output_type": "error",
     "traceback": [
      "\u001b[0;31m---------------------------------------------------------------------------\u001b[0m",
      "\u001b[0;31mZeroDivisionError\u001b[0m                         Traceback (most recent call last)",
      "\u001b[0;31mZeroDivisionError\u001b[0m: float division"
     ]
    },
    {
     "name": "stderr",
     "output_type": "stream",
     "text": [
      "Exception ignored in: 'regions._geometry.elliptical_overlap.elliptical_overlap_single_subpixel'\n",
      "Traceback (most recent call last):\n",
      "  File \"/mnt/home/turne540/software/anaconda3/envs/xga_dev/lib/python3.9/site-packages/regions-0.4-py3.9-linux-x86_64.egg/regions/shapes/ellipse.py\", line 175, in to_mask\n",
      "    fraction = elliptical_overlap_grid(\n",
      "ZeroDivisionError: float division\n"
     ]
    },
    {
     "ename": "ZeroDivisionError",
     "evalue": "float division",
     "output_type": "error",
     "traceback": [
      "\u001b[0;31m---------------------------------------------------------------------------\u001b[0m",
      "\u001b[0;31mZeroDivisionError\u001b[0m                         Traceback (most recent call last)",
      "\u001b[0;31mZeroDivisionError\u001b[0m: float division"
     ]
    },
    {
     "name": "stderr",
     "output_type": "stream",
     "text": [
      "Exception ignored in: 'regions._geometry.elliptical_overlap.elliptical_overlap_single_subpixel'\n",
      "Traceback (most recent call last):\n",
      "  File \"/mnt/home/turne540/software/anaconda3/envs/xga_dev/lib/python3.9/site-packages/regions-0.4-py3.9-linux-x86_64.egg/regions/shapes/ellipse.py\", line 175, in to_mask\n",
      "    fraction = elliptical_overlap_grid(\n",
      "ZeroDivisionError: float division\n"
     ]
    },
    {
     "ename": "ZeroDivisionError",
     "evalue": "float division",
     "output_type": "error",
     "traceback": [
      "\u001b[0;31m---------------------------------------------------------------------------\u001b[0m",
      "\u001b[0;31mZeroDivisionError\u001b[0m                         Traceback (most recent call last)",
      "\u001b[0;31mZeroDivisionError\u001b[0m: float division"
     ]
    },
    {
     "name": "stderr",
     "output_type": "stream",
     "text": [
      "Exception ignored in: 'regions._geometry.elliptical_overlap.elliptical_overlap_single_subpixel'\n",
      "Traceback (most recent call last):\n",
      "  File \"/mnt/home/turne540/software/anaconda3/envs/xga_dev/lib/python3.9/site-packages/regions-0.4-py3.9-linux-x86_64.egg/regions/shapes/ellipse.py\", line 175, in to_mask\n",
      "    fraction = elliptical_overlap_grid(\n",
      "ZeroDivisionError: float division\n"
     ]
    },
    {
     "ename": "ZeroDivisionError",
     "evalue": "float division",
     "output_type": "error",
     "traceback": [
      "\u001b[0;31m---------------------------------------------------------------------------\u001b[0m",
      "\u001b[0;31mZeroDivisionError\u001b[0m                         Traceback (most recent call last)",
      "\u001b[0;31mZeroDivisionError\u001b[0m: float division"
     ]
    },
    {
     "name": "stderr",
     "output_type": "stream",
     "text": [
      "Exception ignored in: 'regions._geometry.elliptical_overlap.elliptical_overlap_single_subpixel'\n",
      "Traceback (most recent call last):\n",
      "  File \"/mnt/home/turne540/software/anaconda3/envs/xga_dev/lib/python3.9/site-packages/regions-0.4-py3.9-linux-x86_64.egg/regions/shapes/ellipse.py\", line 175, in to_mask\n",
      "    fraction = elliptical_overlap_grid(\n",
      "ZeroDivisionError: float division\n"
     ]
    },
    {
     "ename": "ZeroDivisionError",
     "evalue": "float division",
     "output_type": "error",
     "traceback": [
      "\u001b[0;31m---------------------------------------------------------------------------\u001b[0m",
      "\u001b[0;31mZeroDivisionError\u001b[0m                         Traceback (most recent call last)",
      "\u001b[0;31mZeroDivisionError\u001b[0m: float division"
     ]
    },
    {
     "name": "stderr",
     "output_type": "stream",
     "text": [
      "Exception ignored in: 'regions._geometry.elliptical_overlap.elliptical_overlap_single_subpixel'\n",
      "Traceback (most recent call last):\n",
      "  File \"/mnt/home/turne540/software/anaconda3/envs/xga_dev/lib/python3.9/site-packages/regions-0.4-py3.9-linux-x86_64.egg/regions/shapes/ellipse.py\", line 175, in to_mask\n",
      "    fraction = elliptical_overlap_grid(\n",
      "ZeroDivisionError: float division\n"
     ]
    },
    {
     "ename": "ZeroDivisionError",
     "evalue": "float division",
     "output_type": "error",
     "traceback": [
      "\u001b[0;31m---------------------------------------------------------------------------\u001b[0m",
      "\u001b[0;31mZeroDivisionError\u001b[0m                         Traceback (most recent call last)",
      "\u001b[0;31mZeroDivisionError\u001b[0m: float division"
     ]
    },
    {
     "name": "stderr",
     "output_type": "stream",
     "text": [
      "Exception ignored in: 'regions._geometry.elliptical_overlap.elliptical_overlap_single_subpixel'\n",
      "Traceback (most recent call last):\n",
      "  File \"/mnt/home/turne540/software/anaconda3/envs/xga_dev/lib/python3.9/site-packages/regions-0.4-py3.9-linux-x86_64.egg/regions/shapes/ellipse.py\", line 175, in to_mask\n",
      "    fraction = elliptical_overlap_grid(\n",
      "ZeroDivisionError: float division\n"
     ]
    },
    {
     "ename": "ZeroDivisionError",
     "evalue": "float division",
     "output_type": "error",
     "traceback": [
      "\u001b[0;31m---------------------------------------------------------------------------\u001b[0m",
      "\u001b[0;31mZeroDivisionError\u001b[0m                         Traceback (most recent call last)",
      "\u001b[0;31mZeroDivisionError\u001b[0m: float division"
     ]
    },
    {
     "name": "stderr",
     "output_type": "stream",
     "text": [
      "Exception ignored in: 'regions._geometry.elliptical_overlap.elliptical_overlap_single_subpixel'\n",
      "Traceback (most recent call last):\n",
      "  File \"/mnt/home/turne540/software/anaconda3/envs/xga_dev/lib/python3.9/site-packages/regions-0.4-py3.9-linux-x86_64.egg/regions/shapes/ellipse.py\", line 175, in to_mask\n",
      "    fraction = elliptical_overlap_grid(\n",
      "ZeroDivisionError: float division\n"
     ]
    },
    {
     "ename": "ZeroDivisionError",
     "evalue": "float division",
     "output_type": "error",
     "traceback": [
      "\u001b[0;31m---------------------------------------------------------------------------\u001b[0m",
      "\u001b[0;31mZeroDivisionError\u001b[0m                         Traceback (most recent call last)",
      "\u001b[0;31mZeroDivisionError\u001b[0m: float division"
     ]
    },
    {
     "name": "stderr",
     "output_type": "stream",
     "text": [
      "Exception ignored in: 'regions._geometry.elliptical_overlap.elliptical_overlap_single_subpixel'\n",
      "Traceback (most recent call last):\n",
      "  File \"/mnt/home/turne540/software/anaconda3/envs/xga_dev/lib/python3.9/site-packages/regions-0.4-py3.9-linux-x86_64.egg/regions/shapes/ellipse.py\", line 175, in to_mask\n",
      "    fraction = elliptical_overlap_grid(\n",
      "ZeroDivisionError: float division\n"
     ]
    },
    {
     "ename": "ZeroDivisionError",
     "evalue": "float division",
     "output_type": "error",
     "traceback": [
      "\u001b[0;31m---------------------------------------------------------------------------\u001b[0m",
      "\u001b[0;31mZeroDivisionError\u001b[0m                         Traceback (most recent call last)",
      "\u001b[0;31mZeroDivisionError\u001b[0m: float division"
     ]
    },
    {
     "name": "stderr",
     "output_type": "stream",
     "text": [
      "Exception ignored in: 'regions._geometry.elliptical_overlap.elliptical_overlap_single_subpixel'\n",
      "Traceback (most recent call last):\n",
      "  File \"/mnt/home/turne540/software/anaconda3/envs/xga_dev/lib/python3.9/site-packages/regions-0.4-py3.9-linux-x86_64.egg/regions/shapes/ellipse.py\", line 175, in to_mask\n",
      "    fraction = elliptical_overlap_grid(\n",
      "ZeroDivisionError: float division\n"
     ]
    },
    {
     "ename": "ZeroDivisionError",
     "evalue": "float division",
     "output_type": "error",
     "traceback": [
      "\u001b[0;31m---------------------------------------------------------------------------\u001b[0m",
      "\u001b[0;31mZeroDivisionError\u001b[0m                         Traceback (most recent call last)",
      "\u001b[0;31mZeroDivisionError\u001b[0m: float division"
     ]
    },
    {
     "name": "stderr",
     "output_type": "stream",
     "text": [
      "Exception ignored in: 'regions._geometry.elliptical_overlap.elliptical_overlap_single_subpixel'\n",
      "Traceback (most recent call last):\n",
      "  File \"/mnt/home/turne540/software/anaconda3/envs/xga_dev/lib/python3.9/site-packages/regions-0.4-py3.9-linux-x86_64.egg/regions/shapes/ellipse.py\", line 175, in to_mask\n",
      "    fraction = elliptical_overlap_grid(\n",
      "ZeroDivisionError: float division\n"
     ]
    },
    {
     "ename": "ZeroDivisionError",
     "evalue": "float division",
     "output_type": "error",
     "traceback": [
      "\u001b[0;31m---------------------------------------------------------------------------\u001b[0m",
      "\u001b[0;31mZeroDivisionError\u001b[0m                         Traceback (most recent call last)",
      "\u001b[0;31mZeroDivisionError\u001b[0m: float division"
     ]
    },
    {
     "name": "stderr",
     "output_type": "stream",
     "text": [
      "Exception ignored in: 'regions._geometry.elliptical_overlap.elliptical_overlap_single_subpixel'\n",
      "Traceback (most recent call last):\n",
      "  File \"/mnt/home/turne540/software/anaconda3/envs/xga_dev/lib/python3.9/site-packages/regions-0.4-py3.9-linux-x86_64.egg/regions/shapes/ellipse.py\", line 175, in to_mask\n",
      "    fraction = elliptical_overlap_grid(\n",
      "ZeroDivisionError: float division\n"
     ]
    },
    {
     "ename": "ZeroDivisionError",
     "evalue": "float division",
     "output_type": "error",
     "traceback": [
      "\u001b[0;31m---------------------------------------------------------------------------\u001b[0m",
      "\u001b[0;31mZeroDivisionError\u001b[0m                         Traceback (most recent call last)",
      "\u001b[0;31mZeroDivisionError\u001b[0m: float division"
     ]
    },
    {
     "name": "stderr",
     "output_type": "stream",
     "text": [
      "Exception ignored in: 'regions._geometry.elliptical_overlap.elliptical_overlap_single_subpixel'\n",
      "Traceback (most recent call last):\n",
      "  File \"/mnt/home/turne540/software/anaconda3/envs/xga_dev/lib/python3.9/site-packages/regions-0.4-py3.9-linux-x86_64.egg/regions/shapes/ellipse.py\", line 175, in to_mask\n",
      "    fraction = elliptical_overlap_grid(\n",
      "ZeroDivisionError: float division\n"
     ]
    },
    {
     "ename": "ZeroDivisionError",
     "evalue": "float division",
     "output_type": "error",
     "traceback": [
      "\u001b[0;31m---------------------------------------------------------------------------\u001b[0m",
      "\u001b[0;31mZeroDivisionError\u001b[0m                         Traceback (most recent call last)",
      "\u001b[0;31mZeroDivisionError\u001b[0m: float division"
     ]
    },
    {
     "name": "stderr",
     "output_type": "stream",
     "text": [
      "Exception ignored in: 'regions._geometry.elliptical_overlap.elliptical_overlap_single_subpixel'\n",
      "Traceback (most recent call last):\n",
      "  File \"/mnt/home/turne540/software/anaconda3/envs/xga_dev/lib/python3.9/site-packages/regions-0.4-py3.9-linux-x86_64.egg/regions/shapes/ellipse.py\", line 175, in to_mask\n",
      "    fraction = elliptical_overlap_grid(\n",
      "ZeroDivisionError: float division\n"
     ]
    },
    {
     "ename": "ZeroDivisionError",
     "evalue": "float division",
     "output_type": "error",
     "traceback": [
      "\u001b[0;31m---------------------------------------------------------------------------\u001b[0m",
      "\u001b[0;31mZeroDivisionError\u001b[0m                         Traceback (most recent call last)",
      "\u001b[0;31mZeroDivisionError\u001b[0m: float division"
     ]
    },
    {
     "name": "stderr",
     "output_type": "stream",
     "text": [
      "Exception ignored in: 'regions._geometry.elliptical_overlap.elliptical_overlap_single_subpixel'\n",
      "Traceback (most recent call last):\n",
      "  File \"/mnt/home/turne540/software/anaconda3/envs/xga_dev/lib/python3.9/site-packages/regions-0.4-py3.9-linux-x86_64.egg/regions/shapes/ellipse.py\", line 175, in to_mask\n",
      "    fraction = elliptical_overlap_grid(\n",
      "ZeroDivisionError: float division\n"
     ]
    },
    {
     "ename": "ZeroDivisionError",
     "evalue": "float division",
     "output_type": "error",
     "traceback": [
      "\u001b[0;31m---------------------------------------------------------------------------\u001b[0m",
      "\u001b[0;31mZeroDivisionError\u001b[0m                         Traceback (most recent call last)",
      "\u001b[0;31mZeroDivisionError\u001b[0m: float division"
     ]
    },
    {
     "name": "stderr",
     "output_type": "stream",
     "text": [
      "Exception ignored in: 'regions._geometry.elliptical_overlap.elliptical_overlap_single_subpixel'\n",
      "Traceback (most recent call last):\n",
      "  File \"/mnt/home/turne540/software/anaconda3/envs/xga_dev/lib/python3.9/site-packages/regions-0.4-py3.9-linux-x86_64.egg/regions/shapes/ellipse.py\", line 175, in to_mask\n",
      "    fraction = elliptical_overlap_grid(\n",
      "ZeroDivisionError: float division\n"
     ]
    },
    {
     "ename": "ZeroDivisionError",
     "evalue": "float division",
     "output_type": "error",
     "traceback": [
      "\u001b[0;31m---------------------------------------------------------------------------\u001b[0m",
      "\u001b[0;31mZeroDivisionError\u001b[0m                         Traceback (most recent call last)",
      "\u001b[0;31mZeroDivisionError\u001b[0m: float division"
     ]
    },
    {
     "name": "stderr",
     "output_type": "stream",
     "text": [
      "Exception ignored in: 'regions._geometry.elliptical_overlap.elliptical_overlap_single_subpixel'\n",
      "Traceback (most recent call last):\n",
      "  File \"/mnt/home/turne540/software/anaconda3/envs/xga_dev/lib/python3.9/site-packages/regions-0.4-py3.9-linux-x86_64.egg/regions/shapes/ellipse.py\", line 175, in to_mask\n",
      "    fraction = elliptical_overlap_grid(\n",
      "ZeroDivisionError: float division\n"
     ]
    },
    {
     "ename": "ZeroDivisionError",
     "evalue": "float division",
     "output_type": "error",
     "traceback": [
      "\u001b[0;31m---------------------------------------------------------------------------\u001b[0m",
      "\u001b[0;31mZeroDivisionError\u001b[0m                         Traceback (most recent call last)",
      "\u001b[0;31mZeroDivisionError\u001b[0m: float division"
     ]
    },
    {
     "name": "stderr",
     "output_type": "stream",
     "text": [
      "Exception ignored in: 'regions._geometry.elliptical_overlap.elliptical_overlap_single_subpixel'\n",
      "Traceback (most recent call last):\n",
      "  File \"/mnt/home/turne540/software/anaconda3/envs/xga_dev/lib/python3.9/site-packages/regions-0.4-py3.9-linux-x86_64.egg/regions/shapes/ellipse.py\", line 175, in to_mask\n",
      "    fraction = elliptical_overlap_grid(\n",
      "ZeroDivisionError: float division\n"
     ]
    },
    {
     "ename": "ZeroDivisionError",
     "evalue": "float division",
     "output_type": "error",
     "traceback": [
      "\u001b[0;31m---------------------------------------------------------------------------\u001b[0m",
      "\u001b[0;31mZeroDivisionError\u001b[0m                         Traceback (most recent call last)",
      "\u001b[0;31mZeroDivisionError\u001b[0m: float division"
     ]
    },
    {
     "name": "stderr",
     "output_type": "stream",
     "text": [
      "Exception ignored in: 'regions._geometry.elliptical_overlap.elliptical_overlap_single_subpixel'\n",
      "Traceback (most recent call last):\n",
      "  File \"/mnt/home/turne540/software/anaconda3/envs/xga_dev/lib/python3.9/site-packages/regions-0.4-py3.9-linux-x86_64.egg/regions/shapes/ellipse.py\", line 175, in to_mask\n",
      "    fraction = elliptical_overlap_grid(\n",
      "ZeroDivisionError: float division\n"
     ]
    },
    {
     "ename": "ZeroDivisionError",
     "evalue": "float division",
     "output_type": "error",
     "traceback": [
      "\u001b[0;31m---------------------------------------------------------------------------\u001b[0m",
      "\u001b[0;31mZeroDivisionError\u001b[0m                         Traceback (most recent call last)",
      "\u001b[0;31mZeroDivisionError\u001b[0m: float division"
     ]
    },
    {
     "name": "stderr",
     "output_type": "stream",
     "text": [
      "Exception ignored in: 'regions._geometry.elliptical_overlap.elliptical_overlap_single_subpixel'\n",
      "Traceback (most recent call last):\n",
      "  File \"/mnt/home/turne540/software/anaconda3/envs/xga_dev/lib/python3.9/site-packages/regions-0.4-py3.9-linux-x86_64.egg/regions/shapes/ellipse.py\", line 175, in to_mask\n",
      "    fraction = elliptical_overlap_grid(\n",
      "ZeroDivisionError: float division\n"
     ]
    },
    {
     "ename": "ZeroDivisionError",
     "evalue": "float division",
     "output_type": "error",
     "traceback": [
      "\u001b[0;31m---------------------------------------------------------------------------\u001b[0m",
      "\u001b[0;31mZeroDivisionError\u001b[0m                         Traceback (most recent call last)",
      "\u001b[0;31mZeroDivisionError\u001b[0m: float division"
     ]
    },
    {
     "name": "stderr",
     "output_type": "stream",
     "text": [
      "Exception ignored in: 'regions._geometry.elliptical_overlap.elliptical_overlap_single_subpixel'\n",
      "Traceback (most recent call last):\n",
      "  File \"/mnt/home/turne540/software/anaconda3/envs/xga_dev/lib/python3.9/site-packages/regions-0.4-py3.9-linux-x86_64.egg/regions/shapes/ellipse.py\", line 175, in to_mask\n",
      "    fraction = elliptical_overlap_grid(\n",
      "ZeroDivisionError: float division\n"
     ]
    },
    {
     "ename": "ZeroDivisionError",
     "evalue": "float division",
     "output_type": "error",
     "traceback": [
      "\u001b[0;31m---------------------------------------------------------------------------\u001b[0m",
      "\u001b[0;31mZeroDivisionError\u001b[0m                         Traceback (most recent call last)",
      "\u001b[0;31mZeroDivisionError\u001b[0m: float division"
     ]
    },
    {
     "name": "stderr",
     "output_type": "stream",
     "text": [
      "Exception ignored in: 'regions._geometry.elliptical_overlap.elliptical_overlap_single_subpixel'\n",
      "Traceback (most recent call last):\n",
      "  File \"/mnt/home/turne540/software/anaconda3/envs/xga_dev/lib/python3.9/site-packages/regions-0.4-py3.9-linux-x86_64.egg/regions/shapes/ellipse.py\", line 175, in to_mask\n",
      "    fraction = elliptical_overlap_grid(\n",
      "ZeroDivisionError: float division\n"
     ]
    },
    {
     "ename": "ZeroDivisionError",
     "evalue": "float division",
     "output_type": "error",
     "traceback": [
      "\u001b[0;31m---------------------------------------------------------------------------\u001b[0m",
      "\u001b[0;31mZeroDivisionError\u001b[0m                         Traceback (most recent call last)",
      "\u001b[0;31mZeroDivisionError\u001b[0m: float division"
     ]
    },
    {
     "name": "stderr",
     "output_type": "stream",
     "text": [
      "Exception ignored in: 'regions._geometry.elliptical_overlap.elliptical_overlap_single_subpixel'\n",
      "Traceback (most recent call last):\n",
      "  File \"/mnt/home/turne540/software/anaconda3/envs/xga_dev/lib/python3.9/site-packages/regions-0.4-py3.9-linux-x86_64.egg/regions/shapes/ellipse.py\", line 175, in to_mask\n",
      "    fraction = elliptical_overlap_grid(\n",
      "ZeroDivisionError: float division\n"
     ]
    },
    {
     "ename": "ZeroDivisionError",
     "evalue": "float division",
     "output_type": "error",
     "traceback": [
      "\u001b[0;31m---------------------------------------------------------------------------\u001b[0m",
      "\u001b[0;31mZeroDivisionError\u001b[0m                         Traceback (most recent call last)",
      "\u001b[0;31mZeroDivisionError\u001b[0m: float division"
     ]
    },
    {
     "name": "stderr",
     "output_type": "stream",
     "text": [
      "Exception ignored in: 'regions._geometry.elliptical_overlap.elliptical_overlap_single_subpixel'\n",
      "Traceback (most recent call last):\n",
      "  File \"/mnt/home/turne540/software/anaconda3/envs/xga_dev/lib/python3.9/site-packages/regions-0.4-py3.9-linux-x86_64.egg/regions/shapes/ellipse.py\", line 175, in to_mask\n",
      "    fraction = elliptical_overlap_grid(\n",
      "ZeroDivisionError: float division\n"
     ]
    },
    {
     "ename": "ZeroDivisionError",
     "evalue": "float division",
     "output_type": "error",
     "traceback": [
      "\u001b[0;31m---------------------------------------------------------------------------\u001b[0m",
      "\u001b[0;31mZeroDivisionError\u001b[0m                         Traceback (most recent call last)",
      "\u001b[0;31mZeroDivisionError\u001b[0m: float division"
     ]
    },
    {
     "name": "stderr",
     "output_type": "stream",
     "text": [
      "Exception ignored in: 'regions._geometry.elliptical_overlap.elliptical_overlap_single_subpixel'\n",
      "Traceback (most recent call last):\n",
      "  File \"/mnt/home/turne540/software/anaconda3/envs/xga_dev/lib/python3.9/site-packages/regions-0.4-py3.9-linux-x86_64.egg/regions/shapes/ellipse.py\", line 175, in to_mask\n",
      "    fraction = elliptical_overlap_grid(\n",
      "ZeroDivisionError: float division\n"
     ]
    },
    {
     "ename": "ZeroDivisionError",
     "evalue": "float division",
     "output_type": "error",
     "traceback": [
      "\u001b[0;31m---------------------------------------------------------------------------\u001b[0m",
      "\u001b[0;31mZeroDivisionError\u001b[0m                         Traceback (most recent call last)",
      "\u001b[0;31mZeroDivisionError\u001b[0m: float division"
     ]
    },
    {
     "name": "stderr",
     "output_type": "stream",
     "text": [
      "Exception ignored in: 'regions._geometry.elliptical_overlap.elliptical_overlap_single_subpixel'\n",
      "Traceback (most recent call last):\n",
      "  File \"/mnt/home/turne540/software/anaconda3/envs/xga_dev/lib/python3.9/site-packages/regions-0.4-py3.9-linux-x86_64.egg/regions/shapes/ellipse.py\", line 175, in to_mask\n",
      "    fraction = elliptical_overlap_grid(\n",
      "ZeroDivisionError: float division\n"
     ]
    },
    {
     "ename": "ZeroDivisionError",
     "evalue": "float division",
     "output_type": "error",
     "traceback": [
      "\u001b[0;31m---------------------------------------------------------------------------\u001b[0m",
      "\u001b[0;31mZeroDivisionError\u001b[0m                         Traceback (most recent call last)",
      "\u001b[0;31mZeroDivisionError\u001b[0m: float division"
     ]
    },
    {
     "name": "stderr",
     "output_type": "stream",
     "text": [
      "Exception ignored in: 'regions._geometry.elliptical_overlap.elliptical_overlap_single_subpixel'\n",
      "Traceback (most recent call last):\n",
      "  File \"/mnt/home/turne540/software/anaconda3/envs/xga_dev/lib/python3.9/site-packages/regions-0.4-py3.9-linux-x86_64.egg/regions/shapes/ellipse.py\", line 175, in to_mask\n",
      "    fraction = elliptical_overlap_grid(\n",
      "ZeroDivisionError: float division\n"
     ]
    },
    {
     "ename": "ZeroDivisionError",
     "evalue": "float division",
     "output_type": "error",
     "traceback": [
      "\u001b[0;31m---------------------------------------------------------------------------\u001b[0m",
      "\u001b[0;31mZeroDivisionError\u001b[0m                         Traceback (most recent call last)",
      "\u001b[0;31mZeroDivisionError\u001b[0m: float division"
     ]
    },
    {
     "name": "stderr",
     "output_type": "stream",
     "text": [
      "Exception ignored in: 'regions._geometry.elliptical_overlap.elliptical_overlap_single_subpixel'\n",
      "Traceback (most recent call last):\n",
      "  File \"/mnt/home/turne540/software/anaconda3/envs/xga_dev/lib/python3.9/site-packages/regions-0.4-py3.9-linux-x86_64.egg/regions/shapes/ellipse.py\", line 175, in to_mask\n",
      "    fraction = elliptical_overlap_grid(\n",
      "ZeroDivisionError: float division\n"
     ]
    },
    {
     "ename": "ZeroDivisionError",
     "evalue": "float division",
     "output_type": "error",
     "traceback": [
      "\u001b[0;31m---------------------------------------------------------------------------\u001b[0m",
      "\u001b[0;31mZeroDivisionError\u001b[0m                         Traceback (most recent call last)",
      "\u001b[0;31mZeroDivisionError\u001b[0m: float division"
     ]
    },
    {
     "name": "stderr",
     "output_type": "stream",
     "text": [
      "Exception ignored in: 'regions._geometry.elliptical_overlap.elliptical_overlap_single_subpixel'\n",
      "Traceback (most recent call last):\n",
      "  File \"/mnt/home/turne540/software/anaconda3/envs/xga_dev/lib/python3.9/site-packages/regions-0.4-py3.9-linux-x86_64.egg/regions/shapes/ellipse.py\", line 175, in to_mask\n",
      "    fraction = elliptical_overlap_grid(\n",
      "ZeroDivisionError: float division\n"
     ]
    },
    {
     "ename": "ZeroDivisionError",
     "evalue": "float division",
     "output_type": "error",
     "traceback": [
      "\u001b[0;31m---------------------------------------------------------------------------\u001b[0m",
      "\u001b[0;31mZeroDivisionError\u001b[0m                         Traceback (most recent call last)",
      "\u001b[0;31mZeroDivisionError\u001b[0m: float division"
     ]
    },
    {
     "name": "stderr",
     "output_type": "stream",
     "text": [
      "Exception ignored in: 'regions._geometry.elliptical_overlap.elliptical_overlap_single_subpixel'\n",
      "Traceback (most recent call last):\n",
      "  File \"/mnt/home/turne540/software/anaconda3/envs/xga_dev/lib/python3.9/site-packages/regions-0.4-py3.9-linux-x86_64.egg/regions/shapes/ellipse.py\", line 175, in to_mask\n",
      "    fraction = elliptical_overlap_grid(\n",
      "ZeroDivisionError: float division\n"
     ]
    },
    {
     "ename": "ZeroDivisionError",
     "evalue": "float division",
     "output_type": "error",
     "traceback": [
      "\u001b[0;31m---------------------------------------------------------------------------\u001b[0m",
      "\u001b[0;31mZeroDivisionError\u001b[0m                         Traceback (most recent call last)",
      "\u001b[0;31mZeroDivisionError\u001b[0m: float division"
     ]
    },
    {
     "name": "stderr",
     "output_type": "stream",
     "text": [
      "Exception ignored in: 'regions._geometry.elliptical_overlap.elliptical_overlap_single_subpixel'\n",
      "Traceback (most recent call last):\n",
      "  File \"/mnt/home/turne540/software/anaconda3/envs/xga_dev/lib/python3.9/site-packages/regions-0.4-py3.9-linux-x86_64.egg/regions/shapes/ellipse.py\", line 175, in to_mask\n",
      "    fraction = elliptical_overlap_grid(\n",
      "ZeroDivisionError: float division\n"
     ]
    },
    {
     "ename": "ZeroDivisionError",
     "evalue": "float division",
     "output_type": "error",
     "traceback": [
      "\u001b[0;31m---------------------------------------------------------------------------\u001b[0m",
      "\u001b[0;31mZeroDivisionError\u001b[0m                         Traceback (most recent call last)",
      "\u001b[0;31mZeroDivisionError\u001b[0m: float division"
     ]
    },
    {
     "name": "stderr",
     "output_type": "stream",
     "text": [
      "Exception ignored in: 'regions._geometry.elliptical_overlap.elliptical_overlap_single_subpixel'\n",
      "Traceback (most recent call last):\n",
      "  File \"/mnt/home/turne540/software/anaconda3/envs/xga_dev/lib/python3.9/site-packages/regions-0.4-py3.9-linux-x86_64.egg/regions/shapes/ellipse.py\", line 175, in to_mask\n",
      "    fraction = elliptical_overlap_grid(\n",
      "ZeroDivisionError: float division\n"
     ]
    },
    {
     "ename": "ZeroDivisionError",
     "evalue": "float division",
     "output_type": "error",
     "traceback": [
      "\u001b[0;31m---------------------------------------------------------------------------\u001b[0m",
      "\u001b[0;31mZeroDivisionError\u001b[0m                         Traceback (most recent call last)",
      "\u001b[0;31mZeroDivisionError\u001b[0m: float division"
     ]
    },
    {
     "name": "stderr",
     "output_type": "stream",
     "text": [
      "Exception ignored in: 'regions._geometry.elliptical_overlap.elliptical_overlap_single_subpixel'\n",
      "Traceback (most recent call last):\n",
      "  File \"/mnt/home/turne540/software/anaconda3/envs/xga_dev/lib/python3.9/site-packages/regions-0.4-py3.9-linux-x86_64.egg/regions/shapes/ellipse.py\", line 175, in to_mask\n",
      "    fraction = elliptical_overlap_grid(\n",
      "ZeroDivisionError: float division\n"
     ]
    },
    {
     "ename": "ZeroDivisionError",
     "evalue": "float division",
     "output_type": "error",
     "traceback": [
      "\u001b[0;31m---------------------------------------------------------------------------\u001b[0m",
      "\u001b[0;31mZeroDivisionError\u001b[0m                         Traceback (most recent call last)",
      "\u001b[0;31mZeroDivisionError\u001b[0m: float division"
     ]
    },
    {
     "name": "stderr",
     "output_type": "stream",
     "text": [
      "Exception ignored in: 'regions._geometry.elliptical_overlap.elliptical_overlap_single_subpixel'\n",
      "Traceback (most recent call last):\n",
      "  File \"/mnt/home/turne540/software/anaconda3/envs/xga_dev/lib/python3.9/site-packages/regions-0.4-py3.9-linux-x86_64.egg/regions/shapes/ellipse.py\", line 175, in to_mask\n",
      "    fraction = elliptical_overlap_grid(\n",
      "ZeroDivisionError: float division\n"
     ]
    },
    {
     "ename": "ZeroDivisionError",
     "evalue": "float division",
     "output_type": "error",
     "traceback": [
      "\u001b[0;31m---------------------------------------------------------------------------\u001b[0m",
      "\u001b[0;31mZeroDivisionError\u001b[0m                         Traceback (most recent call last)",
      "\u001b[0;31mZeroDivisionError\u001b[0m: float division"
     ]
    },
    {
     "name": "stderr",
     "output_type": "stream",
     "text": [
      "Exception ignored in: 'regions._geometry.elliptical_overlap.elliptical_overlap_single_subpixel'\n",
      "Traceback (most recent call last):\n",
      "  File \"/mnt/home/turne540/software/anaconda3/envs/xga_dev/lib/python3.9/site-packages/regions-0.4-py3.9-linux-x86_64.egg/regions/shapes/ellipse.py\", line 175, in to_mask\n",
      "    fraction = elliptical_overlap_grid(\n",
      "ZeroDivisionError: float division\n"
     ]
    },
    {
     "ename": "ZeroDivisionError",
     "evalue": "float division",
     "output_type": "error",
     "traceback": [
      "\u001b[0;31m---------------------------------------------------------------------------\u001b[0m",
      "\u001b[0;31mZeroDivisionError\u001b[0m                         Traceback (most recent call last)",
      "\u001b[0;31mZeroDivisionError\u001b[0m: float division"
     ]
    },
    {
     "name": "stderr",
     "output_type": "stream",
     "text": [
      "Exception ignored in: 'regions._geometry.elliptical_overlap.elliptical_overlap_single_subpixel'\n",
      "Traceback (most recent call last):\n",
      "  File \"/mnt/home/turne540/software/anaconda3/envs/xga_dev/lib/python3.9/site-packages/regions-0.4-py3.9-linux-x86_64.egg/regions/shapes/ellipse.py\", line 175, in to_mask\n",
      "    fraction = elliptical_overlap_grid(\n",
      "ZeroDivisionError: float division\n"
     ]
    },
    {
     "ename": "ZeroDivisionError",
     "evalue": "float division",
     "output_type": "error",
     "traceback": [
      "\u001b[0;31m---------------------------------------------------------------------------\u001b[0m",
      "\u001b[0;31mZeroDivisionError\u001b[0m                         Traceback (most recent call last)",
      "\u001b[0;31mZeroDivisionError\u001b[0m: float division"
     ]
    },
    {
     "name": "stderr",
     "output_type": "stream",
     "text": [
      "Exception ignored in: 'regions._geometry.elliptical_overlap.elliptical_overlap_single_subpixel'\n",
      "Traceback (most recent call last):\n",
      "  File \"/mnt/home/turne540/software/anaconda3/envs/xga_dev/lib/python3.9/site-packages/regions-0.4-py3.9-linux-x86_64.egg/regions/shapes/ellipse.py\", line 175, in to_mask\n",
      "    fraction = elliptical_overlap_grid(\n",
      "ZeroDivisionError: float division\n"
     ]
    },
    {
     "ename": "ZeroDivisionError",
     "evalue": "float division",
     "output_type": "error",
     "traceback": [
      "\u001b[0;31m---------------------------------------------------------------------------\u001b[0m",
      "\u001b[0;31mZeroDivisionError\u001b[0m                         Traceback (most recent call last)",
      "\u001b[0;31mZeroDivisionError\u001b[0m: float division"
     ]
    },
    {
     "name": "stderr",
     "output_type": "stream",
     "text": [
      "Exception ignored in: 'regions._geometry.elliptical_overlap.elliptical_overlap_single_subpixel'\n",
      "Traceback (most recent call last):\n",
      "  File \"/mnt/home/turne540/software/anaconda3/envs/xga_dev/lib/python3.9/site-packages/regions-0.4-py3.9-linux-x86_64.egg/regions/shapes/ellipse.py\", line 175, in to_mask\n",
      "    fraction = elliptical_overlap_grid(\n",
      "ZeroDivisionError: float division\n"
     ]
    },
    {
     "ename": "ZeroDivisionError",
     "evalue": "float division",
     "output_type": "error",
     "traceback": [
      "\u001b[0;31m---------------------------------------------------------------------------\u001b[0m",
      "\u001b[0;31mZeroDivisionError\u001b[0m                         Traceback (most recent call last)",
      "\u001b[0;31mZeroDivisionError\u001b[0m: float division"
     ]
    },
    {
     "name": "stderr",
     "output_type": "stream",
     "text": [
      "Exception ignored in: 'regions._geometry.elliptical_overlap.elliptical_overlap_single_subpixel'\n",
      "Traceback (most recent call last):\n",
      "  File \"/mnt/home/turne540/software/anaconda3/envs/xga_dev/lib/python3.9/site-packages/regions-0.4-py3.9-linux-x86_64.egg/regions/shapes/ellipse.py\", line 175, in to_mask\n",
      "    fraction = elliptical_overlap_grid(\n",
      "ZeroDivisionError: float division\n"
     ]
    },
    {
     "ename": "ZeroDivisionError",
     "evalue": "float division",
     "output_type": "error",
     "traceback": [
      "\u001b[0;31m---------------------------------------------------------------------------\u001b[0m",
      "\u001b[0;31mZeroDivisionError\u001b[0m                         Traceback (most recent call last)",
      "\u001b[0;31mZeroDivisionError\u001b[0m: float division"
     ]
    },
    {
     "name": "stderr",
     "output_type": "stream",
     "text": [
      "Exception ignored in: 'regions._geometry.elliptical_overlap.elliptical_overlap_single_subpixel'\n",
      "Traceback (most recent call last):\n",
      "  File \"/mnt/home/turne540/software/anaconda3/envs/xga_dev/lib/python3.9/site-packages/regions-0.4-py3.9-linux-x86_64.egg/regions/shapes/ellipse.py\", line 175, in to_mask\n",
      "    fraction = elliptical_overlap_grid(\n",
      "ZeroDivisionError: float division\n"
     ]
    },
    {
     "ename": "ZeroDivisionError",
     "evalue": "float division",
     "output_type": "error",
     "traceback": [
      "\u001b[0;31m---------------------------------------------------------------------------\u001b[0m",
      "\u001b[0;31mZeroDivisionError\u001b[0m                         Traceback (most recent call last)",
      "\u001b[0;31mZeroDivisionError\u001b[0m: float division"
     ]
    },
    {
     "name": "stderr",
     "output_type": "stream",
     "text": [
      "Exception ignored in: 'regions._geometry.elliptical_overlap.elliptical_overlap_single_subpixel'\n",
      "Traceback (most recent call last):\n",
      "  File \"/mnt/home/turne540/software/anaconda3/envs/xga_dev/lib/python3.9/site-packages/regions-0.4-py3.9-linux-x86_64.egg/regions/shapes/ellipse.py\", line 175, in to_mask\n",
      "    fraction = elliptical_overlap_grid(\n",
      "ZeroDivisionError: float division\n",
      "Setting up Galaxy Clusters: 100%|██████████| 116/116 [04:25<00:00,  2.29s/it]\n",
      "/mnt/ufs18/home-218/turne540/code/XGA/xga/tools/clusters/LT.py:186: UserWarning: The following do not appear to have any XMM data, and will not be included in the sample (can also check .failed_names); LoVoCCS-18, LoVoCCS-24, LoVoCCS-37, LoVoCCS-53, LoVoCCS-54, LoVoCCS-61, LoVoCCS-72, LoVoCCS-87, LoVoCCS-91, LoVoCCS-93, LoVoCCS-98, LoVoCCS-99, LoVoCCS-102, LoVoCCS-105, LoVoCCS-106, LoVoCCS-108, LoVoCCS-109, LoVoCCS-110, LoVoCCS-111, LoVoCCS-112, LoVoCCS-113, LoVoCCS-119, LoVoCCS-122, LoVoCCS-126, LoVoCCS-133, LoVoCCS-137, LoVoCCS-141, LoVoCCS-142, LoVoCCS-32\n",
      "  samp = ClusterSample(sample_data['ra'].values, sample_data['dec'].values, sample_data['redshift'].values,\n",
      "/mnt/ufs18/home-218/turne540/code/XGA/xga/samples/extended.py:246: UserWarning: Non-fatal warnings occurred during the declaration of some sources, to access them please use the suppressed_warnings property of this sample.\n",
      "  self._check_source_warnings()\n",
      "Running XSPEC Fits: 100%|██████████| 115/115 [1:31:38<00:00, 47.82s/it] \n",
      "Generating products of type(s) spectrum: 100%|██████████| 132/132 [31:05<00:00, 14.13s/it] \n",
      "/tmp/local/22167239/ipykernel_38318/1467776785.py:4: UserWarning: Some sources (LoVoCCS-82, LoVoCCS-66, LoVoCCS-4, LoVoCCS-51, LoVoCCS-10, LoVoCCS-1, LoVoCCS-29, LoVoCCS-46) have been removed because of spectrum generation failures.\n",
      "  srcs, results, rad_hist = luminosity_temperature_pipeline(samp, Quantity(250, 'kpc'), timeout=Quantity(4, 'hr'),\n",
      "Running XSPEC Fits: 100%|██████████| 107/107 [27:30<00:00, 15.43s/it]  \n",
      "/mnt/ufs18/home-218/turne540/code/XGA/xga/samples/extended.py:608: UserWarning: Those spectra have no associated XSPEC fit to LoVoCCS-2\n",
      "  warn(str(err))\n",
      "/mnt/ufs18/home-218/turne540/code/XGA/xga/samples/extended.py:608: UserWarning: Those spectra have no associated XSPEC fit to LoVoCCS-8\n",
      "  warn(str(err))\n",
      "/mnt/ufs18/home-218/turne540/code/XGA/xga/samples/extended.py:608: UserWarning: Those spectra have no associated XSPEC fit to LoVoCCS-11\n",
      "  warn(str(err))\n",
      "/mnt/ufs18/home-218/turne540/code/XGA/xga/samples/extended.py:608: UserWarning: Those spectra have no associated XSPEC fit to LoVoCCS-13\n",
      "  warn(str(err))\n",
      "/mnt/ufs18/home-218/turne540/code/XGA/xga/samples/extended.py:608: UserWarning: Those spectra have no associated XSPEC fit to LoVoCCS-15\n",
      "  warn(str(err))\n",
      "/mnt/ufs18/home-218/turne540/code/XGA/xga/samples/extended.py:608: UserWarning: Those spectra have no associated XSPEC fit to LoVoCCS-20\n",
      "  warn(str(err))\n",
      "/mnt/ufs18/home-218/turne540/code/XGA/xga/samples/extended.py:608: UserWarning: Those spectra have no associated XSPEC fit to LoVoCCS-26\n",
      "  warn(str(err))\n",
      "/mnt/ufs18/home-218/turne540/code/XGA/xga/samples/extended.py:608: UserWarning: Those spectra have no associated XSPEC fit to LoVoCCS-64\n",
      "  warn(str(err))\n",
      "/mnt/ufs18/home-218/turne540/code/XGA/xga/samples/extended.py:608: UserWarning: Those spectra have no associated XSPEC fit to LoVoCCS-69\n",
      "  warn(str(err))\n",
      "/mnt/ufs18/home-218/turne540/code/XGA/xga/samples/extended.py:608: UserWarning: Those spectra have no associated XSPEC fit to LoVoCCS-78\n",
      "  warn(str(err))\n",
      "/mnt/ufs18/home-218/turne540/code/XGA/xga/samples/extended.py:608: UserWarning: Those spectra have no associated XSPEC fit to LoVoCCS-85\n",
      "  warn(str(err))\n",
      "/mnt/ufs18/home-218/turne540/code/XGA/xga/samples/extended.py:608: UserWarning: Those spectra have no associated XSPEC fit to LoVoCCS-95\n",
      "  warn(str(err))\n",
      "/mnt/ufs18/home-218/turne540/code/XGA/xga/samples/extended.py:608: UserWarning: Those spectra have no associated XSPEC fit to LoVoCCS-97\n",
      "  warn(str(err))\n",
      "/mnt/ufs18/home-218/turne540/code/XGA/xga/samples/extended.py:608: UserWarning: Those spectra have no associated XSPEC fit to LoVoCCS-114\n",
      "  warn(str(err))\n",
      "/mnt/ufs18/home-218/turne540/code/XGA/xga/samples/extended.py:608: UserWarning: Those spectra have no associated XSPEC fit to LoVoCCS-123\n",
      "  warn(str(err))\n",
      "/mnt/ufs18/home-218/turne540/code/XGA/xga/samples/extended.py:608: UserWarning: Those spectra have no associated XSPEC fit to LoVoCCS-125\n",
      "  warn(str(err))\n",
      "/mnt/ufs18/home-218/turne540/code/XGA/xga/samples/extended.py:608: UserWarning: Those spectra have no associated XSPEC fit to LoVoCCS-134\n",
      "  warn(str(err))\n",
      "/mnt/ufs18/home-218/turne540/code/XGA/xga/samples/extended.py:608: UserWarning: Those spectra have no associated XSPEC fit to LoVoCCS-140\n",
      "  warn(str(err))\n",
      "/mnt/ufs18/home-218/turne540/code/XGA/xga/samples/extended.py:608: UserWarning: Those spectra have no associated XSPEC fit to LoVoCCS-143\n",
      "  warn(str(err))\n",
      "/mnt/ufs18/home-218/turne540/code/XGA/xga/products/relation.py:704: UserWarning: Some of the x values you have passed are outside the validity range of this relation (1.0-12.0keV).\n",
      "  warn(\"Some of the x values you have passed are outside the validity range of this relation \"\n",
      "Generating products of type(s) spectrum:   1%|▏         | 4/312 [12:00<9:05:28, 106.26s/it] "
     ]
    }
   ],
   "source": [
    "res_file = '../../outputs/results/ltr_r500_pipeline_results.csv'\n",
    "rhist_file = '../../outputs/results/radii_r500_history.csv'\n",
    "\n",
    "srcs, results, rad_hist = luminosity_temperature_pipeline(samp, Quantity(250, 'kpc'), timeout=Quantity(4, 'hr'), \n",
    "                                                          save_samp_results_path=res_file,\n",
    "                                                          save_rad_history_path=rhist_file, \n",
    "                                                          core_excised=True, use_peak=False)"
   ]
  }
 ],
 "metadata": {
  "kernelspec": {
   "display_name": "Python 3 (ipykernel)",
   "language": "python",
   "name": "python3"
  },
  "language_info": {
   "codemirror_mode": {
    "name": "ipython",
    "version": 3
   },
   "file_extension": ".py",
   "mimetype": "text/x-python",
   "name": "python",
   "nbconvert_exporter": "python",
   "pygments_lexer": "ipython3",
   "version": "3.9.16"
  }
 },
 "nbformat": 4,
 "nbformat_minor": 5
}
