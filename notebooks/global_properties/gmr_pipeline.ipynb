{
 "cells": [
  {
   "cell_type": "markdown",
   "id": "ec0a208b",
   "metadata": {},
   "source": [
    "# Measurement of $R_{500}$ through iterative gas-density profile generation"
   ]
  },
  {
   "cell_type": "markdown",
   "id": "9d4b9982",
   "metadata": {},
   "source": []
  },
  {
   "cell_type": "markdown",
   "id": "2971d054",
   "metadata": {},
   "source": [
    "## Import Statements"
   ]
  },
  {
   "cell_type": "code",
   "execution_count": 1,
   "id": "56f9c36a",
   "metadata": {},
   "outputs": [],
   "source": [
    "import pandas as pd\n",
    "pd.set_option('display.max_columns', 500)\n",
    "import numpy as np\n",
    "from astropy.units import Quantity\n",
    "from astropy.cosmology import LambdaCDM\n",
    "from shutil import rmtree, copyfile\n",
    "import os\n",
    "from matplotlib import pyplot as plt\n",
    "from tqdm import tqdm\n",
    "\n",
    "import xga\n",
    "# This just sets the number of cores this analysis is allowed to use\n",
    "xga.NUM_CORES = 50\n",
    "# This is a bodge that will only work because xga_output in notebooks has already been defined, XGA\n",
    "#  will be made to handle this more gracefully at some point\n",
    "temp_dir = xga.OUTPUT\n",
    "actual_dir = temp_dir.split('notebooks/')[0]+'notebooks/xga_output/'\n",
    "xga.OUTPUT = actual_dir\n",
    "xga.utils.OUTPUT = actual_dir\n",
    "# As currently XGA will setup an xga_output directory in our current directory, I remove it to keep it all clean\n",
    "if os.path.exists('xga_output'):\n",
    "    rmtree('xga_output')\n",
    "from xga.tools import gas_mass_radius_pipeline\n",
    "# from xga.relations.fit import scaling_relation_odr, scaling_relation_curve_fit\n",
    "# from xga.models.misc import straight_line, power_law\n",
    "from xga.sources import NullSource\n",
    "from xga.sas.phot import evselect_image\n",
    "\n",
    "%matplotlib inline"
   ]
  },
  {
   "cell_type": "markdown",
   "id": "f394a85d",
   "metadata": {},
   "source": [
    "## Defining the cosmology"
   ]
  },
  {
   "cell_type": "markdown",
   "id": "ec848869",
   "metadata": {},
   "source": [
    "We setup the LoVoCCS-chosen cosmology:"
   ]
  },
  {
   "cell_type": "code",
   "execution_count": 2,
   "id": "c34036e2",
   "metadata": {},
   "outputs": [],
   "source": [
    "cosmo = LambdaCDM(71, 0.2648, 0.7352, Ob0=0.0448)"
   ]
  },
  {
   "cell_type": "markdown",
   "id": "1ccab83c",
   "metadata": {},
   "source": [
    "## Defining useful values"
   ]
  },
  {
   "cell_type": "markdown",
   "id": "85fe6698",
   "metadata": {},
   "source": [
    "Here we define any widely used constants:"
   ]
  },
  {
   "cell_type": "code",
   "execution_count": 3,
   "id": "e4b42756",
   "metadata": {},
   "outputs": [],
   "source": [
    "# The energy bands we wish to measure luminosity within\n",
    "# lum_en = Quantity([[0.5, 2.0], [0.01, 100.0], [0.1, 2.4]], 'keV')"
   ]
  },
  {
   "cell_type": "markdown",
   "id": "6a059986",
   "metadata": {},
   "source": [
    "## Reading in the sample"
   ]
  },
  {
   "cell_type": "markdown",
   "id": "3c705f68",
   "metadata": {},
   "source": [
    "We need the information from our sample file to declare the XGA ClusterSample further down, primarily the location and redshift, but we also make use of the MCXC estimate of $R_{500}$ to get some idea of the scale of these objects, even if we don't fully trust that measurement:"
   ]
  },
  {
   "cell_type": "code",
   "execution_count": 4,
   "id": "d6bdae82",
   "metadata": {},
   "outputs": [
    {
     "data": {
      "text/html": [
       "<div>\n",
       "<style scoped>\n",
       "    .dataframe tbody tr th:only-of-type {\n",
       "        vertical-align: middle;\n",
       "    }\n",
       "\n",
       "    .dataframe tbody tr th {\n",
       "        vertical-align: top;\n",
       "    }\n",
       "\n",
       "    .dataframe thead th {\n",
       "        text-align: right;\n",
       "    }\n",
       "</style>\n",
       "<table border=\"1\" class=\"dataframe\">\n",
       "  <thead>\n",
       "    <tr style=\"text-align: right;\">\n",
       "      <th></th>\n",
       "      <th>LoVoCCSID</th>\n",
       "      <th>Name</th>\n",
       "      <th>start_ra</th>\n",
       "      <th>start_dec</th>\n",
       "      <th>MCXC_Redshift</th>\n",
       "      <th>MCXC_R500</th>\n",
       "      <th>MCXC_RA</th>\n",
       "      <th>MCXC_DEC</th>\n",
       "      <th>manual_xray_ra</th>\n",
       "      <th>manual_xray_dec</th>\n",
       "      <th>MCXC_Lx500_0.1_2.4</th>\n",
       "      <th>LoVoCCS_name</th>\n",
       "    </tr>\n",
       "  </thead>\n",
       "  <tbody>\n",
       "    <tr>\n",
       "      <th>0</th>\n",
       "      <td>1</td>\n",
       "      <td>A2029</td>\n",
       "      <td>227.734300</td>\n",
       "      <td>5.745471</td>\n",
       "      <td>0.0766</td>\n",
       "      <td>1.3344</td>\n",
       "      <td>227.73000</td>\n",
       "      <td>5.720000</td>\n",
       "      <td>227.734300</td>\n",
       "      <td>5.745471</td>\n",
       "      <td>8.726709e+44</td>\n",
       "      <td>LoVoCCS-1</td>\n",
       "    </tr>\n",
       "    <tr>\n",
       "      <th>1</th>\n",
       "      <td>2</td>\n",
       "      <td>A401</td>\n",
       "      <td>44.740000</td>\n",
       "      <td>13.580000</td>\n",
       "      <td>0.0739</td>\n",
       "      <td>1.2421</td>\n",
       "      <td>44.74000</td>\n",
       "      <td>13.580000</td>\n",
       "      <td>NaN</td>\n",
       "      <td>NaN</td>\n",
       "      <td>6.088643e+44</td>\n",
       "      <td>LoVoCCS-2</td>\n",
       "    </tr>\n",
       "    <tr>\n",
       "      <th>2</th>\n",
       "      <td>4A</td>\n",
       "      <td>A85North</td>\n",
       "      <td>10.458750</td>\n",
       "      <td>-9.301944</td>\n",
       "      <td>0.0555</td>\n",
       "      <td>1.2103</td>\n",
       "      <td>10.45875</td>\n",
       "      <td>-9.301944</td>\n",
       "      <td>NaN</td>\n",
       "      <td>NaN</td>\n",
       "      <td>5.100085e+44</td>\n",
       "      <td>LoVoCCS-4A</td>\n",
       "    </tr>\n",
       "    <tr>\n",
       "      <th>3</th>\n",
       "      <td>4B</td>\n",
       "      <td>A85South</td>\n",
       "      <td>10.451487</td>\n",
       "      <td>-9.460007</td>\n",
       "      <td>0.0555</td>\n",
       "      <td>1.2103</td>\n",
       "      <td>10.45875</td>\n",
       "      <td>-9.301944</td>\n",
       "      <td>10.451487</td>\n",
       "      <td>-9.460007</td>\n",
       "      <td>5.100085e+44</td>\n",
       "      <td>LoVoCCS-4B</td>\n",
       "    </tr>\n",
       "    <tr>\n",
       "      <th>4</th>\n",
       "      <td>5</td>\n",
       "      <td>A3667</td>\n",
       "      <td>303.157313</td>\n",
       "      <td>-56.845978</td>\n",
       "      <td>0.0556</td>\n",
       "      <td>1.1990</td>\n",
       "      <td>303.13000</td>\n",
       "      <td>-56.830000</td>\n",
       "      <td>303.157313</td>\n",
       "      <td>-56.845978</td>\n",
       "      <td>4.871933e+44</td>\n",
       "      <td>LoVoCCS-5</td>\n",
       "    </tr>\n",
       "    <tr>\n",
       "      <th>...</th>\n",
       "      <td>...</td>\n",
       "      <td>...</td>\n",
       "      <td>...</td>\n",
       "      <td>...</td>\n",
       "      <td>...</td>\n",
       "      <td>...</td>\n",
       "      <td>...</td>\n",
       "      <td>...</td>\n",
       "      <td>...</td>\n",
       "      <td>...</td>\n",
       "      <td>...</td>\n",
       "      <td>...</td>\n",
       "    </tr>\n",
       "    <tr>\n",
       "      <th>62</th>\n",
       "      <td>121</td>\n",
       "      <td>A3128</td>\n",
       "      <td>52.466189</td>\n",
       "      <td>-52.580728</td>\n",
       "      <td>0.0624</td>\n",
       "      <td>0.8831</td>\n",
       "      <td>52.50000</td>\n",
       "      <td>-52.600000</td>\n",
       "      <td>52.466189</td>\n",
       "      <td>-52.580728</td>\n",
       "      <td>1.101682e+44</td>\n",
       "      <td>LoVoCCS-121</td>\n",
       "    </tr>\n",
       "    <tr>\n",
       "      <th>63</th>\n",
       "      <td>122</td>\n",
       "      <td>A1023</td>\n",
       "      <td>157.000000</td>\n",
       "      <td>-6.800000</td>\n",
       "      <td>0.1176</td>\n",
       "      <td>0.8553</td>\n",
       "      <td>157.00000</td>\n",
       "      <td>-6.800000</td>\n",
       "      <td>NaN</td>\n",
       "      <td>NaN</td>\n",
       "      <td>1.095941e+44</td>\n",
       "      <td>LoVoCCS-122</td>\n",
       "    </tr>\n",
       "    <tr>\n",
       "      <th>64</th>\n",
       "      <td>123</td>\n",
       "      <td>A3528</td>\n",
       "      <td>193.670000</td>\n",
       "      <td>-29.220000</td>\n",
       "      <td>0.0544</td>\n",
       "      <td>0.8855</td>\n",
       "      <td>193.67000</td>\n",
       "      <td>-29.220000</td>\n",
       "      <td>NaN</td>\n",
       "      <td>NaN</td>\n",
       "      <td>1.093054e+44</td>\n",
       "      <td>LoVoCCS-123</td>\n",
       "    </tr>\n",
       "    <tr>\n",
       "      <th>65</th>\n",
       "      <td>131</td>\n",
       "      <td>A761</td>\n",
       "      <td>137.651250</td>\n",
       "      <td>-10.581111</td>\n",
       "      <td>0.0916</td>\n",
       "      <td>0.8627</td>\n",
       "      <td>137.65125</td>\n",
       "      <td>-10.581111</td>\n",
       "      <td>NaN</td>\n",
       "      <td>NaN</td>\n",
       "      <td>1.063423e+44</td>\n",
       "      <td>LoVoCCS-131</td>\n",
       "    </tr>\n",
       "    <tr>\n",
       "      <th>66</th>\n",
       "      <td>134</td>\n",
       "      <td>A3825</td>\n",
       "      <td>329.604682</td>\n",
       "      <td>-60.413676</td>\n",
       "      <td>0.0750</td>\n",
       "      <td>0.8685</td>\n",
       "      <td>329.61000</td>\n",
       "      <td>-60.400000</td>\n",
       "      <td>329.604682</td>\n",
       "      <td>-60.413676</td>\n",
       "      <td>1.050267e+44</td>\n",
       "      <td>LoVoCCS-134</td>\n",
       "    </tr>\n",
       "  </tbody>\n",
       "</table>\n",
       "<p>67 rows × 12 columns</p>\n",
       "</div>"
      ],
      "text/plain": [
       "   LoVoCCSID      Name    start_ra  start_dec  MCXC_Redshift  MCXC_R500  \\\n",
       "0          1     A2029  227.734300   5.745471         0.0766     1.3344   \n",
       "1          2      A401   44.740000  13.580000         0.0739     1.2421   \n",
       "2         4A  A85North   10.458750  -9.301944         0.0555     1.2103   \n",
       "3         4B  A85South   10.451487  -9.460007         0.0555     1.2103   \n",
       "4          5     A3667  303.157313 -56.845978         0.0556     1.1990   \n",
       "..       ...       ...         ...        ...            ...        ...   \n",
       "62       121     A3128   52.466189 -52.580728         0.0624     0.8831   \n",
       "63       122     A1023  157.000000  -6.800000         0.1176     0.8553   \n",
       "64       123     A3528  193.670000 -29.220000         0.0544     0.8855   \n",
       "65       131      A761  137.651250 -10.581111         0.0916     0.8627   \n",
       "66       134     A3825  329.604682 -60.413676         0.0750     0.8685   \n",
       "\n",
       "      MCXC_RA   MCXC_DEC  manual_xray_ra  manual_xray_dec  MCXC_Lx500_0.1_2.4  \\\n",
       "0   227.73000   5.720000      227.734300         5.745471        8.726709e+44   \n",
       "1    44.74000  13.580000             NaN              NaN        6.088643e+44   \n",
       "2    10.45875  -9.301944             NaN              NaN        5.100085e+44   \n",
       "3    10.45875  -9.301944       10.451487        -9.460007        5.100085e+44   \n",
       "4   303.13000 -56.830000      303.157313       -56.845978        4.871933e+44   \n",
       "..        ...        ...             ...              ...                 ...   \n",
       "62   52.50000 -52.600000       52.466189       -52.580728        1.101682e+44   \n",
       "63  157.00000  -6.800000             NaN              NaN        1.095941e+44   \n",
       "64  193.67000 -29.220000             NaN              NaN        1.093054e+44   \n",
       "65  137.65125 -10.581111             NaN              NaN        1.063423e+44   \n",
       "66  329.61000 -60.400000      329.604682       -60.413676        1.050267e+44   \n",
       "\n",
       "   LoVoCCS_name  \n",
       "0     LoVoCCS-1  \n",
       "1     LoVoCCS-2  \n",
       "2    LoVoCCS-4A  \n",
       "3    LoVoCCS-4B  \n",
       "4     LoVoCCS-5  \n",
       "..          ...  \n",
       "62  LoVoCCS-121  \n",
       "63  LoVoCCS-122  \n",
       "64  LoVoCCS-123  \n",
       "65  LoVoCCS-131  \n",
       "66  LoVoCCS-134  \n",
       "\n",
       "[67 rows x 12 columns]"
      ]
     },
     "execution_count": 4,
     "metadata": {},
     "output_type": "execute_result"
    }
   ],
   "source": [
    "samp = pd.read_csv('../../sample_files/X-LoVoCCSI.csv')\n",
    "samp['LoVoCCS_name'] = samp['LoVoCCSID'].apply(lambda x: 'LoVoCCS-' + str(x))\n",
    "og_samp = samp.copy()\n",
    "samp"
   ]
  },
  {
   "cell_type": "markdown",
   "id": "c848a4b4",
   "metadata": {},
   "source": [
    "Here we remove some of the existing columns from the sample, that way they won't be included in the output results file for the LTR run, as well as making sure the column names are those expected by the pipeline:"
   ]
  },
  {
   "cell_type": "code",
   "execution_count": 5,
   "id": "60aee1ce",
   "metadata": {},
   "outputs": [],
   "source": [
    "samp = samp[['LoVoCCS_name', 'start_ra', 'start_dec', 'MCXC_Redshift']]\n",
    "samp = samp.rename(columns={'LoVoCCS_name': 'name', 'start_ra': 'ra', 'start_dec': 'dec', \n",
    "                            'MCXC_Redshift': 'redshift'})"
   ]
  },
  {
   "cell_type": "markdown",
   "id": "5312a2cb",
   "metadata": {},
   "source": [
    "## Running the XGA $M_{\\rm{gas}}$-$R_{500}$ pipeline"
   ]
  },
  {
   "cell_type": "markdown",
   "id": "6935b024",
   "metadata": {},
   "source": []
  },
  {
   "cell_type": "code",
   "execution_count": null,
   "id": "58ccb42a-7a67-43b1-bcd3-88a9c0236461",
   "metadata": {},
   "outputs": [],
   "source": []
  },
  {
   "cell_type": "code",
   "execution_count": 6,
   "id": "d6a6e8a8-54b5-4ea6-abef-caf5b1d51f57",
   "metadata": {},
   "outputs": [],
   "source": [
    "# n_src = NullSource()\n",
    "# n_src.info()"
   ]
  },
  {
   "cell_type": "code",
   "execution_count": 7,
   "id": "8c5c41dc-0589-4353-9f52-08de36e2167c",
   "metadata": {},
   "outputs": [],
   "source": [
    "# evselect_image(n_src)"
   ]
  },
  {
   "cell_type": "code",
   "execution_count": 8,
   "id": "cd6bb777-8212-4d26-bf9d-9004aab09f53",
   "metadata": {},
   "outputs": [],
   "source": [
    "# convo = {'pn': 'PN', 'mos1': 'M1', 'mos2': 'M2'}"
   ]
  },
  {
   "cell_type": "code",
   "execution_count": 9,
   "id": "ed09818c-20c0-49d6-a7b9-b7da5118234a",
   "metadata": {},
   "outputs": [],
   "source": [
    "# with tqdm(desc=\"Fixing DAXA's fuck ups\", total=len(n_src.obs_ids)) as onwards:\n",
    "#     for oi in n_src.obs_ids:\n",
    "#         xga_pth = \"../xga_output/{oi}/\".format(oi=oi)\n",
    "#         ims = [f for f in os.listdir(xga_pth) if 'keVimg' in f and '0.5' in f]\n",
    "#         for im in ims:\n",
    "#             rel_im_pth = os.path.abspath(os.path.join(xga_pth, im))\n",
    "            \n",
    "#             # This is a real bodge but I really need the DAXA \n",
    "#             dest_pth = \"../../../X-LoVoCCS-Data/data/archives/LoVoCCS/processed_data/xmm_pointed/{oi}/images/\".format(oi=oi)\n",
    "#             cur_inst = convo[im.split('_')[1]]\n",
    "#             dest_f = \"obsid{oi}-inst{i}-subexpALL-en0.5_2.0keV-image.fits\".format(oi=oi, i=cur_inst)\n",
    "#             dest_pth = os.path.abspath(os.path.join(dest_pth, dest_f))\n",
    "#             copyfile(rel_im_pth, dest_pth)\n",
    "#         onwards.update(1)"
   ]
  },
  {
   "cell_type": "code",
   "execution_count": 10,
   "id": "d12c136c",
   "metadata": {},
   "outputs": [
    {
     "name": "stderr",
     "output_type": "stream",
     "text": [
      "Declaring BaseSource Sample:  31%|███▏      | 21/67 [03:22<07:22,  9.62s/it]\n"
     ]
    },
    {
     "ename": "TypeError",
     "evalue": "'Image' object is not subscriptable",
     "output_type": "error",
     "traceback": [
      "\u001b[0;31m---------------------------------------------------------------------------\u001b[0m",
      "\u001b[0;31mTypeError\u001b[0m                                 Traceback (most recent call last)",
      "Cell \u001b[0;32mIn[10], line 5\u001b[0m\n\u001b[1;32m      2\u001b[0m rhist_file \u001b[38;5;241m=\u001b[39m \u001b[38;5;124m'\u001b[39m\u001b[38;5;124m../../outputs/results/gmr_r500_radii_history.csv\u001b[39m\u001b[38;5;124m'\u001b[39m\n\u001b[1;32m      4\u001b[0m \u001b[38;5;66;03m# clean_obs_threshold=0.9\u001b[39;00m\n\u001b[0;32m----> 5\u001b[0m srcs, results, rad_hist \u001b[38;5;241m=\u001b[39m \u001b[43mgas_mass_radius_pipeline\u001b[49m\u001b[43m(\u001b[49m\u001b[43msamp\u001b[49m\u001b[43m,\u001b[49m\u001b[43m \u001b[49m\u001b[38;5;241;43m500\u001b[39;49m\u001b[43m,\u001b[49m\u001b[43m \u001b[49m\u001b[38;5;241;43m0.125\u001b[39;49m\u001b[43m,\u001b[49m\u001b[43m \u001b[49m\u001b[38;5;124;43m'\u001b[39;49m\u001b[38;5;124;43mbeta\u001b[39;49m\u001b[38;5;124;43m'\u001b[39;49m\u001b[43m,\u001b[49m\u001b[43m \u001b[49m\u001b[38;5;124;43m'\u001b[39;49m\u001b[38;5;124;43mking\u001b[39;49m\u001b[38;5;124;43m'\u001b[39;49m\u001b[43m,\u001b[49m\u001b[43m \u001b[49m\u001b[43mQuantity\u001b[49m\u001b[43m(\u001b[49m\u001b[38;5;241;43m500\u001b[39;49m\u001b[43m,\u001b[49m\u001b[43m \u001b[49m\u001b[38;5;124;43m'\u001b[39;49m\u001b[38;5;124;43mkpc\u001b[39;49m\u001b[38;5;124;43m'\u001b[39;49m\u001b[43m)\u001b[49m\u001b[43m,\u001b[49m\u001b[43mtimeout\u001b[49m\u001b[38;5;241;43m=\u001b[39;49m\u001b[43mQuantity\u001b[49m\u001b[43m(\u001b[49m\u001b[38;5;241;43m4\u001b[39;49m\u001b[43m,\u001b[49m\u001b[43m \u001b[49m\u001b[38;5;124;43m'\u001b[39;49m\u001b[38;5;124;43mhr\u001b[39;49m\u001b[38;5;124;43m'\u001b[39;49m\u001b[43m)\u001b[49m\u001b[43m,\u001b[49m\u001b[43m \u001b[49m\n\u001b[1;32m      6\u001b[0m \u001b[43m                                                   \u001b[49m\u001b[43msave_samp_results_path\u001b[49m\u001b[38;5;241;43m=\u001b[39;49m\u001b[43mres_file\u001b[49m\u001b[43m,\u001b[49m\u001b[43m \u001b[49m\u001b[43msave_rad_history_path\u001b[49m\u001b[38;5;241;43m=\u001b[39;49m\u001b[43mrhist_file\u001b[49m\u001b[43m,\u001b[49m\u001b[43m \u001b[49m\n\u001b[1;32m      7\u001b[0m \u001b[43m                                                   \u001b[49m\u001b[43muse_peak\u001b[49m\u001b[38;5;241;43m=\u001b[39;49m\u001b[38;5;28;43;01mFalse\u001b[39;49;00m\u001b[43m,\u001b[49m\u001b[43m \u001b[49m\u001b[43mcosmo\u001b[49m\u001b[38;5;241;43m=\u001b[39;49m\u001b[43mcosmo\u001b[49m\u001b[43m)\u001b[49m\n",
      "File \u001b[0;32m/mnt/ufs18/home-218/turne540/code/pre_dep_xga/XGA/xga/tools/clusters/GMR.py:78\u001b[0m, in \u001b[0;36mgas_mass_radius_pipeline\u001b[0;34m(sample_data, delta, baryon_frac, sb_model, dens_model, start_aperture, use_peak, peak_find_method, convergence_frac, min_iter, max_iter, psf_corr, psf_model, psf_bins, psf_algo, psf_iter, freeze_nh, freeze_met, failover_temp, lo_en, hi_en, group_spec, min_counts, min_sn, over_sample, back_inn_rad_factor, back_out_rad_factor, save_samp_results_path, save_rad_history_path, cosmo, timeout, num_cores)\u001b[0m\n\u001b[1;32m     74\u001b[0m iter_num \u001b[38;5;241m=\u001b[39m \u001b[38;5;241m0\u001b[39m\n\u001b[1;32m     76\u001b[0m \u001b[38;5;66;03m# Set up the ClusterSample to be used for this process (I did consider setting up a new one each time but that\u001b[39;00m\n\u001b[1;32m     77\u001b[0m \u001b[38;5;66;03m#  adds overhead, and I think that this way should work fine).\u001b[39;00m\n\u001b[0;32m---> 78\u001b[0m samp \u001b[38;5;241m=\u001b[39m \u001b[43mClusterSample\u001b[49m\u001b[43m(\u001b[49m\u001b[43msample_data\u001b[49m\u001b[43m[\u001b[49m\u001b[38;5;124;43m'\u001b[39;49m\u001b[38;5;124;43mra\u001b[39;49m\u001b[38;5;124;43m'\u001b[39;49m\u001b[43m]\u001b[49m\u001b[38;5;241;43m.\u001b[39;49m\u001b[43mvalues\u001b[49m\u001b[43m,\u001b[49m\u001b[43m \u001b[49m\u001b[43msample_data\u001b[49m\u001b[43m[\u001b[49m\u001b[38;5;124;43m'\u001b[39;49m\u001b[38;5;124;43mdec\u001b[39;49m\u001b[38;5;124;43m'\u001b[39;49m\u001b[43m]\u001b[49m\u001b[38;5;241;43m.\u001b[39;49m\u001b[43mvalues\u001b[49m\u001b[43m,\u001b[49m\u001b[43m \u001b[49m\u001b[43msample_data\u001b[49m\u001b[43m[\u001b[49m\u001b[38;5;124;43m'\u001b[39;49m\u001b[38;5;124;43mredshift\u001b[39;49m\u001b[38;5;124;43m'\u001b[39;49m\u001b[43m]\u001b[49m\u001b[38;5;241;43m.\u001b[39;49m\u001b[43mvalues\u001b[49m\u001b[43m,\u001b[49m\n\u001b[1;32m     79\u001b[0m \u001b[43m                     \u001b[49m\u001b[43msample_data\u001b[49m\u001b[43m[\u001b[49m\u001b[38;5;124;43m'\u001b[39;49m\u001b[38;5;124;43mname\u001b[39;49m\u001b[38;5;124;43m'\u001b[39;49m\u001b[43m]\u001b[49m\u001b[38;5;241;43m.\u001b[39;49m\u001b[43mvalues\u001b[49m\u001b[43m,\u001b[49m\u001b[43m \u001b[49m\u001b[43muse_peak\u001b[49m\u001b[38;5;241;43m=\u001b[39;49m\u001b[43muse_peak\u001b[49m\u001b[43m,\u001b[49m\u001b[43m \u001b[49m\u001b[43mpeak_find_method\u001b[49m\u001b[38;5;241;43m=\u001b[39;49m\u001b[43mpeak_find_method\u001b[49m\u001b[43m,\u001b[49m\n\u001b[1;32m     80\u001b[0m \u001b[43m                     \u001b[49m\u001b[43mclean_obs_threshold\u001b[49m\u001b[38;5;241;43m=\u001b[39;49m\u001b[38;5;241;43m0.7\u001b[39;49m\u001b[43m,\u001b[49m\u001b[43m \u001b[49m\u001b[43mclean_obs_reg\u001b[49m\u001b[38;5;241;43m=\u001b[39;49m\u001b[43mo_dens\u001b[49m\u001b[43m,\u001b[49m\u001b[43m \u001b[49m\u001b[43mload_fits\u001b[49m\u001b[38;5;241;43m=\u001b[39;49m\u001b[38;5;28;43;01mTrue\u001b[39;49;00m\u001b[43m,\u001b[49m\u001b[43m \u001b[49m\u001b[43mcosmology\u001b[49m\u001b[38;5;241;43m=\u001b[39;49m\u001b[43mcosmo\u001b[49m\u001b[43m,\u001b[49m\n\u001b[1;32m     81\u001b[0m \u001b[43m                     \u001b[49m\u001b[43mback_inn_rad_factor\u001b[49m\u001b[38;5;241;43m=\u001b[39;49m\u001b[43mback_inn_rad_factor\u001b[49m\u001b[43m,\u001b[49m\u001b[43m \u001b[49m\u001b[43mback_out_rad_factor\u001b[49m\u001b[38;5;241;43m=\u001b[39;49m\u001b[43mback_out_rad_factor\u001b[49m\u001b[43m,\u001b[49m\n\u001b[1;32m     82\u001b[0m \u001b[43m                     \u001b[49m\u001b[38;5;241;43m*\u001b[39;49m\u001b[38;5;241;43m*\u001b[39;49m\u001b[43mo_dens_arg\u001b[49m\u001b[43m)\u001b[49m\n\u001b[1;32m     84\u001b[0m \u001b[38;5;66;03m# As it is possible some clusters in the sample_data dataframe don't actually have X-ray data, we copy\u001b[39;00m\n\u001b[1;32m     85\u001b[0m \u001b[38;5;66;03m#  the sample_data and cut it down, so it only contains entries for clusters that were loaded in the sample at the\u001b[39;00m\n\u001b[1;32m     86\u001b[0m \u001b[38;5;66;03m#  beginning of this process\u001b[39;00m\n\u001b[1;32m     87\u001b[0m loaded_samp_data \u001b[38;5;241m=\u001b[39m sample_data\u001b[38;5;241m.\u001b[39mcopy()\n",
      "File \u001b[0;32m/mnt/ufs18/home-218/turne540/code/pre_dep_xga/XGA/xga/samples/extended.py:110\u001b[0m, in \u001b[0;36mClusterSample.__init__\u001b[0;34m(self, ra, dec, redshift, name, r200, r500, r2500, richness, richness_err, wl_mass, wl_mass_err, custom_region_radius, use_peak, peak_lo_en, peak_hi_en, back_inn_rad_factor, back_out_rad_factor, cosmology, load_fits, clean_obs, clean_obs_reg, clean_obs_threshold, no_prog_bar, psf_corr, peak_find_method)\u001b[0m\n\u001b[1;32m    107\u001b[0m \u001b[38;5;28;01mfrom\u001b[39;00m \u001b[38;5;21;01mxga\u001b[39;00m\u001b[38;5;21;01m.\u001b[39;00m\u001b[38;5;21;01msas\u001b[39;00m \u001b[38;5;28;01mimport\u001b[39;00m evselect_image, eexpmap, emosaic\n\u001b[1;32m    109\u001b[0m \u001b[38;5;66;03m# Using the super defines BaseSources and stores them in the self._sources dictionary\u001b[39;00m\n\u001b[0;32m--> 110\u001b[0m \u001b[38;5;28;43msuper\u001b[39;49m\u001b[43m(\u001b[49m\u001b[43m)\u001b[49m\u001b[38;5;241;43m.\u001b[39;49m\u001b[38;5;21;43m__init__\u001b[39;49m\u001b[43m(\u001b[49m\u001b[43mra\u001b[49m\u001b[43m,\u001b[49m\u001b[43m \u001b[49m\u001b[43mdec\u001b[49m\u001b[43m,\u001b[49m\u001b[43m \u001b[49m\u001b[43mredshift\u001b[49m\u001b[43m,\u001b[49m\u001b[43m \u001b[49m\u001b[43mname\u001b[49m\u001b[43m,\u001b[49m\u001b[43m \u001b[49m\u001b[43mcosmology\u001b[49m\u001b[43m,\u001b[49m\u001b[43m \u001b[49m\u001b[43mload_products\u001b[49m\u001b[38;5;241;43m=\u001b[39;49m\u001b[38;5;28;43;01mTrue\u001b[39;49;00m\u001b[43m,\u001b[49m\u001b[43m \u001b[49m\u001b[43mload_fits\u001b[49m\u001b[38;5;241;43m=\u001b[39;49m\u001b[38;5;28;43;01mFalse\u001b[39;49;00m\u001b[43m,\u001b[49m\n\u001b[1;32m    111\u001b[0m \u001b[43m                 \u001b[49m\u001b[43mno_prog_bar\u001b[49m\u001b[38;5;241;43m=\u001b[39;49m\u001b[43mno_prog_bar\u001b[49m\u001b[43m)\u001b[49m\n\u001b[1;32m    113\u001b[0m \u001b[38;5;66;03m# This part is super useful - it is much quicker to use the base sources to generate all\u001b[39;00m\n\u001b[1;32m    114\u001b[0m \u001b[38;5;66;03m#  necessary ratemaps, as we can do it in parallel for the entire sample, rather than one at a time as\u001b[39;00m\n\u001b[1;32m    115\u001b[0m \u001b[38;5;66;03m#  might be necessary for peak finding in the cluster init.\u001b[39;00m\n\u001b[1;32m    116\u001b[0m evselect_image(\u001b[38;5;28mself\u001b[39m, peak_lo_en, peak_hi_en)\n",
      "File \u001b[0;32m/mnt/ufs18/home-218/turne540/code/pre_dep_xga/XGA/xga/samples/base.py:80\u001b[0m, in \u001b[0;36mBaseSample.__init__\u001b[0;34m(self, ra, dec, redshift, name, cosmology, load_products, load_fits, no_prog_bar)\u001b[0m\n\u001b[1;32m     75\u001b[0m     z \u001b[38;5;241m=\u001b[39m \u001b[38;5;28;01mNone\u001b[39;00m\n\u001b[1;32m     77\u001b[0m \u001b[38;5;28;01mtry\u001b[39;00m:\n\u001b[1;32m     78\u001b[0m     \u001b[38;5;66;03m# We declare the source object, making sure to tell it that its part of a sample\u001b[39;00m\n\u001b[1;32m     79\u001b[0m     \u001b[38;5;66;03m#  using in_sample=True\u001b[39;00m\n\u001b[0;32m---> 80\u001b[0m     temp \u001b[38;5;241m=\u001b[39m \u001b[43mBaseSource\u001b[49m\u001b[43m(\u001b[49m\u001b[43mr\u001b[49m\u001b[43m,\u001b[49m\u001b[43m \u001b[49m\u001b[43md\u001b[49m\u001b[43m,\u001b[49m\u001b[43m \u001b[49m\u001b[43mz\u001b[49m\u001b[43m,\u001b[49m\u001b[43m \u001b[49m\u001b[43mn\u001b[49m\u001b[43m,\u001b[49m\u001b[43m \u001b[49m\u001b[43mcosmology\u001b[49m\u001b[43m,\u001b[49m\u001b[43m \u001b[49m\u001b[43mload_products\u001b[49m\u001b[43m,\u001b[49m\u001b[43m \u001b[49m\u001b[43mload_fits\u001b[49m\u001b[43m,\u001b[49m\u001b[43m \u001b[49m\u001b[38;5;28;43;01mTrue\u001b[39;49;00m\u001b[43m)\u001b[49m\n\u001b[1;32m     81\u001b[0m     n \u001b[38;5;241m=\u001b[39m temp\u001b[38;5;241m.\u001b[39mname\n\u001b[1;32m     82\u001b[0m     \u001b[38;5;28mself\u001b[39m\u001b[38;5;241m.\u001b[39m_sources[n] \u001b[38;5;241m=\u001b[39m temp\n",
      "File \u001b[0;32m/mnt/ufs18/home-218/turne540/code/pre_dep_xga/XGA/xga/sources/base.py:235\u001b[0m, in \u001b[0;36mBaseSource.__init__\u001b[0;34m(self, ra, dec, redshift, name, cosmology, load_products, load_fits, in_sample)\u001b[0m\n\u001b[1;32m    233\u001b[0m     \u001b[38;5;28mself\u001b[39m\u001b[38;5;241m.\u001b[39m_lum_dist \u001b[38;5;241m=\u001b[39m \u001b[38;5;28;01mNone\u001b[39;00m\n\u001b[1;32m    234\u001b[0m     \u001b[38;5;28mself\u001b[39m\u001b[38;5;241m.\u001b[39m_ang_diam_dist \u001b[38;5;241m=\u001b[39m \u001b[38;5;28;01mNone\u001b[39;00m\n\u001b[0;32m--> 235\u001b[0m \u001b[38;5;28mself\u001b[39m\u001b[38;5;241m.\u001b[39m_initial_regions, \u001b[38;5;28mself\u001b[39m\u001b[38;5;241m.\u001b[39m_initial_region_matches \u001b[38;5;241m=\u001b[39m \u001b[38;5;28;43mself\u001b[39;49m\u001b[38;5;241;43m.\u001b[39;49m\u001b[43m_load_regions\u001b[49m\u001b[43m(\u001b[49m\u001b[43mregion_dict\u001b[49m\u001b[43m)\u001b[49m\n\u001b[1;32m    237\u001b[0m \u001b[38;5;66;03m# This is a queue for products to be generated for this source, will be a numpy array in practise.\u001b[39;00m\n\u001b[1;32m    238\u001b[0m \u001b[38;5;66;03m# Items in the same row will all be generated in parallel, whereas items in the same column will\u001b[39;00m\n\u001b[1;32m    239\u001b[0m \u001b[38;5;66;03m# be combined into a command stack and run in order.\u001b[39;00m\n\u001b[1;32m    240\u001b[0m \u001b[38;5;28mself\u001b[39m\u001b[38;5;241m.\u001b[39mqueue \u001b[38;5;241m=\u001b[39m \u001b[38;5;28;01mNone\u001b[39;00m\n",
      "File \u001b[0;32m/mnt/ufs18/home-218/turne540/code/pre_dep_xga/XGA/xga/sources/base.py:1326\u001b[0m, in \u001b[0;36mBaseSource._load_regions\u001b[0;34m(self, reg_paths)\u001b[0m\n\u001b[1;32m   1324\u001b[0m     w \u001b[38;5;241m=\u001b[39m \u001b[38;5;28;01mNone\u001b[39;00m\n\u001b[1;32m   1325\u001b[0m \u001b[38;5;28;01melse\u001b[39;00m:\n\u001b[0;32m-> 1326\u001b[0m     w \u001b[38;5;241m=\u001b[39m \u001b[43mims\u001b[49m\u001b[43m[\u001b[49m\u001b[38;5;241;43m0\u001b[39;49m\u001b[43m]\u001b[49m\u001b[38;5;241m.\u001b[39mradec_wcs\n\u001b[1;32m   1327\u001b[0m \u001b[38;5;66;03m# Apparently can happen that there are no regions in a region file, so if that is the case\u001b[39;00m\n\u001b[1;32m   1328\u001b[0m \u001b[38;5;66;03m#  then I just set the ds9_regs to [None] because I know the rest of the code can deal with that.\u001b[39;00m\n\u001b[1;32m   1329\u001b[0m \u001b[38;5;66;03m#  It can't deal with an empty list\u001b[39;00m\n\u001b[1;32m   1330\u001b[0m \u001b[38;5;28;01mif\u001b[39;00m \u001b[38;5;28mlen\u001b[39m(ds9_regs) \u001b[38;5;241m==\u001b[39m \u001b[38;5;241m0\u001b[39m:\n",
      "\u001b[0;31mTypeError\u001b[0m: 'Image' object is not subscriptable"
     ]
    }
   ],
   "source": [
    "res_file = '../../outputs/results/gmr_r500_pipeline_results.csv'\n",
    "rhist_file = '../../outputs/results/gmr_r500_radii_history.csv'\n",
    "\n",
    "# clean_obs_threshold=0.9\n",
    "srcs, results, rad_hist = gas_mass_radius_pipeline(samp, 500, 0.125, 'beta', 'king', Quantity(500, 'kpc'),timeout=Quantity(4, 'hr'), \n",
    "                                                   save_samp_results_path=res_file, save_rad_history_path=rhist_file, \n",
    "                                                   use_peak=False, cosmo=cosmo)"
   ]
  },
  {
   "cell_type": "code",
   "execution_count": null,
   "id": "77fa71a7-a5c3-4bd8-b9f1-ab5eaa11f81a",
   "metadata": {},
   "outputs": [],
   "source": [
    "stop"
   ]
  },
  {
   "cell_type": "markdown",
   "id": "dd045254",
   "metadata": {},
   "source": [
    "## Comparing results with MCXC values"
   ]
  },
  {
   "cell_type": "markdown",
   "id": "81226a89",
   "metadata": {},
   "source": [
    "We create some figures comparing the measured values to those in the MCXC catalogue that LoVoCCS was initially selected from. We load in the results files here (though we also output them to variables when running the pipelines, this allows the figure section of this notebook to be run by itself, without re-running the pipelines unnecessarily):"
   ]
  },
  {
   "cell_type": "code",
   "execution_count": null,
   "id": "8c89cf30",
   "metadata": {},
   "outputs": [],
   "source": [
    "results_mfree = pd.read_csv('../../outputs/results/ltr_r500_metfree_pipeline_results.csv')\n",
    "results_mfree = results_mfree.rename(columns={'name': 'LoVoCCS_name'})\n",
    "results = pd.read_csv('../../outputs/results/ltr_r500_pipeline_results.csv')\n",
    "results = results.rename(columns={'name': 'LoVoCCS_name'})\n",
    "\n",
    "results_mfree = pd.merge(results_mfree, og_samp, on='LoVoCCS_name')\n",
    "results = pd.merge(results, og_samp, on='LoVoCCS_name')\n",
    "results.tail(5)"
   ]
  },
  {
   "cell_type": "code",
   "execution_count": null,
   "id": "3d802ebd",
   "metadata": {},
   "outputs": [],
   "source": [
    "results_mfree.tail(5)"
   ]
  },
  {
   "cell_type": "markdown",
   "id": "3808fd25-155b-47b3-9e3b-589394ba9f7a",
   "metadata": {},
   "source": [
    "### Comparing MCXC and X-LoVoCCS luminosities"
   ]
  },
  {
   "cell_type": "markdown",
   "id": "8b9967c3-7d81-4851-a2dc-8a258c524fad",
   "metadata": {},
   "source": [
    "We measured luminosities in the 0.1-2.4 keV band that was utilised for MCXC, so we compare our measurements (with our own derived values of $R_{500}$) with the original measurements - this is interesting primarily because the MCXC luminosities were one of the key selection criteria for the LoVoCCS sample. Remember also that we ran with metallicity free and with it fixed, so two comparisons are necessary:"
   ]
  },
  {
   "cell_type": "code",
   "execution_count": null,
   "id": "49ca0777",
   "metadata": {},
   "outputs": [],
   "source": [
    "lx_comp = scaling_relation_curve_fit(straight_line, Quantity(results['Lx500_0.1-2.4'], 'erg/s'), \n",
    "                                     Quantity(results[['Lx500_0.1-2.4-', 'Lx500_0.1-2.4+']], 'erg/s'), \n",
    "                                     Quantity(results['MCXC_Lx500_0.1_2.4'], 'erg/s'), \n",
    "                                     y_norm=Quantity(1e+44, 'erg/s'), \n",
    "                                     x_norm=Quantity(1e+44, 'erg/s'), point_names=results['LoVoCCS_name'].values, \n",
    "                                     y_name=r'$L^{0.1-2.4\\rm{keV}}_{\\rm{XMM},500}$', \n",
    "                                     x_name=r'$L^{0.1-2.4\\rm{keV}}_{\\rm{MCXC},500}$', \n",
    "                                     third_dim_info=results['redshift'].values, third_dim_name='Redshift')\n",
    "\n",
    "lx_comp_mfree = scaling_relation_curve_fit(straight_line, Quantity(results_mfree['Lx500_0.1-2.4'], 'erg/s'), \n",
    "                                           Quantity(results_mfree[['Lx500_0.1-2.4-', 'Lx500_0.1-2.4+']], 'erg/s'), \n",
    "                                           Quantity(results_mfree['MCXC_Lx500_0.1_2.4'], 'erg/s'), \n",
    "                                           y_norm=Quantity(1e+44, 'erg/s'), \n",
    "                                           x_norm=Quantity(1e+44, 'erg/s'), point_names=results_mfree['LoVoCCS_name'].values, \n",
    "                                           y_name=r'$L^{0.1-2.4\\rm{keV}}_{\\rm{XMM},500}$', \n",
    "                                           x_name=r'$L^{0.1-2.4\\rm{keV}}_{\\rm{MCXC},500}$', \n",
    "                                           third_dim_info=results_mfree['redshift'].values, third_dim_name='Redshift')"
   ]
  },
  {
   "cell_type": "markdown",
   "id": "5c50d5a8-8b4a-4554-a09c-41a9684fdee4",
   "metadata": {},
   "source": [
    "#### Metallicity free"
   ]
  },
  {
   "cell_type": "code",
   "execution_count": null,
   "id": "26e921d2-056b-4261-a25c-61ca60aafe55",
   "metadata": {},
   "outputs": [],
   "source": [
    "lx_comp_mfree.view(figsize=(8, 7), label_points=False, log_scale=False, one_to_one=True, \n",
    "                   save_path='../../outputs/figures/global_properties/xmm_mcxc_lx_metfree_comp.pdf')\n",
    "print(lx_comp_mfree.par_names)\n",
    "lx_comp_mfree.pars"
   ]
  },
  {
   "cell_type": "code",
   "execution_count": null,
   "id": "33e01826-7b95-4474-9e37-fb93c2aea7e7",
   "metadata": {},
   "outputs": [],
   "source": [
    "lx_comp_mfree.view(figsize=(8, 7), label_points=True, log_scale=False, one_to_one=True)\n",
    "{ind: lx_comp_mfree.point_names[ind] for ind in range(0, len(lx_comp_mfree.point_names))}"
   ]
  },
  {
   "cell_type": "markdown",
   "id": "44fe5148-b24d-4932-a65e-c5858af01601",
   "metadata": {},
   "source": [
    "We also calculate and plot the distribution of ratios between the 0.1-2.4 keV luminosities, as another way of examining the same comparison:"
   ]
  },
  {
   "cell_type": "code",
   "execution_count": null,
   "id": "10e99558-66e7-4ab6-9d46-ddd219d6749c",
   "metadata": {},
   "outputs": [],
   "source": [
    "lx_rat = lx_comp_mfree.y_data[:, 0] / lx_comp_mfree.x_data[:, 0]\n",
    "\n",
    "bins = np.arange(lx_rat.min(), lx_rat.max(), 0.05)\n",
    "\n",
    "plt.figure(figsize=(6, 6))\n",
    "plt.hist(lx_rat, bins=bins, color='firebrick', alpha=0.7)\n",
    "plt.minorticks_on()\n",
    "plt.tick_params(which='both', direction='in', top=True, right=True)\n",
    "plt.axvline(1, linestyle='dashed', color='black')\n",
    "plt.xlabel(r'$L^{0.1-2.4\\rm{keV}}_{\\rm{XMM},500} / L^{0.1-2.4\\rm{keV}}_{\\rm{MCXC},500}$', fontsize=15)\n",
    "plt.ylabel('N', fontsize=15)\n",
    "plt.tight_layout()\n",
    "plt.savefig('../../outputs/figures/global_properties/xmm_mcxc_lx_metfree_ratio.pdf')\n",
    "plt.show()"
   ]
  },
  {
   "cell_type": "markdown",
   "id": "30c567ef-3494-49ae-abd8-07c93bf12aab",
   "metadata": {},
   "source": [
    "#### Metallicity fixed"
   ]
  },
  {
   "cell_type": "code",
   "execution_count": null,
   "id": "cfb20d81",
   "metadata": {},
   "outputs": [],
   "source": [
    "lx_comp.view(figsize=(8, 7), label_points=False, log_scale=False, one_to_one=True,\n",
    "             save_path='../../outputs/figures/global_properties/xmm_mcxc_lx_comp.pdf')\n",
    "print(lx_comp.par_names)\n",
    "lx_comp.pars"
   ]
  },
  {
   "cell_type": "code",
   "execution_count": null,
   "id": "8ae7d1a8",
   "metadata": {},
   "outputs": [],
   "source": [
    "lx_comp.view(figsize=(8, 7), label_points=True, log_scale=False, one_to_one=True)\n",
    "{ind: lx_comp.point_names[ind] for ind in range(0, len(lx_comp.point_names))}"
   ]
  },
  {
   "cell_type": "markdown",
   "id": "5af423a3-8fe4-4f5c-9a82-1f2aa091faac",
   "metadata": {},
   "source": [
    "We also calculate and plot the distribution of ratios between the 0.1-2.4 keV luminosities, as another way of examining the same comparison:"
   ]
  },
  {
   "cell_type": "code",
   "execution_count": null,
   "id": "501d734d-91ff-4334-bc30-3af19340d1e2",
   "metadata": {},
   "outputs": [],
   "source": [
    "lx_rat = lx_comp.y_data[:, 0] / lx_comp.x_data[:, 0]\n",
    "\n",
    "bins = np.arange(lx_rat.min(), lx_rat.max(), 0.05)\n",
    "\n",
    "plt.figure(figsize=(6, 6))\n",
    "plt.hist(lx_rat, bins=bins, color='firebrick', alpha=0.7)\n",
    "plt.minorticks_on()\n",
    "plt.tick_params(which='both', direction='in', top=True, right=True)\n",
    "plt.axvline(1, linestyle='dashed', color='black')\n",
    "plt.xlabel(r'$L^{0.1-2.4\\rm{keV}}_{\\rm{XMM},500} / L^{0.1-2.4\\rm{keV}}_{\\rm{MCXC},500}$', fontsize=15)\n",
    "plt.ylabel('N', fontsize=15)\n",
    "plt.tight_layout()\n",
    "plt.savefig('../../outputs/figures/global_properties/xmm_mcxc_lx_ratio.pdf')\n",
    "plt.show()"
   ]
  },
  {
   "cell_type": "markdown",
   "id": "0271258e-4126-4985-9449-9ad7a36d1c8a",
   "metadata": {},
   "source": [
    "### Comparing MCXC and X-LoVoCCS $R_{500}$ values"
   ]
  },
  {
   "cell_type": "markdown",
   "id": "08ee3660-dfe2-4579-8896-85c6f28b4376",
   "metadata": {},
   "source": [
    "We have derived our own values of $R_{500}$ using the XGA-LTR, and measured temperatures and luminosities within them - we compare the $R_{500}$ values to those which were measured for the MCXC catalogue - again recall that we ran the pipeline twice, one with metallicity fixed and one with it free, so we will make comparisons with both:"
   ]
  },
  {
   "cell_type": "code",
   "execution_count": null,
   "id": "13dfdeb0",
   "metadata": {},
   "outputs": [],
   "source": [
    "r500_comp = scaling_relation_curve_fit(straight_line, Quantity(results['r500'], 'kpc'), \n",
    "                                       Quantity(results['r500+-'], 'kpc'), \n",
    "                                       Quantity(results['MCXC_R500'], 'Mpc').to('kpc'), y_norm=Quantity(1, 'kpc'), \n",
    "                                       x_norm=Quantity(1, 'kpc'), point_names=results['LoVoCCS_name'].values, \n",
    "                                       y_name=r'$R^{\\rm{XMM}}_{500}$', \n",
    "                                       x_name=r'$R^{\\rm{MCXC}}_{500}$', \n",
    "                                       third_dim_info=results['redshift'].values, third_dim_name='Redshift')\n",
    "\n",
    "r500_comp_mfree = scaling_relation_curve_fit(straight_line, Quantity(results_mfree['r500'], 'kpc'), \n",
    "                                       Quantity(results_mfree['r500+-'], 'kpc'), \n",
    "                                       Quantity(results_mfree['MCXC_R500'], 'Mpc').to('kpc'), y_norm=Quantity(1, 'kpc'), \n",
    "                                       x_norm=Quantity(1, 'kpc'), point_names=results_mfree['LoVoCCS_name'].values, \n",
    "                                       y_name=r'$R^{\\rm{XMM}}_{500}$', \n",
    "                                       x_name=r'$R^{\\rm{MCXC}}_{500}$', \n",
    "                                       third_dim_info=results_mfree['redshift'].values, third_dim_name='Redshift')"
   ]
  },
  {
   "cell_type": "markdown",
   "id": "cfbc2fd8-2926-471d-8a9c-64aabeaa7736",
   "metadata": {},
   "source": [
    "#### Metallicity free"
   ]
  },
  {
   "cell_type": "code",
   "execution_count": null,
   "id": "9daff960-3df2-4f88-a2db-e0e7ff6d165e",
   "metadata": {},
   "outputs": [],
   "source": [
    "r500_comp_mfree.view(figsize=(8, 7), label_points=False, log_scale=False, x_lims=Quantity([400, 1300], 'kpc'), one_to_one=True, \n",
    "                     y_lims=Quantity([400, 1300], 'kpc'), \n",
    "                     save_path='../../outputs/figures/global_properties/xmm_mcxc_r500_mfree_comp.pdf')\n",
    "\n",
    "print(r500_comp_mfree.par_names)\n",
    "r500_comp_mfree.pars"
   ]
  },
  {
   "cell_type": "code",
   "execution_count": null,
   "id": "631c0491-2db2-410a-8a6a-73a231dd6258",
   "metadata": {},
   "outputs": [],
   "source": [
    "r500_comp_mfree.view(figsize=(8, 7), label_points=True, log_scale=False, x_lims=Quantity([400, 1300], 'kpc'), one_to_one=True, \n",
    "                     y_lims=Quantity([400, 1300], 'kpc'))\n",
    "{ind: r500_comp_mfree.point_names[ind] for ind in range(0, len(r500_comp_mfree.point_names))}"
   ]
  },
  {
   "cell_type": "markdown",
   "id": "d60ff3a7-1a34-4d56-afb9-f5d09cdb8f84",
   "metadata": {},
   "source": [
    "We again calculate and plot the distribution of ratios, as another way of examining the same comparison:"
   ]
  },
  {
   "cell_type": "code",
   "execution_count": null,
   "id": "86b5fff9-c377-4248-8f1f-2c92d6b6878d",
   "metadata": {},
   "outputs": [],
   "source": [
    "r500_rat = r500_comp_mfree.y_data[:, 0] / r500_comp_mfree.x_data[:, 0]\n",
    "\n",
    "bins = np.arange(r500_rat.min(), r500_rat.max(), 0.05)\n",
    "\n",
    "plt.figure(figsize=(6, 6))\n",
    "plt.hist(r500_rat, bins=bins, color='tab:cyan', alpha=0.7)\n",
    "plt.minorticks_on()\n",
    "plt.tick_params(which='both', direction='in', top=True, right=True)\n",
    "plt.axvline(1, linestyle='dashed', color='black')\n",
    "plt.xlabel(r'$R^{\\rm{XMM}}_{500} / R^{\\rm{MCXC}}_{500}$', fontsize=15)\n",
    "plt.ylabel('N', fontsize=15)\n",
    "\n",
    "plt.tight_layout()\n",
    "plt.savefig('../../outputs/figures/global_properties/xmm_mcxc_r500_mfree_ratio.pdf')\n",
    "plt.show()"
   ]
  },
  {
   "cell_type": "markdown",
   "id": "72c11213-780c-4de4-8293-98391ba6f6be",
   "metadata": {},
   "source": [
    "#### Metallicity fixed"
   ]
  },
  {
   "cell_type": "code",
   "execution_count": null,
   "id": "bd170a90",
   "metadata": {},
   "outputs": [],
   "source": [
    "r500_comp.view(figsize=(8, 7), label_points=False, log_scale=False, x_lims=Quantity([400, 1300], 'kpc'), one_to_one=True, \n",
    "               y_lims=Quantity([400, 1300], 'kpc'), save_path='../../outputs/figures/global_properties/xmm_mcxc_r500_comp.pdf')\n",
    "\n",
    "print(r500_comp.par_names)\n",
    "r500_comp.pars"
   ]
  },
  {
   "cell_type": "code",
   "execution_count": null,
   "id": "7c0b9b13",
   "metadata": {},
   "outputs": [],
   "source": [
    "r500_comp.view(figsize=(8, 7), label_points=True, log_scale=False, x_lims=Quantity([400, 1300], 'kpc'), one_to_one=True, \n",
    "               y_lims=Quantity([400, 1300], 'kpc'))\n",
    "{ind: r500_comp.point_names[ind] for ind in range(0, len(r500_comp.point_names))}"
   ]
  },
  {
   "cell_type": "markdown",
   "id": "3b2a9033-2791-4b7f-8b24-c13bab5609be",
   "metadata": {},
   "source": [
    "We again calculate and plot the distribution of ratios, as another way of examining the same comparison:"
   ]
  },
  {
   "cell_type": "code",
   "execution_count": null,
   "id": "369613df",
   "metadata": {},
   "outputs": [],
   "source": [
    "r500_rat = r500_comp.y_data[:, 0] / r500_comp.x_data[:, 0]\n",
    "\n",
    "bins = np.arange(r500_rat.min(), r500_rat.max(), 0.05)\n",
    "\n",
    "plt.figure(figsize=(6, 6))\n",
    "plt.hist(r500_rat, bins=bins, color='tab:cyan', alpha=0.7)\n",
    "plt.minorticks_on()\n",
    "plt.tick_params(which='both', direction='in', top=True, right=True)\n",
    "plt.axvline(1, linestyle='dashed', color='black')\n",
    "plt.xlabel(r'$R^{\\rm{XMM}}_{500} / R^{\\rm{MCXC}}_{500}$', fontsize=15)\n",
    "plt.ylabel('N', fontsize=15)\n",
    "\n",
    "plt.tight_layout()\n",
    "plt.savefig('../../outputs/figures/global_properties/xmm_mcxc_r500_ratio.pdf')\n",
    "plt.show()"
   ]
  }
 ],
 "metadata": {
  "kernelspec": {
   "display_name": "Python 3 (ipykernel)",
   "language": "python",
   "name": "python3"
  },
  "language_info": {
   "codemirror_mode": {
    "name": "ipython",
    "version": 3
   },
   "file_extension": ".py",
   "mimetype": "text/x-python",
   "name": "python",
   "nbconvert_exporter": "python",
   "pygments_lexer": "ipython3",
   "version": "3.8.20"
  }
 },
 "nbformat": 4,
 "nbformat_minor": 5
}
