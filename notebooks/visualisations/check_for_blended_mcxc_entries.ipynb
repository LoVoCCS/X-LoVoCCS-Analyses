{
 "cells": [
  {
   "cell_type": "markdown",
   "id": "2e070395",
   "metadata": {},
   "source": [
    "# Identifying MCXC entries that are blends of multiple clusters"
   ]
  },
  {
   "cell_type": "markdown",
   "id": "c1fac97b",
   "metadata": {},
   "source": [
    "The LoVoCCS sample was originally selected from the MCXC catalog, which was largely created using ROSAT All-Sky Survey (RASS) data - this data has significantly lower spatial resolution than is available to modern pointed observations, and as such extended sources that are near to one another can become blended. Considering the LoVoCCS sample was selected to be above a certain luminosity (and thus mass) limit, we are wish to assess whether any entries have had their luminosity artificially boosted through the combination of multiple sources. \n",
    "\n",
    "We have already inspected the modern X-ray data available for the sample, and identified those systems which appear to have multiple components due to ongoing mergers, or other nearby sources. This notebook will create visualisations from RASS images, centered on each selected cluster in LoVoCCS, with the positions of all other MCXC clusters that are nearby overlaid - this will help us to assess which originally selected clusters are likely to be less luminuous than we expected from MCXC."
   ]
  },
  {
   "cell_type": "markdown",
   "id": "d3d3d8b0",
   "metadata": {},
   "source": [
    "## Import Statements"
   ]
  },
  {
   "cell_type": "code",
   "execution_count": null,
   "id": "51c29780",
   "metadata": {},
   "outputs": [],
   "source": [
    "import pandas as pd\n",
    "pd.set_option('display.max_columns', 500)\n",
    "import numpy as np\n",
    "from astropy.units import Quantity, UnitConversionError\n",
    "from astropy.cosmology import LambdaCDM\n",
    "import matplotlib.pyplot as plt\n",
    "from typing import Union, List\n",
    "from shutil import rmtree\n",
    "import os\n",
    "\n",
    "import xga\n",
    "temp_dir = xga.OUTPUT\n",
    "actual_dir = temp_dir.split('notebooks/')[0]+'notebooks/xga_output/'\n",
    "xga.OUTPUT = actual_dir\n",
    "xga.utils.OUTPUT = actual_dir\n",
    "# As currently XGA will setup an xga_output directory in our current directory, I remove it to keep it all clean\n",
    "if os.path.exists('xga_output'):\n",
    "    rmtree('xga_output')\n",
    "from xga.products import Image\n",
    "\n",
    "# This is a bit cheeky, but suppresses the warnings that XGA spits out (they are \n",
    "#  useful, but not when I'm trying to present this notebook on GitHub)\n",
    "import warnings\n",
    "warnings.filterwarnings('ignore')\n",
    "\n",
    "# Set up a variable that controls how long individual XSPEC fits are allowed to run\n",
    "timeout = Quantity(6, 'hr')\n",
    "\n",
    "%matplotlib inline"
   ]
  },
  {
   "cell_type": "markdown",
   "id": "c83cc7da",
   "metadata": {},
   "source": [
    "## Loading the Sample"
   ]
  },
  {
   "cell_type": "code",
   "execution_count": null,
   "id": "35f4c20f",
   "metadata": {},
   "outputs": [],
   "source": []
  }
 ],
 "metadata": {
  "kernelspec": {
   "display_name": "Python 3 (ipykernel)",
   "language": "python",
   "name": "python3"
  },
  "language_info": {
   "codemirror_mode": {
    "name": "ipython",
    "version": 3
   },
   "file_extension": ".py",
   "mimetype": "text/x-python",
   "name": "python",
   "nbconvert_exporter": "python",
   "pygments_lexer": "ipython3",
   "version": "3.8.15"
  }
 },
 "nbformat": 4,
 "nbformat_minor": 5
}
