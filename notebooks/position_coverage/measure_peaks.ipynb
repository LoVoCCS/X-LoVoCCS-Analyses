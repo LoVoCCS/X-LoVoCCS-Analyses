{
 "cells": [
  {
   "cell_type": "markdown",
   "id": "1d5efae0",
   "metadata": {},
   "source": [
    "# Measuring peak coordinates for LoVoCCS clusters"
   ]
  },
  {
   "cell_type": "markdown",
   "id": "02c6c6c4",
   "metadata": {},
   "source": [
    "One of the initial stages of our analysis of the LoVoCCS sample was to examine the MCXC (the catalog which LoVoCCS was selected from) coordinate in the context of more modern telescopes, and to adjust it to a better 'starting coordinate' if it was significantly offset from the center of the ICM emission. This also included adding new LoVoCCS sample entries if the original MCXC cluster actually has multiple subcomponents.\n",
    "\n",
    "This notebook makes use of these 'starting coordinates', our processed XMM observations, and XGA functionality, to measure the peak coordinates of each of our galaxy clusters - this is one of the most commonly used central position definitions for X-ray emission from galaxy clusters (in another notebook we measure the ICM centroid, another popular central coordinate measure)."
   ]
  },
  {
   "cell_type": "markdown",
   "id": "7676ef13",
   "metadata": {},
   "source": [
    "## Import Statements"
   ]
  },
  {
   "cell_type": "code",
   "execution_count": 5,
   "id": "1f22347c",
   "metadata": {},
   "outputs": [],
   "source": [
    "import pandas as pd\n",
    "pd.set_option('display.max_columns', 500)\n",
    "import numpy as np\n",
    "from astropy.units import Quantity, UnitConversionError\n",
    "from astropy.cosmology import LambdaCDM\n",
    "from shutil import rmtree\n",
    "import os\n",
    "from matplotlib import pyplot as plt\n",
    "\n",
    "import xga\n",
    "temp_dir = xga.OUTPUT\n",
    "actual_dir = temp_dir.split('notebooks/')[0]+'notebooks/xga_output/'\n",
    "xga.OUTPUT = actual_dir\n",
    "xga.utils.OUTPUT = actual_dir\n",
    "# As currently XGA will setup an xga_output directory in our current directory, I remove it to keep it all clean\n",
    "if os.path.exists('xga_output'):\n",
    "    rmtree('xga_output')\n",
    "from xga.samples import ClusterSample\n",
    "\n",
    "# This is a bit cheeky, but suppresses the warnings that XGA spits out (they are \n",
    "#  useful, but not when I'm trying to present this notebook on GitHub)\n",
    "import warnings\n",
    "warnings.filterwarnings('ignore')\n",
    "\n",
    "# Set up a variable that controls how long individual XSPEC fits are allowed to run\n",
    "timeout = Quantity(6, 'hr')\n",
    "\n",
    "%matplotlib inline"
   ]
  },
  {
   "cell_type": "markdown",
   "id": "f1ca20dc",
   "metadata": {},
   "source": [
    "## Setting up necessary directories"
   ]
  },
  {
   "cell_type": "markdown",
   "id": "0bbdfeb7",
   "metadata": {},
   "source": [
    "Here we ensure that the directories we need to store the outputs in have been created:"
   ]
  },
  {
   "cell_type": "code",
   "execution_count": null,
   "id": "46d4ed62",
   "metadata": {},
   "outputs": [],
   "source": [
    "if not os.path.exists(\"../../outputs/figures/positions/\"):\n",
    "    os.makedirs(\"../../outputs/figures/positions/\")\n",
    "    \n",
    "if not os.path.exists(\"../../outputs/coordinates\"):\n",
    "    os.makedirs(\"../../outputs/coordinates/\")\n",
    "    \n",
    "if not os.path.exists(\"../../outputs/cluster_visualisations/peak_coord_meas/\"):\n",
    "    os.makedirs(\"../../outputs/cluster_visualisations/peak_coord_meas/\")"
   ]
  },
  {
   "cell_type": "markdown",
   "id": "27ced702",
   "metadata": {},
   "source": [
    "## Reading in the sample"
   ]
  },
  {
   "cell_type": "markdown",
   "id": "941fd00c",
   "metadata": {},
   "source": [
    "We read in the LoVoCCS sample relevant to the current work:"
   ]
  },
  {
   "cell_type": "code",
   "execution_count": 6,
   "id": "c25515c8",
   "metadata": {},
   "outputs": [
    {
     "data": {
      "text/html": [
       "<div>\n",
       "<style scoped>\n",
       "    .dataframe tbody tr th:only-of-type {\n",
       "        vertical-align: middle;\n",
       "    }\n",
       "\n",
       "    .dataframe tbody tr th {\n",
       "        vertical-align: top;\n",
       "    }\n",
       "\n",
       "    .dataframe thead th {\n",
       "        text-align: right;\n",
       "    }\n",
       "</style>\n",
       "<table border=\"1\" class=\"dataframe\">\n",
       "  <thead>\n",
       "    <tr style=\"text-align: right;\">\n",
       "      <th></th>\n",
       "      <th>LoVoCCSID</th>\n",
       "      <th>Name</th>\n",
       "      <th>start_ra</th>\n",
       "      <th>start_dec</th>\n",
       "      <th>MCXC_Redshift</th>\n",
       "      <th>MCXC_R500</th>\n",
       "      <th>MCXC_RA</th>\n",
       "      <th>MCXC_DEC</th>\n",
       "      <th>manual_xray_ra</th>\n",
       "      <th>manual_xray_dec</th>\n",
       "      <th>LoVoCCS_name</th>\n",
       "    </tr>\n",
       "  </thead>\n",
       "  <tbody>\n",
       "    <tr>\n",
       "      <th>0</th>\n",
       "      <td>1</td>\n",
       "      <td>A2029</td>\n",
       "      <td>227.734300</td>\n",
       "      <td>5.745471</td>\n",
       "      <td>0.0766</td>\n",
       "      <td>1.3344</td>\n",
       "      <td>227.73000</td>\n",
       "      <td>5.720000</td>\n",
       "      <td>227.734300</td>\n",
       "      <td>5.745471</td>\n",
       "      <td>LoVoCCS-1</td>\n",
       "    </tr>\n",
       "    <tr>\n",
       "      <th>1</th>\n",
       "      <td>2</td>\n",
       "      <td>A401</td>\n",
       "      <td>44.740000</td>\n",
       "      <td>13.580000</td>\n",
       "      <td>0.0739</td>\n",
       "      <td>1.2421</td>\n",
       "      <td>44.74000</td>\n",
       "      <td>13.580000</td>\n",
       "      <td>NaN</td>\n",
       "      <td>NaN</td>\n",
       "      <td>LoVoCCS-2</td>\n",
       "    </tr>\n",
       "    <tr>\n",
       "      <th>2</th>\n",
       "      <td>4</td>\n",
       "      <td>A85</td>\n",
       "      <td>10.458750</td>\n",
       "      <td>-9.301944</td>\n",
       "      <td>0.0555</td>\n",
       "      <td>1.2103</td>\n",
       "      <td>10.45875</td>\n",
       "      <td>-9.301944</td>\n",
       "      <td>NaN</td>\n",
       "      <td>NaN</td>\n",
       "      <td>LoVoCCS-4</td>\n",
       "    </tr>\n",
       "    <tr>\n",
       "      <th>3</th>\n",
       "      <td>5</td>\n",
       "      <td>A3667</td>\n",
       "      <td>303.157313</td>\n",
       "      <td>-56.845978</td>\n",
       "      <td>0.0556</td>\n",
       "      <td>1.1990</td>\n",
       "      <td>303.13000</td>\n",
       "      <td>-56.830000</td>\n",
       "      <td>303.157313</td>\n",
       "      <td>-56.845978</td>\n",
       "      <td>LoVoCCS-5</td>\n",
       "    </tr>\n",
       "    <tr>\n",
       "      <th>4</th>\n",
       "      <td>7</td>\n",
       "      <td>A3827</td>\n",
       "      <td>330.480000</td>\n",
       "      <td>-59.950000</td>\n",
       "      <td>0.0980</td>\n",
       "      <td>1.1367</td>\n",
       "      <td>330.48000</td>\n",
       "      <td>-59.950000</td>\n",
       "      <td>NaN</td>\n",
       "      <td>NaN</td>\n",
       "      <td>LoVoCCS-7</td>\n",
       "    </tr>\n",
       "    <tr>\n",
       "      <th>...</th>\n",
       "      <td>...</td>\n",
       "      <td>...</td>\n",
       "      <td>...</td>\n",
       "      <td>...</td>\n",
       "      <td>...</td>\n",
       "      <td>...</td>\n",
       "      <td>...</td>\n",
       "      <td>...</td>\n",
       "      <td>...</td>\n",
       "      <td>...</td>\n",
       "      <td>...</td>\n",
       "    </tr>\n",
       "    <tr>\n",
       "      <th>61</th>\n",
       "      <td>121</td>\n",
       "      <td>A3128</td>\n",
       "      <td>52.466189</td>\n",
       "      <td>-52.580728</td>\n",
       "      <td>0.0624</td>\n",
       "      <td>0.8831</td>\n",
       "      <td>52.50000</td>\n",
       "      <td>-52.600000</td>\n",
       "      <td>52.466189</td>\n",
       "      <td>-52.580728</td>\n",
       "      <td>LoVoCCS-121</td>\n",
       "    </tr>\n",
       "    <tr>\n",
       "      <th>62</th>\n",
       "      <td>122</td>\n",
       "      <td>A1023</td>\n",
       "      <td>157.000000</td>\n",
       "      <td>-6.800000</td>\n",
       "      <td>0.1176</td>\n",
       "      <td>0.8553</td>\n",
       "      <td>157.00000</td>\n",
       "      <td>-6.800000</td>\n",
       "      <td>NaN</td>\n",
       "      <td>NaN</td>\n",
       "      <td>LoVoCCS-122</td>\n",
       "    </tr>\n",
       "    <tr>\n",
       "      <th>63</th>\n",
       "      <td>123</td>\n",
       "      <td>A3528</td>\n",
       "      <td>193.670000</td>\n",
       "      <td>-29.220000</td>\n",
       "      <td>0.0544</td>\n",
       "      <td>0.8855</td>\n",
       "      <td>193.67000</td>\n",
       "      <td>-29.220000</td>\n",
       "      <td>NaN</td>\n",
       "      <td>NaN</td>\n",
       "      <td>LoVoCCS-123</td>\n",
       "    </tr>\n",
       "    <tr>\n",
       "      <th>64</th>\n",
       "      <td>131</td>\n",
       "      <td>A761</td>\n",
       "      <td>137.651250</td>\n",
       "      <td>-10.581111</td>\n",
       "      <td>0.0916</td>\n",
       "      <td>0.8627</td>\n",
       "      <td>137.65125</td>\n",
       "      <td>-10.581111</td>\n",
       "      <td>NaN</td>\n",
       "      <td>NaN</td>\n",
       "      <td>LoVoCCS-131</td>\n",
       "    </tr>\n",
       "    <tr>\n",
       "      <th>65</th>\n",
       "      <td>134</td>\n",
       "      <td>A3825</td>\n",
       "      <td>329.604682</td>\n",
       "      <td>-60.413676</td>\n",
       "      <td>0.0750</td>\n",
       "      <td>0.8685</td>\n",
       "      <td>329.61000</td>\n",
       "      <td>-60.400000</td>\n",
       "      <td>329.604682</td>\n",
       "      <td>-60.413676</td>\n",
       "      <td>LoVoCCS-134</td>\n",
       "    </tr>\n",
       "  </tbody>\n",
       "</table>\n",
       "<p>66 rows × 11 columns</p>\n",
       "</div>"
      ],
      "text/plain": [
       "   LoVoCCSID   Name    start_ra  start_dec  MCXC_Redshift  MCXC_R500  \\\n",
       "0          1  A2029  227.734300   5.745471         0.0766     1.3344   \n",
       "1          2   A401   44.740000  13.580000         0.0739     1.2421   \n",
       "2          4    A85   10.458750  -9.301944         0.0555     1.2103   \n",
       "3          5  A3667  303.157313 -56.845978         0.0556     1.1990   \n",
       "4          7  A3827  330.480000 -59.950000         0.0980     1.1367   \n",
       "..       ...    ...         ...        ...            ...        ...   \n",
       "61       121  A3128   52.466189 -52.580728         0.0624     0.8831   \n",
       "62       122  A1023  157.000000  -6.800000         0.1176     0.8553   \n",
       "63       123  A3528  193.670000 -29.220000         0.0544     0.8855   \n",
       "64       131   A761  137.651250 -10.581111         0.0916     0.8627   \n",
       "65       134  A3825  329.604682 -60.413676         0.0750     0.8685   \n",
       "\n",
       "      MCXC_RA   MCXC_DEC  manual_xray_ra  manual_xray_dec LoVoCCS_name  \n",
       "0   227.73000   5.720000      227.734300         5.745471    LoVoCCS-1  \n",
       "1    44.74000  13.580000             NaN              NaN    LoVoCCS-2  \n",
       "2    10.45875  -9.301944             NaN              NaN    LoVoCCS-4  \n",
       "3   303.13000 -56.830000      303.157313       -56.845978    LoVoCCS-5  \n",
       "4   330.48000 -59.950000             NaN              NaN    LoVoCCS-7  \n",
       "..        ...        ...             ...              ...          ...  \n",
       "61   52.50000 -52.600000       52.466189       -52.580728  LoVoCCS-121  \n",
       "62  157.00000  -6.800000             NaN              NaN  LoVoCCS-122  \n",
       "63  193.67000 -29.220000             NaN              NaN  LoVoCCS-123  \n",
       "64  137.65125 -10.581111             NaN              NaN  LoVoCCS-131  \n",
       "65  329.61000 -60.400000      329.604682       -60.413676  LoVoCCS-134  \n",
       "\n",
       "[66 rows x 11 columns]"
      ]
     },
     "execution_count": 6,
     "metadata": {},
     "output_type": "execute_result"
    }
   ],
   "source": [
    "samp = pd.read_csv(\"../../sample_files/X-LoVoCCSI.csv\")\n",
    "samp['LoVoCCS_name'] = samp['LoVoCCSID'].apply(lambda x: \"LoVoCCS-\" + str(x))\n",
    "samp"
   ]
  },
  {
   "cell_type": "markdown",
   "id": "c0347c1c",
   "metadata": {},
   "source": [
    "## Defining an XGA ClusterSample"
   ]
  },
  {
   "cell_type": "markdown",
   "id": "dfb0f7a0",
   "metadata": {},
   "source": [
    "We are going to use the [XGA hierarchical clustering peak finder](https://xga.readthedocs.io/en/latest/notebooks/techniques/hierarchical_clustering_peak_finding.html), which is built into [the RateMap](https://xga.readthedocs.io/en/latest/xga.products.html#xga.products.phot.RateMap.clustering_peak) class - this is the XGA Python class that provides convenient interfaces with count-rate maps. However, we won't use the count-rate map method directly, instead we'll declare a cluster sample and use the hierarchical peak finder that way - the advantage of this approach is twofold; \n",
    "\n",
    "**(1)** declaring the cluster sample will assemble a mask to remove contaminating sources from each cluster's observations, which may improve the performance of the peak finder; and **(2)** the GalaxyCluster call to the peak finder is iterative, and will try to converge on the best value.\n",
    "\n",
    "We use the 'start_ra' and 'start_dec' columns of the sample, which act as good starting positions for our analyses of these clusters (they will contain the MCXC position column values if we didn't manually adjust the position, and the manual_xray_* column values if we did).\n",
    "\n",
    "As we define the ClusterSample with `use_peak=True` and `peak_find_method='hierarchical'`, the peaks will automatically be calculated during declaration. We have also set `clean_obs=False`, which means that **no** checks will be performed on obserations to make sure that a minimum fraction of $R_{500}$ falls on them - this shouldn't be necessary for this analysis."
   ]
  },
  {
   "cell_type": "code",
   "execution_count": null,
   "id": "77162b2f",
   "metadata": {},
   "outputs": [],
   "source": [
    "srcs = ClusterSample(samp['start_ra'].values, samp['start_dec'].values, samp['MCXC_Redshift'].values, \n",
    "                     samp['LoVoCCS_name'].values, r500=Quantity(samp['MCXC_R500'].values, 'Mpc'), use_peak=True,\n",
    "                     peak_find_method='hierarchical', clean_obs=False)"
   ]
  },
  {
   "cell_type": "code",
   "execution_count": null,
   "id": "80f17dd5",
   "metadata": {},
   "outputs": [],
   "source": [
    "srcs.info()"
   ]
  },
  {
   "cell_type": "markdown",
   "id": "03aadd1a",
   "metadata": {},
   "source": [
    "## Visualise the offset distribution"
   ]
  },
  {
   "cell_type": "markdown",
   "id": "29570819",
   "metadata": {},
   "source": [
    "We can use a built in method of the ClusterSample to produce a histogram showing the measured offsets between user defined and peak coordinates; in fact we'll make two versions, the first in angular distance:"
   ]
  },
  {
   "cell_type": "code",
   "execution_count": null,
   "id": "27543501",
   "metadata": {},
   "outputs": [],
   "source": [
    "srcs.view_offset_dist('arcmin', \n",
    "                      save_path=\"../../outputs/figures/positions/startcoord_peakcoord_offsetdist_arcmin.pdf\")"
   ]
  },
  {
   "cell_type": "markdown",
   "id": "6a234407",
   "metadata": {},
   "source": [
    "The second in proper distance:"
   ]
  },
  {
   "cell_type": "code",
   "execution_count": null,
   "id": "a4603173",
   "metadata": {},
   "outputs": [],
   "source": [
    "srcs.view_offset_dist('kpc', \n",
    "                      save_path=\"../../outputs/figures/positions/startcoord_peakcoord_offsetdist_kpc.pdf\")"
   ]
  },
  {
   "cell_type": "markdown",
   "id": "b2830cee",
   "metadata": {},
   "source": [
    "## Examine the peak coordinates"
   ]
  },
  {
   "cell_type": "markdown",
   "id": "2e919cbf",
   "metadata": {},
   "source": [
    "We can use the view methods of the XGA RateMap class to visualise the start coordinates and peak coordinates, as well as the 'point clusters' that the hierarchical peak finding method identified and used. This gives some visual context to the peak coordinates, and helps us to make sure that they all look sensible - we also save the visualisations to disk:"
   ]
  },
  {
   "cell_type": "code",
   "execution_count": null,
   "id": "0470431b",
   "metadata": {},
   "outputs": [],
   "source": [
    "for src in srcs:\n",
    "    # Fetch the combined ratemap that was used for peak identification\n",
    "    cur_rt = src.get_combined_ratemaps()\n",
    "    cur_chos_pnt_clst = src.point_clusters[0]\n",
    "    cur_oth_pnt_clst = src.point_clusters[1]\n",
    "    cur_int_mask = src.get_interloper_mask()\n",
    "\n",
    "    fig, ax_arr = plt.subplots(ncols=2, figsize=(14, 7))\n",
    "    for ax_ind, ax in enumerate(ax_arr):\n",
    "        plt.tick_params(left=False, right=False, top=False, bottom=False)\n",
    "\n",
    "    cur_rt.get_view(ax_arr[0], Quantity([src.peak, src.ra_dec]), cur_int_mask, zoom_in=True)\n",
    "\n",
    "    cur_rt.get_view(ax_arr[1], chosen_points=cur_chos_pnt_clst, other_points=cur_oth_pnt_clst, zoom_in=True)\n",
    "    plt.tight_layout()\n",
    "    \n",
    "    file_name = \"{n}_xmm_peak_search_vis.pdf\".format(n=src.name)\n",
    "    plt.savefig(\"../../outputs/cluster_visualisations/peak_coord_meas/\"+file_name)\n",
    "    plt.show()"
   ]
  },
  {
   "cell_type": "markdown",
   "id": "162a04ab",
   "metadata": {},
   "source": [
    "## Saving the peak coordinates"
   ]
  },
  {
   "cell_type": "markdown",
   "id": "b9390f0a",
   "metadata": {},
   "source": [
    "We make sure to save the peak coordinates to a truncated sample file (just containing cluster name and the measured positions):"
   ]
  },
  {
   "cell_type": "code",
   "execution_count": null,
   "id": "5fe6d593",
   "metadata": {},
   "outputs": [],
   "source": [
    "out_df_data = np.concatenate([srcs.names[..., None], srcs.peaks])\n",
    "out_df = pd.DataFrame(out_df_data, columns=['LoVoCCS_name', 'peak_ra', 'peak_dec'])\n",
    "out_df.to_csv(\"../../outputs/coordinates/xmm_peak_coords.csv\", index=False)\n",
    "out_df"
   ]
  }
 ],
 "metadata": {
  "kernelspec": {
   "display_name": "Python 3 (ipykernel)",
   "language": "python",
   "name": "python3"
  },
  "language_info": {
   "codemirror_mode": {
    "name": "ipython",
    "version": 3
   },
   "file_extension": ".py",
   "mimetype": "text/x-python",
   "name": "python",
   "nbconvert_exporter": "python",
   "pygments_lexer": "ipython3",
   "version": "3.8.12"
  }
 },
 "nbformat": 4,
 "nbformat_minor": 5
}
